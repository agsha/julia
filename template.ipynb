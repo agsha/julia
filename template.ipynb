{
 "cells": [
  {
   "cell_type": "code",
   "execution_count": null,
   "metadata": {},
   "outputs": [],
   "source": [
    "include(\"./mm.jl\");"
   ]
  },
  {
   "cell_type": "markdown",
   "metadata": {},
   "source": [
    "Fact:\n",
    "let `rd` be the daily rate (not in percentage, but in absolute terms).\n",
    "then `ry` the yearly rate is given by \n",
    "```\n",
    "ry = (1+rd)^365 - 1\n",
    "```\n",
    "\n",
    "and the inverse relationship is \n",
    "\n",
    "```\n",
    "rd = (1+ry)^-365 - 1\n",
    "```\n",
    "\n",
    "This is a crazy exponential equation. An yearly rate of `10%` is achived by a daily rate of around `0.03%`\n",
    "\n",
    "The following graph plots the relation. x axis is daily rate in percentage. y axis is the corresponding yearly rate in percentage\n",
    "\n",
    "Note also that the maximum negative rate possible is `-100%` at which the initial principal goes to zero.\n",
    "\n",
    "Note also that from f(0.0%) = 0% to f(0.2%) = 100%, the graph is almost linear, which means that in this region, f(x) = x*365"
   ]
  },
  {
   "cell_type": "code",
   "execution_count": null,
   "metadata": {},
   "outputs": [],
   "source": [
    "#An example of BigFloat, just in case we need it\n",
    "# setprecision(BigFloat, 2048) do\n",
    "#     rd = BigFloat(\"0.0003\")\n",
    "# #     rd = 0.0003\n",
    "#     ry = (1+rd)^365 - 1\n",
    "#     println(\"ry is  \", ry)\n",
    "#     rd2 = (1+ry)^(1/365) - 1\n",
    "#     println(\"rd2 is    \", rd2)\n",
    "#     @show rd.prec\n",
    "# end\n",
    "rd = -0.01:0.00001:0.01\n",
    "ry = map(i -> (1+i)^365-1, rd)\n",
    "\n",
    "rs = map(i->i*365, rd)\n",
    "trace1 = scatter(x=rd.*100, y=ry.*100,\n",
    "                    mode=\"lines\",\n",
    "                    name=\"compunded return\")\n",
    "trace2 = scatter(x=rd.*100, y=rs.*100,\n",
    "                    mode=\"lines\",\n",
    "                    name=\"simple multiplied\")\n",
    "plot([trace1, trace2])"
   ]
  },
  {
   "cell_type": "code",
   "execution_count": null,
   "metadata": {},
   "outputs": [],
   "source": [
    "const d = constructDict()"
   ]
  },
  {
   "cell_type": "code",
   "execution_count": null,
   "metadata": {},
   "outputs": [],
   "source": [
    "function companyComparison(p::Float64)\n",
    "    nn = (symbol=Vector{String}(undef, 0), prob=Vector{Float64}(undef, 0), label=Vector{String}(undef, 0))\n",
    "    for key in keys(d)\n",
    "        sss = key\n",
    "        pp = prob(d, key, 1, 3*365, p)\n",
    "        label = get(companyToLabel, key, \"\")\n",
    "        push!(nn[:symbol], sss)\n",
    "        push!(nn[:prob], pp)\n",
    "        push!(nn[:label], label)\n",
    "    end\n",
    "    execute(conn, \"BEGIN;\")\n",
    "    execute(conn, \"drop table if exists work.company_comparison; \")\n",
    "    execute(conn, \"\"\"\n",
    "    create table work.company_comparison (symbol text, prob float, label text)\n",
    "    \"\"\")\n",
    "    LibPQ.load!(\n",
    "        nn,\n",
    "        conn,\n",
    "        \"INSERT INTO work.company_comparison (symbol, prob, label) VALUES (\\$1, \\$2, \\$3);\",\n",
    "    )\n",
    "\n",
    "    execute(conn, \"COMMIT;\")\n",
    "end\n",
    "companyComparison(0.15)"
   ]
  },
  {
   "cell_type": "code",
   "execution_count": null,
   "metadata": {},
   "outputs": [],
   "source": [
    "prob(d, \"TVSMOTOR\",1, 3*365, 0.3 )"
   ]
  },
  {
   "cell_type": "code",
   "execution_count": null,
   "metadata": {},
   "outputs": [],
   "source": [
    "df = table((x=an,))\n",
    "summarize((mean, std), df)\n"
   ]
  },
  {
   "cell_type": "code",
   "execution_count": null,
   "metadata": {},
   "outputs": [],
   "source": [
    "function foo()\n",
    "    sql = \"\"\" select symbol from indices i where name = 'nifty-500' \"\"\"\n",
    "    result = execute(conn, sql)\n",
    "    return result |> table\n",
    "end\n",
    "df = foo()\n"
   ]
  },
  {
   "cell_type": "code",
   "execution_count": null,
   "metadata": {},
   "outputs": [],
   "source": [
    "d[\"^NSEI\"]"
   ]
  },
  {
   "cell_type": "code",
   "execution_count": null,
   "metadata": {},
   "outputs": [],
   "source": [
    "death = 100\n",
    "age = 38\n",
    "inflationPerMonth = 6/(100*12)\n",
    "monthlyCost = 100000\n",
    "\n",
    "months = (death - age)*12\n",
    "living = monthlyCost * months\n",
    "println(living)\n",
    "marriage = 1000000\n",
    "# education is 100000 per year (present value) starting from 5th year to 5+16 years\n",
    "\n",
    "education = 16*100000\n",
    "total = living + marriage + 2*education\n",
    "println(total)"
   ]
  },
  {
   "cell_type": "code",
   "execution_count": null,
   "metadata": {},
   "outputs": [],
   "source": [
    "df = CSV.read(\"/home/sharath/Downloads/AdultDataSet.csv\")"
   ]
  },
  {
   "cell_type": "code",
   "execution_count": null,
   "metadata": {},
   "outputs": [],
   "source": [
    "df2 = df[shuffle(1:nrow(df))[1:Int(floor((nrow(df)/5)))], :]"
   ]
  },
  {
   "cell_type": "code",
   "execution_count": null,
   "metadata": {},
   "outputs": [],
   "source": [
    "filter(row->row[\"education\"]==\" HS-grad\" && row[\"marital-status\"]==\" Never-married\", df)"
   ]
  },
  {
   "cell_type": "code",
   "execution_count": null,
   "metadata": {},
   "outputs": [],
   "source": [
    "typeof(freqtable(df[\"education\"], df[\"marital-status\"]))"
   ]
  },
  {
   "cell_type": "code",
   "execution_count": null,
   "metadata": {},
   "outputs": [],
   "source": [
    "df |> SQLite.load!(sqlite, \"adult\")"
   ]
  },
  {
   "cell_type": "code",
   "execution_count": null,
   "metadata": {},
   "outputs": [],
   "source": [
    "df = DBInterface.execute(sqlite, \"select * from adult\") |> DataFrame"
   ]
  },
  {
   "cell_type": "code",
   "execution_count": null,
   "metadata": {},
   "outputs": [],
   "source": [
    "function f(r1::Float64, r2::Float64, x::Float64)\n",
    "    return ((1+r1)^x) * ((1+r2)^(1-x)) - 1\n",
    "end\n",
    "xx  = 0:0.001:0.99\n",
    "yy = [f(.04, 0.13, x) for x in ran]\n",
    "plot(xx, yy, hover=string.(xx).*\"   \".*string.(yy), size=(1700, 400,))"
   ]
  },
  {
   "cell_type": "markdown",
   "metadata": {},
   "source": [
    "This is testing an investment strategy. we invest a fixed amount every day for `investDays` days. \n",
    "The portfolio is the current list of days that we bought the stocks.\n",
    "Every day, we also go through our current portfolio. If one of the past day buys have hit more than `rateThreshold`, we sell it. \n",
    "\n",
    "After `investDays`, we wait for another `redeemDays` to liquidate any portfolio that remains. After `redeemDays`, we sell whatever is left.\n",
    "return the amount of money in the wallet after `investDays+redeemDays`\n",
    "\n",
    "Zerodha has the following transaction fees. \n",
    "* charge buy is 1.19 per 1000\n",
    "* charge sell is 1.04 per 1000\n",
    "* charge dp is 13.8 per stock per sell per day + 18% GST. since we are dealing with only 1 stock, the charge is 13.8*1.18\n",
    "\n",
    "````\n",
    "charge_buy = 1.19/1000 per rupee\n",
    "charge_sell = 1.04/1000 per rupee\n",
    "charge_dp = 13.5*1.18 per stock per day\n",
    "interest_charges = p2(1, fixed_deposit_rate, days_held/365.0) - 1 per rupee\n",
    "\n",
    "for rupee  p[dayBought]*(1 + charge_buy) =(we get) 1 stock\n",
    "so for     amount =(we get) amount/(p[dayBought]*(1+charge_buy))\n",
    "\n",
    "num_stocks = amount/(p[dayBought]*(1+charge_buy))\n",
    "\n",
    "\n",
    "net_today = num_stock*p[today] - num_stock*p[today]*(charge_sell) - charge_dp\n",
    "          = num_stock*p[today](1 - charge_sell) - charge_dp\n",
    "\n",
    "          = amount*p[today](1 - charge_sell) / (p[dayBought]*(1+charge_buy)) - amount*(p2(1, fixed_deposit_rate, days_held/365.0) - 1) - charge_dp\n",
    "````"
   ]
  },
  {
   "cell_type": "code",
   "execution_count": null,
   "metadata": {},
   "outputs": [],
   "source": [
    "\n",
    "function oneRun(rateThreshold::Float64, investDays::Int, redeemDays::Int, ll::FastList{Int}, \n",
    "        tradingDays::AbstractVector{Int}, prices::AbstractVector{Float64})\n",
    "    days::Int = investDays+redeemDays\n",
    "    amount::Int = 1000\n",
    "    wallet::Float64 = 0.0;\n",
    "    charge_buy::Float64 = 1.19/1000\n",
    "    charge_sell::Float64 = 1.04/1000\n",
    "    charge_dp::Float64 = 13.5*1.18\n",
    "    fixed_deposit_rate::Float64 = 5.0/100.0\n",
    "    \n",
    "#     charge_buy = 0;\n",
    "#     charge_sell = 0;\n",
    "#     charge_dp = 0;\n",
    "    \n",
    "    daysKept::Int = 0;\n",
    "    minWallet = 0;\n",
    "    \n",
    "    reset!(ll)\n",
    "    \n",
    "    for i::Int in 1:days\n",
    "        \n",
    "        \n",
    "        for node in ll\n",
    "            dayBought::Int = node.data\n",
    "            daysHeld::Int = tradingDays[i] - tradingDays[dayBought]\n",
    "            net_today::Float64 = (amount*prices[i]*(1 - charge_sell) / (prices[dayBought]*(1+charge_buy)) - \n",
    "                amount*(p2(1, fixed_deposit_rate, daysHeld/365.0) - 1) - \n",
    "                charge_dp)\n",
    "            if net_today <= 0\n",
    "                continue\n",
    "            end\n",
    "            rate::Float64 = r(amount, net_today, daysHeld/365.0)\n",
    "            if rate > rateThreshold || i==days\n",
    "                wallet += net_today\n",
    "                daysKept = max(daysKept, daysHeld);\n",
    "                del(ll, node)\n",
    "            end\n",
    "        end\n",
    "        if i <= investDays\n",
    "            wallet -= amount\n",
    "            push!(ll, i)\n",
    "            \n",
    "        end\n",
    "        minWallet = min(wallet, minWallet)\n",
    "    end\n",
    "#     return minWallet\n",
    "    return wallet\n",
    "end\n",
    "\n",
    "# tls is thread local storage\n",
    "function simulateMulti(tls::Vector{Tls}, d::Dict{String, Point})\n",
    "    runs::Int = 5000\n",
    "    investDays = 365*3; redeemDays=365; \n",
    "    \n",
    "    days = investDays + redeemDays; \n",
    "    results = Vector{Float64}(undef, runs)\n",
    "      \n",
    "    rateThreshold::Float64 = .4; μ=meanNifty; σ=stdNifty;\n",
    "    \n",
    "    prices=d[\"^NSEI\"].prices;\n",
    "    tradingDays = d[\"^NSEI\"].intDates;\n",
    "    \n",
    "    wallets = Vector{Float64}(undef, 0)\n",
    "    lk = Threads.SpinLock()\n",
    "    \n",
    "    @views Threads.@threads  for start in 1:length(tradingDays) - days - 10\n",
    "        myTls::Tls = tls[Threads.threadid()]\n",
    "        pprices = prices[start:end];\n",
    "        ddates = tradingDays[start:end];\n",
    "\n",
    "        wallet = oneRun(rateThreshold, investDays, redeemDays, myTls.ll, ddates, pprices);\n",
    "        lock(lk) do\n",
    "            push!(wallets, wallet);\n",
    "        end\n",
    "    end\n",
    "#     sort!(negativeDays)\n",
    "#     println(negativeDays)\n",
    "#     y = nquantile(wallets, 100)\n",
    "#     x = collect(1:101)\n",
    "#     doplot(x, y)\n",
    "    display( plot([histogram(x=wallets)]))\n",
    "#     plot(1:101, nquantile(wallets, 100))\n",
    "\n",
    "end\n",
    "# tls is thread local storage\n",
    "function simulateWeinerMulti(tls::Vector{Tls})\n",
    "    runs::Int = 1000\n",
    "    investDays = 365*3; redeemDays=365; \n",
    "    \n",
    "    days = investDays + redeemDays; \n",
    "    results = Vector{Float64}(undef, 0)\n",
    "    \n",
    "    \n",
    "    rateThreshold::Float64 = .4; μ=.1; σ=.3;\n",
    "    \n",
    "    prices=Vector{Float64}(undef, days);\n",
    "    tradingDays = collect(1:days)\n",
    "    \n",
    "    lk = Threads.SpinLock()\n",
    "\n",
    "    Threads.@threads for run::Int in 1:runs\n",
    "        tid = Threads.threadid()\n",
    "        myTls = tls[tid]\n",
    "        brk = false\n",
    "        weiner(days, μ, σ, myTls.prices, myTls.ϕ, myTls.dist)\n",
    "        reset!(myTls.ll)\n",
    "        result = oneRun(rateThreshold, investDays, redeemDays, myTls.ll, tradingDays, myTls.prices)\n",
    "        lock(lk) do\n",
    "            push!(results, result)\n",
    "        end\n",
    "    end\n",
    "    display( plot([histogram(x=results)]))\n",
    "end\n",
    "# @time simulateWeinerMulti(tls)\n",
    "@time simulateMulti(tls, d)\n",
    "\n"
   ]
  },
  {
   "cell_type": "markdown",
   "metadata": {},
   "source": [
    "The following graph is interesting. the red is the start time where the returns are negative. we can infer that it happened because of the market crash in 2020"
   ]
  },
  {
   "cell_type": "code",
   "execution_count": null,
   "metadata": {},
   "outputs": [],
   "source": [
    "trace1 = scatter(x=1:length(d[\"^NSEI\"].intDates), y=d[\"^NSEI\"].prices,\n",
    "                    mode=\"lines+markers\",\n",
    "                    name=\"nifty 50\")\n",
    "trace2 = scatter(x=1587:1660, y=d[\"^NSEI\"].prices[1587:1660],\n",
    "                    mode=\"lines+markers\",\n",
    "                    name=\"start times where the returns are negative\")\n",
    "add = 4*365\n",
    "trace3 = scatter(x=(1587+add):(1660+add), y=d[\"^NSEI\"].prices[(1587+add):(1660+add)],\n",
    "                    mode=\"lines+markers\",\n",
    "    name=\"end times of the start times\")\n",
    "\n",
    "plot([trace1, trace2, trace3])"
   ]
  },
  {
   "cell_type": "code",
   "execution_count": null,
   "metadata": {},
   "outputs": [],
   "source": [
    "trace1 = scatter(x=d[\"^NSEI\"].dates, y=d[\"^NSEI\"].prices,\n",
    "                    mode=\"lines+markers\",\n",
    "                    name=\"nifty 50\")\n",
    "\n",
    "plot([trace1])"
   ]
  },
  {
   "cell_type": "code",
   "execution_count": null,
   "metadata": {},
   "outputs": [],
   "source": [
    "struct Tls\n",
    "    ll::FastList{Int}\n",
    "    prices::Vector{Float64}\n",
    "    ϕ::Vector{Float64}\n",
    "    dist::Normal\n",
    "end\n",
    "function initializeTls(days) :: Vector{Tls}\n",
    "    tls = Vector{Tls}(undef, Threads.nthreads())\n",
    "    Threads.@threads for i in 1:Threads.nthreads()\n",
    "        tls[Threads.threadid()] = Tls(FastList{Int}(days), Vector{Float64}(undef, days), Vector{Float64}(undef, days), Normal(0, 1))\n",
    "    end\n",
    "    return tls\n",
    "end\n",
    "tls = initializeTls(10000)"
   ]
  },
  {
   "cell_type": "code",
   "execution_count": null,
   "metadata": {},
   "outputs": [],
   "source": [
    "function rates(ppp::Vector{Float64})\n",
    "    diffs = Vector{Float64}(undef, 0)\n",
    "    for i in 2:length(ppp)\n",
    "        push!(diffs, (ppp[i]-ppp[i-1])*100/ppp[i-1])\n",
    "    end\n",
    "    return diffs\n",
    "end\n"
   ]
  },
  {
   "cell_type": "code",
   "execution_count": null,
   "metadata": {},
   "outputs": [],
   "source": [
    "#prints the daily histogram of the stock\n",
    "function analyse_nse(d::Dict{String, Point})\n",
    "    p = d[\"^NSEI\"]\n",
    "    dates, prices, intDates = (p.dates, p.prices, p.intDates)\n",
    "    diffs = rates(prices)\n",
    "    #histogram(diffs)\n",
    "    ptiles = nquantile(diffs, 100)[40:60]\n",
    "#     plot((1:100)[40:60], ptiles)\n",
    "    l = length(diffs)\n",
    "    println(\"mean is $(mean(diffs))\");\n",
    "    println(\"stddev is $(std(diffs))\")\n",
    "    println(\"min date is $(dates[1]), max is $(dates[end])\")\n",
    "#     plot([histogram(x=sort!(diffs)[trunc(Int, l/4):trunc(Int, 3l/4)], nbins=50)])\n",
    "    plot([histogram(x=diffs, nbins=100)])\n",
    "\n",
    "end\n",
    "analyse_nse(d)"
   ]
  },
  {
   "cell_type": "markdown",
   "metadata": {},
   "source": [
    "# The following graph plots the yearwise mean and std deviation of nifty"
   ]
  },
  {
   "cell_type": "code",
   "execution_count": null,
   "metadata": {},
   "outputs": [],
   "source": [
    "#fuck\n",
    "function analyse_nse(d::Dict{String, Point})\n",
    "    p = d[\"^NSEI\"]\n",
    "    dates, prices, intDates = (p.dates, p.prices, p.intDates)\n",
    "    hashes = Dict{Int64, Vector{Float64}}()\n",
    "    for i in 1:length(dates)\n",
    "        year = Dates.year(dates[i])\n",
    "        if !haskey(hashes, year)\n",
    "            hashes[year] = Vector{Float64}(undef, 0)\n",
    "        end\n",
    "        push!(hashes[year], prices[i])\n",
    "    end\n",
    "    years = Vector{Int}(undef, 0)\n",
    "    means = Vector{Float64}(undef, 0)\n",
    "    stds = Vector{Float64}(undef, 0)\n",
    "    for year in sort!(collect(keys(hashes)))\n",
    "        ar = filter(x -> !isnan(x), rates(hashes[year]))\n",
    "        push!(means, mean(ar))\n",
    "        push!(stds, std(ar))\n",
    "        push!(years, year)\n",
    "    end\n",
    "    println(\"mean is entire nifty is $(mean(rates(prices))) and std of entire nifty is $(std(rates(prices)))\")\n",
    "    plot(scatter(x=years, y=means,  mode=\"lines+markers\",   error_y=attr(\n",
    "        type=\"data\",\n",
    "        array=stds\n",
    "    )))\n",
    "end\n",
    "analyse_nse(d)"
   ]
  },
  {
   "cell_type": "code",
   "execution_count": null,
   "metadata": {
    "tags": []
   },
   "outputs": [],
   "source": [
    "#Prints the biggest losers in the set of stock since now()-days to now()\n",
    "function losers(d::Dict{String, Point}, stocks::Vector{String}, days::Int)\n",
    "    rates = Vector{@NamedTuple{stock::String, rate::Float64}}(undef, 0)\n",
    "    for stock in stocks\n",
    "        if !haskey(d, stock)\n",
    "            continue\n",
    "        end\n",
    "        a = d[stock].prices[end-days]\n",
    "        b = d[stock].prices[end]\n",
    "        rate = (b-a)*100/a\n",
    "        push!(rates, (stock=stock, rate=rate))\n",
    "    end\n",
    "    sort!(rates, by=tup->tup.rate)\n",
    "    return rates\n",
    "end\n",
    "losers(d, labelToCompany[\"niftysmallcap50\"], 45)"
   ]
  },
  {
   "cell_type": "code",
   "execution_count": null,
   "metadata": {},
   "outputs": [],
   "source": [
    "Vector{@NamedTuple{a::Int, b::String}}"
   ]
  },
  {
   "cell_type": "markdown",
   "metadata": {},
   "source": [
    "# Experimentation on multidimensional array speeds\n",
    "\n",
    "array iteration speed is about 1 billion per second. insane."
   ]
  },
  {
   "cell_type": "code",
   "execution_count": null,
   "metadata": {},
   "outputs": [],
   "source": [
    "function test(ar::Array{Int64})\n",
    "    sum = 0\n",
    "    for i in 1:1000\n",
    "        for j in 2:length(ar)\n",
    "            sum+=ar[j]\n",
    "#             ar[j]+=ar[j-1]\n",
    "        end\n",
    "    end\n",
    "    return sum\n",
    "end\n",
    "time_sum(x) = @time test(x);\n",
    "time_sum(ar)\n",
    "println(typeof(ar), size(ar))\n"
   ]
  },
  {
   "cell_type": "markdown",
   "metadata": {},
   "source": [
    "# Speeds of DataFrames\n",
    "fucking dataframes is not type stable so it is 100-1000x slower than array iteration and allocates a large amount of memory\n",
    "\n",
    "There are several table like structures in julia (mostly third parties, several of them seem to be overlapping a lot in functionality)\n",
    "The best one seems to be IndexedTable. it is type stable. It is implementated as a NamedTuple of vectors but acts like a vector of NamedTuples.\n",
    "Of course, the fastest and most native is just NamedTuple. But it seems like a NamedTuple (and also IndexedTable) with many columns might stress the compiler (havent tested it)\n",
    "\n",
    "IndexedTable constructor *copies* the data from the NamedTuple constructor param to create the new IndexedTable. However, invoking `IndexedTable.columns ` returns a NamedTuple *view* of the IndexedTable which is perfect for arbitrary iteration and modifications.\n",
    "\n",
    "btw, the nomenclature is really fucked up.\n",
    "- [Julia Data](https://github.com/JuliaDatahttps://github.com/JuliaData) is the name for all built in table like structures in Julia. They all seem to respect the Tables.jl interface\n",
    "- [JuliaDB](https://juliadata.github.io/JuliaDB.jl/latest/https://juliadata.github.io/JuliaDB.jl/latest/) is one particular table like structure in Julia Data. It is built on `IndexedTables` (seems like both are synonymous). This is the best since it is type stable\n",
    "- [DataFrames](https://github.com/JuliaData/DataFrames.jlhttps://github.com/JuliaData/DataFrames.jl) is a slow and fucked up implementation in Julia Data. It is feature rich but fucking slow\n",
    "- [Julia Databases](https://juliadatabases.github.io/https://juliadatabases.github.io/) collects various drivers for different databases like Mysql, postgres, sqlite. seems like all of them can stream to a tables.jl constructor\n",
    "\n",
    "A good summary of all the shit can be found [here](https://www.juliabloggers.com/a-tour-of-the-data-ecosystem-in-julia/https://www.juliabloggers.com/a-tour-of-the-data-ecosystem-in-julia/) from the author of CSV.jl"
   ]
  },
  {
   "cell_type": "code",
   "execution_count": null,
   "metadata": {},
   "outputs": [],
   "source": [
    "function testDataFrame(df::DataFrame)\n",
    "    ar::Array{Int64} = df.a\n",
    "    sum = 0\n",
    "    for i::Int64 in 1:1000\n",
    "        for j in 1:length(ar)\n",
    "            sum+=ar[j]\n",
    "        end\n",
    "    end\n",
    "    return sum\n",
    "end\n",
    "\n",
    "\n",
    "# println(typeof(df))\n",
    "time_sum(df) = @time testDataFrame(df);\n",
    "time_sum(df)\n"
   ]
  },
  {
   "cell_type": "code",
   "execution_count": null,
   "metadata": {},
   "outputs": [],
   "source": [
    "sql = \"\"\"select symbol , array_agg(name)as names from indices i group by symbol \"\"\"\n",
    "result = execute(conn, sql)\n",
    "println(show_supertypes(typeof(result)))\n",
    "df = result |> JuliaDB.table\n",
    "\n",
    "l = length(df)\n",
    "order = splt(\"\"\"\n",
    "nifty-50\n",
    "nifty-next-50\n",
    "nifty-midcap-50\n",
    "nifty-midcap-100\n",
    "nifty-midcap-150\n",
    "niftysmallcap50\n",
    "nifty-smallcap-100\n",
    "nifty-smallcap-250\n",
    "\n",
    "    \"\"\")\n",
    "println(order)\n",
    "companyToLabel = Dict{String, String}()\n",
    "labelToCompany = Dict{String, Vector{String}}()\n",
    "for i in 1:l\n",
    "    company = df[i].symbol\n",
    "    names = splt(df[i].names[2:end-1], \",\")\n",
    "    for label in order\n",
    "        if findfirst(x->x==label, names) != nothing\n",
    "            companyToLabel[company] = label\n",
    "            if !haskey(labelToCompany, label)\n",
    "                labelToCompany[label] = Vector{String}(undef, 0)\n",
    "            end\n",
    "            push!(labelToCompany[label], company)\n",
    "            @goto label\n",
    "        end\n",
    "    end\n",
    "    companyToLabel[company] = names[1]\n",
    "    @label label\n",
    "end"
   ]
  },
  {
   "cell_type": "code",
   "execution_count": null,
   "metadata": {},
   "outputs": [],
   "source": [
    "lbl = \"niftysmallcap50\"\n",
    "print(labelToCompany[lbl])\n",
    "print(length(labelToCompany[lbl]))"
   ]
  },
  {
   "cell_type": "code",
   "execution_count": null,
   "metadata": {
    "tags": []
   },
   "outputs": [],
   "source": [
    "data = table((symbol=Vector{String}(undef, 0), company=Vector{String}(undef, 0), prob=Vector{Float64}(undef, 0), label=Vector{String}(undef, 0)))\n"
   ]
  },
  {
   "cell_type": "code",
   "execution_count": null,
   "metadata": {},
   "outputs": [],
   "source": [
    "show_supertypes(typeof(rows(data)))"
   ]
  },
  {
   "cell_type": "code",
   "execution_count": null,
   "metadata": {},
   "outputs": [],
   "source": [
    " sa = StructArray([1+im, 3-2im])"
   ]
  },
  {
   "cell_type": "code",
   "execution_count": null,
   "metadata": {},
   "outputs": [],
   "source": [
    "tt = table(1:10, randn(10), rand(Bool, 10); names = [:x, :y, :z])\n"
   ]
  },
  {
   "cell_type": "code",
   "execution_count": null,
   "metadata": {},
   "outputs": [],
   "source": [
    "push!(rows(tt), (x=1, y=1.1, z=true))"
   ]
  },
  {
   "cell_type": "code",
   "execution_count": null,
   "metadata": {},
   "outputs": [],
   "source": [
    "select(tt, :x)"
   ]
  },
  {
   "cell_type": "markdown",
   "metadata": {},
   "source": [
    "# Threads"
   ]
  },
  {
   "cell_type": "code",
   "execution_count": null,
   "metadata": {},
   "outputs": [],
   "source": [
    "show_supertypes(typeof(view(Vector{Int}(undef, 10), 1:3)))"
   ]
  },
  {
   "cell_type": "code",
   "execution_count": null,
   "metadata": {},
   "outputs": [],
   "source": [
    "for m in methods(oneRun)\n",
    "    Base.delete_method(m)\n",
    "end"
   ]
  },
  {
   "cell_type": "code",
   "execution_count": null,
   "metadata": {},
   "outputs": [],
   "source": [
    "function monteCarlo()\n",
    "    runs::Int = 10000\n",
    "    days::Int = 1000\n",
    "    s::Vector{Float64} = Vector{Float64}(undef, days)\n",
    "    ϕ::Vector{Float64} = Vector{Float64}(undef, days)\n",
    "    dist::Normal = Normal(0, 1)\n",
    "    μ::Float64, σ::Float64 = 10.0/100, 30.0/100\n",
    "    last::Vector{Float64} = Vector{Float64}(undef, runs)\n",
    "    for run::Int in 1:runs\n",
    "        weiner(days, μ, σ, s, ϕ, dist)\n",
    "        last[run] = s[end]\n",
    "    end\n",
    "    plot([histogram(x=last)])\n",
    "end\n",
    "monteCarlo()"
   ]
  },
  {
   "cell_type": "code",
   "execution_count": null,
   "metadata": {},
   "outputs": [],
   "source": []
  },
  {
   "cell_type": "markdown",
   "metadata": {},
   "source": [
    "this produces a csv with the following columsn:\n",
    "symbol, mean, stdev, 0%ile, 5%ile, ... 100%ile\n",
    "the values are daily percent changes\n",
    "we can observe the following:\n",
    "\n",
    "* the average is always around 50%ile\n",
    "* according to statistics theory, 1 stdev = 68%. If we consider the positive half, this is 34%. so the value of 1 stdev is expected to occur near 50+34 =85%ile. and this is indeed the case."
   ]
  },
  {
   "cell_type": "code",
   "execution_count": null,
   "metadata": {},
   "outputs": [],
   "source": [
    "#this produces a csv with the following columsn:\n",
    "#symbol, mean, stdev, 0%ile, 5%ile, ... 100%ile\n",
    "#the values are daily percent changes\n",
    "#days: the rate calculated for last how many days? \n",
    "function means(d::Dict{String, Point}, days::Int ,csv::String)\n",
    "#     sql = \"\"\"select distinct symbol from indices i where name like '%nifty-50%' and name not like '%nifty-500%' \"\"\"\n",
    "    sql = \"\"\"select distinct symbol from indices i \"\"\"\n",
    "#     sql = \"\"\"select distinct symbol from indices i where name like '%nifty-next-50%' \"\"\"\n",
    "    result = execute(conn, sql)\n",
    "    df = result |> JuliaDB.table\n",
    "\n",
    "    # percentiles\n",
    "    ptiles = OrderedDict{Symbol, Vector{Float64}}()\n",
    "    num_ptiles = 20\n",
    "    for i in 1:(num_ptiles+1)\n",
    "        ptiles[Symbol(string(trunc(Int64, 100*i/num_ptiles)))] = Vector{Float64}(undef, 0)\n",
    "    end\n",
    "\n",
    "    # means\n",
    "    mns = Vector{Float64}(undef, 0)\n",
    "\n",
    "    symbols = Vector{String}(undef, 0)\n",
    "    # standard deviations\n",
    "    sts = Vector{Float64}(undef, 0)\n",
    "\n",
    "    for i in 1:length(df)\n",
    "        if !haskey(d, df[i].symbol)\n",
    "            println(\"dict does not have key for $(df[i].symbol)\")\n",
    "            continue\n",
    "        end\n",
    "\n",
    "        p = d[df[i].symbol]\n",
    "        dates, prices, intDates = (p.dates, p.prices, p.intDates)\n",
    "        diffs = Vector{Float64}(undef, 0)\n",
    "        if length(intDates) < days + 2\n",
    "            continue\n",
    "        end\n",
    "        for i in days+1:length(intDates)\n",
    "#             if intDates[i] == intDates[i-1] + 1\n",
    "#                 rate = r(prices[i-1], prices[i], 1)*100\n",
    "#                 push!(diffs, rate)\n",
    "#             end\n",
    "            rate = (prices[i]-prices[i-days])*100/prices[i]\n",
    "            push!(diffs, rate)\n",
    "        end\n",
    "        if length(diffs) == 0\n",
    "            println(\"$(df[i].symbol) has no diffs\")\n",
    "            continue\n",
    "        end\n",
    "        push!(symbols, df[i].symbol)\n",
    "        push!(mns, round(mean(diffs), digits=2))\n",
    "        push!(sts, round(std(diffs), digits=2))\n",
    "        quantiles = nquantile(diffs, num_ptiles)\n",
    "        for j in 1:length(quantiles)\n",
    "            push!(ptiles[Symbol(string(trunc(Int64, 100*j/num_ptiles)))], round(quantiles[j], digits=2))\n",
    "        end\n",
    "    end\n",
    "    # println(\"$(size(select(df, :symbol))) and $(size(mns))\")\n",
    "    df = JuliaDB.table((symbol=symbols, mean=mns, stdev=sts))\n",
    "    df = insertcols(df, 4, ptiles)\n",
    "    CSV.write(csv, df)\n",
    "end\n",
    "means(d, 45, \"nifty_50_last_45_days.csv\")"
   ]
  },
  {
   "cell_type": "code",
   "execution_count": null,
   "metadata": {},
   "outputs": [],
   "source": [
    "methods(JuliaDB.rename)"
   ]
  },
  {
   "cell_type": "code",
   "execution_count": null,
   "metadata": {},
   "outputs": [],
   "source": [
    "N = 100\n",
    "random_x = range(0, stop=1, length=N)\n",
    "random_y0 = randn(N) .+ 5\n",
    "random_y1 = randn(N)\n",
    "random_y2 = randn(N) .- 5\n",
    "\n",
    "# Create traces\n",
    "trace1 = scatter(x=random_x, y=random_y0,\n",
    "                    mode=\"lines\",\n",
    "                    name=\"lines\")\n",
    "trace2 = scatter(x=random_x, y=random_y1,\n",
    "                    mode=\"lines+markers\",\n",
    "                    name=\"lines+markers\")\n",
    "trace3 = scatter(x=random_x, y=random_y2,\n",
    "                    mode=\"markers\", name=\"markers\")\n",
    "\n",
    "plot([trace1, trace2, trace3])"
   ]
  },
  {
   "cell_type": "code",
   "execution_count": null,
   "metadata": {},
   "outputs": [],
   "source": [
    "methods(JuliaDB.table)"
   ]
  },
  {
   "cell_type": "markdown",
   "metadata": {},
   "source": [
    "# Experimenting with julia dates"
   ]
  },
  {
   "cell_type": "code",
   "execution_count": null,
   "metadata": {},
   "outputs": [],
   "source": [
    "date1 = DateTime(2022, 01, 01)\n",
    "date2 = DateTime(2022, 01, 13)\n",
    "println(\"date1 is $(date1), date2 is $(date2)\")\n",
    "println(\"year is $(Dates.year(date1)), type is $(typeof(Dates.year(date1)))\")"
   ]
  },
  {
   "cell_type": "markdown",
   "metadata": {},
   "source": [
    "# Experiment with CDF\n"
   ]
  },
  {
   "cell_type": "code",
   "execution_count": null,
   "metadata": {},
   "outputs": [],
   "source": [
    "# this is a normal distribution with stdev=1\n",
    "# cdf(dist, 1) is the probability of entire left half + normal distribution before x=1\n",
    "# for normal distribution, 68% lies   thin 1 standard deviation. so cdf(dist, 1) = 50% (left half) + 1/2 * 68 (right half) = 84%\n",
    "dist = Normal(0, 1)\n",
    "cdf(dist, 1)\n"
   ]
  },
  {
   "cell_type": "markdown",
   "metadata": {},
   "source": [
    "# Experiment with error bars"
   ]
  },
  {
   "cell_type": "code",
   "execution_count": null,
   "metadata": {},
   "outputs": [],
   "source": [
    "plot(scatter(\n",
    "    x=[1, 2, 3, 4],\n",
    "    y=[2, 1, 3, 4],\n",
    "    mode=\"markers\",\n",
    "    error_y=attr(\n",
    "        type=\"data\",\n",
    "        array=[1,2,3,4]\n",
    "    )\n",
    "))\n"
   ]
  },
  {
   "cell_type": "code",
   "execution_count": null,
   "metadata": {},
   "outputs": [],
   "source": [
    "rare(3)"
   ]
  }
 ],
 "metadata": {
  "@webio": {
   "lastCommId": "840abb8e-7e90-4ead-a5f5-32dc530f0c36",
   "lastKernelId": "0d7b1747-22da-4f4f-acfa-b46ed4871615"
  },
  "kernelspec": {
   "display_name": "Julia 1.6.0",
   "language": "julia",
   "name": "julia-1.6"
  },
  "language_info": {
   "file_extension": ".jl",
   "mimetype": "application/julia",
   "name": "julia",
   "version": "1.6.0"
  }
 },
 "nbformat": 4,
 "nbformat_minor": 4
}
