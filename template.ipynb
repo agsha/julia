{
 "cells": [
  {
   "cell_type": "code",
   "execution_count": 1,
   "metadata": {},
   "outputs": [
    {
     "data": {
      "application/vnd.webio.node+json": {
       "children": [],
       "instanceArgs": {
        "namespace": "html",
        "tag": "div"
       },
       "nodeType": "DOM",
       "props": {},
       "type": "node"
      },
      "text/html": [
       "<div style=\"padding: 1em; background-color: #f8d6da; border: 1px solid #f5c6cb; font-weight: bold;\">\n",
       "<p>The WebIO Jupyter extension was not detected. See the\n",
       "<a href=\"https://juliagizmos.github.io/WebIO.jl/latest/providers/ijulia/\" target=\"_blank\">\n",
       "    WebIO Jupyter integration documentation\n",
       "</a>\n",
       "for more information.\n",
       "</div>\n"
      ],
      "text/plain": [
       "WebIO._IJuliaInit()"
      ]
     },
     "metadata": {
      "@webio": {
       "kernelId": "f01691f4-9bb2-4319-8254-395dd6d0b53b"
      }
     },
     "output_type": "display_data"
    },
    {
     "data": {
      "text/plain": [
       "Dict{String, Point} with 1684 entries:\n",
       "  \"20MICRONS\"    => Point([DateTime(\"2008-10-06T00:00:00\"), DateTime(\"2008-10-0…\n",
       "  \"JUBLFOOD\"     => Point([DateTime(\"2010-02-08T00:00:00\"), DateTime(\"2010-02-0…\n",
       "  \"BAJFINANCE\"   => Point([DateTime(\"2002-07-01T00:00:00\"), DateTime(\"2002-07-0…\n",
       "  \"FLUOROCHEM\"   => Point([DateTime(\"2019-10-16T00:00:00\"), DateTime(\"2019-10-1…\n",
       "  \"RAJSREESUG\"   => Point([DateTime(\"2002-07-01T00:00:00\"), DateTime(\"2002-07-0…\n",
       "  \"SUNDRMBRAK\"   => Point([DateTime(\"2002-08-12T00:00:00\"), DateTime(\"2002-08-1…\n",
       "  \"WHIRLPOOL\"    => Point([DateTime(\"2002-08-12T00:00:00\"), DateTime(\"2002-08-1…\n",
       "  \"CAREERP\"      => Point([DateTime(\"2010-10-06T00:00:00\"), DateTime(\"2010-10-0…\n",
       "  \"SUNPHARMA\"    => Point([DateTime(\"1996-01-01T00:00:00\"), DateTime(\"1996-01-0…\n",
       "  \"TAKE\"         => Point([DateTime(\"2007-08-27T00:00:00\"), DateTime(\"2007-08-2…\n",
       "  \"VBL\"          => Point([DateTime(\"2016-11-08T00:00:00\"), DateTime(\"2016-11-0…\n",
       "  \"NOIDATOLL\"    => Point([DateTime(\"2002-12-06T00:00:00\"), DateTime(\"2002-12-0…\n",
       "  \"POLYCAB\"      => Point([DateTime(\"2019-04-16T00:00:00\"), DateTime(\"2019-04-1…\n",
       "  \"JKCEMENT\"     => Point([DateTime(\"2006-03-14T00:00:00\"), DateTime(\"2006-03-1…\n",
       "  \"CANDC\"        => Point([DateTime(\"2007-02-26T00:00:00\"), DateTime(\"2007-02-2…\n",
       "  \"KAUSHALYA\"    => Point([DateTime(\"2007-12-14T00:00:00\"), DateTime(\"2007-12-1…\n",
       "  \"DSSL\"         => Point([DateTime(\"2008-01-01T00:00:00\"), DateTime(\"2008-01-0…\n",
       "  \"AUTOLITIND\"   => Point([DateTime(\"2008-11-10T00:00:00\"), DateTime(\"2008-11-1…\n",
       "  \"GREENPANEL\"   => Point([DateTime(\"2019-10-23T00:00:00\"), DateTime(\"2019-10-2…\n",
       "  \"IRCON\"        => Point([DateTime(\"2018-09-28T00:00:00\"), DateTime(\"2018-10-0…\n",
       "  \"^CNXCMDT\"     => Point([DateTime(\"2007-09-17T00:00:00\"), DateTime(\"2007-09-1…\n",
       "  \"%5ECNXCONSUM\" => Point([DateTime(\"2007-09-17T00:00:00\"), DateTime(\"2007-09-1…\n",
       "  \"BHARATRAS\"    => Point([DateTime(\"2002-07-01T00:00:00\"), DateTime(\"2002-07-0…\n",
       "  \"EVERESTIND\"   => Point([DateTime(\"2002-07-01T00:00:00\"), DateTime(\"2002-07-0…\n",
       "  \"HOVS\"         => Point([DateTime(\"2006-09-27T00:00:00\"), DateTime(\"2006-09-2…\n",
       "  ⋮              => ⋮"
      ]
     },
     "execution_count": 1,
     "metadata": {},
     "output_type": "execute_result"
    }
   ],
   "source": [
    "include(\"./mm.jl\");\n",
    "const d = deserialize(\"stock_dict\")"
   ]
  },
  {
   "cell_type": "markdown",
   "metadata": {},
   "source": [
    "Fact:\n",
    "let `rd` be the daily rate (not in percentage, but in absolute terms).\n",
    "then `ry` the yearly rate is given by \n",
    "```\n",
    "ry = (1+rd)^365 - 1\n",
    "```\n",
    "\n",
    "and the inverse relationship is \n",
    "\n",
    "```\n",
    "rd = (1+ry)^-365 - 1\n",
    "```\n",
    "\n",
    "This is a crazy exponential equation. An yearly rate of `10%` is achived by a daily rate of around `0.03%`\n",
    "\n",
    "The following graph plots the relation. x axis is daily rate in percentage. y axis is the corresponding yearly rate in percentage\n",
    "\n",
    "Note also that the maximum negative rate possible is `-100%` at which the initial principal goes to zero.\n",
    "\n",
    "Note also that from f(0.0%) = 0% to f(0.2%) = 100%, the graph is almost linear, which means that in this region, f(x) = x*365"
   ]
  },
  {
   "cell_type": "code",
   "execution_count": null,
   "metadata": {},
   "outputs": [],
   "source": [
    "#An example of BigFloat, just in case we need it\n",
    "# setprecision(BigFloat, 2048) do\n",
    "#     rd = BigFloat(\"0.0003\")\n",
    "# #     rd = 0.0003\n",
    "#     ry = (1+rd)^365 - 1\n",
    "#     println(\"ry is  \", ry)\n",
    "#     rd2 = (1+ry)^(1/365) - 1\n",
    "#     println(\"rd2 is    \", rd2)\n",
    "#     @show rd.prec\n",
    "# end\n",
    "rd = -0.01:0.00001:0.01\n",
    "ry = map(i -> (1+i)^365-1, rd)\n",
    "\n",
    "rs = map(i->i*365, rd)\n",
    "re = map(i -> exp(i*365), rd)\n",
    "trace1 = scatter(x=rd.*100, y=ry.*100,\n",
    "                    mode=\"lines\",\n",
    "                    name=\"compunded return\")\n",
    "trace2 = scatter(x=rd.*100, y=rs.*100,\n",
    "                    mode=\"lines\",\n",
    "                    name=\"simple multiplied\")\n",
    "trace3 = scatter(x=rd.*100, y=re.*100,\n",
    "                    mode=\"lines\",\n",
    "                    name=\"continous compounding\")\n",
    "plot([trace1, trace2, trace3])"
   ]
  },
  {
   "cell_type": "code",
   "execution_count": null,
   "metadata": {},
   "outputs": [],
   "source": [
    "#const d = constructDict()\n",
    "#serialize(\"stock_dict\", d)\n",
    "\n",
    "const d = deserialize(\"stock_dict\")"
   ]
  },
  {
   "cell_type": "code",
   "execution_count": null,
   "metadata": {},
   "outputs": [],
   "source": [
    "function companyComparison(p::Float64)\n",
    "    nn = (symbol=Vector{String}(undef, 0), prob=Vector{Float64}(undef, 0), label=Vector{String}(undef, 0))\n",
    "    for key in keys(d)\n",
    "        sss = key\n",
    "        pp = prob(d, key, 1, 3*365, p)\n",
    "        label = get(companyToLabel, key, \"\")\n",
    "        push!(nn[:symbol], sss)\n",
    "        push!(nn[:prob], pp)\n",
    "        push!(nn[:label], label)\n",
    "    end\n",
    "    execute(conn, \"BEGIN;\")\n",
    "    execute(conn, \"drop table if exists work.company_comparison; \")\n",
    "    execute(conn, \"\"\"\n",
    "    create table work.company_comparison (symbol text, prob float, label text)\n",
    "    \"\"\")\n",
    "    LibPQ.load!(\n",
    "        nn,\n",
    "        conn,\n",
    "        \"INSERT INTO work.company_comparison (symbol, prob, label) VALUES (\\$1, \\$2, \\$3);\",\n",
    "    )\n",
    "\n",
    "    execute(conn, \"COMMIT;\")\n",
    "end\n",
    "companyComparison(0.15)"
   ]
  },
  {
   "cell_type": "code",
   "execution_count": null,
   "metadata": {},
   "outputs": [],
   "source": [
    "prob(d, \"TVSMOTOR\",1, 3*365, 0.3 )"
   ]
  },
  {
   "cell_type": "code",
   "execution_count": null,
   "metadata": {},
   "outputs": [],
   "source": [
    "df = table((x=an,))\n",
    "summarize((mean, std), df)\n"
   ]
  },
  {
   "cell_type": "code",
   "execution_count": null,
   "metadata": {},
   "outputs": [],
   "source": [
    "function foo()\n",
    "    sql = \"\"\" select symbol from indices i where name = 'nifty-500' \"\"\"\n",
    "    result = execute(conn, sql)\n",
    "    return result |> table\n",
    "end\n",
    "df = foo()\n"
   ]
  },
  {
   "cell_type": "code",
   "execution_count": null,
   "metadata": {},
   "outputs": [],
   "source": [
    "df = CSV.read(\"/home/sharath/Downloads/AdultDataSet.csv\")"
   ]
  },
  {
   "cell_type": "code",
   "execution_count": null,
   "metadata": {},
   "outputs": [],
   "source": [
    "df2 = df[shuffle(1:nrow(df))[1:Int(floor((nrow(df)/5)))], :]"
   ]
  },
  {
   "cell_type": "code",
   "execution_count": null,
   "metadata": {},
   "outputs": [],
   "source": [
    "filter(row->row[\"education\"]==\" HS-grad\" && row[\"marital-status\"]==\" Never-married\", df)"
   ]
  },
  {
   "cell_type": "code",
   "execution_count": null,
   "metadata": {},
   "outputs": [],
   "source": [
    "typeof(freqtable(df[\"education\"], df[\"marital-status\"]))"
   ]
  },
  {
   "cell_type": "code",
   "execution_count": null,
   "metadata": {},
   "outputs": [],
   "source": [
    "df |> SQLite.load!(sqlite, \"adult\")"
   ]
  },
  {
   "cell_type": "code",
   "execution_count": null,
   "metadata": {},
   "outputs": [],
   "source": [
    "df = DBInterface.execute(sqlite, \"select * from adult\") |> DataFrame"
   ]
  },
  {
   "cell_type": "code",
   "execution_count": null,
   "metadata": {},
   "outputs": [],
   "source": [
    "function f(r1::Float64, r2::Float64, x::Float64)\n",
    "    return ((1+r1)^x) * ((1+r2)^(1-x)) - 1\n",
    "end\n",
    "xx  = 0:0.001:0.99\n",
    "yy = [f(.04, 0.13, x) for x in ran]\n",
    "plot(xx, yy, hover=string.(xx).*\"   \".*string.(yy), size=(1700, 400,))"
   ]
  },
  {
   "cell_type": "markdown",
   "metadata": {},
   "source": [
    "This is testing an investment strategy. we invest a fixed amount every day for `investDays` days. \n",
    "The portfolio is the current list of days that we bought the stocks.\n",
    "Every day, we also go through our current portfolio. If one of the past day buys have hit more than `rateThreshold`, we sell it. \n",
    "\n",
    "After `investDays`, we wait for another `redeemDays` to liquidate any portfolio that remains. After `redeemDays`, we sell whatever is left.\n",
    "return the amount of money in the wallet after `investDays+redeemDays`\n",
    "\n",
    "Zerodha has the following transaction fees. \n",
    "* charge buy is 1.19 per 1000\n",
    "* charge sell is 1.04 per 1000\n",
    "* charge dp is 13.8 per stock per sell per day + 18% GST. since we are dealing with only 1 stock, the charge is 13.8*1.18\n",
    "\n",
    "````\n",
    "charge_buy = 1.19/1000 per rupee\n",
    "charge_sell = 1.04/1000 per rupee\n",
    "charge_dp = 13.5*1.18 per stock per day\n",
    "interest_charges = p2(1, fixed_deposit_rate, days_held/365.0) - 1 per rupee\n",
    "\n",
    "for rupee  p[dayBought]*(1 + charge_buy) =(we get) 1 stock\n",
    "so for     amount =(we get) amount/(p[dayBought]*(1+charge_buy))\n",
    "\n",
    "num_stocks = amount/(p[dayBought]*(1+charge_buy))\n",
    "\n",
    "\n",
    "net_today = num_stock*p[today] - num_stock*p[today]*(charge_sell) - interest_charges - charge_dp\n",
    "          = num_stock*p[today](1 - charge_sell) - interest_charges - charge_dp\n",
    "\n",
    "          = amount*p[today](1 - charge_sell) / (p[dayBought]*(1+charge_buy)) - amount*(p2(1, fixed_deposit_rate, days_held/365.0) - 1) - charge_dp\n",
    "````"
   ]
  },
  {
   "cell_type": "code",
   "execution_count": null,
   "metadata": {},
   "outputs": [],
   "source": [
    "saved = Vector{Float64}(undef, 0)"
   ]
  },
  {
   "cell_type": "code",
   "execution_count": 3,
   "metadata": {},
   "outputs": [
    {
     "data": {
      "text/plain": [
       "1"
      ]
     },
     "execution_count": 3,
     "metadata": {},
     "output_type": "execute_result"
    }
   ],
   "source": [
    "function net_today_f(amount::Float64, initialPrice::Float64, nowPrice::Float64, daysHeld::Int)\n",
    "    charge_buy::Float64 = 1.19/1000\n",
    "    charge_sell::Float64 = 1.04/1000\n",
    "    charge_dp::Float64 = 13.5*1.18\n",
    "    fixed_deposit_rate::Float64 = 5.0/100.0\n",
    "    return (amount*nowPrice*(1 - charge_sell) / (initialPrice*(1+charge_buy)) - \n",
    "                    amount*(p2(1, fixed_deposit_rate, daysHeld/365.0) - 1) - \n",
    "                    charge_dp)\n",
    "end\n",
    "\n",
    "function net_today_f2(amount::Float64, initialPrice::Float64, nowPrice::Float64, daysHeld::Int)\n",
    "    charge_buy::Float64 = 1.19/1000\n",
    "    charge_sell::Float64 = 1.04/1000\n",
    "    charge_dp::Float64 = 13.5*1.18\n",
    "    return amount*nowPrice*(1 - charge_sell) / (initialPrice*(1+charge_buy)) - charge_dp\n",
    "end\n",
    "net_today_f(1000.0, 10.0, 11.0, 1)\n",
    "struct Tls\n",
    "    ll::FastList{Int}\n",
    "    prices::Vector{Float64}\n",
    "    tradingDays::Vector{Int64}\n",
    "    ϕ::Vector{Float64}\n",
    "    dist::Normal\n",
    "end\n",
    "function initializeTls(days) :: Vector{Tls}\n",
    "    tls = Vector{Tls}(undef, Threads.nthreads())\n",
    "    Threads.@threads for i in 1:Threads.nthreads()\n",
    "        tls[Threads.threadid()] = Tls(FastList{Int}(days), Vector{Float64}(undef, days), \n",
    "            Vector{Int64}(undef, days), Vector{Float64}(undef, days), Normal(0, 1))\n",
    "        for i in 1:days\n",
    "            tls[Threads.threadid()].tradingDays[i] = i\n",
    "        end\n",
    "\n",
    "    end\n",
    "    return tls\n",
    "end\n",
    "\n",
    "1"
   ]
  },
  {
   "cell_type": "code",
   "execution_count": 55,
   "metadata": {},
   "outputs": [
    {
     "ename": "LoadError",
     "evalue": "UndefVarError: getStrategyRunner not defined",
     "output_type": "error",
     "traceback": [
      "UndefVarError: getStrategyRunner not defined",
      "",
      "Stacktrace:",
      " [1] top-level scope",
      "   @ In[55]:3",
      " [2] eval",
      "   @ ./boot.jl:373 [inlined]",
      " [3] include_string(mapexpr::typeof(REPL.softscope), mod::Module, code::String, filename::String)",
      "   @ Base ./loading.jl:1196"
     ]
    }
   ],
   "source": [
    "eps = 0.0000001\n",
    "#case 1 null strategy, no salary, no walletRate, wallet should remain the same, expected return 0\n",
    "@assert abs(getStrategyRunner(1000., 0., 0., 365, (w, i)->0.)[1]() - 0.) < eps\n",
    "\n",
    "#case 2 null strategy, no salary, walletRate should result in walletRate\n",
    "expected = 0.1\n",
    "actual = getStrategyRunner(1000., .1, 0., 365, (w, i)->0.)[1]()\n",
    "@assert abs(expected - actual) < eps \"expected: $expected, actual: $actual\"\n",
    "\n",
    "# case 3 just salary, no wallet or wallet rate null strategy should give 0\n",
    "@assert abs(getStrategyRunner(0., 0., 1000., 365, (w, i)->0.)[1]()) < eps\n",
    "\n",
    "#case 4 salary with no wallet but walletRate should give walletRate\n",
    "actual = getStrategyRunner(0., .1, 1000., 365, (w, i)->0.)[1]()\n",
    "@assert abs(actual - 0.1) < eps \"expected: 0.1, actual: $actual\"\n",
    "\n",
    "#case 5 salary with initial wallet and walletRate but null strategy should return walletRate\n",
    "actual = getStrategyRunner(1000., .1, 1000., 365, (w, i)->0.)[1]()\n",
    "@assert abs(actual - 0.1) < eps \"expected: 0.1, actual: $actual\"\n",
    "\n",
    "# case 6 a strategy that compounds the wallet returns the compounding rate\n",
    "function getStrategy()\n",
    "    w::Float64 = 0\n",
    "    return (wallet, i) -> begin\n",
    "        if i==1\n",
    "            w = wallet\n",
    "            -wallet\n",
    "        elseif i==365\n",
    "            p2(w, 0.2/365, 365)\n",
    "        else\n",
    "            0.\n",
    "        end\n",
    "    end\n",
    "end\n",
    "actual = getStrategyRunner(1000., .1, 0., 365, getStrategy())[1]()\n",
    "@assert abs(actual - 0.2) < eps \"expected: 0.2, actual: $actual\"\n",
    "\n",
    "#case 7 a strategy that randomly invests money and gives randomly gives walletRate return with starting wallet \n",
    "# and salary should return walletRate\n",
    "days = 365\n",
    "struct Invest\n",
    "    day::Int\n",
    "    amnt::Float64\n",
    "end\n",
    "\n",
    "function getStrategy()\n",
    "    # 0 is buy, 1 is sell\n",
    "    arr = [0, 1]\n",
    "    ll = FastList{Invest}(days)\n",
    "    return (wallet, i) -> begin\n",
    "        if i==365\n",
    "            sum = 0.\n",
    "            for node in ll\n",
    "                sum += p2(node.data.amnt, 0.1/365, i-node.data.day)\n",
    "            end\n",
    "            return sum\n",
    "        end\n",
    "        if rand(arr) == 0 && wallet > 0\n",
    "            push!(ll, Invest(i, wallet))\n",
    "            return -wallet\n",
    "        else\n",
    "            for node in ll\n",
    "                del(ll, node)\n",
    "                return p2(node.data.amnt, 0.1/365, i-node.data.day)\n",
    "            end\n",
    "            return 0.\n",
    "        end\n",
    "                \n",
    "    end\n",
    "end\n",
    "actual = getStrategyRunner(1000., .1, 0., 365, getStrategy())[1]()\n",
    "@assert abs(actual - 0.1) < eps \"expected: 0.2, actual: $actual\"\n",
    "\n"
   ]
  },
  {
   "cell_type": "code",
   "execution_count": 3,
   "metadata": {},
   "outputs": [
    {
     "ename": "LoadError",
     "evalue": "AssertionError: expected: .1, actual: 0.10000082443734626",
     "output_type": "error",
     "traceback": [
      "AssertionError: expected: .1, actual: 0.10000082443734626",
      "",
      "Stacktrace:",
      " [1] top-level scope",
      "   @ In[3]:95",
      " [2] eval",
      "   @ ./boot.jl:373 [inlined]",
      " [3] include_string(mapexpr::typeof(REPL.softscope), mod::Module, code::String, filename::String)",
      "   @ Base ./loading.jl:1196"
     ]
    }
   ],
   "source": [
    "struct DummyStrategy <: Strategy\n",
    "end\n",
    "\n",
    "eps = 0.0000001\n",
    "#case 1 null strategy, no salary, no walletRate, wallet should remain the same, expected return 0\n",
    "accountingStrategy = WalletAccountingStrategy(wallet=1000., walletRate=0., salary=0., days=365)\n",
    "function strategy(::DummyStrategy, ::Tls, w, i) 0. end\n",
    "@assert abs(runStrategy(accountingStrategy, Tls(365), DummyStrategy())) < eps\n",
    "\n",
    "\n",
    "\n",
    "#case 2 null strategy, no salary, walletRate should result in walletRate\n",
    "expected = 0.1\n",
    "accountingStrategy = WalletAccountingStrategy(wallet=1000., walletRate=0.1, salary=0., days=365)\n",
    "function strategy(::DummyStrategy, ::Tls, w, i) 0. end\n",
    "actual = runStrategy(accountingStrategy, Tls(365), DummyStrategy())\n",
    "@assert abs(expected - actual) < eps \"expected: $expected, actual: $actual\"\n",
    "\n",
    "# case 3 just salary, no wallet or wallet rate null strategy should give 0\n",
    "accountingStrategy = WalletAccountingStrategy(wallet=0., walletRate=0., salary=1000., days=365)\n",
    "function strategy(::DummyStrategy, ::Tls, w, i) 0. end\n",
    "actual = runStrategy(accountingStrategy, Tls(365), DummyStrategy())\n",
    "@assert abs(actual) < eps \"expected: $expected, actual: $actual\"\n",
    "\n",
    "#case 4 salary with no wallet but walletRate should give walletRate\n",
    "accountingStrategy = WalletAccountingStrategy(wallet=0., walletRate=0.1, salary=1000., days=365)\n",
    "function strategy(::DummyStrategy, ::Tls, w, i) 0. end\n",
    "actual = runStrategy(accountingStrategy, Tls(365), DummyStrategy())\n",
    "@assert abs(actual-0.1) < eps \"expected: .1, actual: $actual\"\n",
    "\n",
    "#case 5 salary with initial wallet and walletRate but null strategy should return walletRate\n",
    "accountingStrategy = WalletAccountingStrategy(wallet=1000., walletRate=0.1, salary=1000., days=365)\n",
    "function strategy(::DummyStrategy, ::Tls, w, i) 0. end\n",
    "actual = runStrategy(accountingStrategy, Tls(365), DummyStrategy())\n",
    "@assert abs(actual-0.1) < eps \"expected: .1, actual: $actual\"\n",
    "\n",
    "\n",
    "# case 6 a strategy that compounds the wallet returns the compounding rate\n",
    "# the wallet rate has to be zero otherwise, the first day compounding will take effect\n",
    "mutable struct DummyStrategy2 <: Strategy \n",
    "    w::Float64 \n",
    "end\n",
    "function strategy(s::DummyStrategy2, ::Tls, wallet, i)\n",
    "    if i==1\n",
    "        s.w = wallet\n",
    "        -wallet\n",
    "    elseif i==365\n",
    "        p2(s.w, 0.2/365., 365)\n",
    "    else\n",
    "        0.\n",
    "    end\n",
    "end\n",
    "\n",
    "accountingStrategy = WalletAccountingStrategy(wallet=1000., walletRate=0., salary=0., days=365)\n",
    "actual = runStrategy(accountingStrategy, Tls(365), DummyStrategy2(0.))\n",
    "@assert abs(actual-0.2) < eps \"expected: .2, actual: $actual\"\n",
    "\n",
    "\n",
    "#case 7 a strategy that randomly invests money and gives randomly gives walletRate return with starting wallet \n",
    "# and salary should return walletRate\n",
    "days = 365\n",
    "struct Invest\n",
    "    day::Int\n",
    "    amnt::Float64\n",
    "end\n",
    "struct DummyStrategy3 <: Strategy\n",
    "    ar::Vector{Int}\n",
    "    ll::FastList{Invest}\n",
    "end\n",
    "function strategy(s::DummyStrategy3, ::Tls, wallet::Float64, i::Int)\n",
    "    # 0 is buy, 1 is sell\n",
    "    arr = s.ar\n",
    "    ll = s.ll\n",
    "    if i==365\n",
    "        sum = 0.\n",
    "        for node in ll\n",
    "            sum += p2(node.data.amnt, 0.1/365, i-node.data.day)\n",
    "        end\n",
    "        return sum\n",
    "    end\n",
    "    if rand(arr) == 0 && wallet > 0\n",
    "        push!(ll, Invest(i, wallet))\n",
    "        return -wallet\n",
    "    else\n",
    "        for node in ll\n",
    "            del(ll, node)\n",
    "            return p2(node.data.amnt, 0.1/365, i-node.data.day)\n",
    "        end\n",
    "        return 0.\n",
    "    end\n",
    "                \n",
    "end\n",
    "accountingStrategy = WalletAccountingStrategy(wallet=1000., walletRate=0.1, salary=0., days=365)\n",
    "actual = runStrategy(accountingStrategy, Tls(365), DummyStrategy3([0, 1], FastList{Invest}(days)))\n",
    "@assert abs(actual-0.1) < eps \"expected: .1, actual: $actual\"\n"
   ]
  },
  {
   "cell_type": "code",
   "execution_count": 2,
   "metadata": {},
   "outputs": [
    {
     "data": {
      "text/plain": [
       "strategy (generic function with 1 method)"
      ]
     },
     "execution_count": 2,
     "metadata": {},
     "output_type": "execute_result"
    }
   ],
   "source": [
    "abstract type PriceStrategy end\n",
    "abstract type Strategy end\n",
    "abstract type AccountingStrategy end\n",
    "Base.@kwdef struct Tls\n",
    "    ll::FastList{Int}\n",
    "    prices::Vector{Float64}\n",
    "    tradingDays::Vector{Int64}\n",
    "    ϕ::Vector{Float64}\n",
    "    dist::Normal\n",
    "end\n",
    "\n",
    "Base.@kwdef struct WalletAccountingStrategy <: AccountingStrategy\n",
    "    wallet::Float64\n",
    "    walletRate::Float64\n",
    "    salary::Float64\n",
    "    days::Int\n",
    "end\n",
    "Base.@kwdef struct WeinerPriceStrategy <: PriceStrategy\n",
    "    μ::Float64\n",
    "    σ::Float64\n",
    "end\n",
    "Base.@kwdef mutable struct Strategy1 <: Strategy\n",
    "    rateThreshold::Float64\n",
    "    investDays::Int\n",
    "    redeemDays::Int\n",
    "    amount::Float64\n",
    "    days::Int\n",
    "end\n",
    "\n",
    "function runStrategy(acc::WalletAccountingStrategy, myTls::Tls, strtg::Strategy)\n",
    "    # the wallet at the beginning of day 1\n",
    "    wallet::Float64 = acc.wallet\n",
    "    walletRate::Float64 = acc.walletRate\n",
    "    salary::Float64 = acc.salary\n",
    "    days::Int = acc.days\n",
    "    tradingDays = myTls.tradingDays\n",
    "    # the day after the last trade happened\n",
    "    lastTradingDay = 1\n",
    "    lastSalaryDay = 1\n",
    "    walletBegin::Float64 = wallet\n",
    "    for day::Int in 1:days\n",
    "        # cashFlow always accrues at the end of the day, by convention\n",
    "        cashFlow::Float64 = strategy(strtg, myTls, wallet, day)\n",
    "        if tradingDays[day] >= tradingDays[1] + 30*lastSalaryDay\n",
    "            cashFlow += salary\n",
    "            walletBegin += p1(salary, walletRate/365., tradingDays[day]-tradingDays[1]+1)\n",
    "            lastSalaryDay += 1\n",
    "        end\n",
    "        if abs(cashFlow) > 0.001\n",
    "            daysHeld = tradingDays[day] - tradingDays[lastTradingDay] + 1\n",
    "            wallet = p2(wallet, walletRate/365.0, daysHeld) + cashFlow\n",
    "            lastTradingDay = day+1\n",
    "        end\n",
    "    end\n",
    "    if lastTradingDay <= days\n",
    "        daysHeld = tradingDays[days] - tradingDays[lastTradingDay] + 1\n",
    "        wallet = p2(wallet, walletRate/365.0, daysHeld)\n",
    "    end\n",
    "    return r(walletBegin, wallet, tradingDays[days] - tradingDays[1] + 1)*365\n",
    "end\n",
    "\n",
    "function Tls(days)::Tls\n",
    "    tls = Tls(FastList{Int}(days), Vector{Float64}(undef, days), \n",
    "            Vector{Int64}(undef, days), Vector{Float64}(undef, days), Normal(0, 1))\n",
    "    for i in 1:days\n",
    "        tls.tradingDays[i] = i\n",
    "    end\n",
    "    return tls\n",
    "end\n",
    "\n",
    "function run(acc::A, priceStrategy::P, strategy::S, days::Int) where {A<:AccountingStrategy,\n",
    "        P <: PriceStrategy, S <: Strategy}\n",
    "    tls = Vector{Tls}(undef, Threads.nthreads())\n",
    "    Threads.@threads for i in 1:Threads.nthreads()\n",
    "        tls[Threads.threadid()] = Tls(days)\n",
    "    end\n",
    "    Threads.@threads for run::Int in 1:runs\n",
    "        tid = Threads.threadid()\n",
    "        myTls = tls[tid]\n",
    "        fillPrice!(priceStrategy, myTls)\n",
    "        reset!(acc)\n",
    "        runStrategy(acc, myTls, strategy)\n",
    "        summarizeAccountingStrategy(acc, myTls)\n",
    "        summarizeStrategy(strategy)\n",
    "    end\n",
    "end\n",
    "function fillPrice!(priceStrategy::WeinerPriceStrategy, myTls::Tls)\n",
    "    weiner(myTls.days, priceStrategy.μ, priceStrategy.σ, myTls.prices, myTls.ϕ, myTls.dist)\n",
    "end\n",
    "\n",
    "function strategy(strt::Strategy1, myTls::Tls, wallet::Float64, tradingDayIndex::Int)\n",
    "    rateThreshold::Float64 = strt.rateThreshold\n",
    "    investDays::Int = strt.investDays\n",
    "    redeemDays::Int = strt.redeemDays\n",
    "    amount::Float64 = strt.amount\n",
    "    days::Int = investDays+redeemDays\n",
    "    \n",
    "    ll::FastList{Int} = myTls.ll\n",
    "    prices = myTls.prices\n",
    "    tradingDays = myTls.tradingDays\n",
    "    \n",
    "    net::Float64 = 0.\n",
    "    for node in ll\n",
    "        dayBought::Int = node.data\n",
    "        daysHeld::Int = tradingDays[tradingDayIndex] - tradingDays[dayBought]\n",
    "        net_today::Float64 = net_today_f2(amount, prices[dayBought], prices[tradingDayIndex], daysHeld)\n",
    "        net_today = max(net_today, 1)\n",
    "        rate::Float64 = r(amount, net_today, daysHeld/365.0);\n",
    "        if rate > rateThreshold || tradingDayIndex==days\n",
    "            del(ll, node)      \n",
    "            net += net_today\n",
    "        end\n",
    "    end\n",
    "    if i <= investDays && amount < wallet\n",
    "        push!(ll, tradingDayIndex)\n",
    "        net -= amount\n",
    "    end\n",
    "    return net\n",
    "end\n"
   ]
  },
  {
   "cell_type": "code",
   "execution_count": 4,
   "metadata": {},
   "outputs": [
    {
     "data": {
      "text/plain": [
       "configure! (generic function with 1 method)"
      ]
     },
     "execution_count": 4,
     "metadata": {},
     "output_type": "execute_result"
    }
   ],
   "source": [
    "function getStrategyRunner(wallet::Float64, walletRate::Float64, salary::Float64, days::Int, \n",
    "        strategy)\n",
    "    function strategyRunner()\n",
    "        walletBegin::Float64 = wallet\n",
    "        for i::Int in 1:days\n",
    "            cashFlow::Float64 = strategy(wallet, i)\n",
    "            if cashFlow > 0\n",
    "                # new wallet is 1 day interest + cashflow\n",
    "                wallet = wallet*(1+walletRate/365.0) + cashFlow\n",
    "            else\n",
    "                # new wallet = wallet - cashFow * (1 day interest)\n",
    "                wallet = (wallet + cashFlow)*(1+walletRate/365.0)\n",
    "            end\n",
    "            if i % 30 == 0\n",
    "                wallet += salary\n",
    "                walletBegin += p1(salary, walletRate/365., i)\n",
    "            end\n",
    "        end\n",
    "        return r(walletBegin, wallet, days)*365\n",
    "    end\n",
    "    \n",
    "    function strategyRunnerSummarizer()\n",
    "    end\n",
    "    return strategyRunner, strategyRunnerSummarizer\n",
    "end\n",
    "\n",
    "\n",
    "function configureStrategy1(myTls::Tls, rateThreshold::Float64, investDays::Int, redeemDays::Int, amount::Float64)\n",
    "    ll::FastList{Int} = myTls.ll\n",
    "    prices = myTls.prices\n",
    "    tradingDays = myTls.tradingDays\n",
    "    days::Int = investDays+redeemDays\n",
    "    startDay::Int64 = tradingDays[1]-1\n",
    "    nextDayIndex::Int64 = 1\n",
    "    function summarize()\n",
    "        \n",
    "    end\n",
    "    function strategy1(wallet::Float64, i::Int)\n",
    "        # if current day is a next trading day, then we dont do anything\n",
    "        if startDay + i != tradingDays[nextDayIndex]\n",
    "            return 0.\n",
    "        end\n",
    "        net::Float64 = 0.\n",
    "        for node in ll\n",
    "            dayBought::Int = node.data\n",
    "            daysHeld::Int = tradingDays[nextDayIndex] - tradingDays[dayBought]\n",
    "            net_today::Float64 = net_today_f2(amount, prices[dayBought], prices[nextDayIndex], daysHeld)\n",
    "            net_today = max(net_today, 1)\n",
    "            rate::Float64 = r(amount, net_today, daysHeld/365.0);\n",
    "            if rate > rateThreshold || i==days\n",
    "                del(ll, node)      \n",
    "                net += net_today\n",
    "            end\n",
    "        end\n",
    "        if i <= investDays && amount < wallet\n",
    "            push!(ll, nextDayIndex)\n",
    "            net -= amount\n",
    "        end\n",
    "        nextDayIndex += 1\n",
    "        return net\n",
    "    end\n",
    "    return summarize, strategy1\n",
    "end\n",
    "\n",
    "function priceGenerator()\n",
    "    μ=meanNiftyPerDay; σ=stdNiftyPerDay;\n",
    "    # apply the stupid correction\n",
    "    μ -= σ^2/2\n",
    "    function generate!(myTls::Tls)\n",
    "        weiner(myTls.days, μ, σ, myTls.prices, myTls.ϕ, myTls.dist)\n",
    "    end\n",
    "    return generate!\n",
    "end\n",
    "\n",
    "function glue()\n",
    "    runs::Int = 1000\n",
    "    tls = initializeTls(1000000)\n",
    "    generate! = configureOnce()\n",
    "    Threads.@threads for run::Int in 1:runs\n",
    "        tid = Threads.threadid()\n",
    "        myTls = tls[tid]\n",
    "        strategyRunner, strategySummarizer, strategyRunnerSummarizer = configure!(myTls, generate)\n",
    "        # this has the for loop for days\n",
    "        strategyRunner()\n",
    "        strategySummarizer()\n",
    "        strategyRunnerSummarizer()\n",
    "    end\n",
    "end\n",
    "\n",
    "function configureOnce()\n",
    "    return priceGenerator()\n",
    "end\n",
    "\n",
    "function configure!(myTls::Tls, generate!)\n",
    "    reset!(myTls.ll)\n",
    "    generate!(myTls)\n",
    "\n",
    "    investDays = 1000; redeemDays = 1000; rateThreshold = 0.1; amount = 1000;\n",
    "    summarize, strategy = configureStrategy1(myTls, rateThreshold, investDays, redeemDays, amount)\n",
    "    \n",
    "    wallet = 10000000.; walletRate = 0.; walletTax = 0.; salary=0.; days=investDays + redeemDays;\n",
    "    strategyRunner, strategyRunnerSummarizer = getStrategyRunner(wallet, walletRate, walletTax, salary, days, strategy)\n",
    "    \n",
    "    return strategyRunner, strategyRunnerSummarizer, strategySummarizer\n",
    "end\n"
   ]
  },
  {
   "cell_type": "code",
   "execution_count": null,
   "metadata": {},
   "outputs": [],
   "source": [
    "io = initLogging()\n",
    "# this strategy takes into account a \"wallet\" backed by a fixed deposit, which earns a risk free interest\n",
    "# and a periodic \"salary\" infusion every month. The effective rate is the rate which will make the initial\n",
    "# wallet equal to the final wallet\n",
    "# it also considers some rough accounting for tax. Fixed deposit at 30%, LTCG at 10% and STCG at 15%\n",
    "# this is WIP!!\n",
    "function strategy3(rateThreshold::Float64, investDays::Int, redeemDays::Int, ll::FastList{Int}, \n",
    "        tradingDays::AbstractVector{Int}, prices::AbstractVector{Float64})\n",
    "    days::Int = investDays+redeemDays\n",
    "    wallet::Float64 = 13000000;\n",
    "    walletRate::Float64 = 5.0/100.0\n",
    "    walletTax::Float64 = 0.7\n",
    "    salary::Float64 = 300000 \n",
    "    amount = 1000.0;\n",
    "    \n",
    "    maxDaysHeld::Int = 0;\n",
    "    minWallet = 0;\n",
    "    rateGeom::Float64 = 1.0;\n",
    "    totDaysHeld::Float64 = 0\n",
    "    reset!(ll)\n",
    "    \n",
    "    for i::Int in 1:days\n",
    "        for node in ll\n",
    "            dayBought::Int = node.data\n",
    "            daysHeld::Int = tradingDays[i] - tradingDays[dayBought]\n",
    "            net_today::Float64 = net_today_f(amount, prices[dayBought], prices[i], daysHeld)\n",
    "            net_today = max(net_today, 1)\n",
    "            rate::Float64 = r(amount, net_today, daysHeld/365.0);\n",
    "            if rate > rateThreshold || i==days\n",
    "                wallet += net_today\n",
    "                maxDaysHeld = max(maxDaysHeld, daysHeld);\n",
    "                totDaysHeld += daysHeld;\n",
    "                rateGeom = rateGeom * (1+rate)^(daysHeld/365);\n",
    "                del(ll, node)                \n",
    "            end\n",
    "        end\n",
    "        if i <= investDays\n",
    "            wallet -= amount\n",
    "            push!(ll, i)\n",
    "        end\n",
    "        minWallet = min(wallet, minWallet)\n",
    "\n",
    "    end\n",
    "    return rateGeom^(365.0/totDaysHeld) - 1, wallet;\n",
    "end\n",
    "# this strategy will invest 1000 everyday. And everyday, it will redeem all past investment that hit a rateThreshold.\n",
    "# this is done for investDays. After investDays, for an additional redeemDays, no more investment is made but existing investment \n",
    "# is tried to be redeemed\n",
    "function strategy1(rateThreshold::Float64, investDays::Int, redeemDays::Int, ll::FastList{Int}, \n",
    "        tradingDays::AbstractVector{Int}, prices::AbstractVector{Float64})\n",
    "    days::Int = investDays+redeemDays\n",
    "    wallet::Float64 = 0.0;\n",
    "    amount = 1000.0;\n",
    "    \n",
    "    maxDaysHeld::Int = 0;\n",
    "    minWallet = 0;\n",
    "    rateGeom::Float64 = 1.0;\n",
    "    totDaysHeld::Float64 = 0\n",
    "    reset!(ll)\n",
    "    \n",
    "    for i::Int in 1:days\n",
    "        for node in ll\n",
    "            dayBought::Int = node.data\n",
    "            daysHeld::Int = tradingDays[i] - tradingDays[dayBought]\n",
    "            net_today::Float64 = net_today_f(amount, prices[dayBought], prices[i], daysHeld)\n",
    "            net_today = max(net_today, 1)\n",
    "            rate::Float64 = r(amount, net_today, daysHeld/365.0);\n",
    "            if rate > rateThreshold || i==days\n",
    "                wallet += net_today\n",
    "                maxDaysHeld = max(maxDaysHeld, daysHeld);\n",
    "                totDaysHeld += daysHeld;\n",
    "                rateGeom = rateGeom * (1+rate)^(daysHeld/365);\n",
    "                del(ll, node)                \n",
    "            end\n",
    "        end\n",
    "        if i <= investDays\n",
    "            wallet -= amount\n",
    "            push!(ll, i)\n",
    "        end\n",
    "        minWallet = min(wallet, minWallet)\n",
    "\n",
    "    end\n",
    "    return rateGeom^(365.0/totDaysHeld) - 1, wallet;\n",
    "end\n",
    "\n",
    "#this strategy will simply invest 1000 everyday and redeem at the end of investDays+redeemDays. After which everything is redeemed.\n",
    "#redeemDays has no other special significance\n",
    "function strategy2_sip(rateThreshold::Float64, investDays::Int, redeemDays::Int, ll::FastList{Int}, \n",
    "        tradingDays::AbstractVector{Int}, prices::AbstractVector{Float64})\n",
    "    days::Int = investDays+redeemDays\n",
    "    wallet::Float64 = 0.0;\n",
    "    amount = 1000.0;\n",
    "    \n",
    "    maxDaysHeld::Int = 0;\n",
    "    minWallet = 0;\n",
    "    rateGeom::Float64 = 1.0;\n",
    "    totDaysHeld::Float64 = 0\n",
    "    reset!(ll)\n",
    "    \n",
    "    for i::Int in 1:days\n",
    "        wallet -= amount\n",
    "        push!(ll, i)\n",
    "        minWallet = min(wallet, minWallet)\n",
    "    end\n",
    "    \n",
    "    for node in ll\n",
    "        dayBought::Int = node.data\n",
    "        daysHeld::Int = tradingDays[days] - tradingDays[dayBought]\n",
    "        net_today::Float64 = net_today_f(amount, prices[dayBought], prices[days], daysHeld)\n",
    "        net_today = max(net_today, 1)\n",
    "        rate::Float64 = r(amount, net_today, daysHeld/365.0);\n",
    "        wallet += net_today\n",
    "        maxDaysHeld = max(maxDaysHeld, daysHeld);\n",
    "        totDaysHeld += daysHeld;\n",
    "        if(rateGeom != Inf && rateGeom * (1+rate)^(daysHeld/totDaysHeld) == Inf)\n",
    "            println(\"amount=$amount net_today=$net_today daysHeld=$daysHeld rate=$rate rateGeom=$rateGeom\")\n",
    "        end\n",
    "        rateGeom = rateGeom * (1+rate)^(daysHeld/totDaysHeld);\n",
    "        del(ll, node)                \n",
    "    end\n",
    "    return rateGeom - 1, wallet;\n",
    "end\n",
    "\n",
    "#this strategy will simply invest 1000 on day 1 and redeem it on investDays+redeemDays\n",
    "function strategy3_basic(rateThreshold::Float64, investDays::Int, redeemDays::Int, ll::FastList{Int}, \n",
    "        tradingDays::AbstractVector{Int}, prices::AbstractVector{Float64})\n",
    "    days::Int = investDays+redeemDays\n",
    "    amount = 1000.0;\n",
    "    wallet::Float64 = -amount;\n",
    "    dayBought::Int = 1\n",
    "    daysHeld::Int = days\n",
    "    net_today::Float64 = net_today_f(amount, prices[dayBought], prices[days], daysHeld)\n",
    "    net_today = max(net_today, 1)\n",
    "    rate::Float64 = r(amount, net_today, daysHeld/365.0);\n",
    "    wallet += net_today\n",
    "    return rate, wallet\n",
    "\n",
    "    \n",
    "end\n",
    "\n",
    "function simulateWeinerMulti(tls::Vector{Tls},  d::Dict{String, Point}, investDays::Int, redeemDays::Int)\n",
    "    runs::Int = 1000\n",
    "    \n",
    "    days = investDays + redeemDays; \n",
    "    results = Vector{Float64}(undef, 0)\n",
    "    rateGeoms = Vector{Float64}(undef, 0)\n",
    "    \n",
    "    \n",
    "    rateThreshold::Float64 = .15; μ=meanNiftyPerDay; σ=stdNiftyPerDay;\n",
    "    # apply the stupid correction\n",
    "    μ -= σ^2/2\n",
    "    prices=Vector{Float64}(undef, days);\n",
    "    tradingDays = collect(1:days)\n",
    "    \n",
    "    lk = Threads.SpinLock()\n",
    "    printed = false\n",
    "    traces = Vector{Any}(undef, 0)\n",
    "    Threads.@threads for run::Int in 1:runs\n",
    "        tid = Threads.threadid()\n",
    "        myTls = tls[tid]\n",
    "        brk = false\n",
    "        weiner(days, μ, σ, myTls.prices, myTls.ϕ, myTls.dist)\n",
    "        # copy!(myTls.prices, saved)\n",
    "        reset!(myTls.ll)\n",
    "        rateGeom, wallet = strategy3_basic(rateThreshold, investDays, redeemDays, myTls.ll, tradingDays, myTls.prices)\n",
    "# trace1 = scatter(x=1:length(d[\"^NSEI\"].intDates), y=d[\"^NSEI\"].prices,\n",
    "#                     mode=\"lines+markers\",\n",
    "#                     name=\"nifty 50\")\n",
    "        lock(lk) do\n",
    "            if wallet < 0\n",
    "                push!(traces, (scatter(x=1:days, y=myTls.prices[1:days], mode=\"lines\n",
    "                        \", name=\"$wallet\"), wallet))\n",
    "            end\n",
    "            push!(results, wallet)\n",
    "            push!(rateGeoms, rateGeom)\n",
    "        end\n",
    "    end\n",
    "    \n",
    "    tracesList = Vector{GenericTrace}(undef, 0)\n",
    "    sort!(traces, by=x -> x[2], rev=true)\n",
    "    \n",
    "    count = 0\n",
    "    # for i in 1:length(traces)\n",
    "    #     count+=1\n",
    "    #     push!(tracesList, traces[i][1])\n",
    "    #     if count > 10\n",
    "    #         display(plot(tracesList))\n",
    "    #         empty!(tracesList)\n",
    "    #         count = 0\n",
    "    #     end\n",
    "    # end\n",
    "    # display(plot(tracesList))\n",
    "    \n",
    "        \n",
    "    display( plot([histogram(x=results)]))\n",
    "    display(plot([histogram(x=rateGeoms)]))\n",
    "    println(\"mean is $(mean(results)), stdev is $(std(results))\")\n",
    "    println(\"mean is $(mean(rateGeoms)), stdev is $(std(rateGeoms))\")\n",
    "    println(\"amount invested is $(1000*days)\")\n",
    "end\n",
    "\n",
    "\n",
    "@time simulateWeinerMulti(tls, d, 365*10, 0)\n",
    "# may 5th 2017 to nov 24 2017\n",
    "flush(io)"
   ]
  },
  {
   "cell_type": "code",
   "execution_count": null,
   "metadata": {},
   "outputs": [],
   "source": [
    "typeof([scatter(x=1:4, y=1:4)])"
   ]
  },
  {
   "cell_type": "code",
   "execution_count": null,
   "metadata": {},
   "outputs": [],
   "source": [
    "function rare(mean::Float64, std::Float64, movement::Float64)\n",
    "    return 1-cdf(Normal(mean, std), movement)\n",
    "end\n"
   ]
  },
  {
   "cell_type": "code",
   "execution_count": null,
   "metadata": {},
   "outputs": [],
   "source": [
    "rare(.077, 0.06, (abs(0.077 - (.13))))"
   ]
  },
  {
   "cell_type": "markdown",
   "metadata": {},
   "source": [
    "The following graph is interesting. the red is the start time where the returns are negative. we can infer that it happened because of the market crash in 2020"
   ]
  },
  {
   "cell_type": "code",
   "execution_count": null,
   "metadata": {},
   "outputs": [],
   "source": [
    "trace1 = scatter(x=1:length(d[\"^NSEI\"].intDates), y=d[\"^NSEI\"].prices,\n",
    "                    mode=\"lines+markers\",\n",
    "                    name=\"nifty 50\")\n",
    "trace2 = scatter(x=1587:1660, y=d[\"^NSEI\"].prices[1587:1660],\n",
    "                    mode=\"lines+markers\",\n",
    "                    name=\"start times where the returns are negative\")\n",
    "add = 4*365\n",
    "trace3 = scatter(x=(1587+add):(1660+add), y=d[\"^NSEI\"].prices[(1587+add):(1660+add)],\n",
    "                    mode=\"lines+markers\",\n",
    "    name=\"end times of the start times\")\n",
    "\n",
    "println(typeof(trace1))\n",
    "plot([trace1, trace2, trace3])\n"
   ]
  },
  {
   "cell_type": "code",
   "execution_count": null,
   "metadata": {},
   "outputs": [],
   "source": [
    "trace1 = scatter(x=d[\"^NSEI\"].dates, y=d[\"^NSEI\"].prices,\n",
    "                    mode=\"lines+markers\",\n",
    "                    name=\"nifty 50\")\n",
    "\n",
    "plot([trace1])"
   ]
  },
  {
   "cell_type": "code",
   "execution_count": null,
   "metadata": {},
   "outputs": [],
   "source": [
    "# input, an array of prices\n",
    "# output, an array of rates, where rate[i] = price[i]-price[i-1]*100/price[i-1]\n",
    "function rates(ppp::Vector{Float64}, func)\n",
    "    diffs = Vector{Float64}(undef, 0)\n",
    "    for i in 2:length(ppp)\n",
    "        push!(diffs,func(ppp[i-1], ppp[i]))\n",
    "    end\n",
    "    return diffs\n",
    "end\n",
    "\n",
    "function interest1(a::Float64, b::Float64)\n",
    "    # this is actually equivalent to log(b/a)\n",
    "    return log((1+log(b/a))^365) / 365\n",
    "end\n",
    "\n",
    "function interest2(a::Float64, b::Float64)\n",
    "    # this is also equivalent to log(b/a)\n",
    "    return (b-a)/a\n",
    "end\n",
    "\n",
    "#something weird\n",
    "function interest3(a::Float64, b::Float64)\n",
    "    return log(1+r(a, b, 1/365.0))/365\n",
    "end\n",
    "\n",
    "#this is the correct interest\n",
    "function interest4(a::Float64, b::Float64)\n",
    "    return log(b/a)\n",
    "end\n",
    "\n",
    "#prints the daily histogram of the stock\n",
    "function analyse_nse(d::Dict{String, Point})\n",
    "    p = d[\"^NSEI\"]\n",
    "    dates, prices, intDates = (p.dates, p.prices, p.intDates)\n",
    "#     diffs = rates(prices)\n",
    "    #histogram(diffs)\n",
    "#     ptiles = nquantile(diffs, 100)[40:60]\n",
    "#     plot((1:100)[40:60], ptiles)\n",
    "#     l = length(diffs)\n",
    "    println(\"interest1 mean is $(mean(rates(prices, interest1))) std is $(std(rates(prices, interest1)))\");\n",
    "    println(\"interest2 mean is $(mean(rates(prices, interest2))) std is $(std(rates(prices, interest2)))\");\n",
    "    # println(\"interest3 mean is $(mean(rates(prices, interest3))) std is $(std(rates(prices, interest3)))\");\n",
    "    mn = mean(rates(prices, interest4))\n",
    "    sgm = std(rates(prices, interest4))\n",
    "    rmn = mn + sgm*sgm/2\n",
    "    println(\"interest4 mean is $(mean(rates(prices, interest4))) std is $(std(rates(prices, interest4)))\");\n",
    "    println(\"meanNiftyPerDay is $rmn and stdNiftyPerDay is $sgm\")\n",
    "#     plot([histogram(x=sort!(diffs)[trunc(Int, l/4):trunc(Int, 3l/4)], nbins=50)])\n",
    "#     plot([histogram(x=diffs, nbins=100)])\n",
    "\n",
    "end\n",
    "analyse_nse(d)"
   ]
  },
  {
   "cell_type": "markdown",
   "metadata": {},
   "source": [
    "# The following graph plots the yearwise mean and std deviation of nifty"
   ]
  },
  {
   "cell_type": "code",
   "execution_count": null,
   "metadata": {},
   "outputs": [],
   "source": [
    "#fuck\n",
    "function analyse_nse(d::Dict{String, Point})\n",
    "    p = d[\"^NSEI\"]\n",
    "    dates, prices, intDates = (p.dates, p.prices, p.intDates)\n",
    "    hashes = Dict{Int64, Vector{Float64}}()\n",
    "    for i in 1:length(dates)\n",
    "        year = Dates.year(dates[i])\n",
    "        if !haskey(hashes, year)\n",
    "            hashes[year] = Vector{Float64}(undef, 0)\n",
    "        end\n",
    "        push!(hashes[year], prices[i])\n",
    "    end\n",
    "    years = Vector{Int}(undef, 0)\n",
    "    means = Vector{Float64}(undef, 0)\n",
    "    stds = Vector{Float64}(undef, 0)\n",
    "    for year in sort!(collect(keys(hashes)))\n",
    "        ar = filter(x -> !isnan(x), rates(hashes[year]))\n",
    "        push!(means, mean(ar))\n",
    "        push!(stds, std(ar))\n",
    "        push!(years, year)\n",
    "    end\n",
    "    println(\"mean is entire nifty is $(mean(rates(prices))) and std of entire nifty is $(std(rates(prices)))\")\n",
    "    plot(scatter(x=years, y=means,  mode=\"lines+markers\",   error_y=attr(\n",
    "        type=\"data\",\n",
    "        array=stds\n",
    "    )))\n",
    "end\n",
    "analyse_nse(d)"
   ]
  },
  {
   "cell_type": "code",
   "execution_count": null,
   "metadata": {
    "tags": []
   },
   "outputs": [],
   "source": [
    "#Prints the biggest losers in the set of stock since now()-days to now()\n",
    "function losers(d::Dict{String, Point}, stocks::Vector{String}, days::Int)\n",
    "    rates = Vector{@NamedTuple{stock::String, rate::Float64}}(undef, 0)\n",
    "    for stock in stocks\n",
    "        if !haskey(d, stock)\n",
    "            continue\n",
    "        end\n",
    "        a = d[stock].prices[end-days]\n",
    "        b = d[stock].prices[end]\n",
    "        rate = (b-a)*100/a\n",
    "        push!(rates, (stock=stock, rate=rate))\n",
    "    end\n",
    "    sort!(rates, by=tup->tup.rate)\n",
    "    return rates\n",
    "end\n",
    "losers(d, labelToCompany[\"niftysmallcap50\"], 45)"
   ]
  },
  {
   "cell_type": "code",
   "execution_count": null,
   "metadata": {},
   "outputs": [],
   "source": [
    "Vector{@NamedTuple{a::Int, b::String}}"
   ]
  },
  {
   "cell_type": "markdown",
   "metadata": {},
   "source": [
    "# Experimentation on multidimensional array speeds\n",
    "\n",
    "array iteration speed is about 1 billion per second. insane."
   ]
  },
  {
   "cell_type": "code",
   "execution_count": null,
   "metadata": {},
   "outputs": [],
   "source": [
    "function test(ar::Array{Int64})\n",
    "    sum = 0\n",
    "    for i in 1:1000\n",
    "        for j in 2:length(ar)\n",
    "            sum+=ar[j]\n",
    "#             ar[j]+=ar[j-1]\n",
    "        end\n",
    "    end\n",
    "    return sum\n",
    "end\n",
    "time_sum(x) = @time test(x);\n",
    "time_sum(ar)\n",
    "println(typeof(ar), size(ar))\n"
   ]
  },
  {
   "cell_type": "markdown",
   "metadata": {},
   "source": [
    "# Speeds of DataFrames\n",
    "fucking dataframes is not type stable so it is 100-1000x slower than array iteration and allocates a large amount of memory\n",
    "\n",
    "There are several table like structures in julia (mostly third parties, several of them seem to be overlapping a lot in functionality)\n",
    "The best one seems to be IndexedTable. it is type stable. It is implementated as a NamedTuple of vectors but acts like a vector of NamedTuples.\n",
    "Of course, the fastest and most native is just NamedTuple. But it seems like a NamedTuple (and also IndexedTable) with many columns might stress the compiler (havent tested it)\n",
    "\n",
    "IndexedTable constructor *copies* the data from the NamedTuple constructor param to create the new IndexedTable. However, invoking `IndexedTable.columns ` returns a NamedTuple *view* of the IndexedTable which is perfect for arbitrary iteration and modifications.\n",
    "\n",
    "btw, the nomenclature is really fucked up.\n",
    "- [Julia Data](https://github.com/JuliaDatahttps://github.com/JuliaData) is the name for all built in table like structures in Julia. They all seem to respect the Tables.jl interface\n",
    "- [JuliaDB](https://juliadata.github.io/JuliaDB.jl/latest/https://juliadata.github.io/JuliaDB.jl/latest/) is one particular table like structure in Julia Data. It is built on `IndexedTables` (seems like both are synonymous). This is the best since it is type stable\n",
    "- [DataFrames](https://github.com/JuliaData/DataFrames.jlhttps://github.com/JuliaData/DataFrames.jl) is a slow and fucked up implementation in Julia Data. It is feature rich but fucking slow\n",
    "- [Julia Databases](https://juliadatabases.github.io/https://juliadatabases.github.io/) collects various drivers for different databases like Mysql, postgres, sqlite. seems like all of them can stream to a tables.jl constructor\n",
    "\n",
    "A good summary of all the shit can be found [here](https://www.juliabloggers.com/a-tour-of-the-data-ecosystem-in-julia/https://www.juliabloggers.com/a-tour-of-the-data-ecosystem-in-julia/) from the author of CSV.jl"
   ]
  },
  {
   "cell_type": "code",
   "execution_count": null,
   "metadata": {},
   "outputs": [],
   "source": [
    "function testDataFrame(df::DataFrame)\n",
    "    ar::Array{Int64} = df.a\n",
    "    sum = 0\n",
    "    for i::Int64 in 1:1000\n",
    "        for j in 1:length(ar)\n",
    "            sum+=ar[j]\n",
    "        end\n",
    "    end\n",
    "    return sum\n",
    "end\n",
    "\n",
    "\n",
    "# println(typeof(df))\n",
    "time_sum(df) = @time testDataFrame(df);\n",
    "time_sum(df)\n"
   ]
  },
  {
   "cell_type": "code",
   "execution_count": null,
   "metadata": {},
   "outputs": [],
   "source": [
    "sql = \"\"\"select symbol , array_agg(name)as names from indices i group by symbol \"\"\"\n",
    "result = execute(conn, sql)\n",
    "println(show_supertypes(typeof(result)))\n",
    "df = result |> JuliaDB.table\n",
    "\n",
    "l = length(df)\n",
    "order = splt(\"\"\"\n",
    "nifty-50\n",
    "nifty-next-50\n",
    "nifty-midcap-50\n",
    "nifty-midcap-100\n",
    "nifty-midcap-150\n",
    "niftysmallcap50\n",
    "nifty-smallcap-100\n",
    "nifty-smallcap-250\n",
    "\n",
    "    \"\"\")\n",
    "println(order)\n",
    "companyToLabel = Dict{String, String}()\n",
    "labelToCompany = Dict{String, Vector{String}}()\n",
    "for i in 1:l\n",
    "    company = df[i].symbol\n",
    "    names = splt(df[i].names[2:end-1], \",\")\n",
    "    for label in order\n",
    "        if findfirst(x->x==label, names) != nothing\n",
    "            companyToLabel[company] = label\n",
    "            if !haskey(labelToCompany, label)\n",
    "                labelToCompany[label] = Vector{String}(undef, 0)\n",
    "            end\n",
    "            push!(labelToCompany[label], company)\n",
    "            @goto label\n",
    "        end\n",
    "    end\n",
    "    companyToLabel[company] = names[1]\n",
    "    @label label\n",
    "end"
   ]
  },
  {
   "cell_type": "code",
   "execution_count": null,
   "metadata": {},
   "outputs": [],
   "source": [
    "lbl = \"niftysmallcap50\"\n",
    "print(labelToCompany[lbl])\n",
    "print(length(labelToCompany[lbl]))"
   ]
  },
  {
   "cell_type": "code",
   "execution_count": null,
   "metadata": {
    "tags": []
   },
   "outputs": [],
   "source": [
    "data = table((symbol=Vector{String}(undef, 0), company=Vector{String}(undef, 0), prob=Vector{Float64}(undef, 0), label=Vector{String}(undef, 0)))\n"
   ]
  },
  {
   "cell_type": "code",
   "execution_count": null,
   "metadata": {},
   "outputs": [],
   "source": [
    "show_supertypes(typeof(rows(data)))"
   ]
  },
  {
   "cell_type": "code",
   "execution_count": null,
   "metadata": {},
   "outputs": [],
   "source": [
    " sa = StructArray([1+im, 3-2im])"
   ]
  },
  {
   "cell_type": "code",
   "execution_count": null,
   "metadata": {},
   "outputs": [],
   "source": [
    "tt = table(1:10, randn(10), rand(Bool, 10); names = [:x, :y, :z])\n"
   ]
  },
  {
   "cell_type": "code",
   "execution_count": null,
   "metadata": {},
   "outputs": [],
   "source": [
    "push!(rows(tt), (x=1, y=1.1, z=true))"
   ]
  },
  {
   "cell_type": "code",
   "execution_count": null,
   "metadata": {},
   "outputs": [],
   "source": [
    "select(tt, :x)"
   ]
  },
  {
   "cell_type": "markdown",
   "metadata": {},
   "source": [
    "# Threads"
   ]
  },
  {
   "cell_type": "code",
   "execution_count": null,
   "metadata": {},
   "outputs": [],
   "source": [
    "show_supertypes(typeof(view(Vector{Int}(undef, 10), 1:3)))"
   ]
  },
  {
   "cell_type": "code",
   "execution_count": null,
   "metadata": {},
   "outputs": [],
   "source": [
    "for m in methods(oneRun)\n",
    "    Base.delete_method(m)\n",
    "end"
   ]
  },
  {
   "cell_type": "code",
   "execution_count": null,
   "metadata": {},
   "outputs": [],
   "source": [
    "function monteCarlo()\n",
    "    runs::Int = 10000\n",
    "    days::Int = 1000\n",
    "    s::Vector{Float64} = Vector{Float64}(undef, days)\n",
    "    ϕ::Vector{Float64} = Vector{Float64}(undef, days)\n",
    "    dist::Normal = Normal(0, 1)\n",
    "    μ::Float64, σ::Float64 = meanNiftyPerDay, stdNiftyPerDay\n",
    "    last::Vector{Float64} = Vector{Float64}(undef, runs)\n",
    "    for run::Int in 1:runs\n",
    "        weiner(days, μ, σ, s, ϕ, dist)\n",
    "        last[run] = s[end]\n",
    "    end\n",
    "    plot([histogram(x=last)])\n",
    "end\n",
    "function plotWeiner()\n",
    "    days::Int = 1000\n",
    "    s::Vector{Float64} = Vector{Float64}(undef, days)\n",
    "    ϕ::Vector{Float64} = Vector{Float64}(undef, days)\n",
    "    dist::Normal = Normal(0, 1)\n",
    "    μ::Float64, σ::Float64 = meanNiftyPerDay, stdNiftyPerDay\n",
    "    x = 1:days\n",
    "    y = weiner(days, μ, σ, s, ϕ, dist)\n",
    "    display(plot(histogram(x=s)))\n",
    "    mn = 100*exp(meanNiftyPerDay*days)\n",
    "    st = 100*100*exp(2*meanNiftyPerDay*days)*(exp(stdNiftyPerDay*stdNiftyPerDay*days) - 1)\n",
    "    rmn = mean(s)\n",
    "    rstd = std(rmn)\n",
    "    println(\"predicted mean is $mn. montecarlo mean is $rmn\")\n",
    "    println(\"predicted std is $st. montecarlo std is $rstd\")\n",
    "end\n",
    "plotWeiner()"
   ]
  },
  {
   "cell_type": "code",
   "execution_count": null,
   "metadata": {},
   "outputs": [],
   "source": []
  },
  {
   "cell_type": "markdown",
   "metadata": {},
   "source": [
    "this produces a csv with the following columsn:\n",
    "symbol, mean, stdev, 0%ile, 5%ile, ... 100%ile\n",
    "the values are daily percent changes\n",
    "we can observe the following:\n",
    "\n",
    "* the average is always around 50%ile\n",
    "* according to statistics theory, 1 stdev = 68%. If we consider the positive half, this is 34%. so the value of 1 stdev is expected to occur near 50+34 =85%ile. and this is indeed the case."
   ]
  },
  {
   "cell_type": "code",
   "execution_count": null,
   "metadata": {},
   "outputs": [],
   "source": [
    "#this produces a csv with the following columsn:\n",
    "#symbol, mean, stdev, 0%ile, 5%ile, ... 100%ile\n",
    "#the values are daily percent changes\n",
    "#days: the rate calculated for last how many days? \n",
    "function means(d::Dict{String, Point}, days::Int ,csv::String)\n",
    "#     sql = \"\"\"select distinct symbol from indices i where name like '%nifty-50%' and name not like '%nifty-500%' \"\"\"\n",
    "    sql = \"\"\"select distinct symbol from indices i \"\"\"\n",
    "#     sql = \"\"\"select distinct symbol from indices i where name like '%nifty-next-50%' \"\"\"\n",
    "    result = execute(conn, sql)\n",
    "    df = result |> JuliaDB.table\n",
    "\n",
    "    # percentiles\n",
    "    ptiles = OrderedDict{Symbol, Vector{Float64}}()\n",
    "    num_ptiles = 20\n",
    "    for i in 1:(num_ptiles+1)\n",
    "        ptiles[Symbol(string(trunc(Int64, 100*i/num_ptiles)))] = Vector{Float64}(undef, 0)\n",
    "    end\n",
    "\n",
    "    # means\n",
    "    mns = Vector{Float64}(undef, 0)\n",
    "\n",
    "    symbols = Vector{String}(undef, 0)\n",
    "    # standard deviations\n",
    "    sts = Vector{Float64}(undef, 0)\n",
    "\n",
    "    for i in 1:length(df)\n",
    "        if !haskey(d, df[i].symbol)\n",
    "            println(\"dict does not have key for $(df[i].symbol)\")\n",
    "            continue\n",
    "        end\n",
    "\n",
    "        p = d[df[i].symbol]\n",
    "        dates, prices, intDates = (p.dates, p.prices, p.intDates)\n",
    "        diffs = Vector{Float64}(undef, 0)\n",
    "        if length(intDates) < days + 2\n",
    "            continue\n",
    "        end\n",
    "        for i in days+1:length(intDates)\n",
    "#             if intDates[i] == intDates[i-1] + 1\n",
    "#                 rate = r(prices[i-1], prices[i], 1)*100\n",
    "#                 push!(diffs, rate)\n",
    "#             end\n",
    "            rate = (prices[i]-prices[i-days])*100/prices[i]\n",
    "            push!(diffs, rate)\n",
    "        end\n",
    "        if length(diffs) == 0\n",
    "            println(\"$(df[i].symbol) has no diffs\")\n",
    "            continue\n",
    "        end\n",
    "        push!(symbols, df[i].symbol)\n",
    "        push!(mns, round(mean(diffs), digits=2))\n",
    "        push!(sts, round(std(diffs), digits=2))\n",
    "        quantiles = nquantile(diffs, num_ptiles)\n",
    "        for j in 1:length(quantiles)\n",
    "            push!(ptiles[Symbol(string(trunc(Int64, 100*j/num_ptiles)))], round(quantiles[j], digits=2))\n",
    "        end\n",
    "    end\n",
    "    # println(\"$(size(select(df, :symbol))) and $(size(mns))\")\n",
    "    df = JuliaDB.table((symbol=symbols, mean=mns, stdev=sts))\n",
    "    df = insertcols(df, 4, ptiles)\n",
    "    CSV.write(csv, df)\n",
    "end\n",
    "means(d, 45, \"nifty_50_last_45_days.csv\")"
   ]
  },
  {
   "cell_type": "code",
   "execution_count": null,
   "metadata": {},
   "outputs": [],
   "source": [
    "methods(JuliaDB.rename)"
   ]
  },
  {
   "cell_type": "code",
   "execution_count": null,
   "metadata": {},
   "outputs": [],
   "source": [
    "N = 100\n",
    "random_x = range(0, stop=1, length=N)\n",
    "random_y0 = randn(N) .+ 5\n",
    "random_y1 = randn(N)\n",
    "random_y2 = randn(N) .- 5\n",
    "\n",
    "# Create traces\n",
    "trace1 = scatter(x=random_x, y=random_y0,\n",
    "                    mode=\"lines\",\n",
    "                    name=\"lines\")\n",
    "trace2 = scatter(x=random_x, y=random_y1,\n",
    "                    mode=\"lines+markers\",\n",
    "                    name=\"lines+markers\")\n",
    "trace3 = scatter(x=random_x, y=random_y2,\n",
    "                    mode=\"markers\", name=\"markers\")\n",
    "\n",
    "plot([trace1, trace2, trace3])"
   ]
  },
  {
   "cell_type": "code",
   "execution_count": null,
   "metadata": {},
   "outputs": [],
   "source": [
    "methods(JuliaDB.table)"
   ]
  },
  {
   "cell_type": "markdown",
   "metadata": {},
   "source": [
    "# Experimenting with julia dates"
   ]
  },
  {
   "cell_type": "code",
   "execution_count": null,
   "metadata": {},
   "outputs": [],
   "source": [
    "date1 = DateTime(2022, 01, 01)\n",
    "date2 = DateTime(2022, 01, 13)\n",
    "println(\"date1 is $(date1), date2 is $(date2)\")\n",
    "println(\"year is $(Dates.year(date1)), type is $(typeof(Dates.year(date1)))\")"
   ]
  },
  {
   "cell_type": "markdown",
   "metadata": {},
   "source": [
    "# Experiment with CDF\n"
   ]
  },
  {
   "cell_type": "code",
   "execution_count": null,
   "metadata": {},
   "outputs": [],
   "source": [
    "# this is a normal distribution with stdev=1\n",
    "# cdf(dist, 1) is the probability of entire left half + normal distribution before x=1\n",
    "# for normal distribution, 68% lies   thin 1 standard deviation. so cdf(dist, 1) = 50% (left half) + 1/2 * 68 (right half) = 84%\n",
    "dist = Normal(0, 1)\n",
    "cdf(dist, 1)\n"
   ]
  },
  {
   "cell_type": "markdown",
   "metadata": {},
   "source": [
    "# Experiment with error bars"
   ]
  },
  {
   "cell_type": "code",
   "execution_count": null,
   "metadata": {},
   "outputs": [],
   "source": [
    "plot(scatter(\n",
    "    x=[1, 2, 3, 4],\n",
    "    y=[2, 1, 3, 4],\n",
    "    mode=\"markers\",\n",
    "    error_y=attr(\n",
    "        type=\"data\",\n",
    "        array=[1,2,3,4]\n",
    "    )\n",
    "))\n"
   ]
  },
  {
   "cell_type": "code",
   "execution_count": null,
   "metadata": {},
   "outputs": [],
   "source": [
    "dates, prices, intDates = d[\"^NSEI\"].dates, d[\"^NSEI\"].prices, d[\"^NSEI\"].intDates\n",
    "convert(Dates.Day, dates[365*4+500] - dates[500]).value/365"
   ]
  },
  {
   "cell_type": "code",
   "execution_count": null,
   "metadata": {},
   "outputs": [],
   "source": [
    "r(6483, 7977, (1952-1587)/365)"
   ]
  },
  {
   "cell_type": "code",
   "execution_count": null,
   "metadata": {},
   "outputs": [],
   "source": [
    "p2(6487, .23, 1)"
   ]
  },
  {
   "cell_type": "code",
   "execution_count": null,
   "metadata": {},
   "outputs": [],
   "source": [
    "6487*1.23\n"
   ]
  },
  {
   "cell_type": "code",
   "execution_count": null,
   "metadata": {},
   "outputs": [],
   "source": [
    "a = 16682.65\n",
    "b = 16411.25\n",
    "# compounded daily\n",
    "c = (b-a)/a \n",
    "# continous compounding, almost same as compounded daily\n",
    "dd = log(b/a)\n",
    "# yearly rate assuming compounded daily. Should be 365 times compounded daily \n",
    "e = r(a, b, 1/365.0) \n",
    "# should be almost same as e^(365*dd) - 1\n",
    "f = (1+dd)^365-1\n",
    "# compounded daily\n",
    "g = r(a, b, 1)\n",
    "println(\"$c  $dd $e $f $g\")"
   ]
  },
  {
   "cell_type": "code",
   "execution_count": null,
   "metadata": {},
   "outputs": [],
   "source": [
    "rr = -0.016268398605737183\n",
    "println((1+rr)^365)\n",
    "println(exp(365*rr))"
   ]
  },
  {
   "cell_type": "code",
   "execution_count": null,
   "metadata": {},
   "outputs": [],
   "source": [
    "\n",
    "function weiner2(days::Int, μ::Float64, σ::Float64, s::Vector{Float64}, \n",
    "        ϕ::Vector{Float64}, dist::Normal{Float64})\n",
    "    s[1] = 100\n",
    "    rand!(dist, ϕ)\n",
    "    for i::Int in 2:days\n",
    "        s[i] = s[i-1]*exp(ϕ[i])\n",
    "    end  \n",
    "    return s, ϕ\n",
    "end\n",
    "function weiner3(days::Int, μ::Float64, σ::Float64, s::Vector{Float64}, \n",
    "        ϕ::Vector{Float64}, dist::Normal{Float64})\n",
    "    logμ = (μ-σ^2/2)*days\n",
    "    logσ = σ*sqrt(days)\n",
    "    s[end] = 100*rand(LogNormal(logμ, logσ))\n",
    "    return s\n",
    "end\n",
    "function howGood(s::Vector{Float64}, μ::Float64, σ::Float64)\n",
    "    s1 = Vector{Float64}(undef, length(s)-1)\n",
    "    for i in 1:length(s)-1\n",
    "        s1[i] = log(s[i+1]/s[i])\n",
    "    end\n",
    "    println(\"for interest rates predicted mean is $(μ-σ^2/2). montecarlo mean is $(mean(s1))\")\n",
    "    println(\"for interest rates predicted std is $σ. montecarlo mean is $(std(s1))\")\n",
    "\n",
    "end\n",
    "\n",
    "days = 1000\n",
    "runs = 1\n",
    "μ, σ = meanNiftyPerDay, stdNiftyPerDay\n",
    "s, ϕ, results = Vector{Float64}(undef, days), Vector{Float64}(undef, days), Vector{Float64}(undef, runs)\n",
    "for i in 1:runs\n",
    "    weiner(days, μ-σ^2/2, σ, s, ϕ, Normal(0, 1))\n",
    "    results[i] = s[end]\n",
    "end\n",
    "# println(results)\n",
    "mn = 100*exp(μ*days)\n",
    "st = 100*exp(μ*days)*sqrt(exp(σ*σ*days) - 1)\n",
    "rmn = mean(results)\n",
    "rstd = std(results)\n",
    "println(\"predicted mean is $mn. montecarlo mean is $rmn\")\n",
    "println(\"predicted std is $st. montecarlo std is $rstd\")\n",
    "howGood(s, μ, σ)\n",
    "plot(1:days, s)"
   ]
  },
  {
   "cell_type": "code",
   "execution_count": null,
   "metadata": {},
   "outputs": [],
   "source": [
    "r(3380, 3901, 827*2/365)"
   ]
  },
  {
   "cell_type": "code",
   "execution_count": null,
   "metadata": {},
   "outputs": [],
   "source": [
    "function datediff(a::String, b::String)\n",
    "    df = DateFormat(\"y-m-d\");\n",
    "    dta = Date(a, df)\n",
    "    dtb = Date(b, df)\n",
    "    return abs(Dates.value(convert(Dates.Day, dtb-dta)))\n",
    "end"
   ]
  },
  {
   "cell_type": "code",
   "execution_count": null,
   "metadata": {},
   "outputs": [],
   "source": [
    "(meanNiftyPerDay - (stdNiftyPerDay^2)/2)*365"
   ]
  },
  {
   "cell_type": "code",
   "execution_count": null,
   "metadata": {},
   "outputs": [],
   "source": []
  },
  {
   "cell_type": "code",
   "execution_count": null,
   "metadata": {},
   "outputs": [],
   "source": [
    "ch = Channel{Int64}()\n",
    "function producer(ch::Channel{Int64})\n",
    "    count::Int64 = 0\n",
    "    start = time_ns()\n",
    "    while true\n",
    "        put!(ch, count)\n",
    "        count+=1\n",
    "        if((count & 511) == 0)\n",
    "            now = time_ns()\n",
    "            if(now - start > 2.0e9)\n",
    "                start = now\n",
    "                println(\"producer count is $count\")\n",
    "                flush(stdout)\n",
    "            end\n",
    "        end\n",
    "    end\n",
    "end\n",
    "\n",
    "function consumer(ch::Channel{Int64})\n",
    "    start = time_ns()\n",
    "    while true\n",
    "        count::Int64 = take!(ch)\n",
    "        if((count & 511) == 0)\n",
    "            now = time_ns()\n",
    "            if(now - start > 2.0e9)\n",
    "                start = now\n",
    "                println(\"consumer count is $count\")\n",
    "                flush(stdout)\n",
    "            end\n",
    "        end\n",
    "    end\n",
    "end\n",
    "\n",
    "p = @async producer(ch)\n",
    "c = @async consumer(ch)\n",
    "#take!(ch)"
   ]
  },
  {
   "cell_type": "code",
   "execution_count": 25,
   "metadata": {},
   "outputs": [
    {
     "data": {
      "text/plain": [
       "quote\n",
       "    abstract type BaseStrategy <: Any end\n",
       "    struct Concrete_BaseStrategy <: BaseStrategy\n",
       "        \u001b[90m#= In[25]:2 =#\u001b[39m\n",
       "        a::Int\n",
       "    end\n",
       "    BaseStrategy(args...; kw...) = begin\n",
       "            \u001b[90m#= /home/sharath/.julia/packages/ReusePatterns/aqyky/src/ReusePatterns.jl:429 =#\u001b[39m\n",
       "            Concrete_BaseStrategy(args...; kw...)\n",
       "        end\n",
       "    ReusePatterns.concretetype(::Type{BaseStrategy}) = begin\n",
       "            \u001b[90m#= /home/sharath/.julia/packages/ReusePatterns/aqyky/src/ReusePatterns.jl:433 =#\u001b[39m\n",
       "            Concrete_BaseStrategy\n",
       "        end\n",
       "    ReusePatterns.isquasiabstract(::Type{BaseStrategy}) = begin\n",
       "            \u001b[90m#= /home/sharath/.julia/packages/ReusePatterns/aqyky/src/ReusePatterns.jl:434 =#\u001b[39m\n",
       "            true\n",
       "        end\n",
       "    ReusePatterns.isquasiconcrete(::Type{Concrete_BaseStrategy}) = begin\n",
       "            \u001b[90m#= /home/sharath/.julia/packages/ReusePatterns/aqyky/src/ReusePatterns.jl:435 =#\u001b[39m\n",
       "            true\n",
       "        end\n",
       "end"
      ]
     },
     "execution_count": 25,
     "metadata": {},
     "output_type": "execute_result"
    }
   ],
   "source": [
    "@macroexpand @quasiabstract struct BaseStrategy\n",
    "    a::Int\n",
    "end\n"
   ]
  },
  {
   "cell_type": "code",
   "execution_count": 57,
   "metadata": {},
   "outputs": [
    {
     "data": {
      "text/html": [
       "# 2 methods for type constructor:<ul><li> FuckMe(a::<b>Int64</b>) in Main at In[57]:2</li> <li> FuckMe(a) in Main at In[57]:2</li> </ul>"
      ],
      "text/plain": [
       "# 2 methods for type constructor:\n",
       "[1] FuckMe(a::Int64) in Main at In[57]:2\n",
       "[2] FuckMe(a) in Main at In[57]:2"
      ]
     },
     "execution_count": 57,
     "metadata": {},
     "output_type": "execute_result"
    }
   ],
   "source": [
    "struct FuckMe\n",
    "    a::Int\n",
    "end\n",
    "methods(FuckMe)"
   ]
  },
  {
   "cell_type": "code",
   "execution_count": 52,
   "metadata": {},
   "outputs": [
    {
     "data": {
      "text/plain": [
       "fuck"
      ]
     },
     "execution_count": 52,
     "metadata": {},
     "output_type": "execute_result"
    }
   ],
   "source": [
    "abstract type fuck\n",
    "end\n",
    "(fuck)(x) = x"
   ]
  },
  {
   "cell_type": "code",
   "execution_count": 59,
   "metadata": {},
   "outputs": [
    {
     "data": {
      "text/plain": [
       "0.0"
      ]
     },
     "execution_count": 59,
     "metadata": {},
     "output_type": "execute_result"
    }
   ],
   "source": [
    "function init(::Type{T}) where T\n",
    "    return T(0)\n",
    "end\n",
    "init(Float64)"
   ]
  },
  {
   "cell_type": "code",
   "execution_count": 10,
   "metadata": {},
   "outputs": [
    {
     "data": {
      "text/plain": [
       "Concrete_A()"
      ]
     },
     "execution_count": 10,
     "metadata": {},
     "output_type": "execute_result"
    }
   ],
   "source": [
    "@quasiabstract struct A\n",
    "end\n",
    "function foo(a::A)\n",
    "    return a\n",
    "end\n",
    "function init(tp::Type{<:A})\n",
    "    return tp()\n",
    "end\n",
    "function init(tp::Type{<:B})\n",
    "    return \"hi\"\n",
    "end\n",
    "@quasiabstract struct B <: A\n",
    "end\n",
    "\n",
    "init(A)"
   ]
  },
  {
   "cell_type": "code",
   "execution_count": null,
   "metadata": {},
   "outputs": [],
   "source": [
    "@quasiabstract struct Book\n",
    "      title::String\n",
    "      author::String\n",
    "  end\n",
    "author(b::Book) = b.author\n",
    "@quasiabstract struct PaperBook <: Book\n",
    "    number_of_pages::Int\n",
    "end\n",
    "@quasiabstract struct Edition <: PaperBook\n",
    "    year::Int\n",
    "end\n",
    "book =  Edition(\"The Hobbit\", \"J.R.R. Tolkien\", 374, 2013)\n",
    "@which author(book)"
   ]
  },
  {
   "cell_type": "code",
   "execution_count": null,
   "metadata": {},
   "outputs": [],
   "source": [
    "# in progress\n",
    "@quasiabstract struct BaseStrategy\n",
    "    ll::FastList{Int}\n",
    "    prices::Vector{Float64}\n",
    "    ϕ::Vector{Float64}\n",
    "    dist::Normal\n",
    "end\n",
    "\n",
    "function initializeStrategy(days::Int64, tp::Type{T}) :: Vector{T} where T:<BaseStrategy\n",
    "    tls = Vector{BaseStrategy}(undef, Threads.nthreads())\n",
    "    Threads.@threads for i in 1:Threads.nthreads()\n",
    "        tls[Threads.threadid()] = init(days, tp)\n",
    "    end\n",
    "    return tls\n",
    "end\n",
    "\n",
    "function init(days::Int, tp::Type{<:BaseStrategy})\n",
    "    return tp(FastList{Int}(days), Vector{Float64}(undef, days), Vector{Float64}(undef, days), Normal(0, 1))\n",
    "end\n",
    "\n",
    "\n",
    "\n",
    "function resetStrategy(strategy::BaseStrategy)\n",
    "    reset!(strategy.ll)\n",
    "end\n",
    "\n",
    "function tradeStrategy(strategy::BaseStrategy)\n",
    "\n",
    "end"
   ]
  }
 ],
 "metadata": {
  "@webio": {
   "lastCommId": "a406d5ee-1431-4cdb-bf55-181473232632",
   "lastKernelId": "f01691f4-9bb2-4319-8254-395dd6d0b53b"
  },
  "kernelspec": {
   "display_name": "Julia 1.7.2",
   "language": "julia",
   "name": "julia-1.7"
  },
  "language_info": {
   "file_extension": ".jl",
   "mimetype": "application/julia",
   "name": "julia",
   "version": "1.7.2"
  }
 },
 "nbformat": 4,
 "nbformat_minor": 4
}
