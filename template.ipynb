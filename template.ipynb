{
 "cells": [
  {
   "cell_type": "code",
   "execution_count": null,
   "metadata": {},
   "outputs": [],
   "source": [
    "using LibPQ, Tables, Plots, HTTP, CSV, DataFrames, Random, StatsBase, FreqTables, SQLite, Base, Dates\n",
    "using Base: show_supertypes\n",
    "plotly()\n"
   ]
  },
  {
   "cell_type": "code",
   "execution_count": null,
   "metadata": {},
   "outputs": [],
   "source": [
    "import Pkg; Pkg.add(\"Date\")"
   ]
  },
  {
   "cell_type": "code",
   "execution_count": null,
   "metadata": {},
   "outputs": [],
   "source": [
    "conn = LibPQ.Connection(\"dbname=sharath\")\n",
    "sqlite = SQLite.DB()"
   ]
  },
  {
   "cell_type": "code",
   "execution_count": null,
   "metadata": {},
   "outputs": [],
   "source": [
    "# result = execute(conn, \"\"\"select \"NDP_Date\" , \"NDP_Close\" from ace_equity_nifty_50 aen where \"Company Name\" = 'Infosys Ltd.' order by 1\"\"\")\n",
    "# result = execute(conn, \"\"\"select \"NDP_Date\" , \"NDP_Close\" from ace_equity_nifty_50 aen where \"Company Name\" = 'Adani Ports and Special Economic Zone Ltd.' order by 1\"\"\")\n",
    "result = execute(conn, \"\"\"select date, adjclose from nse_raw nr where symbol = 'ANANTRAJ' and adjclose is not null order by 1 \"\"\")\n",
    "\n",
    "data = columntable(result)\n",
    "series = copy(data[2])\n",
    "data"
   ]
  },
  {
   "cell_type": "code",
   "execution_count": null,
   "metadata": {},
   "outputs": [],
   "source": [
    "typeof(data)"
   ]
  },
  {
   "cell_type": "code",
   "execution_count": null,
   "metadata": {},
   "outputs": [],
   "source": [
    "# print(rand(length(x)))\n",
    "plot((data[1]), copy(data[2]))"
   ]
  },
  {
   "cell_type": "code",
   "execution_count": null,
   "metadata": {},
   "outputs": [],
   "source": [
    "function sip(sipFrequencyDays::Int, sipDurationDays::Int, series)\n",
    "    stocks::Float64 = 0.0\n",
    "    n = size(series)[1]\n",
    "    rates = Vector{Float64}(undef, n-sipDurationDays+1)\n",
    "    for i in 1:n-sipDurationDays+1\n",
    "        innerRange = i:sipFrequencyDays:i+sipDurationDays-1\n",
    "        for j in innerRange\n",
    "            stocks = stocks + 1/series[j]\n",
    "        end\n",
    "        rates[i] = r(lastindex(innerRange), series[last(innerRange)]*stocks, sipDurationDays/365.0)*100\n",
    "    end\n",
    "    return nquantile(rates, 100)\n",
    "end\n",
    "# println(typeof(returns[1, :]))\n",
    "function go(series)\n",
    "    years = 1:6\n",
    "    returns = Array{Float64}(undef, 101, length(years))\n",
    "\n",
    "    for year in years\n",
    "        returns[:, year] = sip(1, (year+1)*365, series)\n",
    "    end\n",
    "    return returns\n",
    "end\n",
    "plotData = @time go(series)\n",
    "\n",
    "# print(length(data[2]))\n",
    "# print(1/data.NDP_Close[3])\n",
    "# innerRange = 1:3:45\n",
    "# collect(last(innerRange))"
   ]
  },
  {
   "cell_type": "code",
   "execution_count": null,
   "metadata": {},
   "outputs": [],
   "source": [
    "length(1:6)\n",
    "plot(x, plotData, label = permutedims([\"year\"*string(x) for x in 2:7]))\n",
    "\n",
    "# print(rand(2, 2))"
   ]
  },
  {
   "cell_type": "code",
   "execution_count": null,
   "metadata": {},
   "outputs": [],
   "source": [
    "show_supertypes(typeof(data.NDP_Date))"
   ]
  },
  {
   "cell_type": "code",
   "execution_count": null,
   "metadata": {},
   "outputs": [],
   "source": [
    "function ohlc2()\n",
    "    function get_ohlc(ticker; kwargs...)\n",
    "        res = HTTP.get(\"https://www.quandl.com/api/v3/datasets/WIKI/$(ticker)/data.csv?start_date=2017-01-01\")\n",
    "        df = CSV.read(res.body)\n",
    "        ohlc(df, x=:Date, open=:Open, high=:High, low=:Low, close=:Close; kwargs...)\n",
    "    end\n",
    "\n",
    "    p1 = plot(get_ohlc(\"AAPL\", name=\"Apple\"), Layout(title=\"Apple\"))\n",
    "    p2 = plot(get_ohlc(\"GOOG\", name=\"Google\"), Layout(title=\"Google\"))\n",
    "\n",
    "    [p1 p2]\n",
    "end\n",
    "ohlc2()"
   ]
  },
  {
   "cell_type": "code",
   "execution_count": null,
   "metadata": {},
   "outputs": [],
   "source": [
    "function two_hists()\n",
    "    x0 = randn(500)\n",
    "    x1 = x0 .+ 1\n",
    "\n",
    "    trace1 = histogram(x=x0, opacity=0.75)\n",
    "    trace2 = histogram(x=x1, opacity=0.75)\n",
    "    data = [trace1, trace2]\n",
    "    layout = Layout(barmode=\"overlay\")\n",
    "    plot(data, layout)\n",
    "end\n",
    "two_hists()"
   ]
  },
  {
   "cell_type": "code",
   "execution_count": null,
   "metadata": {},
   "outputs": [],
   "source": [
    "function go(r::Number)\n",
    "    [x for x in 1:5]\n",
    "end\n",
    "go(0.07)"
   ]
  },
  {
   "cell_type": "code",
   "execution_count": null,
   "metadata": {},
   "outputs": [],
   "source": [
    "death = 100\n",
    "age = 37\n",
    "months = (death - age)*12\n",
    "inflationPerMonth = 6/(100*12)\n",
    "monthlyCost = 100000\n",
    "living = monthlyCost * months\n",
    "println(living)\n",
    "marriage = 1000000\n",
    "# education is 100000 per year (present value) starting from 5th year to 5+16 years\n",
    "\n",
    "education = 16*100000\n",
    "total = living + marriage + 2*education\n",
    "println(total)"
   ]
  },
  {
   "cell_type": "code",
   "execution_count": null,
   "metadata": {},
   "outputs": [],
   "source": []
  },
  {
   "cell_type": "code",
   "execution_count": null,
   "metadata": {},
   "outputs": [],
   "source": [
    "function p2(p1::Number, r::Number, t::Number)\n",
    "    return Float64(p1)*((1+Float64(r))^Float64(t))\n",
    "end\n",
    "\n",
    "function t(p1::Number, p2::Number, r::Number)\n",
    "    return log(Float64(p2)/Float64(p1)) / log(1+Float64(r))\n",
    "end\n",
    "\n",
    "function p1(p2::Number, r::Number, t::Number)\n",
    "    return Float64(p2)/((1+Float64(r))^Float64(t))\n",
    "end\n",
    "\n",
    "function r(p1::Number, p2::Number, t::Number)\n",
    "    power = log(Float64(p2)/Float64(p1))/Float64(t)\n",
    "    return exp(power) - 1\n",
    "end\n",
    "\n",
    "function emi(p1::Number, r::Number, t::Number)\n",
    "    x::Float64 = (1.0 + Float64(r))^Float64(t)\n",
    "    return Float64(p1) * Float64(r) * x / (x - 1)\n",
    "end\n"
   ]
  },
  {
   "cell_type": "code",
   "execution_count": null,
   "metadata": {},
   "outputs": [],
   "source": [
    "df = CSV.read(\"/home/sharath/Downloads/AdultDataSet.csv\")"
   ]
  },
  {
   "cell_type": "code",
   "execution_count": null,
   "metadata": {},
   "outputs": [],
   "source": [
    "df2 = df[shuffle(1:nrow(df))[1:Int(floor((nrow(df)/5)))], :]"
   ]
  },
  {
   "cell_type": "code",
   "execution_count": null,
   "metadata": {},
   "outputs": [],
   "source": [
    "function two_hists(df, df2)\n",
    "    trace1 = histogram(x=df[\"age\"], opacity=0.75)\n",
    "    trace2 = histogram(x=df2[\"age\"], opacity=0.75)\n",
    "    data = [trace1, trace2]\n",
    "    layout = Layout(barmode=\"overlay\")\n",
    "    plot(data, layout)\n",
    "end\n",
    "two_hists(df, df2)"
   ]
  },
  {
   "cell_type": "code",
   "execution_count": null,
   "metadata": {},
   "outputs": [],
   "source": [
    "plot([histogram(x=randn(10000), opacity=0.75)], Layout(barmode=\"overlay\"))\n",
    "\n"
   ]
  },
  {
   "cell_type": "code",
   "execution_count": null,
   "metadata": {},
   "outputs": [],
   "source": [
    "filter(row->row[\"education\"]==\" HS-grad\" && row[\"marital-status\"]==\" Never-married\", df)"
   ]
  },
  {
   "cell_type": "code",
   "execution_count": null,
   "metadata": {},
   "outputs": [],
   "source": [
    "typeof(freqtable(df[\"education\"], df[\"marital-status\"]))"
   ]
  },
  {
   "cell_type": "code",
   "execution_count": null,
   "metadata": {},
   "outputs": [],
   "source": [
    "df |> SQLite.load!(sqlite, \"adult\")"
   ]
  },
  {
   "cell_type": "code",
   "execution_count": null,
   "metadata": {},
   "outputs": [],
   "source": [
    "df = DBInterface.execute(sqlite, \"select * from adult\") |> DataFrame"
   ]
  }
 ],
 "metadata": {
  "@webio": {
   "lastCommId": "e289c59a-b0f8-422e-8d91-3b2b9a32374c",
   "lastKernelId": "81a6f709-69f2-4bce-ac1b-ea633e4e0037"
  },
  "kernelspec": {
   "display_name": "Julia 1.5.2",
   "language": "julia",
   "name": "julia-1.5"
  },
  "language_info": {
   "file_extension": ".jl",
   "mimetype": "application/julia",
   "name": "julia",
   "version": "1.5.2"
  }
 },
 "nbformat": 4,
 "nbformat_minor": 4
}
