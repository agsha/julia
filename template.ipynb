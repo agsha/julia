{
 "cells": [
  {
   "cell_type": "code",
   "execution_count": 8,
   "metadata": {},
   "outputs": [
    {
     "name": "stderr",
     "output_type": "stream",
     "text": [
      "\u001b[32m\u001b[1m   Resolving\u001b[22m\u001b[39m package versions...\n",
      "\u001b[32m\u001b[1m  No Changes\u001b[22m\u001b[39m to `~/.julia/environments/v1.6/Project.toml`\n",
      "\u001b[32m\u001b[1m  No Changes\u001b[22m\u001b[39m to `~/.julia/environments/v1.6/Manifest.toml`\n",
      "\u001b[32m\u001b[1m   Resolving\u001b[22m\u001b[39m package versions...\n",
      "\u001b[32m\u001b[1m  No Changes\u001b[22m\u001b[39m to `~/.julia/environments/v1.6/Project.toml`\n",
      "\u001b[32m\u001b[1m  No Changes\u001b[22m\u001b[39m to `~/.julia/environments/v1.6/Manifest.toml`\n",
      "\u001b[32m\u001b[1m   Resolving\u001b[22m\u001b[39m package versions...\n",
      "\u001b[32m\u001b[1m  No Changes\u001b[22m\u001b[39m to `~/.julia/environments/v1.6/Project.toml`\n",
      "\u001b[32m\u001b[1m  No Changes\u001b[22m\u001b[39m to `~/.julia/environments/v1.6/Manifest.toml`\n",
      "\u001b[32m\u001b[1m   Resolving\u001b[22m\u001b[39m package versions...\n",
      "\u001b[32m\u001b[1m  No Changes\u001b[22m\u001b[39m to `~/.julia/environments/v1.6/Project.toml`\n",
      "\u001b[32m\u001b[1m  No Changes\u001b[22m\u001b[39m to `~/.julia/environments/v1.6/Manifest.toml`\n",
      "\u001b[32m\u001b[1m   Resolving\u001b[22m\u001b[39m package versions...\n",
      "\u001b[32m\u001b[1m  No Changes\u001b[22m\u001b[39m to `~/.julia/environments/v1.6/Project.toml`\n",
      "\u001b[32m\u001b[1m  No Changes\u001b[22m\u001b[39m to `~/.julia/environments/v1.6/Manifest.toml`\n",
      "\u001b[32m\u001b[1m   Resolving\u001b[22m\u001b[39m package versions...\n",
      "\u001b[32m\u001b[1m  No Changes\u001b[22m\u001b[39m to `~/.julia/environments/v1.6/Project.toml`\n",
      "\u001b[32m\u001b[1m  No Changes\u001b[22m\u001b[39m to `~/.julia/environments/v1.6/Manifest.toml`\n",
      "\u001b[32m\u001b[1m   Resolving\u001b[22m\u001b[39m package versions...\n",
      "\u001b[32m\u001b[1m  No Changes\u001b[22m\u001b[39m to `~/.julia/environments/v1.6/Project.toml`\n",
      "\u001b[32m\u001b[1m  No Changes\u001b[22m\u001b[39m to `~/.julia/environments/v1.6/Manifest.toml`\n",
      "\u001b[32m\u001b[1m   Resolving\u001b[22m\u001b[39m package versions...\n",
      "\u001b[32m\u001b[1m  No Changes\u001b[22m\u001b[39m to `~/.julia/environments/v1.6/Project.toml`\n",
      "\u001b[32m\u001b[1m  No Changes\u001b[22m\u001b[39m to `~/.julia/environments/v1.6/Manifest.toml`\n",
      "\u001b[32m\u001b[1m   Resolving\u001b[22m\u001b[39m package versions...\n",
      "\u001b[32m\u001b[1m  No Changes\u001b[22m\u001b[39m to `~/.julia/environments/v1.6/Project.toml`\n",
      "\u001b[32m\u001b[1m  No Changes\u001b[22m\u001b[39m to `~/.julia/environments/v1.6/Manifest.toml`\n",
      "\u001b[32m\u001b[1m   Resolving\u001b[22m\u001b[39m package versions...\n",
      "\u001b[32m\u001b[1m  No Changes\u001b[22m\u001b[39m to `~/.julia/environments/v1.6/Project.toml`\n",
      "\u001b[32m\u001b[1m  No Changes\u001b[22m\u001b[39m to `~/.julia/environments/v1.6/Manifest.toml`\n",
      "\u001b[32m\u001b[1m   Resolving\u001b[22m\u001b[39m package versions...\n",
      "\u001b[32m\u001b[1m  No Changes\u001b[22m\u001b[39m to `~/.julia/environments/v1.6/Project.toml`\n",
      "\u001b[32m\u001b[1m  No Changes\u001b[22m\u001b[39m to `~/.julia/environments/v1.6/Manifest.toml`\n",
      "\u001b[32m\u001b[1m   Resolving\u001b[22m\u001b[39m package versions...\n",
      "\u001b[32m\u001b[1m  No Changes\u001b[22m\u001b[39m to `~/.julia/environments/v1.6/Project.toml`\n",
      "\u001b[32m\u001b[1m  No Changes\u001b[22m\u001b[39m to `~/.julia/environments/v1.6/Manifest.toml`\n",
      "\u001b[32m\u001b[1m   Resolving\u001b[22m\u001b[39m package versions...\n",
      "\u001b[32m\u001b[1m  No Changes\u001b[22m\u001b[39m to `~/.julia/environments/v1.6/Project.toml`\n",
      "\u001b[32m\u001b[1m  No Changes\u001b[22m\u001b[39m to `~/.julia/environments/v1.6/Manifest.toml`\n",
      "\u001b[32m\u001b[1m   Resolving\u001b[22m\u001b[39m package versions...\n",
      "\u001b[32m\u001b[1m  No Changes\u001b[22m\u001b[39m to `~/.julia/environments/v1.6/Project.toml`\n",
      "\u001b[32m\u001b[1m  No Changes\u001b[22m\u001b[39m to `~/.julia/environments/v1.6/Manifest.toml`\n",
      "\u001b[32m\u001b[1m   Resolving\u001b[22m\u001b[39m package versions...\n",
      "\u001b[32m\u001b[1m  No Changes\u001b[22m\u001b[39m to `~/.julia/environments/v1.6/Project.toml`\n",
      "\u001b[32m\u001b[1m  No Changes\u001b[22m\u001b[39m to `~/.julia/environments/v1.6/Manifest.toml`\n",
      "\u001b[32m\u001b[1m   Resolving\u001b[22m\u001b[39m package versions...\n",
      "\u001b[32m\u001b[1m  No Changes\u001b[22m\u001b[39m to `~/.julia/environments/v1.6/Project.toml`\n",
      "\u001b[32m\u001b[1m  No Changes\u001b[22m\u001b[39m to `~/.julia/environments/v1.6/Manifest.toml`\n",
      "\u001b[32m\u001b[1m   Resolving\u001b[22m\u001b[39m package versions...\n",
      "\u001b[32m\u001b[1m  No Changes\u001b[22m\u001b[39m to `~/.julia/environments/v1.6/Project.toml`\n",
      "\u001b[32m\u001b[1m  No Changes\u001b[22m\u001b[39m to `~/.julia/environments/v1.6/Manifest.toml`\n",
      "\u001b[32m\u001b[1m   Resolving\u001b[22m\u001b[39m package versions...\n",
      "\u001b[32m\u001b[1m  No Changes\u001b[22m\u001b[39m to `~/.julia/environments/v1.6/Project.toml`\n",
      "\u001b[32m\u001b[1m  No Changes\u001b[22m\u001b[39m to `~/.julia/environments/v1.6/Manifest.toml`\n"
     ]
    }
   ],
   "source": [
    "include(\"./mm.jl\");"
   ]
  },
  {
   "cell_type": "markdown",
   "metadata": {},
   "source": [
    "Fact:\n",
    "let `rd` be the daily rate (not in percentage, but in absolute terms).\n",
    "then `ry` the yearly rate is given by \n",
    "```\n",
    "ry = (1+rd)^365 - 1\n",
    "```\n",
    "\n",
    "and the inverse relationship is \n",
    "\n",
    "```\n",
    "rd = (1+ry)^-365 - 1\n",
    "```\n",
    "\n",
    "This is a crazy exponential equation. An yearly rate of `10%` is achived by a daily rate of around `0.03%`\n",
    "\n",
    "The following graph plots the relation. x axis is daily rate in percentage. y axis is the corresponding yearly rate in percentage\n",
    "\n",
    "Note also that the maximum negative rate possible is `-100%` at which the initial principal goes to zero.\n",
    "\n",
    "Note also that from f(0.0%) = 0% to f(0.2%) = 100%, the graph is almost linear, which means that in this region, f(x) ~ x*365"
   ]
  },
  {
   "cell_type": "code",
   "execution_count": null,
   "metadata": {},
   "outputs": [],
   "source": [
    "#An example of BigFloat, just in case we need it\n",
    "# setprecision(BigFloat, 2048) do\n",
    "#     rd = BigFloat(\"0.0003\")\n",
    "# #     rd = 0.0003\n",
    "#     ry = (1+rd)^365 - 1\n",
    "#     println(\"ry is  \", ry)\n",
    "#     rd2 = (1+ry)^(1/365) - 1\n",
    "#     println(\"rd2 is    \", rd2)\n",
    "#     @show rd.prec\n",
    "# end\n",
    "rd = -0.01:0.00001:0.01\n",
    "ry = map(i -> (1+i)^365-1, rd)\n",
    "1\n",
    "display(doplot(rd.*100, ry.*100))\n"
   ]
  },
  {
   "cell_type": "code",
   "execution_count": 9,
   "metadata": {},
   "outputs": [
    {
     "data": {
      "text/plain": [
       "Dict{String, Point} with 1660 entries:\n",
       "  \"20MICRONS\"  => Point([DateTime(\"2008-10-06T00:00:00\"), DateTime(\"2008-10-07T…\n",
       "  \"JUBLFOOD\"   => Point([DateTime(\"2010-02-08T00:00:00\"), DateTime(\"2010-02-09T…\n",
       "  \"BAJFINANCE\" => Point([DateTime(\"2004-07-15T00:00:00\"), DateTime(\"2004-07-16T…\n",
       "  \"FLUOROCHEM\" => Point([DateTime(\"2019-10-16T00:00:00\"), DateTime(\"2019-10-17T…\n",
       "  \"RAJSREESUG\" => Point([DateTime(\"2002-07-01T00:00:00\"), DateTime(\"2002-07-02T…\n",
       "  \"SUNDRMBRAK\" => Point([DateTime(\"2002-08-12T00:00:00\"), DateTime(\"2002-08-13T…\n",
       "  \"WHIRLPOOL\"  => Point([DateTime(\"2002-08-12T00:00:00\"), DateTime(\"2002-08-13T…\n",
       "  \"CAREERP\"    => Point([DateTime(\"2010-10-06T00:00:00\"), DateTime(\"2010-10-07T…\n",
       "  \"SUNPHARMA\"  => Point([DateTime(\"1999-12-01T00:00:00\"), DateTime(\"1999-12-02T…\n",
       "  \"TAKE\"       => Point([DateTime(\"2007-08-27T00:00:00\"), DateTime(\"2007-08-28T…\n",
       "  \"VBL\"        => Point([DateTime(\"2016-11-08T00:00:00\"), DateTime(\"2016-11-09T…\n",
       "  \"NOIDATOLL\"  => Point([DateTime(\"2020-11-20T00:00:00\")], [6.35], [7629])\n",
       "  \"POLYCAB\"    => Point([DateTime(\"2019-04-16T00:00:00\"), DateTime(\"2019-04-18T…\n",
       "  \"JKCEMENT\"   => Point([DateTime(\"2006-03-14T00:00:00\"), DateTime(\"2006-03-16T…\n",
       "  \"CANDC\"      => Point([DateTime(\"2007-02-26T00:00:00\"), DateTime(\"2007-02-27T…\n",
       "  \"KAUSHALYA\"  => Point([DateTime(\"2007-12-14T00:00:00\"), DateTime(\"2007-12-17T…\n",
       "  \"DSSL\"       => Point([DateTime(\"2008-01-01T00:00:00\"), DateTime(\"2008-01-02T…\n",
       "  \"AUTOLITIND\" => Point([DateTime(\"2008-11-10T00:00:00\"), DateTime(\"2008-11-11T…\n",
       "  \"GREENPANEL\" => Point([DateTime(\"2019-10-23T00:00:00\"), DateTime(\"2019-10-24T…\n",
       "  \"IRCON\"      => Point([DateTime(\"2018-09-28T00:00:00\"), DateTime(\"2018-10-01T…\n",
       "  \"^CNXCMDT\"   => Point([DateTime(\"2020-11-20T00:00:00\")], [3533.75], [7629])\n",
       "  \"HOVS\"       => Point([DateTime(\"2006-09-27T00:00:00\"), DateTime(\"2006-09-28T…\n",
       "  \"BHARATRAS\"  => Point([DateTime(\"2002-07-01T00:00:00\"), DateTime(\"2002-07-02T…\n",
       "  \"EVERESTIND\" => Point([DateTime(\"2002-07-01T00:00:00\"), DateTime(\"2002-07-02T…\n",
       "  \"STEELCITY\"  => Point([DateTime(\"2017-03-16T00:00:00\"), DateTime(\"2017-03-17T…\n",
       "  ⋮            => ⋮"
      ]
     },
     "execution_count": 9,
     "metadata": {},
     "output_type": "execute_result"
    }
   ],
   "source": [
    "const d = constructDict()"
   ]
  },
  {
   "cell_type": "code",
   "execution_count": null,
   "metadata": {},
   "outputs": [],
   "source": [
    "function companyComparison(p::Float64)\n",
    "    nn = (symbol=Vector{String}(undef, 0), prob=Vector{Float64}(undef, 0), label=Vector{String}(undef, 0))\n",
    "    for key in keys(d)\n",
    "        sss = key\n",
    "        pp = prob(d, key, 1, 3*365, p)\n",
    "        label = get(companyToLabel, key, \"\")\n",
    "        push!(nn[:symbol], sss)\n",
    "        push!(nn[:prob], pp)\n",
    "        push!(nn[:label], label)\n",
    "    end\n",
    "    execute(conn, \"BEGIN;\")\n",
    "    execute(conn, \"drop table if exists work.company_comparison; \")\n",
    "    execute(conn, \"\"\"\n",
    "    create table work.company_comparison (symbol text, prob float, label text)\n",
    "    \"\"\")\n",
    "    LibPQ.load!(\n",
    "        nn,\n",
    "        conn,\n",
    "        \"INSERT INTO work.company_comparison (symbol, prob, label) VALUES (\\$1, \\$2, \\$3);\",\n",
    "    )\n",
    "\n",
    "    execute(conn, \"COMMIT;\")\n",
    "end\n",
    "companyComparison(0.15)"
   ]
  },
  {
   "cell_type": "code",
   "execution_count": null,
   "metadata": {},
   "outputs": [],
   "source": [
    "prob(d, \"TVSMOTOR\",1, 3*365, 0.3 )"
   ]
  },
  {
   "cell_type": "code",
   "execution_count": null,
   "metadata": {},
   "outputs": [],
   "source": [
    "df = table((x=an,))\n",
    "summarize((mean, std), df)\n"
   ]
  },
  {
   "cell_type": "code",
   "execution_count": null,
   "metadata": {},
   "outputs": [],
   "source": [
    "function foo()\n",
    "    sql = \"\"\" select symbol from indices i where name = 'nifty-500' \"\"\"\n",
    "    result = execute(conn, sql)\n",
    "    return result |> table\n",
    "end\n",
    "df = foo()\n"
   ]
  },
  {
   "cell_type": "code",
   "execution_count": null,
   "metadata": {},
   "outputs": [],
   "source": [
    "d[\"^NSEI\"]"
   ]
  },
  {
   "cell_type": "code",
   "execution_count": 4,
   "metadata": {},
   "outputs": [
    {
     "name": "stdout",
     "output_type": "stream",
     "text": [
      "74400000\n",
      "78600000\n"
     ]
    }
   ],
   "source": [
    "death = 100\n",
    "age = 38\n",
    "inflationPerMonth = 6/(100*12)\n",
    "monthlyCost = 100000\n",
    "\n",
    "months = (death - age)*12\n",
    "living = monthlyCost * months\n",
    "println(living)\n",
    "marriage = 1000000\n",
    "# education is 100000 per year (present value) starting from 5th year to 5+16 years\n",
    "\n",
    "education = 16*100000\n",
    "total = living + marriage + 2*education\n",
    "println(total)"
   ]
  },
  {
   "cell_type": "code",
   "execution_count": null,
   "metadata": {},
   "outputs": [],
   "source": [
    "df = CSV.read(\"/home/sharath/Downloads/AdultDataSet.csv\")"
   ]
  },
  {
   "cell_type": "code",
   "execution_count": null,
   "metadata": {},
   "outputs": [],
   "source": [
    "df2 = df[shuffle(1:nrow(df))[1:Int(floor((nrow(df)/5)))], :]"
   ]
  },
  {
   "cell_type": "code",
   "execution_count": null,
   "metadata": {},
   "outputs": [],
   "source": [
    "filter(row->row[\"education\"]==\" HS-grad\" && row[\"marital-status\"]==\" Never-married\", df)"
   ]
  },
  {
   "cell_type": "code",
   "execution_count": null,
   "metadata": {},
   "outputs": [],
   "source": [
    "typeof(freqtable(df[\"education\"], df[\"marital-status\"]))"
   ]
  },
  {
   "cell_type": "code",
   "execution_count": null,
   "metadata": {},
   "outputs": [],
   "source": [
    "df |> SQLite.load!(sqlite, \"adult\")"
   ]
  },
  {
   "cell_type": "code",
   "execution_count": null,
   "metadata": {},
   "outputs": [],
   "source": [
    "df = DBInterface.execute(sqlite, \"select * from adult\") |> DataFrame"
   ]
  },
  {
   "cell_type": "code",
   "execution_count": null,
   "metadata": {},
   "outputs": [],
   "source": [
    "function f(r1::Float64, r2::Float64, x::Float64)\n",
    "    return ((1+r1)^x) * ((1+r2)^(1-x)) - 1\n",
    "end\n",
    "xx  = 0:0.001:0.99\n",
    "yy = [f(.04, 0.13, x) for x in ran]\n",
    "plot(xx, yy, hover=string.(xx).*\"   \".*string.(yy), size=(1700, 400,))"
   ]
  },
  {
   "cell_type": "markdown",
   "metadata": {},
   "source": [
    "This is testing an investment strategy. we invest a fixed amount every day for `investDays` days. \n",
    "The portfolio is the current list of days that we bought the stocks.\n",
    "Every day, we also go through our current portfolio. If one of the past day buys have hit more than `rateThreshold`, we sell it. \n",
    "\n",
    "After `investDays`, we wait for another `redeemDays` to liquidate any portfolio that remains. After `redeemDays`, we sell whatever is left.\n",
    "return the amount of money in the wallet after `investDays+redeemDays`\n",
    "\n",
    "Zerodha has the following transaction fees. \n",
    "* charge buy is 1.19 per 1000\n",
    "* charge sell is 1.04 per 1000\n",
    "* charge dp is 13.8 per stock per sell per day + 18% GST. since we are dealing with only 1 stock, the charge is 13.8*1.18\n",
    "\n",
    "````\n",
    "charge_buy = 1.19/1000 per rupee\n",
    "charge_sell = 1.04/1000 per rupee\n",
    "charge_dp = 13.5*1.18 per stock per day\n",
    "interest_charges = p2(1, fixed_deposit_rate, days_held/365.0) - 1 per rupee\n",
    "\n",
    "for rupee  p[dayBought]*(1 + charge_buy) =(we get) 1 stock\n",
    "so for     amount =(we get) amount/(p[dayBought]*(1+charge_buy))\n",
    "\n",
    "num_stocks = amount/(p[dayBought]*(1+charge_buy))\n",
    "\n",
    "\n",
    "net_today = num_stock*p[today] - num_stock*p[today]*(charge_sell) - charge_dp\n",
    "          = num_stock*p[today](1 - charge_sell) - charge_dp\n",
    "\n",
    "          = amount*p[today](1 - charge_sell) / (p[dayBought]*(1+charge_buy)) - amount*(p2(1, fixed_deposit_rate, days_held/365.0) - 1) - charge_dp\n",
    "````"
   ]
  },
  {
   "cell_type": "code",
   "execution_count": 31,
   "metadata": {},
   "outputs": [
    {
     "name": "stdout",
     "output_type": "stream",
     "text": [
      " 24.652148 seconds (24.42 k allocations: 82.505 MiB, 0.02% gc time)\n"
     ]
    },
    {
     "data": {
      "application/vnd.plotly.v1+json": {
       "config": {
        "editable": false,
        "responsive": true,
        "scrollZoom": true,
        "showLink": false,
        "staticPlot": false
       },
       "data": [
        {
         "type": "scatter",
         "x": [
          1,
          2,
          3,
          4,
          5,
          6,
          7,
          8,
          9,
          10,
          11,
          12,
          13,
          14,
          15,
          16,
          17,
          18,
          19,
          20,
          21,
          22,
          23,
          24,
          25,
          26,
          27,
          28,
          29,
          30,
          31,
          32,
          33,
          34,
          35,
          36,
          37,
          38,
          39,
          40,
          41,
          42,
          43,
          44,
          45,
          46,
          47,
          48,
          49,
          50,
          51,
          52,
          53,
          54,
          55,
          56,
          57,
          58,
          59,
          60,
          61,
          62,
          63,
          64,
          65,
          66,
          67,
          68,
          69,
          70,
          71,
          72,
          73,
          74,
          75,
          76,
          77,
          78,
          79,
          80,
          81,
          82,
          83,
          84,
          85,
          86,
          87,
          88,
          89,
          90,
          91,
          92,
          93,
          94,
          95,
          96,
          97,
          98,
          99,
          100,
          101
         ],
         "y": [
          -36373.40317557854,
          -11960.94500824704,
          -8551.78140496102,
          -4602.351600859524,
          -2486.5470292916707,
          -1235.686917258085,
          155.4597173951631,
          854.2734971065736,
          1599.329565280049,
          2375.4660170298607,
          3237.781954253305,
          3797.8195948340685,
          4403.637012710009,
          5066.311447327499,
          5583.9786044099965,
          6052.85689035587,
          6649.075888326492,
          7167.362608757352,
          7779.061707099203,
          8458.887351701584,
          8938.836978403328,
          9344.631807553384,
          9829.321038334718,
          10366.869085281101,
          11085.280342268195,
          11796.375788419264,
          12533.774292743772,
          13195.221012997736,
          14040.70534723921,
          17137.517905036566,
          19478.739722489714,
          20979.590057661066,
          22262.666617527648,
          23132.80224335368,
          23619.759415360153,
          24079.096204329227,
          24464.869692455526,
          24829.732705754916,
          25401.089058046542,
          25835.030711746378,
          26132.16068692012,
          26555.64434390721,
          26921.211494597836,
          27187.40648574098,
          27498.50741361357,
          27931.503868072366,
          28213.935024189806,
          28621.22535986425,
          29021.090778653688,
          29512.477667660405,
          30037.034041797,
          30477.526269759284,
          30964.305037359285,
          31342.65558116811,
          32006.618383438483,
          32755.966596070608,
          33504.44980717019,
          34273.61003104438,
          35412.01226462688,
          36241.53331997753,
          37018.098084777805,
          37901.17555177879,
          38734.67733453472,
          39506.44406308717,
          40334.08769892634,
          41197.53754818938,
          41975.16169417091,
          42536.65281505165,
          43400.67195400635,
          43977.432844421724,
          44560.45757220781,
          45141.2778095583,
          45437.10260086463,
          45688.52236111902,
          45885.606895834,
          46152.76414729537,
          46468.79238527186,
          46757.8091073102,
          47313.514769099085,
          48050.058767695984,
          48919.62622789069,
          50146.92895241466,
          51281.09105349862,
          52503.86777182658,
          53585.828550200036,
          54714.12842723101,
          55554.09611683861,
          56687.3806826563,
          57942.33714913159,
          59920.008526622085,
          62596.11131001852,
          63980.1113481092,
          66001.11945671395,
          66842.72436019738,
          67671.08630373108,
          68859.90835322533,
          70189.34730341358,
          73872.79865508772,
          77461.15807971409,
          79577.13699363373,
          83306.2744602136
         ]
        }
       ],
       "frames": [],
       "layout": {
        "autosize": true,
        "margin": {
         "b": 50,
         "l": 50,
         "r": 50,
         "t": 60
        },
        "template": {
         "data": {
          "bar": [
           {
            "error_x": {
             "color": "#2a3f5f"
            },
            "error_y": {
             "color": "#2a3f5f"
            },
            "marker": {
             "line": {
              "color": "#E5ECF6",
              "width": 0.5
             }
            },
            "type": "bar"
           }
          ],
          "barpolar": [
           {
            "marker": {
             "line": {
              "color": "#E5ECF6",
              "width": 0.5
             }
            },
            "type": "barpolar"
           }
          ],
          "carpet": [
           {
            "aaxis": {
             "endlinecolor": "#2a3f5f",
             "gridcolor": "white",
             "linecolor": "white",
             "minorgridcolor": "white",
             "startlinecolor": "#2a3f5f"
            },
            "baxis": {
             "endlinecolor": "#2a3f5f",
             "gridcolor": "white",
             "linecolor": "white",
             "minorgridcolor": "white",
             "startlinecolor": "#2a3f5f"
            },
            "type": "carpet"
           }
          ],
          "choropleth": [
           {
            "colorbar": {
             "outlinewidth": 0,
             "ticks": ""
            },
            "type": "choropleth"
           }
          ],
          "contour": [
           {
            "colorbar": {
             "outlinewidth": 0,
             "ticks": ""
            },
            "colorscale": [
             [
              0,
              "#0d0887"
             ],
             [
              0.1111111111111111,
              "#46039f"
             ],
             [
              0.2222222222222222,
              "#7201a8"
             ],
             [
              0.3333333333333333,
              "#9c179e"
             ],
             [
              0.4444444444444444,
              "#bd3786"
             ],
             [
              0.5555555555555556,
              "#d8576b"
             ],
             [
              0.6666666666666666,
              "#ed7953"
             ],
             [
              0.7777777777777778,
              "#fb9f3a"
             ],
             [
              0.8888888888888888,
              "#fdca26"
             ],
             [
              1,
              "#f0f921"
             ]
            ],
            "type": "contour"
           }
          ],
          "contourcarpet": [
           {
            "colorbar": {
             "outlinewidth": 0,
             "ticks": ""
            },
            "type": "contourcarpet"
           }
          ],
          "heatmap": [
           {
            "colorbar": {
             "outlinewidth": 0,
             "ticks": ""
            },
            "colorscale": [
             [
              0,
              "#0d0887"
             ],
             [
              0.1111111111111111,
              "#46039f"
             ],
             [
              0.2222222222222222,
              "#7201a8"
             ],
             [
              0.3333333333333333,
              "#9c179e"
             ],
             [
              0.4444444444444444,
              "#bd3786"
             ],
             [
              0.5555555555555556,
              "#d8576b"
             ],
             [
              0.6666666666666666,
              "#ed7953"
             ],
             [
              0.7777777777777778,
              "#fb9f3a"
             ],
             [
              0.8888888888888888,
              "#fdca26"
             ],
             [
              1,
              "#f0f921"
             ]
            ],
            "type": "heatmap"
           }
          ],
          "heatmapgl": [
           {
            "colorbar": {
             "outlinewidth": 0,
             "ticks": ""
            },
            "colorscale": [
             [
              0,
              "#0d0887"
             ],
             [
              0.1111111111111111,
              "#46039f"
             ],
             [
              0.2222222222222222,
              "#7201a8"
             ],
             [
              0.3333333333333333,
              "#9c179e"
             ],
             [
              0.4444444444444444,
              "#bd3786"
             ],
             [
              0.5555555555555556,
              "#d8576b"
             ],
             [
              0.6666666666666666,
              "#ed7953"
             ],
             [
              0.7777777777777778,
              "#fb9f3a"
             ],
             [
              0.8888888888888888,
              "#fdca26"
             ],
             [
              1,
              "#f0f921"
             ]
            ],
            "type": "heatmapgl"
           }
          ],
          "histogram": [
           {
            "marker": {
             "colorbar": {
              "outlinewidth": 0,
              "ticks": ""
             }
            },
            "type": "histogram"
           }
          ],
          "histogram2d": [
           {
            "colorbar": {
             "outlinewidth": 0,
             "ticks": ""
            },
            "colorscale": [
             [
              0,
              "#0d0887"
             ],
             [
              0.1111111111111111,
              "#46039f"
             ],
             [
              0.2222222222222222,
              "#7201a8"
             ],
             [
              0.3333333333333333,
              "#9c179e"
             ],
             [
              0.4444444444444444,
              "#bd3786"
             ],
             [
              0.5555555555555556,
              "#d8576b"
             ],
             [
              0.6666666666666666,
              "#ed7953"
             ],
             [
              0.7777777777777778,
              "#fb9f3a"
             ],
             [
              0.8888888888888888,
              "#fdca26"
             ],
             [
              1,
              "#f0f921"
             ]
            ],
            "type": "histogram2d"
           }
          ],
          "histogram2dcontour": [
           {
            "colorbar": {
             "outlinewidth": 0,
             "ticks": ""
            },
            "colorscale": [
             [
              0,
              "#0d0887"
             ],
             [
              0.1111111111111111,
              "#46039f"
             ],
             [
              0.2222222222222222,
              "#7201a8"
             ],
             [
              0.3333333333333333,
              "#9c179e"
             ],
             [
              0.4444444444444444,
              "#bd3786"
             ],
             [
              0.5555555555555556,
              "#d8576b"
             ],
             [
              0.6666666666666666,
              "#ed7953"
             ],
             [
              0.7777777777777778,
              "#fb9f3a"
             ],
             [
              0.8888888888888888,
              "#fdca26"
             ],
             [
              1,
              "#f0f921"
             ]
            ],
            "type": "histogram2dcontour"
           }
          ],
          "mesh3d": [
           {
            "colorbar": {
             "outlinewidth": 0,
             "ticks": ""
            },
            "type": "mesh3d"
           }
          ],
          "parcoords": [
           {
            "line": {
             "colorbar": {
              "outlinewidth": 0,
              "ticks": ""
             }
            },
            "type": "parcoords"
           }
          ],
          "pie": [
           {
            "automargin": true,
            "type": "pie"
           }
          ],
          "scatter": [
           {
            "marker": {
             "colorbar": {
              "outlinewidth": 0,
              "ticks": ""
             }
            },
            "type": "scatter"
           }
          ],
          "scatter3d": [
           {
            "line": {
             "colorbar": {
              "outlinewidth": 0,
              "ticks": ""
             }
            },
            "marker": {
             "colorbar": {
              "outlinewidth": 0,
              "ticks": ""
             }
            },
            "type": "scatter3d"
           }
          ],
          "scattercarpet": [
           {
            "marker": {
             "colorbar": {
              "outlinewidth": 0,
              "ticks": ""
             }
            },
            "type": "scattercarpet"
           }
          ],
          "scattergeo": [
           {
            "marker": {
             "colorbar": {
              "outlinewidth": 0,
              "ticks": ""
             }
            },
            "type": "scattergeo"
           }
          ],
          "scattergl": [
           {
            "marker": {
             "colorbar": {
              "outlinewidth": 0,
              "ticks": ""
             }
            },
            "type": "scattergl"
           }
          ],
          "scattermapbox": [
           {
            "marker": {
             "colorbar": {
              "outlinewidth": 0,
              "ticks": ""
             }
            },
            "type": "scattermapbox"
           }
          ],
          "scatterpolar": [
           {
            "marker": {
             "colorbar": {
              "outlinewidth": 0,
              "ticks": ""
             }
            },
            "type": "scatterpolar"
           }
          ],
          "scatterpolargl": [
           {
            "marker": {
             "colorbar": {
              "outlinewidth": 0,
              "ticks": ""
             }
            },
            "type": "scatterpolargl"
           }
          ],
          "scatterternary": [
           {
            "marker": {
             "colorbar": {
              "outlinewidth": 0,
              "ticks": ""
             }
            },
            "type": "scatterternary"
           }
          ],
          "surface": [
           {
            "colorbar": {
             "outlinewidth": 0,
             "ticks": ""
            },
            "colorscale": [
             [
              0,
              "#0d0887"
             ],
             [
              0.1111111111111111,
              "#46039f"
             ],
             [
              0.2222222222222222,
              "#7201a8"
             ],
             [
              0.3333333333333333,
              "#9c179e"
             ],
             [
              0.4444444444444444,
              "#bd3786"
             ],
             [
              0.5555555555555556,
              "#d8576b"
             ],
             [
              0.6666666666666666,
              "#ed7953"
             ],
             [
              0.7777777777777778,
              "#fb9f3a"
             ],
             [
              0.8888888888888888,
              "#fdca26"
             ],
             [
              1,
              "#f0f921"
             ]
            ],
            "type": "surface"
           }
          ],
          "table": [
           {
            "cells": {
             "fill": {
              "color": "#EBF0F8"
             },
             "line": {
              "color": "white"
             }
            },
            "header": {
             "fill": {
              "color": "#C8D4E3"
             },
             "line": {
              "color": "white"
             }
            },
            "type": "table"
           }
          ]
         },
         "layout": {
          "annotationdefaults": {
           "arrowcolor": "#2a3f5f",
           "arrowhead": 0,
           "arrowwidth": 1
          },
          "autotypenumbers": "strict",
          "coloraxis": {
           "colorbar": {
            "outlinewidth": 0,
            "ticks": ""
           }
          },
          "colorscale": {
           "diverging": [
            [
             0,
             "#8e0152"
            ],
            [
             0.1,
             "#c51b7d"
            ],
            [
             0.2,
             "#de77ae"
            ],
            [
             0.3,
             "#f1b6da"
            ],
            [
             0.4,
             "#fde0ef"
            ],
            [
             0.5,
             "#f7f7f7"
            ],
            [
             0.6,
             "#e6f5d0"
            ],
            [
             0.7,
             "#b8e186"
            ],
            [
             0.8,
             "#7fbc41"
            ],
            [
             0.9,
             "#4d9221"
            ],
            [
             1,
             "#276419"
            ]
           ],
           "sequential": [
            [
             0,
             "#0d0887"
            ],
            [
             0.1111111111111111,
             "#46039f"
            ],
            [
             0.2222222222222222,
             "#7201a8"
            ],
            [
             0.3333333333333333,
             "#9c179e"
            ],
            [
             0.4444444444444444,
             "#bd3786"
            ],
            [
             0.5555555555555556,
             "#d8576b"
            ],
            [
             0.6666666666666666,
             "#ed7953"
            ],
            [
             0.7777777777777778,
             "#fb9f3a"
            ],
            [
             0.8888888888888888,
             "#fdca26"
            ],
            [
             1,
             "#f0f921"
            ]
           ],
           "sequentialminus": [
            [
             0,
             "#0d0887"
            ],
            [
             0.1111111111111111,
             "#46039f"
            ],
            [
             0.2222222222222222,
             "#7201a8"
            ],
            [
             0.3333333333333333,
             "#9c179e"
            ],
            [
             0.4444444444444444,
             "#bd3786"
            ],
            [
             0.5555555555555556,
             "#d8576b"
            ],
            [
             0.6666666666666666,
             "#ed7953"
            ],
            [
             0.7777777777777778,
             "#fb9f3a"
            ],
            [
             0.8888888888888888,
             "#fdca26"
            ],
            [
             1,
             "#f0f921"
            ]
           ]
          },
          "colorway": [
           "#636efa",
           "#EF553B",
           "#00cc96",
           "#ab63fa",
           "#FFA15A",
           "#19d3f3",
           "#FF6692",
           "#B6E880",
           "#FF97FF",
           "#FECB52"
          ],
          "font": {
           "color": "#2a3f5f"
          },
          "geo": {
           "bgcolor": "white",
           "lakecolor": "white",
           "landcolor": "#E5ECF6",
           "showlakes": true,
           "showland": true,
           "subunitcolor": "white"
          },
          "hoverlabel": {
           "align": "left"
          },
          "hovermode": "closest",
          "mapbox": {
           "style": "light"
          },
          "paper_bgcolor": "white",
          "plot_bgcolor": "#E5ECF6",
          "polar": {
           "angularaxis": {
            "gridcolor": "white",
            "linecolor": "white",
            "ticks": ""
           },
           "bgcolor": "#E5ECF6",
           "radialaxis": {
            "gridcolor": "white",
            "linecolor": "white",
            "ticks": ""
           }
          },
          "scene": {
           "xaxis": {
            "backgroundcolor": "#E5ECF6",
            "gridcolor": "white",
            "gridwidth": 2,
            "linecolor": "white",
            "showbackground": true,
            "ticks": "",
            "zerolinecolor": "white"
           },
           "yaxis": {
            "backgroundcolor": "#E5ECF6",
            "gridcolor": "white",
            "gridwidth": 2,
            "linecolor": "white",
            "showbackground": true,
            "ticks": "",
            "zerolinecolor": "white"
           },
           "zaxis": {
            "backgroundcolor": "#E5ECF6",
            "gridcolor": "white",
            "gridwidth": 2,
            "linecolor": "white",
            "showbackground": true,
            "ticks": "",
            "zerolinecolor": "white"
           }
          },
          "shapedefaults": {
           "line": {
            "color": "#2a3f5f"
           }
          },
          "ternary": {
           "aaxis": {
            "gridcolor": "white",
            "linecolor": "white",
            "ticks": ""
           },
           "baxis": {
            "gridcolor": "white",
            "linecolor": "white",
            "ticks": ""
           },
           "bgcolor": "#E5ECF6",
           "caxis": {
            "gridcolor": "white",
            "linecolor": "white",
            "ticks": ""
           }
          },
          "title": {
           "x": 0.05
          },
          "xaxis": {
           "automargin": true,
           "gridcolor": "white",
           "linecolor": "white",
           "ticks": "",
           "title": {
            "standoff": 15
           },
           "zerolinecolor": "white",
           "zerolinewidth": 2
          },
          "yaxis": {
           "automargin": true,
           "gridcolor": "white",
           "linecolor": "white",
           "ticks": "",
           "title": {
            "standoff": 15
           },
           "zerolinecolor": "white",
           "zerolinewidth": 2
          }
         }
        },
        "xaxis": {
         "autorange": true,
         "range": [
          1,
          101
         ],
         "type": "linear"
        },
        "yaxis": {
         "autorange": true,
         "range": [
          -43022.27415534477,
          89955.14543997982
         ],
         "type": "linear"
        }
       }
      },
      "image/png": "[encoded data removed]",
      "text/html": [
       "<div\n",
       "    class=\"webio-mountpoint\"\n",
       "    data-webio-mountpoint=\"14813425914994027767\"\n",
       ">\n",
       "    <script>\n",
       "    (function(){\n",
       "    // Some integrations (namely, IJulia/Jupyter) use an alternate render pathway than\n",
       "    // just putting the html on the page. If WebIO isn't defined, then it's pretty likely\n",
       "    // that we're in one of those situations and the integration just isn't installed\n",
       "    // correctly.\n",
       "    if (typeof window.WebIO === \"undefined\") {\n",
       "        document\n",
       "            .querySelector('[data-webio-mountpoint=\"14813425914994027767\"]')\n",
       "            .innerHTML = (\n",
       "                '<div style=\"padding: 1em; background-color: #f8d6da; border: 1px solid #f5c6cb; font-weight: bold;\">' +\n",
       "                '<p><strong>WebIO not detected.</strong></p>' +\n",
       "                '<p>Please read ' +\n",
       "                '<a href=\"https://juliagizmos.github.io/WebIO.jl/latest/troubleshooting/not-detected/\" target=\"_blank\">the troubleshooting guide</a> ' +\n",
       "                'for more information on how to resolve this issue.</p>' +\n",
       "                '<p><a href=\"https://juliagizmos.github.io/WebIO.jl/latest/troubleshooting/not-detected/\" target=\"_blank\">https://juliagizmos.github.io/WebIO.jl/latest/troubleshooting/not-detected/</a></p>' +\n",
       "                '</div>'\n",
       "            );\n",
       "        return;\n",
       "    }\n",
       "    WebIO.mount(\n",
       "        document.querySelector('[data-webio-mountpoint=\"14813425914994027767\"]'),\n",
       "        {\"props\":{},\"nodeType\":\"Scope\",\"type\":\"node\",\"instanceArgs\":{\"imports\":{\"data\":[{\"name\":\"Plotly\",\"type\":\"js\",\"url\":\"\\/assetserver\\/02f0d5b6a4424194a48c8d3be9f48e948c04bbd1-plotly.min.js\"},{\"name\":null,\"type\":\"js\",\"url\":\"\\/assetserver\\/c4b82ac8736c57d94c07f8ff57937febc407a986-plotly_webio.bundle.js\"}],\"type\":\"async_block\"},\"id\":\"17137258107738714140\",\"handlers\":{\"_toImage\":[\"(function (options){return this.Plotly.toImage(this.plotElem,options).then((function (data){return WebIO.setval({\\\"name\\\":\\\"image\\\",\\\"scope\\\":\\\"17137258107738714140\\\",\\\"id\\\":\\\"6071836389529521038\\\",\\\"type\\\":\\\"observable\\\"},data)}))})\"],\"__get_gd_contents\":[\"(function (prop){prop==\\\"data\\\" ? (WebIO.setval({\\\"name\\\":\\\"__gd_contents\\\",\\\"scope\\\":\\\"17137258107738714140\\\",\\\"id\\\":\\\"1470477727344354333\\\",\\\"type\\\":\\\"observable\\\"},this.plotElem.data)) : undefined; return prop==\\\"layout\\\" ? (WebIO.setval({\\\"name\\\":\\\"__gd_contents\\\",\\\"scope\\\":\\\"17137258107738714140\\\",\\\"id\\\":\\\"1470477727344354333\\\",\\\"type\\\":\\\"observable\\\"},this.plotElem.layout)) : undefined})\"],\"_downloadImage\":[\"(function (options){return this.Plotly.downloadImage(this.plotElem,options)})\"],\"_commands\":[\"(function (args){var fn=args.shift(); var elem=this.plotElem; var Plotly=this.Plotly; args.unshift(elem); return Plotly[fn].apply(this,args)})\"]},\"systemjs_options\":null,\"mount_callbacks\":[\"function () {\\n    var handler = ((function (Plotly,PlotlyWebIO){PlotlyWebIO.init(WebIO); var gd=this.dom.querySelector(\\\"#plot-ccdbb890-c05a-4766-9419-9cd155fb8bf3\\\"); this.plotElem=gd; this.Plotly=Plotly; (window.Blink!==undefined) ? (gd.style.width=\\\"100%\\\", gd.style.height=\\\"100vh\\\", gd.style.marginLeft=\\\"0%\\\", gd.style.marginTop=\\\"0vh\\\") : undefined; window.onresize=(function (){return Plotly.Plots.resize(gd)}); Plotly.newPlot(gd,[{\\\"y\\\":[-36373.40317557854,-11960.94500824704,-8551.78140496102,-4602.351600859524,-2486.5470292916707,-1235.686917258085,155.4597173951631,854.2734971065736,1599.329565280049,2375.4660170298607,3237.781954253305,3797.8195948340685,4403.637012710009,5066.311447327499,5583.9786044099965,6052.85689035587,6649.075888326492,7167.362608757352,7779.061707099203,8458.887351701584,8938.836978403328,9344.631807553384,9829.321038334718,10366.869085281101,11085.280342268195,11796.375788419264,12533.774292743772,13195.221012997736,14040.70534723921,17137.517905036566,19478.739722489714,20979.590057661066,22262.666617527648,23132.80224335368,23619.759415360153,24079.096204329227,24464.869692455526,24829.732705754916,25401.089058046542,25835.030711746378,26132.16068692012,26555.64434390721,26921.211494597836,27187.40648574098,27498.50741361357,27931.503868072366,28213.935024189806,28621.22535986425,29021.090778653688,29512.477667660405,30037.034041797,30477.526269759284,30964.305037359285,31342.65558116811,32006.618383438483,32755.966596070608,33504.44980717019,34273.61003104438,35412.01226462688,36241.53331997753,37018.098084777805,37901.17555177879,38734.67733453472,39506.44406308717,40334.08769892634,41197.53754818938,41975.16169417091,42536.65281505165,43400.67195400635,43977.432844421724,44560.45757220781,45141.2778095583,45437.10260086463,45688.52236111902,45885.606895834,46152.76414729537,46468.79238527186,46757.8091073102,47313.514769099085,48050.058767695984,48919.62622789069,50146.92895241466,51281.09105349862,52503.86777182658,53585.828550200036,54714.12842723101,55554.09611683861,56687.3806826563,57942.33714913159,59920.008526622085,62596.11131001852,63980.1113481092,66001.11945671395,66842.72436019738,67671.08630373108,68859.90835322533,70189.34730341358,73872.79865508772,77461.15807971409,79577.13699363373,83306.2744602136],\\\"type\\\":\\\"scatter\\\",\\\"x\\\":[1,2,3,4,5,6,7,8,9,10,11,12,13,14,15,16,17,18,19,20,21,22,23,24,25,26,27,28,29,30,31,32,33,34,35,36,37,38,39,40,41,42,43,44,45,46,47,48,49,50,51,52,53,54,55,56,57,58,59,60,61,62,63,64,65,66,67,68,69,70,71,72,73,74,75,76,77,78,79,80,81,82,83,84,85,86,87,88,89,90,91,92,93,94,95,96,97,98,99,100,101]}],{\\\"template\\\":{\\\"layout\\\":{\\\"coloraxis\\\":{\\\"colorbar\\\":{\\\"ticks\\\":\\\"\\\",\\\"outlinewidth\\\":0}},\\\"xaxis\\\":{\\\"gridcolor\\\":\\\"white\\\",\\\"zerolinewidth\\\":2,\\\"title\\\":{\\\"standoff\\\":15},\\\"ticks\\\":\\\"\\\",\\\"zerolinecolor\\\":\\\"white\\\",\\\"automargin\\\":true,\\\"linecolor\\\":\\\"white\\\"},\\\"hovermode\\\":\\\"closest\\\",\\\"paper_bgcolor\\\":\\\"white\\\",\\\"geo\\\":{\\\"showlakes\\\":true,\\\"showland\\\":true,\\\"landcolor\\\":\\\"#E5ECF6\\\",\\\"bgcolor\\\":\\\"white\\\",\\\"subunitcolor\\\":\\\"white\\\",\\\"lakecolor\\\":\\\"white\\\"},\\\"colorscale\\\":{\\\"sequential\\\":[[0.0,\\\"#0d0887\\\"],[0.1111111111111111,\\\"#46039f\\\"],[0.2222222222222222,\\\"#7201a8\\\"],[0.3333333333333333,\\\"#9c179e\\\"],[0.4444444444444444,\\\"#bd3786\\\"],[0.5555555555555556,\\\"#d8576b\\\"],[0.6666666666666666,\\\"#ed7953\\\"],[0.7777777777777778,\\\"#fb9f3a\\\"],[0.8888888888888888,\\\"#fdca26\\\"],[1.0,\\\"#f0f921\\\"]],\\\"diverging\\\":[[0,\\\"#8e0152\\\"],[0.1,\\\"#c51b7d\\\"],[0.2,\\\"#de77ae\\\"],[0.3,\\\"#f1b6da\\\"],[0.4,\\\"#fde0ef\\\"],[0.5,\\\"#f7f7f7\\\"],[0.6,\\\"#e6f5d0\\\"],[0.7,\\\"#b8e186\\\"],[0.8,\\\"#7fbc41\\\"],[0.9,\\\"#4d9221\\\"],[1,\\\"#276419\\\"]],\\\"sequentialminus\\\":[[0.0,\\\"#0d0887\\\"],[0.1111111111111111,\\\"#46039f\\\"],[0.2222222222222222,\\\"#7201a8\\\"],[0.3333333333333333,\\\"#9c179e\\\"],[0.4444444444444444,\\\"#bd3786\\\"],[0.5555555555555556,\\\"#d8576b\\\"],[0.6666666666666666,\\\"#ed7953\\\"],[0.7777777777777778,\\\"#fb9f3a\\\"],[0.8888888888888888,\\\"#fdca26\\\"],[1.0,\\\"#f0f921\\\"]]},\\\"yaxis\\\":{\\\"gridcolor\\\":\\\"white\\\",\\\"zerolinewidth\\\":2,\\\"title\\\":{\\\"standoff\\\":15},\\\"ticks\\\":\\\"\\\",\\\"zerolinecolor\\\":\\\"white\\\",\\\"automargin\\\":true,\\\"linecolor\\\":\\\"white\\\"},\\\"shapedefaults\\\":{\\\"line\\\":{\\\"color\\\":\\\"#2a3f5f\\\"}},\\\"hoverlabel\\\":{\\\"align\\\":\\\"left\\\"},\\\"mapbox\\\":{\\\"style\\\":\\\"light\\\"},\\\"polar\\\":{\\\"angularaxis\\\":{\\\"gridcolor\\\":\\\"white\\\",\\\"ticks\\\":\\\"\\\",\\\"linecolor\\\":\\\"white\\\"},\\\"bgcolor\\\":\\\"#E5ECF6\\\",\\\"radialaxis\\\":{\\\"gridcolor\\\":\\\"white\\\",\\\"ticks\\\":\\\"\\\",\\\"linecolor\\\":\\\"white\\\"}},\\\"autotypenumbers\\\":\\\"strict\\\",\\\"font\\\":{\\\"color\\\":\\\"#2a3f5f\\\"},\\\"ternary\\\":{\\\"baxis\\\":{\\\"gridcolor\\\":\\\"white\\\",\\\"ticks\\\":\\\"\\\",\\\"linecolor\\\":\\\"white\\\"},\\\"bgcolor\\\":\\\"#E5ECF6\\\",\\\"caxis\\\":{\\\"gridcolor\\\":\\\"white\\\",\\\"ticks\\\":\\\"\\\",\\\"linecolor\\\":\\\"white\\\"},\\\"aaxis\\\":{\\\"gridcolor\\\":\\\"white\\\",\\\"ticks\\\":\\\"\\\",\\\"linecolor\\\":\\\"white\\\"}},\\\"annotationdefaults\\\":{\\\"arrowhead\\\":0,\\\"arrowwidth\\\":1,\\\"arrowcolor\\\":\\\"#2a3f5f\\\"},\\\"plot_bgcolor\\\":\\\"#E5ECF6\\\",\\\"title\\\":{\\\"x\\\":0.05},\\\"scene\\\":{\\\"xaxis\\\":{\\\"gridcolor\\\":\\\"white\\\",\\\"gridwidth\\\":2,\\\"backgroundcolor\\\":\\\"#E5ECF6\\\",\\\"ticks\\\":\\\"\\\",\\\"showbackground\\\":true,\\\"zerolinecolor\\\":\\\"white\\\",\\\"linecolor\\\":\\\"white\\\"},\\\"zaxis\\\":{\\\"gridcolor\\\":\\\"white\\\",\\\"gridwidth\\\":2,\\\"backgroundcolor\\\":\\\"#E5ECF6\\\",\\\"ticks\\\":\\\"\\\",\\\"showbackground\\\":true,\\\"zerolinecolor\\\":\\\"white\\\",\\\"linecolor\\\":\\\"white\\\"},\\\"yaxis\\\":{\\\"gridcolor\\\":\\\"white\\\",\\\"gridwidth\\\":2,\\\"backgroundcolor\\\":\\\"#E5ECF6\\\",\\\"ticks\\\":\\\"\\\",\\\"showbackground\\\":true,\\\"zerolinecolor\\\":\\\"white\\\",\\\"linecolor\\\":\\\"white\\\"}},\\\"colorway\\\":[\\\"#636efa\\\",\\\"#EF553B\\\",\\\"#00cc96\\\",\\\"#ab63fa\\\",\\\"#FFA15A\\\",\\\"#19d3f3\\\",\\\"#FF6692\\\",\\\"#B6E880\\\",\\\"#FF97FF\\\",\\\"#FECB52\\\"]},\\\"data\\\":{\\\"barpolar\\\":[{\\\"type\\\":\\\"barpolar\\\",\\\"marker\\\":{\\\"line\\\":{\\\"color\\\":\\\"#E5ECF6\\\",\\\"width\\\":0.5}}}],\\\"carpet\\\":[{\\\"aaxis\\\":{\\\"gridcolor\\\":\\\"white\\\",\\\"endlinecolor\\\":\\\"#2a3f5f\\\",\\\"minorgridcolor\\\":\\\"white\\\",\\\"startlinecolor\\\":\\\"#2a3f5f\\\",\\\"linecolor\\\":\\\"white\\\"},\\\"type\\\":\\\"carpet\\\",\\\"baxis\\\":{\\\"gridcolor\\\":\\\"white\\\",\\\"endlinecolor\\\":\\\"#2a3f5f\\\",\\\"minorgridcolor\\\":\\\"white\\\",\\\"startlinecolor\\\":\\\"#2a3f5f\\\",\\\"linecolor\\\":\\\"white\\\"}}],\\\"scatterpolar\\\":[{\\\"type\\\":\\\"scatterpolar\\\",\\\"marker\\\":{\\\"colorbar\\\":{\\\"ticks\\\":\\\"\\\",\\\"outlinewidth\\\":0}}}],\\\"parcoords\\\":[{\\\"line\\\":{\\\"colorbar\\\":{\\\"ticks\\\":\\\"\\\",\\\"outlinewidth\\\":0}},\\\"type\\\":\\\"parcoords\\\"}],\\\"scatter\\\":[{\\\"type\\\":\\\"scatter\\\",\\\"marker\\\":{\\\"colorbar\\\":{\\\"ticks\\\":\\\"\\\",\\\"outlinewidth\\\":0}}}],\\\"histogram2dcontour\\\":[{\\\"colorbar\\\":{\\\"ticks\\\":\\\"\\\",\\\"outlinewidth\\\":0},\\\"type\\\":\\\"histogram2dcontour\\\",\\\"colorscale\\\":[[0.0,\\\"#0d0887\\\"],[0.1111111111111111,\\\"#46039f\\\"],[0.2222222222222222,\\\"#7201a8\\\"],[0.3333333333333333,\\\"#9c179e\\\"],[0.4444444444444444,\\\"#bd3786\\\"],[0.5555555555555556,\\\"#d8576b\\\"],[0.6666666666666666,\\\"#ed7953\\\"],[0.7777777777777778,\\\"#fb9f3a\\\"],[0.8888888888888888,\\\"#fdca26\\\"],[1.0,\\\"#f0f921\\\"]]}],\\\"contour\\\":[{\\\"colorbar\\\":{\\\"ticks\\\":\\\"\\\",\\\"outlinewidth\\\":0},\\\"type\\\":\\\"contour\\\",\\\"colorscale\\\":[[0.0,\\\"#0d0887\\\"],[0.1111111111111111,\\\"#46039f\\\"],[0.2222222222222222,\\\"#7201a8\\\"],[0.3333333333333333,\\\"#9c179e\\\"],[0.4444444444444444,\\\"#bd3786\\\"],[0.5555555555555556,\\\"#d8576b\\\"],[0.6666666666666666,\\\"#ed7953\\\"],[0.7777777777777778,\\\"#fb9f3a\\\"],[0.8888888888888888,\\\"#fdca26\\\"],[1.0,\\\"#f0f921\\\"]]}],\\\"scattercarpet\\\":[{\\\"type\\\":\\\"scattercarpet\\\",\\\"marker\\\":{\\\"colorbar\\\":{\\\"ticks\\\":\\\"\\\",\\\"outlinewidth\\\":0}}}],\\\"mesh3d\\\":[{\\\"colorbar\\\":{\\\"ticks\\\":\\\"\\\",\\\"outlinewidth\\\":0},\\\"type\\\":\\\"mesh3d\\\"}],\\\"surface\\\":[{\\\"colorbar\\\":{\\\"ticks\\\":\\\"\\\",\\\"outlinewidth\\\":0},\\\"type\\\":\\\"surface\\\",\\\"colorscale\\\":[[0.0,\\\"#0d0887\\\"],[0.1111111111111111,\\\"#46039f\\\"],[0.2222222222222222,\\\"#7201a8\\\"],[0.3333333333333333,\\\"#9c179e\\\"],[0.4444444444444444,\\\"#bd3786\\\"],[0.5555555555555556,\\\"#d8576b\\\"],[0.6666666666666666,\\\"#ed7953\\\"],[0.7777777777777778,\\\"#fb9f3a\\\"],[0.8888888888888888,\\\"#fdca26\\\"],[1.0,\\\"#f0f921\\\"]]}],\\\"scattermapbox\\\":[{\\\"type\\\":\\\"scattermapbox\\\",\\\"marker\\\":{\\\"colorbar\\\":{\\\"ticks\\\":\\\"\\\",\\\"outlinewidth\\\":0}}}],\\\"scattergeo\\\":[{\\\"type\\\":\\\"scattergeo\\\",\\\"marker\\\":{\\\"colorbar\\\":{\\\"ticks\\\":\\\"\\\",\\\"outlinewidth\\\":0}}}],\\\"histogram\\\":[{\\\"type\\\":\\\"histogram\\\",\\\"marker\\\":{\\\"colorbar\\\":{\\\"ticks\\\":\\\"\\\",\\\"outlinewidth\\\":0}}}],\\\"pie\\\":[{\\\"type\\\":\\\"pie\\\",\\\"automargin\\\":true}],\\\"choropleth\\\":[{\\\"colorbar\\\":{\\\"ticks\\\":\\\"\\\",\\\"outlinewidth\\\":0},\\\"type\\\":\\\"choropleth\\\"}],\\\"heatmapgl\\\":[{\\\"colorbar\\\":{\\\"ticks\\\":\\\"\\\",\\\"outlinewidth\\\":0},\\\"type\\\":\\\"heatmapgl\\\",\\\"colorscale\\\":[[0.0,\\\"#0d0887\\\"],[0.1111111111111111,\\\"#46039f\\\"],[0.2222222222222222,\\\"#7201a8\\\"],[0.3333333333333333,\\\"#9c179e\\\"],[0.4444444444444444,\\\"#bd3786\\\"],[0.5555555555555556,\\\"#d8576b\\\"],[0.6666666666666666,\\\"#ed7953\\\"],[0.7777777777777778,\\\"#fb9f3a\\\"],[0.8888888888888888,\\\"#fdca26\\\"],[1.0,\\\"#f0f921\\\"]]}],\\\"bar\\\":[{\\\"type\\\":\\\"bar\\\",\\\"error_y\\\":{\\\"color\\\":\\\"#2a3f5f\\\"},\\\"error_x\\\":{\\\"color\\\":\\\"#2a3f5f\\\"},\\\"marker\\\":{\\\"line\\\":{\\\"color\\\":\\\"#E5ECF6\\\",\\\"width\\\":0.5}}}],\\\"heatmap\\\":[{\\\"colorbar\\\":{\\\"ticks\\\":\\\"\\\",\\\"outlinewidth\\\":0},\\\"type\\\":\\\"heatmap\\\",\\\"colorscale\\\":[[0.0,\\\"#0d0887\\\"],[0.1111111111111111,\\\"#46039f\\\"],[0.2222222222222222,\\\"#7201a8\\\"],[0.3333333333333333,\\\"#9c179e\\\"],[0.4444444444444444,\\\"#bd3786\\\"],[0.5555555555555556,\\\"#d8576b\\\"],[0.6666666666666666,\\\"#ed7953\\\"],[0.7777777777777778,\\\"#fb9f3a\\\"],[0.8888888888888888,\\\"#fdca26\\\"],[1.0,\\\"#f0f921\\\"]]}],\\\"contourcarpet\\\":[{\\\"colorbar\\\":{\\\"ticks\\\":\\\"\\\",\\\"outlinewidth\\\":0},\\\"type\\\":\\\"contourcarpet\\\"}],\\\"table\\\":[{\\\"type\\\":\\\"table\\\",\\\"header\\\":{\\\"line\\\":{\\\"color\\\":\\\"white\\\"},\\\"fill\\\":{\\\"color\\\":\\\"#C8D4E3\\\"}},\\\"cells\\\":{\\\"line\\\":{\\\"color\\\":\\\"white\\\"},\\\"fill\\\":{\\\"color\\\":\\\"#EBF0F8\\\"}}}],\\\"scatter3d\\\":[{\\\"line\\\":{\\\"colorbar\\\":{\\\"ticks\\\":\\\"\\\",\\\"outlinewidth\\\":0}},\\\"type\\\":\\\"scatter3d\\\",\\\"marker\\\":{\\\"colorbar\\\":{\\\"ticks\\\":\\\"\\\",\\\"outlinewidth\\\":0}}}],\\\"scattergl\\\":[{\\\"type\\\":\\\"scattergl\\\",\\\"marker\\\":{\\\"colorbar\\\":{\\\"ticks\\\":\\\"\\\",\\\"outlinewidth\\\":0}}}],\\\"histogram2d\\\":[{\\\"colorbar\\\":{\\\"ticks\\\":\\\"\\\",\\\"outlinewidth\\\":0},\\\"type\\\":\\\"histogram2d\\\",\\\"colorscale\\\":[[0.0,\\\"#0d0887\\\"],[0.1111111111111111,\\\"#46039f\\\"],[0.2222222222222222,\\\"#7201a8\\\"],[0.3333333333333333,\\\"#9c179e\\\"],[0.4444444444444444,\\\"#bd3786\\\"],[0.5555555555555556,\\\"#d8576b\\\"],[0.6666666666666666,\\\"#ed7953\\\"],[0.7777777777777778,\\\"#fb9f3a\\\"],[0.8888888888888888,\\\"#fdca26\\\"],[1.0,\\\"#f0f921\\\"]]}],\\\"scatterternary\\\":[{\\\"type\\\":\\\"scatterternary\\\",\\\"marker\\\":{\\\"colorbar\\\":{\\\"ticks\\\":\\\"\\\",\\\"outlinewidth\\\":0}}}],\\\"scatterpolargl\\\":[{\\\"type\\\":\\\"scatterpolargl\\\",\\\"marker\\\":{\\\"colorbar\\\":{\\\"ticks\\\":\\\"\\\",\\\"outlinewidth\\\":0}}}]}},\\\"margin\\\":{\\\"l\\\":50,\\\"b\\\":50,\\\"r\\\":50,\\\"t\\\":60}},{\\\"showLink\\\":false,\\\"editable\\\":false,\\\"responsive\\\":true,\\\"staticPlot\\\":false,\\\"scrollZoom\\\":true}); gd.on(\\\"plotly_hover\\\",(function (data){var filtered_data=WebIO.PlotlyCommands.filterEventData(gd,data,\\\"hover\\\"); return !(filtered_data.isnil) ? (WebIO.setval({\\\"name\\\":\\\"hover\\\",\\\"scope\\\":\\\"17137258107738714140\\\",\\\"id\\\":\\\"4857129664532690009\\\",\\\"type\\\":\\\"observable\\\"},filtered_data.out)) : undefined})); gd.on(\\\"plotly_unhover\\\",(function (){return WebIO.setval({\\\"name\\\":\\\"hover\\\",\\\"scope\\\":\\\"17137258107738714140\\\",\\\"id\\\":\\\"4857129664532690009\\\",\\\"type\\\":\\\"observable\\\"},{})})); gd.on(\\\"plotly_selected\\\",(function (data){var filtered_data=WebIO.PlotlyCommands.filterEventData(gd,data,\\\"selected\\\"); return !(filtered_data.isnil) ? (WebIO.setval({\\\"name\\\":\\\"selected\\\",\\\"scope\\\":\\\"17137258107738714140\\\",\\\"id\\\":\\\"12946195763481800692\\\",\\\"type\\\":\\\"observable\\\"},filtered_data.out)) : undefined})); gd.on(\\\"plotly_deselect\\\",(function (){return WebIO.setval({\\\"name\\\":\\\"selected\\\",\\\"scope\\\":\\\"17137258107738714140\\\",\\\"id\\\":\\\"12946195763481800692\\\",\\\"type\\\":\\\"observable\\\"},{})})); gd.on(\\\"plotly_relayout\\\",(function (data){var filtered_data=WebIO.PlotlyCommands.filterEventData(gd,data,\\\"relayout\\\"); return !(filtered_data.isnil) ? (WebIO.setval({\\\"name\\\":\\\"relayout\\\",\\\"scope\\\":\\\"17137258107738714140\\\",\\\"id\\\":\\\"15188175178438408252\\\",\\\"type\\\":\\\"observable\\\"},filtered_data.out)) : undefined})); return gd.on(\\\"plotly_click\\\",(function (data){var filtered_data=WebIO.PlotlyCommands.filterEventData(gd,data,\\\"click\\\"); return !(filtered_data.isnil) ? (WebIO.setval({\\\"name\\\":\\\"click\\\",\\\"scope\\\":\\\"17137258107738714140\\\",\\\"id\\\":\\\"9224688176226162531\\\",\\\"type\\\":\\\"observable\\\"},filtered_data.out)) : undefined}))}));\\n    (WebIO.importBlock({\\\"data\\\":[{\\\"name\\\":\\\"Plotly\\\",\\\"type\\\":\\\"js\\\",\\\"url\\\":\\\"\\/assetserver\\/02f0d5b6a4424194a48c8d3be9f48e948c04bbd1-plotly.min.js\\\"},{\\\"name\\\":null,\\\"type\\\":\\\"js\\\",\\\"url\\\":\\\"\\/assetserver\\/c4b82ac8736c57d94c07f8ff57937febc407a986-plotly_webio.bundle.js\\\"}],\\\"type\\\":\\\"async_block\\\"})).then((imports) => handler.apply(this, imports));\\n}\\n\"],\"observables\":{\"_toImage\":{\"sync\":false,\"id\":\"7761197695285730906\",\"value\":{}},\"hover\":{\"sync\":false,\"id\":\"4857129664532690009\",\"value\":{}},\"selected\":{\"sync\":false,\"id\":\"12946195763481800692\",\"value\":{}},\"__gd_contents\":{\"sync\":false,\"id\":\"1470477727344354333\",\"value\":{}},\"click\":{\"sync\":false,\"id\":\"9224688176226162531\",\"value\":{}},\"image\":{\"sync\":true,\"id\":\"6071836389529521038\",\"value\":\"\"},\"__get_gd_contents\":{\"sync\":false,\"id\":\"10689961208181702433\",\"value\":\"\"},\"_downloadImage\":{\"sync\":false,\"id\":\"3171982022343507649\",\"value\":{}},\"relayout\":{\"sync\":false,\"id\":\"15188175178438408252\",\"value\":{}},\"_commands\":{\"sync\":false,\"id\":\"12474086794807554686\",\"value\":[]}}},\"children\":[{\"props\":{\"id\":\"plot-ccdbb890-c05a-4766-9419-9cd155fb8bf3\"},\"nodeType\":\"DOM\",\"type\":\"node\",\"instanceArgs\":{\"namespace\":\"html\",\"tag\":\"div\"},\"children\":[]}]},\n",
       "        window,\n",
       "    );\n",
       "    })()\n",
       "    </script>\n",
       "</div>\n"
      ],
      "text/plain": [
       "data: [\n",
       "  \"scatter with fields type, x, and y\"\n",
       "]\n",
       "\n",
       "layout: \"layout with fields margin and template\"\n",
       "\n"
      ]
     },
     "execution_count": 31,
     "metadata": {},
     "output_type": "execute_result"
    }
   ],
   "source": [
    "\n",
    "function oneRun(rateThreshold::Float64, investDays::Int, redeemDays::Int, ll::FastList{Int}, \n",
    "        tradingDays::Vector{Int}, prices::Vector{Float64})\n",
    "    days::Int = investDays+redeemDays\n",
    "    amount::Int = 1000\n",
    "    wallet::Float64 = 0.0;\n",
    "    charge_buy::Float64 = 1.19/1000\n",
    "    charge_sell::Float64 = 1.04/1000\n",
    "    charge_dp::Float64 = 13.5*1.18\n",
    "    fixed_deposit_rate::Float64 = 5.0/100.0\n",
    "    \n",
    "#     charge_buy = 0;\n",
    "#     charge_sell = 0;\n",
    "#     charge_dp = 0;\n",
    "    \n",
    "    daysKept::Int = 0;\n",
    "    minWallet = 0;\n",
    "    for i::Int in 1:days\n",
    "        \n",
    "        \n",
    "        for node in ll\n",
    "            dayBought::Int = node.data\n",
    "            daysHeld::Int = tradingDays[i] - tradingDays[dayBought]\n",
    "            net_today::Float64 = (amount*prices[i]*(1 - charge_sell) / (prices[dayBought]*(1+charge_buy)) - \n",
    "                amount*(p2(1, fixed_deposit_rate, daysHeld/365.0) - 1) - \n",
    "                charge_dp)\n",
    "            rate::Float64 = r(amount, net_today, daysHeld/365.0)\n",
    "            if rate > rateThreshold || i==days\n",
    "                wallet += net_today\n",
    "                daysKept = max(daysKept, daysHeld);\n",
    "                del(ll, node)\n",
    "            end\n",
    "        end\n",
    "        if i <= investDays\n",
    "            wallet -= amount\n",
    "            push!(ll, i)\n",
    "            \n",
    "        end\n",
    "        minWallet = min(wallet, minWallet)\n",
    "    end\n",
    "#     return minWallet\n",
    "    return wallet\n",
    "end\n",
    "\n",
    "function simulate(d::Dict{String, Point})\n",
    "    p = d[\"^NSEI\"];\n",
    "    \n",
    "    dates, prices = p.intDates, p.prices\n",
    "    wallets::Vector{Float64} = Vector{Float64}(undef, 1)\n",
    "\n",
    "    ll = FastList{Int}(10000);\n",
    "    investDays::Int = 365*2; redeemDays::Int = 365; days = investDays + redeemDays\n",
    "    for start in 1:length(dates) - days - 10\n",
    "        ddates = dates[start:end];\n",
    "        pprices = prices[start:end];\n",
    "        wallet = oneRun(0.15, investDays, redeemDays, ll,\n",
    "        ddates, pprices);\n",
    "        push!(wallets, wallet);\n",
    "        reset!(ll);\n",
    "    end\n",
    "#     y = nquantile(wallets, 100)\n",
    "#     x = collect(1:101)\n",
    "#     doplot(x, y)\n",
    "    #plot([histogram(x=wallets)])\n",
    "    plot(1:101, nquantile(wallets, 100))\n",
    "end\n",
    "@time simulate(d)"
   ]
  },
  {
   "cell_type": "code",
   "execution_count": 42,
   "metadata": {},
   "outputs": [
    {
     "data": {
      "application/vnd.plotly.v1+json": {
       "config": {
        "editable": false,
        "responsive": true,
        "scrollZoom": true,
        "showLink": false,
        "staticPlot": false
       },
       "data": [
        {
         "nbins": 50,
         "type": "histogram",
         "x": [
          -85.89995284499335,
          -85.84373223229298,
          -85.80933323773792,
          -85.5742906261312,
          -85.52999128890652,
          -85.48349944837864,
          -85.48201183042596,
          -85.47293466153464,
          -85.46147792145042,
          -85.4086039684805,
          -85.35602718673512,
          -85.34892690714564,
          -85.20386701277278,
          -85.16889953137678,
          -85.14705591122276,
          -85.028473739243,
          -84.96881713595283,
          -84.94754715784053,
          -84.93630093922955,
          -84.8635991199571,
          -84.79799947748292,
          -84.68414910504532,
          -84.62370498146427,
          -84.60163275368458,
          -84.55633226399779,
          -84.52618875938016,
          -84.50962007427499,
          -84.42494765282262,
          -84.38798666855153,
          -84.35368551394227,
          -84.31103328648777,
          -84.23895723027448,
          -84.22734332496879,
          -84.13880490749098,
          -84.13669858901606,
          -84.12825896436497,
          -84.10918701827855,
          -84.02787883131928,
          -84.0167560938805,
          -83.95459536635262,
          -83.73962028888047,
          -83.60983151334915,
          -83.6061872327152,
          -83.59779827763039,
          -83.58251404415343,
          -83.54982131928482,
          -83.52890656472073,
          -83.51060378192216,
          -83.37103192751805,
          -83.36192977933828,
          -83.27259511397264,
          -83.22386620582212,
          -83.19705083396698,
          -82.91618474563617,
          -82.68954728192695,
          -82.64148618102749,
          -82.43658055174686,
          -82.26430919931289,
          -82.24404038490036,
          -82.19141725080036,
          -81.98933885415123,
          -81.710057315424,
          -81.67929587914216,
          -81.59883097296368,
          -81.52643873999061,
          -81.47952822973141,
          -81.30589697792999,
          -81.25746121996522,
          -81.2207778221113,
          -81.20436463672776,
          -81.01605432923637,
          -81.00963687591306,
          -80.88243330693663,
          -80.80581839920812,
          -80.75022058406034,
          -80.708821236177,
          -80.64422135514606,
          -80.59435335076562,
          -80.58825088505576,
          -80.54178269614583,
          -80.36857897197258,
          -80.3393556788299,
          -80.31511196743071,
          -80.18284127053448,
          -79.99045456097011,
          -79.9367622655178,
          -79.93471945981567,
          -79.83496906225254,
          -79.7744366761884,
          -79.59433291917112,
          -79.47995269813659,
          -79.18333079481496,
          -79.15860623844992,
          -78.79454460696964,
          -78.68458796190265,
          -78.46913242908174,
          -78.42737424961435,
          -78.39505373628623,
          -78.29859084343359,
          -78.23706112335903,
          -78.09399739383738,
          -78.0791456744289,
          -77.89304659877196,
          -77.88347136838635,
          -77.87424958634055,
          -77.8209839820516,
          -77.69472980631377,
          -77.6683988153434,
          -77.5926430860166,
          -77.49972370922129,
          -77.25268889984379,
          -76.88875899766343,
          -76.74293870316824,
          -76.58665895318185,
          -76.5221325497621,
          -76.44986880040238,
          -76.41540787419514,
          -76.38383793461475,
          -76.34442135031344,
          -76.3278078078254,
          -76.27907666499252,
          -76.24798539580647,
          -76.1759900736061,
          -75.99589731776844,
          -75.98838869786532,
          -75.96151358928812,
          -75.79400510037588,
          -75.78373383822714,
          -75.71784356845109,
          -75.70865602158612,
          -75.70610485127493,
          -75.62898249416105,
          -75.62079252122149,
          -75.59562917502176,
          -75.46523048480753,
          -75.32184050283783,
          -75.07986232235424,
          -75.07425197288282,
          -75.03704173204379,
          -74.80720195900972,
          -74.7424504482357,
          -74.66799323533493,
          -74.63621605939079,
          -74.62928109156995,
          -74.62412379325787,
          -74.49749935165407,
          -74.3891228693946,
          -74.35321604139278,
          -74.35269292220379,
          -74.29777168516759,
          -74.26034005609823,
          -74.2156940764445,
          -74.07496806970842,
          -74.05565193287929,
          -73.91973896200771,
          -73.85819121912502,
          -73.69535833728844,
          -73.64342543988866,
          -73.54960783656577,
          -73.50287029510521,
          -73.45343537446219,
          -73.44255245394677,
          -73.3586271927614,
          -73.24383056048708,
          -73.10846403573647,
          -73.0187699200477,
          -72.96067886150459,
          -72.86209823298259,
          -72.67353205775433,
          -72.59762617641587,
          -72.45115542015037,
          -72.12927128261369,
          -72.05178704564028,
          -71.95304373685427,
          -71.85889626386528,
          -71.79135401805883,
          -71.68834721010225,
          -71.56692735774364,
          -71.41762001051296,
          -71.39715752560161,
          -71.27812203295166,
          -71.24878333975988,
          -70.99457678828713,
          -70.92907425521953,
          -70.87374628376263,
          -70.5879000344959,
          -70.53307896599554,
          -70.49144244657161,
          -70.36557755442945,
          -70.35825186225065,
          -70.34693294894542,
          -70.29521944731681,
          -70.22257924560267,
          -69.94316956666363,
          -69.90114693395304,
          -69.82747999898136,
          -69.81002496112251,
          -69.69761648576262,
          -69.66217922872274,
          -69.59309419775188,
          -69.24412022020365,
          -69.09121124398374,
          -69.06826709612642,
          -69.04795131996822,
          -69.0243138276168,
          -68.89530258389117,
          -68.462112562008,
          -68.44678565519354,
          -68.4460555241492,
          -68.31553445673755,
          -68.23359347448911,
          -68.13215848712073,
          -67.88172085870761,
          -67.87625797758594,
          -67.77248447615504,
          -67.7591156499515,
          -67.69274426196677,
          -67.3374672738393,
          -67.33584677505966,
          -67.17764968645366,
          -67.03619238317008,
          -67.01505242221768,
          -66.64712048187286,
          -66.58666979103383,
          -66.42697610882378,
          -66.25447328062329,
          -66.11351871802948,
          -66.104549192325,
          -66.07687235736441,
          -65.6946157109863,
          -65.44276048074195,
          -65.02100858618446,
          -65.01411621900799,
          -64.97920558914467,
          -64.52763580309808,
          -64.31800590359755,
          -64.29239002456143,
          -64.20903573499243,
          -64.15682398624273,
          -64.07793339112706,
          -64.06802488802172,
          -63.682178441933246,
          -63.61663975322499,
          -63.47204692975957,
          -63.448617152538134,
          -63.44148678465835,
          -63.206706798972135,
          -63.09754885521257,
          -63.03754507985673,
          -62.83950817349058,
          -62.83398374443914,
          -62.77664997539918,
          -62.51736992441752,
          -62.37058370085285,
          -62.21428740881628,
          -62.12840363577232,
          -62.123638594811545,
          -62.02460008204059,
          -61.95375640760674,
          -61.949277369300646,
          -61.931832764916805,
          -61.89266457278708,
          -61.796227769354715,
          -61.681429442181546,
          -61.61814950412124,
          -61.598879254386006,
          -61.485616547572164,
          -61.48503317944149,
          -61.12365030017421,
          -60.95447453196825,
          -60.88547259897683,
          -60.80793795875916,
          -60.79178491600427,
          -60.74277114837561,
          -60.58135178103766,
          -60.52298682534909,
          -60.51767174923477,
          -60.431238532419464,
          -60.27485034507543,
          -60.19729585192377,
          -60.122911703561364,
          -60.08438729679403,
          -59.99975827839461,
          -59.87982351247447,
          -59.44729948187126,
          -59.36631099780889,
          -59.35019353876554,
          -59.34150536013585,
          -59.24624911712316,
          -58.94475523488054,
          -58.90417667180823,
          -58.89816966638457,
          -58.740110503883216,
          -58.65549036783116,
          -58.548579817704535,
          -58.0457305554527,
          -57.6761741332261,
          -57.64746119355807,
          -57.49741683767859,
          -57.20034814711514,
          -57.09099531368569,
          -57.08746435167025,
          -56.94362816431207,
          -56.92748133179275,
          -56.82248358772627,
          -56.6900669793299,
          -56.64344135015709,
          -56.560775597889766,
          -56.44029366046941,
          -56.33362573537737,
          -56.30865433201387,
          -56.175275975703485,
          -56.0491501335741,
          -56.0301844941526,
          -55.667473710662094,
          -55.50528569918771,
          -55.4786420486768,
          -54.84662509349809,
          -54.689664107666914,
          -54.25767619240431,
          -54.130207926361805,
          -54.022630518522874,
          -53.887749880435344,
          -53.59939153231006,
          -53.333079770174955,
          -52.920574448427104,
          -52.914863818029964,
          -52.876410394570314,
          -52.763683745964805,
          -52.31219506450393,
          -52.303100521099765,
          -52.16332151257408,
          -52.10145500528584,
          -52.062744789061554,
          -51.95044475200425,
          -51.60607038614246,
          -51.32819589868571,
          -51.16462465946383,
          -51.037841094343904,
          -50.825418522871544,
          -50.66360917032656,
          -50.45314565185179,
          -50.20869678758868,
          -50.035039966736065,
          -50.01783151908423,
          -49.860133621651684,
          -49.530408957151806,
          -49.51790766107118,
          -49.32736306173647,
          -49.18084756603333,
          -49.06125124470141,
          -48.974556673465806,
          -48.828960102688235,
          -48.771386741277766,
          -48.739401528038364,
          -48.69945204769978,
          -48.69612226368072,
          -48.490382352999404,
          -48.33556532593263,
          -48.0640129509703,
          -47.85110321428776,
          -47.78187594883687,
          -47.70378385824389,
          -47.688724755996084,
          -47.48565697555617,
          -47.45187494843288,
          -47.411556254978606,
          -46.95225218692015,
          -46.931950113401,
          -46.72677091378334,
          -46.709821720639134,
          -46.58783703349986,
          -46.48223884457223,
          -46.443296277485594,
          -46.240263571987725,
          -44.65633396183836,
          -44.650747200398264,
          -44.492917152062084,
          -44.4107474945973,
          -44.250762347163544,
          -44.16983250082636,
          -44.08335403861793,
          -43.85941657498893,
          -43.53352349638043,
          -43.08262713153217,
          -43.0786948622732,
          -42.959651353039604,
          -42.80720485251972,
          -42.775273482007535,
          -42.570806946755866,
          -42.256068248042645,
          -42.002184037820264,
          -41.64928360863739,
          -41.45363457519133,
          -41.41531543734158,
          -41.359777661031416,
          -41.07560292525994,
          -41.00115975915397,
          -40.92721165717399,
          -40.52037377701134,
          -40.51811793169971,
          -40.438622065500006,
          -39.80874614511571,
          -39.78673753524894,
          -39.49391011257058,
          -39.45658805175805,
          -39.416824277374474,
          -39.28306257586247,
          -39.20040938432074,
          -38.9733608050295,
          -38.69765616750961,
          -38.59654215849312,
          -38.520395477555866,
          -38.2512236875765,
          -38.12923569619253,
          -38.013259499961,
          -38.01045688734802,
          -37.97421071456489,
          -37.60703714254539,
          -37.36657139737651,
          -37.251254078792115,
          -37.070017621443675,
          -36.54302443891289,
          -36.310237013942725,
          -36.2666463865309,
          -36.196486709431184,
          -36.06765388391003,
          -35.587658926378104,
          -35.070577445062476,
          -35.0281094275656,
          -33.988616608387936,
          -33.905328948512526,
          -33.668280328403235,
          -32.76715146061484,
          -32.24972561038436,
          -31.956505424731883,
          -31.83641122399975,
          -31.794379524768623,
          -31.560085842500097,
          -31.544530909915068,
          -31.52860599429531,
          -31.461538861446247,
          -31.269987940304688,
          -31.261565283800618,
          -31.07139222093087,
          -31.016533654104293,
          -30.901988694322092,
          -30.564434999420943,
          -30.285379986323548,
          -30.19206418117203,
          -30.068446934175775,
          -30.066971247017015,
          -29.982738053587877,
          -29.78085290865623,
          -29.676125518030194,
          -29.452193037535114,
          -29.003302387711116,
          -28.78854187488873,
          -28.192972361164216,
          -28.12689810934098,
          -28.10284444455312,
          -27.69431289586377,
          -27.401501422315665,
          -27.32394668597582,
          -27.03239237067291,
          -26.902320104036214,
          -26.77709190020674,
          -26.591728201854803,
          -25.735755116439453,
          -24.99633177777164,
          -24.39610946533103,
          -24.38713298304761,
          -24.11738225247715,
          -23.54418105441589,
          -23.490473806347588,
          -23.456509688098983,
          -23.39809938348525,
          -23.230698048432874,
          -23.038186941350467,
          -22.63980771348931,
          -21.387026120933726,
          -21.303585964016868,
          -21.25657328662457,
          -20.992979874082973,
          -20.566888812913742,
          -20.524325464786585,
          -20.344680063869937,
          -19.782748238923187,
          -19.67398876116817,
          -19.43961993425426,
          -19.26546174974805,
          -19.25813778349793,
          -18.943104963771475,
          -18.77597735907791,
          -18.10423653532338,
          -18.09153585386826,
          -17.921002553869748,
          -17.752893045161457,
          -17.082039623681887,
          -16.994809370924468,
          -16.92764912121991,
          -16.880858671277633,
          -16.565578842045213,
          -16.542500668950154,
          -16.047417353798508,
          -16.04404995244404,
          -15.991318260971932,
          -15.56427158243473,
          -15.417461730001902,
          -15.188460544555028,
          -15.058460213373637,
          -14.82563174441105,
          -14.528631062815478,
          -14.194879844781072,
          -14.04150229616221,
          -14.015305304781311,
          -13.982976497929911,
          -13.843863283781022,
          -13.781470704404198,
          -13.272815564279705,
          -12.751366400454089,
          -12.744957148365298,
          -12.741296918279732,
          -11.998718241173979,
          -11.884036221528238,
          -11.846739695105201,
          -11.764673245801427,
          -11.710111223489116,
          -11.586591806627988,
          -11.454383183840577,
          -11.352275825112802,
          -10.908669722618814,
          -10.79998966029595,
          -10.2405473031148,
          -9.359497897878398,
          -9.290765525652079,
          -9.220162642855579,
          -8.887861053339607,
          -8.629398584653913,
          -8.459302539979497,
          -8.171405825461274,
          -7.574147662746745,
          -7.501555856626219,
          -7.262664767465954,
          -7.187329727390656,
          -7.148934735475643,
          -6.992668472314256,
          -6.905480714007761,
          -6.5534340632495525,
          -6.540501754904604,
          -6.423610784087086,
          -6.402410270828451,
          -6.250859665619323,
          -5.823126569561666,
          -5.433797454958123,
          -5.326095738774206,
          -5.141538107633725,
          -4.89763273456274,
          -4.247000519822408,
          -4.226712336622018,
          -3.984055700359479,
          -3.873983716531204,
          -3.2284127668153917,
          -2.935342132744534,
          -2.342253688326823,
          -2.147005226719023,
          -1.8165814310524109,
          -1.5912259425406639,
          -1.3626023634075501,
          -1.2899705418285223,
          -0.6225216911066145,
          -0.5212512393611979,
          -0.3657137773180441,
          -0.15536704511149857,
          0,
          0,
          0,
          0.986886597425185,
          1.0783126032618773,
          1.6976723315825337,
          2.3344431221366424,
          3.1711511184871144,
          3.215608981070428,
          3.531703454961299,
          3.557066893540517,
          3.56203429460511,
          3.5693724627340107,
          4.184060892042307,
          4.772965384595351,
          4.938953982193595,
          5.060532675142881,
          5.113718245289145,
          5.3360221441106415,
          5.783205741775799,
          6.031737543735494,
          6.280531105501619,
          7.824797286523766,
          7.863296259334285,
          7.8668678871802955,
          7.929453562457267,
          8.147884633381498,
          8.559815902921297,
          8.895715803475479,
          8.960070920526553,
          9.01440727891174,
          9.021575250761838,
          9.036747793874845,
          9.295874023288109,
          9.315243584420196,
          9.512172843146072,
          9.617303643106201,
          10.384994554406468,
          11.159903683736383,
          11.469627981037656,
          11.557430334407304,
          11.594606860115885,
          11.67471208605404,
          11.911177577674948,
          12.259667553402176,
          12.448492135372181,
          12.589704988003913,
          12.965664790372866,
          13.02218068065133,
          13.704567881835272,
          13.979197566967795,
          15.133225606863121,
          15.23053836139059,
          15.704292704943112,
          16.18179519689218,
          16.2941982578944,
          16.837966538883855,
          16.925462906379018,
          18.210686745764892,
          18.30184367568912,
          18.354615546215225,
          18.357722722992587,
          18.464025426937745,
          18.7302754151736,
          19.122716371998095,
          19.624739048369122,
          19.727318863625264,
          19.836579812039012,
          20.12901068265569,
          20.129767693564894,
          20.270441003747685,
          21.022221004484564,
          21.849625288751184,
          22.802401191475987,
          22.848115771473545,
          23.125808903943444,
          23.428604649099572,
          23.922374366722043,
          24.68276200065407,
          25.503210516330554,
          25.554412934682457,
          25.596198294859065,
          25.597528649229375,
          25.765166888021884,
          27.19621125280758,
          27.200706892294946,
          28.489713966070628,
          28.73085231202408,
          28.801244862417285,
          29.160800408885954,
          29.44543340435399,
          29.825367436153805,
          30.245494663368255,
          30.587863413680694,
          30.944482039104937,
          30.95116985239066,
          31.058409165214606,
          31.154026392652856,
          31.87835410226414,
          32.26616798452577,
          32.29849428162386,
          32.332645972067596,
          33.8146491659544,
          33.94231536928234,
          34.70842436021535,
          35.15461304924632,
          35.387321807497464,
          35.53636541506469,
          35.64246375907489,
          36.14630554303599,
          37.54093622872319,
          38.49361543001084,
          38.50816824126922,
          39.25310486690747,
          40.7385723158898,
          41.38915121098725,
          41.88187683654543,
          42.301107433318876,
          43.340981485746745,
          43.417549407971066,
          45.23442191165301,
          46.35732371351613,
          47.04505369289893,
          47.5502053951226,
          47.565292221566644,
          47.73342813457293,
          47.772616642980935,
          48.55389601161599,
          49.23015408354176,
          49.731409347376164,
          49.76011121918127,
          51.321449176629756,
          52.023053828984885,
          52.37726462856316,
          52.64840176251162,
          53.29240784393823,
          53.364809794388,
          53.78230998176583,
          55.055941294759506,
          55.16830562867781,
          56.44309767720739,
          56.60856875142435,
          57.25288534761346,
          57.277101687893015,
          57.28832629213827,
          57.490358870619104,
          57.70710635166161,
          57.97914784421996,
          58.42536256872175,
          58.9415717545942,
          59.35290777216946,
          59.387951146306484,
          59.97494455858337,
          60.920226243120545,
          61.484709668613014,
          62.29704135049894,
          63.26386008767426,
          63.52317536691863,
          63.8557766453423,
          64.17181070469147,
          64.71740270961732,
          65.16154681845245,
          65.5221767731205,
          65.5670589495973,
          65.64368731137841,
          65.92128838556053,
          66.24255972896056,
          66.31009597430837,
          67.24371306849876,
          67.33125338872996,
          67.80778466081621,
          68.04824914110954,
          68.47135520996,
          68.61691836057062,
          69.20533981301442,
          69.36620224217145,
          69.9744268252837,
          70.72284784704432,
          72.0595144075491,
          72.2678710491941,
          72.49254708468702,
          74.03123801823925,
          74.59766581932155,
          75.04958374344311,
          75.14132811391121,
          75.41884684698708,
          75.43686510496266,
          76.50786644188337,
          76.56341109098777,
          76.80006995142278,
          77.13963000059732,
          77.30320799846382,
          77.94156302888044,
          78.71109512451689,
          79.22673139631453,
          79.57590644909884,
          80.02043076706089,
          80.3954382806306,
          82.21456744006733,
          82.49058495561795,
          82.6853152171153,
          83.04849717109167,
          83.05067288628625,
          83.34789322854859,
          83.42131614290014,
          83.66843119477765,
          84.83807983627894,
          85.17787742512468,
          85.3655396454776,
          85.46855845716736,
          85.70163978124124,
          86.53389160079455,
          87.64084797450178,
          89.83324362246891,
          89.9661603807848,
          90.3075954357861,
          90.533084636569,
          90.54292333975826,
          90.74463461841447,
          90.78183350206264,
          90.79272535984056,
          91.87650066961652,
          91.95732723499641,
          92.25541299442892,
          93.10349204398005,
          93.26385529996153,
          93.33987084496309,
          94.74605287002937,
          95.00840200414176,
          95.63591261645175,
          96.15784649244472,
          97.69534739390686,
          97.97842627365023,
          98.2334025430477,
          100.06555141471426,
          100.68771706678841,
          101.4008711437949,
          102.35214180793668,
          103.40244649082395,
          104.73093643711344,
          104.86756162146342,
          107.38165173543379,
          107.56503244680556,
          107.67084268565861,
          107.83400641314591,
          108.22085760287843,
          109.04339367598025,
          109.2233261192924,
          109.26987750145956,
          109.3040138860252,
          109.89971438214896,
          110.34721127974878,
          110.53902313904796,
          110.84291238464674,
          111.0003481251177,
          111.19805420711026,
          111.20653111994798,
          113.29210265640835,
          113.63100882130777,
          114.94468930111843,
          115.27043311471363,
          115.45070636206916,
          115.52362726313609,
          115.54562354278613,
          115.93191274070564,
          116.19335264819739,
          117.43704731095006,
          117.4798774391435,
          117.81315939488675,
          118.09795289455738,
          119.03031715128773,
          119.95957488490112,
          120.31049041847498,
          120.51480310389265,
          121.04783216381291,
          121.1483225119311,
          121.15117293196445,
          121.99374381420233,
          122.96694015749803,
          123.17810660694252,
          123.29159475013269,
          123.44532897386262,
          123.5416569227882,
          124.21452776499228,
          124.73899995380368,
          125.47373184304145,
          126.3812445972122,
          126.59443772960155,
          126.89366406616807,
          127.53898367175327,
          128.15592894934218,
          128.89075516656493,
          131.04278906920447,
          131.5036142714978,
          131.80124283853186,
          131.84085970671072,
          131.97552339608313,
          132.41977320250336,
          132.67958267302183,
          132.8736949886556,
          134.08225641022494,
          134.54898176169468,
          135.61764694924267,
          138.03288273969244,
          138.2030904391923,
          138.84999665015266,
          141.27752811061538,
          142.53154068818753,
          142.73825715032737,
          143.56259055585178,
          144.17104357673827,
          145.14638879060092,
          145.15364508057243,
          146.00033384325678,
          146.4968240356983,
          146.6314701265628,
          147.6612429477457,
          148.43415204516936,
          148.74918532323073,
          149.97746159094623,
          150.35757583108708,
          151.29478271450898,
          154.5660515075806,
          158.1211873004564,
          159.25056129872198,
          160.91242915151406,
          161.5001817851164,
          161.54638812311708,
          161.84245676686308,
          161.96161800446887,
          162.42491653225173,
          163.3292701813775,
          164.56185991494073,
          164.94180362004954,
          165.22178036471124,
          166.71732045235674,
          168.67056605809495,
          170.6946571336633,
          170.83035253999594,
          172.80462145365334,
          173.55907028581558,
          173.97030547288864,
          173.98409145185326,
          174.89801233599826,
          175.03636219945514,
          175.58347047219303,
          176.0006064768663,
          177.5423266624379,
          177.59505526214966,
          178.56129062210755,
          179.0781894125646,
          179.16188552354186,
          179.26099301872705,
          179.51834362191826,
          179.6336070475167,
          179.83068002526164,
          180.21319868782015,
          180.49764456322794,
          182.23734194028842,
          182.52677324178185,
          183.31340402410046,
          185.06034135466956,
          186.854279044376,
          189.40614935653412,
          189.47907058723482,
          190.66131779752698,
          192.06486316793385,
          193.331663085792,
          193.48505964187547,
          196.4647959087978,
          198.97932258285138,
          199.76287383045772,
          200.84845380715612,
          201.80401940707696,
          202.27409650643412,
          202.88057449599344,
          204.13910785221532,
          205.2974905806099,
          205.88309163443944,
          206.03371384549664,
          206.20359492950055,
          208.48678754061817,
          210.87402866630836,
          210.99088588820436,
          211.33547373318734,
          211.4095878706887,
          211.9832603442267,
          212.1847181764224,
          212.303111082486,
          213.24738449372086,
          217.23989283173347,
          217.45830994892103,
          217.59011035375906,
          222.3458767002277,
          222.43567308019618,
          223.48221884843528,
          224.0748550497612,
          224.2797511155537,
          225.11981181004708,
          225.67137343605845,
          226.98644662605966,
          228.55112429304714,
          228.58132212609067,
          229.47291261367621,
          229.89061991886035,
          230.29384931922806,
          231.81492532992465,
          233.9924605712874,
          237.72673080075236,
          238.29174222566976,
          238.7174692594173,
          239.21044626340952,
          241.67674586791716,
          242.43687367170574,
          243.1244124049532,
          243.42445595423595,
          243.82364662998137,
          245.92698998743484,
          246.45431918038523,
          246.93551627175347,
          249.44302110435976,
          252.4634107810547,
          255.5970106041798,
          258.46322636746953,
          259.6964662079142,
          263.37108237164244,
          263.4894915876183,
          264.99963353910505,
          266.49333227673407,
          268.01271853106294,
          268.9103455404588,
          269.03034031331,
          270.1089334005012,
          270.97334054871374,
          272.7118531038338,
          273.12591805415224,
          273.61328970330027,
          275.32746173296243,
          278.6324638101949,
          278.66408750866094,
          279.40168826668105,
          280.8810424718706,
          284.2152123244903,
          285.4322929218236,
          287.01065265119513,
          288.681181318053,
          289.74326866690126,
          289.7889463458904,
          292.97630499942466,
          294.3550943423468,
          294.4995559581158,
          294.50678813614303,
          295.6034707841359,
          301.6237254299827,
          302.1305827675091,
          304.19229330416965,
          304.31715344348714,
          305.4055468510639,
          305.70102598686384,
          307.2055532389884,
          308.25193913934424,
          310.10243931739916,
          310.1472426660581,
          311.2567987492648,
          312.4149145459831,
          313.1681098795516,
          313.79931113088514,
          314.50663947019956,
          316.14724694178886,
          322.6869623162489,
          323.08691007508753,
          323.8469309960981,
          324.63319580870433,
          326.4433762354961,
          326.76052762517315,
          326.8249232856397,
          327.5933932639971,
          327.99054157431965,
          328.92491622198224,
          334.26012944126313,
          335.1042781222574,
          336.8226064217287,
          339.6834245329597,
          342.86719408379724,
          344.4722972117003,
          345.0906232077341,
          345.46166821066856,
          346.09117120843507,
          346.2385559941489,
          348.56398402284157,
          350.2000134394957,
          351.4807838773096,
          354.99011293728034,
          356.3391949734781,
          356.5797665032592,
          357.15983658087333,
          357.82128957780014,
          358.28835263398304,
          359.4277108681072,
          368.3001309881133,
          368.4581511788836,
          369.71297277152865,
          369.9921727684385,
          372.02734399638746,
          373.01079746205374,
          373.34328203367164,
          375.6184715704416,
          377.9457101648047,
          378.0441199387526,
          381.39607224245583,
          383.9797874785128,
          384.37273832455645,
          386.865505849444,
          388.7351697206146,
          389.9481018464302,
          390.60150939857346,
          391.77692953462804,
          392.71285848886663,
          395.7104509732049,
          398.35417925007744,
          400.2759751318654,
          400.50354223546447,
          400.51578628825337,
          401.3708461542552,
          402.10797533191754,
          402.17007518564935,
          404.4201406862358,
          405.77351533513115,
          406.52666509205415,
          406.8200534398713,
          409.31781269335505,
          409.3403118003781,
          409.3975686427377,
          413.43969986444813,
          414.44776484070456,
          414.8275436141742,
          416.14556756111256,
          416.9401751280157,
          417.865290547275,
          418.50437265916014,
          418.6363713301491,
          419.5193578116969,
          422.30990490725776,
          427.01486694893634,
          430.5004476163439,
          433.48177301898767,
          436.7562005041134,
          437.72357542269873,
          441.516064858787,
          442.75715405296864,
          444.56941267988446,
          444.7874941272154,
          445.10001270089407,
          446.06617860477746,
          447.2293750864818,
          448.29444351517066,
          449.3735316897285,
          449.9497032574764,
          451.06025989986415,
          454.929458295076,
          456.2118166635293,
          458.73901769871867,
          461.1244165867711,
          462.32369987756056,
          464.8611616230015,
          467.51403067460143,
          467.9956741724526,
          470.49634562779994,
          471.2908891142152,
          473.2976973552158,
          474.66053329869,
          481.9374440710334,
          483.92378035217735,
          484.7855194243604,
          486.2363296370435,
          487.30908266634987,
          489.963402136613,
          493.6895985367231,
          494.32674809750586,
          495.1707387951689,
          496.83357033400324,
          504.4476374928278,
          506.38335270104335,
          506.59566020721644,
          508.10870380018366,
          511.8956212405548,
          512.6352251280815,
          516.2536906402506,
          517.5112451566773,
          519.7728519541541,
          522.9655397035225,
          526.222499688496,
          526.3093476079665,
          527.7295311020889,
          528.2702677421925,
          531.0906444838076,
          531.3275962767673,
          532.7358589649473,
          536.3628443090028,
          543.4523071103395,
          550.9096973900724,
          551.8724124027736,
          552.5286292968457,
          552.8326995282504,
          555.0919504413333,
          558.2686398948429,
          559.6865286693362,
          561.6290781711706,
          564.629209076602,
          569.6776131807571,
          572.1203822934807,
          576.3699516547352,
          580.5313777153631,
          582.0568502887089,
          583.7993754215535,
          584.6176438245093,
          589.1263370332912,
          592.6204442175446,
          592.7295262775867,
          598.7791168811291,
          601.3540828713387,
          604.4339401686384,
          606.2686513102776,
          606.7225598422,
          614.8683651733938,
          622.6764909042801,
          623.264148129712,
          633.0269732185919,
          633.0342299014446,
          640.0456804420277,
          656.2152538155851,
          657.34307739397,
          660.7031740628245,
          662.4456486442907,
          662.7690112009229,
          670.1431205034638,
          670.2520771056609,
          672.1234266485915,
          673.0621473248303,
          676.1636105584194,
          680.4067930804274,
          681.2546055619716,
          690.7566427007963,
          695.1979057493602,
          696.6210566734411,
          697.4016578934597,
          697.576268305914,
          705.5240689674166,
          706.9134205936926,
          708.3290513112825,
          711.1081125742766,
          721.7688530333819,
          722.2601259870579,
          726.4450089520257,
          729.2822967097001,
          737.6799908234082,
          743.3540844301676,
          744.1314884264891,
          754.082851240579,
          755.6074011161893,
          768.1223922125807,
          776.7715526932756,
          785.7442334124714,
          793.4750891371227,
          795.0493601790021,
          799.4289372140054,
          804.0162339876869,
          807.1779004168668,
          809.4448847278181,
          809.813014374658,
          822.456330835566,
          823.5245167706087,
          824.6256601027047,
          824.9055629448453,
          824.9281508088606,
          825.5206252793554,
          828.7071620965492,
          832.6813824134676,
          836.2737359157345,
          840.5191669615057,
          844.0025233844033,
          844.1648863513437,
          844.3003028419664,
          844.7959275821479,
          849.1746627473441,
          849.452103017635,
          854.8329667417154,
          858.7214623742319,
          862.5270899400161,
          866.6840051642538,
          867.2165376287849,
          869.0578440804122,
          870.8964218152611,
          871.9483192103307,
          880.921436388716,
          881.3806778497543,
          883.1833557978665,
          900.5189086449819,
          902.6686275774864,
          905.9674295427515,
          907.8789658976392,
          908.0032428267123,
          917.5770605152416,
          919.0648703244129,
          929.0314081344665,
          934.197544079498,
          945.5036937371741,
          961.4198815707182,
          962.5814093470502,
          965.1178016281655,
          968.127606334175,
          970.4361663388722,
          970.5199824291776,
          971.2087595562542,
          976.6450463920033,
          980.5937218037284,
          983.4069401666198,
          985.4339902234317,
          985.727460976451,
          990.7109422214878,
          995.0013368913624,
          996.2492263671885,
          1001.4121386371835,
          1002.6507696001842,
          1009.2660810585146
         ]
        }
       ],
       "frames": [],
       "layout": {
        "autosize": true,
        "margin": {
         "b": 50,
         "l": 50,
         "r": 50,
         "t": 60
        },
        "template": {
         "data": {
          "bar": [
           {
            "error_x": {
             "color": "#2a3f5f"
            },
            "error_y": {
             "color": "#2a3f5f"
            },
            "marker": {
             "line": {
              "color": "#E5ECF6",
              "width": 0.5
             }
            },
            "type": "bar"
           }
          ],
          "barpolar": [
           {
            "marker": {
             "line": {
              "color": "#E5ECF6",
              "width": 0.5
             }
            },
            "type": "barpolar"
           }
          ],
          "carpet": [
           {
            "aaxis": {
             "endlinecolor": "#2a3f5f",
             "gridcolor": "white",
             "linecolor": "white",
             "minorgridcolor": "white",
             "startlinecolor": "#2a3f5f"
            },
            "baxis": {
             "endlinecolor": "#2a3f5f",
             "gridcolor": "white",
             "linecolor": "white",
             "minorgridcolor": "white",
             "startlinecolor": "#2a3f5f"
            },
            "type": "carpet"
           }
          ],
          "choropleth": [
           {
            "colorbar": {
             "outlinewidth": 0,
             "ticks": ""
            },
            "type": "choropleth"
           }
          ],
          "contour": [
           {
            "colorbar": {
             "outlinewidth": 0,
             "ticks": ""
            },
            "colorscale": [
             [
              0,
              "#0d0887"
             ],
             [
              0.1111111111111111,
              "#46039f"
             ],
             [
              0.2222222222222222,
              "#7201a8"
             ],
             [
              0.3333333333333333,
              "#9c179e"
             ],
             [
              0.4444444444444444,
              "#bd3786"
             ],
             [
              0.5555555555555556,
              "#d8576b"
             ],
             [
              0.6666666666666666,
              "#ed7953"
             ],
             [
              0.7777777777777778,
              "#fb9f3a"
             ],
             [
              0.8888888888888888,
              "#fdca26"
             ],
             [
              1,
              "#f0f921"
             ]
            ],
            "type": "contour"
           }
          ],
          "contourcarpet": [
           {
            "colorbar": {
             "outlinewidth": 0,
             "ticks": ""
            },
            "type": "contourcarpet"
           }
          ],
          "heatmap": [
           {
            "colorbar": {
             "outlinewidth": 0,
             "ticks": ""
            },
            "colorscale": [
             [
              0,
              "#0d0887"
             ],
             [
              0.1111111111111111,
              "#46039f"
             ],
             [
              0.2222222222222222,
              "#7201a8"
             ],
             [
              0.3333333333333333,
              "#9c179e"
             ],
             [
              0.4444444444444444,
              "#bd3786"
             ],
             [
              0.5555555555555556,
              "#d8576b"
             ],
             [
              0.6666666666666666,
              "#ed7953"
             ],
             [
              0.7777777777777778,
              "#fb9f3a"
             ],
             [
              0.8888888888888888,
              "#fdca26"
             ],
             [
              1,
              "#f0f921"
             ]
            ],
            "type": "heatmap"
           }
          ],
          "heatmapgl": [
           {
            "colorbar": {
             "outlinewidth": 0,
             "ticks": ""
            },
            "colorscale": [
             [
              0,
              "#0d0887"
             ],
             [
              0.1111111111111111,
              "#46039f"
             ],
             [
              0.2222222222222222,
              "#7201a8"
             ],
             [
              0.3333333333333333,
              "#9c179e"
             ],
             [
              0.4444444444444444,
              "#bd3786"
             ],
             [
              0.5555555555555556,
              "#d8576b"
             ],
             [
              0.6666666666666666,
              "#ed7953"
             ],
             [
              0.7777777777777778,
              "#fb9f3a"
             ],
             [
              0.8888888888888888,
              "#fdca26"
             ],
             [
              1,
              "#f0f921"
             ]
            ],
            "type": "heatmapgl"
           }
          ],
          "histogram": [
           {
            "marker": {
             "colorbar": {
              "outlinewidth": 0,
              "ticks": ""
             }
            },
            "type": "histogram"
           }
          ],
          "histogram2d": [
           {
            "colorbar": {
             "outlinewidth": 0,
             "ticks": ""
            },
            "colorscale": [
             [
              0,
              "#0d0887"
             ],
             [
              0.1111111111111111,
              "#46039f"
             ],
             [
              0.2222222222222222,
              "#7201a8"
             ],
             [
              0.3333333333333333,
              "#9c179e"
             ],
             [
              0.4444444444444444,
              "#bd3786"
             ],
             [
              0.5555555555555556,
              "#d8576b"
             ],
             [
              0.6666666666666666,
              "#ed7953"
             ],
             [
              0.7777777777777778,
              "#fb9f3a"
             ],
             [
              0.8888888888888888,
              "#fdca26"
             ],
             [
              1,
              "#f0f921"
             ]
            ],
            "type": "histogram2d"
           }
          ],
          "histogram2dcontour": [
           {
            "colorbar": {
             "outlinewidth": 0,
             "ticks": ""
            },
            "colorscale": [
             [
              0,
              "#0d0887"
             ],
             [
              0.1111111111111111,
              "#46039f"
             ],
             [
              0.2222222222222222,
              "#7201a8"
             ],
             [
              0.3333333333333333,
              "#9c179e"
             ],
             [
              0.4444444444444444,
              "#bd3786"
             ],
             [
              0.5555555555555556,
              "#d8576b"
             ],
             [
              0.6666666666666666,
              "#ed7953"
             ],
             [
              0.7777777777777778,
              "#fb9f3a"
             ],
             [
              0.8888888888888888,
              "#fdca26"
             ],
             [
              1,
              "#f0f921"
             ]
            ],
            "type": "histogram2dcontour"
           }
          ],
          "mesh3d": [
           {
            "colorbar": {
             "outlinewidth": 0,
             "ticks": ""
            },
            "type": "mesh3d"
           }
          ],
          "parcoords": [
           {
            "line": {
             "colorbar": {
              "outlinewidth": 0,
              "ticks": ""
             }
            },
            "type": "parcoords"
           }
          ],
          "pie": [
           {
            "automargin": true,
            "type": "pie"
           }
          ],
          "scatter": [
           {
            "marker": {
             "colorbar": {
              "outlinewidth": 0,
              "ticks": ""
             }
            },
            "type": "scatter"
           }
          ],
          "scatter3d": [
           {
            "line": {
             "colorbar": {
              "outlinewidth": 0,
              "ticks": ""
             }
            },
            "marker": {
             "colorbar": {
              "outlinewidth": 0,
              "ticks": ""
             }
            },
            "type": "scatter3d"
           }
          ],
          "scattercarpet": [
           {
            "marker": {
             "colorbar": {
              "outlinewidth": 0,
              "ticks": ""
             }
            },
            "type": "scattercarpet"
           }
          ],
          "scattergeo": [
           {
            "marker": {
             "colorbar": {
              "outlinewidth": 0,
              "ticks": ""
             }
            },
            "type": "scattergeo"
           }
          ],
          "scattergl": [
           {
            "marker": {
             "colorbar": {
              "outlinewidth": 0,
              "ticks": ""
             }
            },
            "type": "scattergl"
           }
          ],
          "scattermapbox": [
           {
            "marker": {
             "colorbar": {
              "outlinewidth": 0,
              "ticks": ""
             }
            },
            "type": "scattermapbox"
           }
          ],
          "scatterpolar": [
           {
            "marker": {
             "colorbar": {
              "outlinewidth": 0,
              "ticks": ""
             }
            },
            "type": "scatterpolar"
           }
          ],
          "scatterpolargl": [
           {
            "marker": {
             "colorbar": {
              "outlinewidth": 0,
              "ticks": ""
             }
            },
            "type": "scatterpolargl"
           }
          ],
          "scatterternary": [
           {
            "marker": {
             "colorbar": {
              "outlinewidth": 0,
              "ticks": ""
             }
            },
            "type": "scatterternary"
           }
          ],
          "surface": [
           {
            "colorbar": {
             "outlinewidth": 0,
             "ticks": ""
            },
            "colorscale": [
             [
              0,
              "#0d0887"
             ],
             [
              0.1111111111111111,
              "#46039f"
             ],
             [
              0.2222222222222222,
              "#7201a8"
             ],
             [
              0.3333333333333333,
              "#9c179e"
             ],
             [
              0.4444444444444444,
              "#bd3786"
             ],
             [
              0.5555555555555556,
              "#d8576b"
             ],
             [
              0.6666666666666666,
              "#ed7953"
             ],
             [
              0.7777777777777778,
              "#fb9f3a"
             ],
             [
              0.8888888888888888,
              "#fdca26"
             ],
             [
              1,
              "#f0f921"
             ]
            ],
            "type": "surface"
           }
          ],
          "table": [
           {
            "cells": {
             "fill": {
              "color": "#EBF0F8"
             },
             "line": {
              "color": "white"
             }
            },
            "header": {
             "fill": {
              "color": "#C8D4E3"
             },
             "line": {
              "color": "white"
             }
            },
            "type": "table"
           }
          ]
         },
         "layout": {
          "annotationdefaults": {
           "arrowcolor": "#2a3f5f",
           "arrowhead": 0,
           "arrowwidth": 1
          },
          "autotypenumbers": "strict",
          "coloraxis": {
           "colorbar": {
            "outlinewidth": 0,
            "ticks": ""
           }
          },
          "colorscale": {
           "diverging": [
            [
             0,
             "#8e0152"
            ],
            [
             0.1,
             "#c51b7d"
            ],
            [
             0.2,
             "#de77ae"
            ],
            [
             0.3,
             "#f1b6da"
            ],
            [
             0.4,
             "#fde0ef"
            ],
            [
             0.5,
             "#f7f7f7"
            ],
            [
             0.6,
             "#e6f5d0"
            ],
            [
             0.7,
             "#b8e186"
            ],
            [
             0.8,
             "#7fbc41"
            ],
            [
             0.9,
             "#4d9221"
            ],
            [
             1,
             "#276419"
            ]
           ],
           "sequential": [
            [
             0,
             "#0d0887"
            ],
            [
             0.1111111111111111,
             "#46039f"
            ],
            [
             0.2222222222222222,
             "#7201a8"
            ],
            [
             0.3333333333333333,
             "#9c179e"
            ],
            [
             0.4444444444444444,
             "#bd3786"
            ],
            [
             0.5555555555555556,
             "#d8576b"
            ],
            [
             0.6666666666666666,
             "#ed7953"
            ],
            [
             0.7777777777777778,
             "#fb9f3a"
            ],
            [
             0.8888888888888888,
             "#fdca26"
            ],
            [
             1,
             "#f0f921"
            ]
           ],
           "sequentialminus": [
            [
             0,
             "#0d0887"
            ],
            [
             0.1111111111111111,
             "#46039f"
            ],
            [
             0.2222222222222222,
             "#7201a8"
            ],
            [
             0.3333333333333333,
             "#9c179e"
            ],
            [
             0.4444444444444444,
             "#bd3786"
            ],
            [
             0.5555555555555556,
             "#d8576b"
            ],
            [
             0.6666666666666666,
             "#ed7953"
            ],
            [
             0.7777777777777778,
             "#fb9f3a"
            ],
            [
             0.8888888888888888,
             "#fdca26"
            ],
            [
             1,
             "#f0f921"
            ]
           ]
          },
          "colorway": [
           "#636efa",
           "#EF553B",
           "#00cc96",
           "#ab63fa",
           "#FFA15A",
           "#19d3f3",
           "#FF6692",
           "#B6E880",
           "#FF97FF",
           "#FECB52"
          ],
          "font": {
           "color": "#2a3f5f"
          },
          "geo": {
           "bgcolor": "white",
           "lakecolor": "white",
           "landcolor": "#E5ECF6",
           "showlakes": true,
           "showland": true,
           "subunitcolor": "white"
          },
          "hoverlabel": {
           "align": "left"
          },
          "hovermode": "closest",
          "mapbox": {
           "style": "light"
          },
          "paper_bgcolor": "white",
          "plot_bgcolor": "#E5ECF6",
          "polar": {
           "angularaxis": {
            "gridcolor": "white",
            "linecolor": "white",
            "ticks": ""
           },
           "bgcolor": "#E5ECF6",
           "radialaxis": {
            "gridcolor": "white",
            "linecolor": "white",
            "ticks": ""
           }
          },
          "scene": {
           "xaxis": {
            "backgroundcolor": "#E5ECF6",
            "gridcolor": "white",
            "gridwidth": 2,
            "linecolor": "white",
            "showbackground": true,
            "ticks": "",
            "zerolinecolor": "white"
           },
           "yaxis": {
            "backgroundcolor": "#E5ECF6",
            "gridcolor": "white",
            "gridwidth": 2,
            "linecolor": "white",
            "showbackground": true,
            "ticks": "",
            "zerolinecolor": "white"
           },
           "zaxis": {
            "backgroundcolor": "#E5ECF6",
            "gridcolor": "white",
            "gridwidth": 2,
            "linecolor": "white",
            "showbackground": true,
            "ticks": "",
            "zerolinecolor": "white"
           }
          },
          "shapedefaults": {
           "line": {
            "color": "#2a3f5f"
           }
          },
          "ternary": {
           "aaxis": {
            "gridcolor": "white",
            "linecolor": "white",
            "ticks": ""
           },
           "baxis": {
            "gridcolor": "white",
            "linecolor": "white",
            "ticks": ""
           },
           "bgcolor": "#E5ECF6",
           "caxis": {
            "gridcolor": "white",
            "linecolor": "white",
            "ticks": ""
           }
          },
          "title": {
           "x": 0.05
          },
          "xaxis": {
           "automargin": true,
           "gridcolor": "white",
           "linecolor": "white",
           "ticks": "",
           "title": {
            "standoff": 15
           },
           "zerolinecolor": "white",
           "zerolinewidth": 2
          },
          "yaxis": {
           "automargin": true,
           "gridcolor": "white",
           "linecolor": "white",
           "ticks": "",
           "title": {
            "standoff": 15
           },
           "zerolinecolor": "white",
           "zerolinewidth": 2
          }
         }
        },
        "xaxis": {
         "autorange": true,
         "range": [
          -100,
          1050
         ],
         "type": "linear"
        },
        "yaxis": {
         "autorange": true,
         "range": [
          0,
          363.1578947368421
         ]
        }
       }
      },
      "image/png": "[encoded data removed]",
      "text/html": [
       "<div\n",
       "    class=\"webio-mountpoint\"\n",
       "    data-webio-mountpoint=\"16496403503609604187\"\n",
       ">\n",
       "    <script>\n",
       "    (function(){\n",
       "    // Some integrations (namely, IJulia/Jupyter) use an alternate render pathway than\n",
       "    // just putting the html on the page. If WebIO isn't defined, then it's pretty likely\n",
       "    // that we're in one of those situations and the integration just isn't installed\n",
       "    // correctly.\n",
       "    if (typeof window.WebIO === \"undefined\") {\n",
       "        document\n",
       "            .querySelector('[data-webio-mountpoint=\"16496403503609604187\"]')\n",
       "            .innerHTML = (\n",
       "                '<div style=\"padding: 1em; background-color: #f8d6da; border: 1px solid #f5c6cb; font-weight: bold;\">' +\n",
       "                '<p><strong>WebIO not detected.</strong></p>' +\n",
       "                '<p>Please read ' +\n",
       "                '<a href=\"https://juliagizmos.github.io/WebIO.jl/latest/troubleshooting/not-detected/\" target=\"_blank\">the troubleshooting guide</a> ' +\n",
       "                'for more information on how to resolve this issue.</p>' +\n",
       "                '<p><a href=\"https://juliagizmos.github.io/WebIO.jl/latest/troubleshooting/not-detected/\" target=\"_blank\">https://juliagizmos.github.io/WebIO.jl/latest/troubleshooting/not-detected/</a></p>' +\n",
       "                '</div>'\n",
       "            );\n",
       "        return;\n",
       "    }\n",
       "    WebIO.mount(\n",
       "        document.querySelector('[data-webio-mountpoint=\"16496403503609604187\"]'),\n",
       "        {\"props\":{},\"nodeType\":\"Scope\",\"type\":\"node\",\"instanceArgs\":{\"imports\":{\"data\":[{\"name\":\"Plotly\",\"type\":\"js\",\"url\":\"\\/assetserver\\/02f0d5b6a4424194a48c8d3be9f48e948c04bbd1-plotly.min.js\"},{\"name\":null,\"type\":\"js\",\"url\":\"\\/assetserver\\/c4b82ac8736c57d94c07f8ff57937febc407a986-plotly_webio.bundle.js\"}],\"type\":\"async_block\"},\"id\":\"254178756675534032\",\"handlers\":{\"_toImage\":[\"(function (options){return this.Plotly.toImage(this.plotElem,options).then((function (data){return WebIO.setval({\\\"name\\\":\\\"image\\\",\\\"scope\\\":\\\"254178756675534032\\\",\\\"id\\\":\\\"15762349622949741115\\\",\\\"type\\\":\\\"observable\\\"},data)}))})\"],\"__get_gd_contents\":[\"(function (prop){prop==\\\"data\\\" ? (WebIO.setval({\\\"name\\\":\\\"__gd_contents\\\",\\\"scope\\\":\\\"254178756675534032\\\",\\\"id\\\":\\\"3011850752638893216\\\",\\\"type\\\":\\\"observable\\\"},this.plotElem.data)) : undefined; return prop==\\\"layout\\\" ? (WebIO.setval({\\\"name\\\":\\\"__gd_contents\\\",\\\"scope\\\":\\\"254178756675534032\\\",\\\"id\\\":\\\"3011850752638893216\\\",\\\"type\\\":\\\"observable\\\"},this.plotElem.layout)) : undefined})\"],\"_downloadImage\":[\"(function (options){return this.Plotly.downloadImage(this.plotElem,options)})\"],\"_commands\":[\"(function (args){var fn=args.shift(); var elem=this.plotElem; var Plotly=this.Plotly; args.unshift(elem); return Plotly[fn].apply(this,args)})\"]},\"systemjs_options\":null,\"mount_callbacks\":[\"function () {\\n    var handler = ((function (Plotly,PlotlyWebIO){PlotlyWebIO.init(WebIO); var gd=this.dom.querySelector(\\\"#plot-10da8f1b-e382-4e1f-9280-9a133012693a\\\"); this.plotElem=gd; this.Plotly=Plotly; (window.Blink!==undefined) ? (gd.style.width=\\\"100%\\\", gd.style.height=\\\"100vh\\\", gd.style.marginLeft=\\\"0%\\\", gd.style.marginTop=\\\"0vh\\\") : undefined; window.onresize=(function (){return Plotly.Plots.resize(gd)}); Plotly.newPlot(gd,[{\\\"nbins\\\":50,\\\"type\\\":\\\"histogram\\\",\\\"x\\\":[-85.89995284499335,-85.84373223229298,-85.80933323773792,-85.5742906261312,-85.52999128890652,-85.48349944837864,-85.48201183042596,-85.47293466153464,-85.46147792145042,-85.4086039684805,-85.35602718673512,-85.34892690714564,-85.20386701277278,-85.16889953137678,-85.14705591122276,-85.028473739243,-84.96881713595283,-84.94754715784053,-84.93630093922955,-84.8635991199571,-84.79799947748292,-84.68414910504532,-84.62370498146427,-84.60163275368458,-84.55633226399779,-84.52618875938016,-84.50962007427499,-84.42494765282262,-84.38798666855153,-84.35368551394227,-84.31103328648777,-84.23895723027448,-84.22734332496879,-84.13880490749098,-84.13669858901606,-84.12825896436497,-84.10918701827855,-84.02787883131928,-84.0167560938805,-83.95459536635262,-83.73962028888047,-83.60983151334915,-83.6061872327152,-83.59779827763039,-83.58251404415343,-83.54982131928482,-83.52890656472073,-83.51060378192216,-83.37103192751805,-83.36192977933828,-83.27259511397264,-83.22386620582212,-83.19705083396698,-82.91618474563617,-82.68954728192695,-82.64148618102749,-82.43658055174686,-82.26430919931289,-82.24404038490036,-82.19141725080036,-81.98933885415123,-81.710057315424,-81.67929587914216,-81.59883097296368,-81.52643873999061,-81.47952822973141,-81.30589697792999,-81.25746121996522,-81.2207778221113,-81.20436463672776,-81.01605432923637,-81.00963687591306,-80.88243330693663,-80.80581839920812,-80.75022058406034,-80.708821236177,-80.64422135514606,-80.59435335076562,-80.58825088505576,-80.54178269614583,-80.36857897197258,-80.3393556788299,-80.31511196743071,-80.18284127053448,-79.99045456097011,-79.9367622655178,-79.93471945981567,-79.83496906225254,-79.7744366761884,-79.59433291917112,-79.47995269813659,-79.18333079481496,-79.15860623844992,-78.79454460696964,-78.68458796190265,-78.46913242908174,-78.42737424961435,-78.39505373628623,-78.29859084343359,-78.23706112335903,-78.09399739383738,-78.0791456744289,-77.89304659877196,-77.88347136838635,-77.87424958634055,-77.8209839820516,-77.69472980631377,-77.6683988153434,-77.5926430860166,-77.49972370922129,-77.25268889984379,-76.88875899766343,-76.74293870316824,-76.58665895318185,-76.5221325497621,-76.44986880040238,-76.41540787419514,-76.38383793461475,-76.34442135031344,-76.3278078078254,-76.27907666499252,-76.24798539580647,-76.1759900736061,-75.99589731776844,-75.98838869786532,-75.96151358928812,-75.79400510037588,-75.78373383822714,-75.71784356845109,-75.70865602158612,-75.70610485127493,-75.62898249416105,-75.62079252122149,-75.59562917502176,-75.46523048480753,-75.32184050283783,-75.07986232235424,-75.07425197288282,-75.03704173204379,-74.80720195900972,-74.7424504482357,-74.66799323533493,-74.63621605939079,-74.62928109156995,-74.62412379325787,-74.49749935165407,-74.3891228693946,-74.35321604139278,-74.35269292220379,-74.29777168516759,-74.26034005609823,-74.2156940764445,-74.07496806970842,-74.05565193287929,-73.91973896200771,-73.85819121912502,-73.69535833728844,-73.64342543988866,-73.54960783656577,-73.50287029510521,-73.45343537446219,-73.44255245394677,-73.3586271927614,-73.24383056048708,-73.10846403573647,-73.0187699200477,-72.96067886150459,-72.86209823298259,-72.67353205775433,-72.59762617641587,-72.45115542015037,-72.12927128261369,-72.05178704564028,-71.95304373685427,-71.85889626386528,-71.79135401805883,-71.68834721010225,-71.56692735774364,-71.41762001051296,-71.39715752560161,-71.27812203295166,-71.24878333975988,-70.99457678828713,-70.92907425521953,-70.87374628376263,-70.5879000344959,-70.53307896599554,-70.49144244657161,-70.36557755442945,-70.35825186225065,-70.34693294894542,-70.29521944731681,-70.22257924560267,-69.94316956666363,-69.90114693395304,-69.82747999898136,-69.81002496112251,-69.69761648576262,-69.66217922872274,-69.59309419775188,-69.24412022020365,-69.09121124398374,-69.06826709612642,-69.04795131996822,-69.0243138276168,-68.89530258389117,-68.462112562008,-68.44678565519354,-68.4460555241492,-68.31553445673755,-68.23359347448911,-68.13215848712073,-67.88172085870761,-67.87625797758594,-67.77248447615504,-67.7591156499515,-67.69274426196677,-67.3374672738393,-67.33584677505966,-67.17764968645366,-67.03619238317008,-67.01505242221768,-66.64712048187286,-66.58666979103383,-66.42697610882378,-66.25447328062329,-66.11351871802948,-66.104549192325,-66.07687235736441,-65.6946157109863,-65.44276048074195,-65.02100858618446,-65.01411621900799,-64.97920558914467,-64.52763580309808,-64.31800590359755,-64.29239002456143,-64.20903573499243,-64.15682398624273,-64.07793339112706,-64.06802488802172,-63.682178441933246,-63.61663975322499,-63.47204692975957,-63.448617152538134,-63.44148678465835,-63.206706798972135,-63.09754885521257,-63.03754507985673,-62.83950817349058,-62.83398374443914,-62.77664997539918,-62.51736992441752,-62.37058370085285,-62.21428740881628,-62.12840363577232,-62.123638594811545,-62.02460008204059,-61.95375640760674,-61.949277369300646,-61.931832764916805,-61.89266457278708,-61.796227769354715,-61.681429442181546,-61.61814950412124,-61.598879254386006,-61.485616547572164,-61.48503317944149,-61.12365030017421,-60.95447453196825,-60.88547259897683,-60.80793795875916,-60.79178491600427,-60.74277114837561,-60.58135178103766,-60.52298682534909,-60.51767174923477,-60.431238532419464,-60.27485034507543,-60.19729585192377,-60.122911703561364,-60.08438729679403,-59.99975827839461,-59.87982351247447,-59.44729948187126,-59.36631099780889,-59.35019353876554,-59.34150536013585,-59.24624911712316,-58.94475523488054,-58.90417667180823,-58.89816966638457,-58.740110503883216,-58.65549036783116,-58.548579817704535,-58.0457305554527,-57.6761741332261,-57.64746119355807,-57.49741683767859,-57.20034814711514,-57.09099531368569,-57.08746435167025,-56.94362816431207,-56.92748133179275,-56.82248358772627,-56.6900669793299,-56.64344135015709,-56.560775597889766,-56.44029366046941,-56.33362573537737,-56.30865433201387,-56.175275975703485,-56.0491501335741,-56.0301844941526,-55.667473710662094,-55.50528569918771,-55.4786420486768,-54.84662509349809,-54.689664107666914,-54.25767619240431,-54.130207926361805,-54.022630518522874,-53.887749880435344,-53.59939153231006,-53.333079770174955,-52.920574448427104,-52.914863818029964,-52.876410394570314,-52.763683745964805,-52.31219506450393,-52.303100521099765,-52.16332151257408,-52.10145500528584,-52.062744789061554,-51.95044475200425,-51.60607038614246,-51.32819589868571,-51.16462465946383,-51.037841094343904,-50.825418522871544,-50.66360917032656,-50.45314565185179,-50.20869678758868,-50.035039966736065,-50.01783151908423,-49.860133621651684,-49.530408957151806,-49.51790766107118,-49.32736306173647,-49.18084756603333,-49.06125124470141,-48.974556673465806,-48.828960102688235,-48.771386741277766,-48.739401528038364,-48.69945204769978,-48.69612226368072,-48.490382352999404,-48.33556532593263,-48.0640129509703,-47.85110321428776,-47.78187594883687,-47.70378385824389,-47.688724755996084,-47.48565697555617,-47.45187494843288,-47.411556254978606,-46.95225218692015,-46.931950113401,-46.72677091378334,-46.709821720639134,-46.58783703349986,-46.48223884457223,-46.443296277485594,-46.240263571987725,-44.65633396183836,-44.650747200398264,-44.492917152062084,-44.4107474945973,-44.250762347163544,-44.16983250082636,-44.08335403861793,-43.85941657498893,-43.53352349638043,-43.08262713153217,-43.0786948622732,-42.959651353039604,-42.80720485251972,-42.775273482007535,-42.570806946755866,-42.256068248042645,-42.002184037820264,-41.64928360863739,-41.45363457519133,-41.41531543734158,-41.359777661031416,-41.07560292525994,-41.00115975915397,-40.92721165717399,-40.52037377701134,-40.51811793169971,-40.438622065500006,-39.80874614511571,-39.78673753524894,-39.49391011257058,-39.45658805175805,-39.416824277374474,-39.28306257586247,-39.20040938432074,-38.9733608050295,-38.69765616750961,-38.59654215849312,-38.520395477555866,-38.2512236875765,-38.12923569619253,-38.013259499961,-38.01045688734802,-37.97421071456489,-37.60703714254539,-37.36657139737651,-37.251254078792115,-37.070017621443675,-36.54302443891289,-36.310237013942725,-36.2666463865309,-36.196486709431184,-36.06765388391003,-35.587658926378104,-35.070577445062476,-35.0281094275656,-33.988616608387936,-33.905328948512526,-33.668280328403235,-32.76715146061484,-32.24972561038436,-31.956505424731883,-31.83641122399975,-31.794379524768623,-31.560085842500097,-31.544530909915068,-31.52860599429531,-31.461538861446247,-31.269987940304688,-31.261565283800618,-31.07139222093087,-31.016533654104293,-30.901988694322092,-30.564434999420943,-30.285379986323548,-30.19206418117203,-30.068446934175775,-30.066971247017015,-29.982738053587877,-29.78085290865623,-29.676125518030194,-29.452193037535114,-29.003302387711116,-28.78854187488873,-28.192972361164216,-28.12689810934098,-28.10284444455312,-27.69431289586377,-27.401501422315665,-27.32394668597582,-27.03239237067291,-26.902320104036214,-26.77709190020674,-26.591728201854803,-25.735755116439453,-24.99633177777164,-24.39610946533103,-24.38713298304761,-24.11738225247715,-23.54418105441589,-23.490473806347588,-23.456509688098983,-23.39809938348525,-23.230698048432874,-23.038186941350467,-22.63980771348931,-21.387026120933726,-21.303585964016868,-21.25657328662457,-20.992979874082973,-20.566888812913742,-20.524325464786585,-20.344680063869937,-19.782748238923187,-19.67398876116817,-19.43961993425426,-19.26546174974805,-19.25813778349793,-18.943104963771475,-18.77597735907791,-18.10423653532338,-18.09153585386826,-17.921002553869748,-17.752893045161457,-17.082039623681887,-16.994809370924468,-16.92764912121991,-16.880858671277633,-16.565578842045213,-16.542500668950154,-16.047417353798508,-16.04404995244404,-15.991318260971932,-15.56427158243473,-15.417461730001902,-15.188460544555028,-15.058460213373637,-14.82563174441105,-14.528631062815478,-14.194879844781072,-14.04150229616221,-14.015305304781311,-13.982976497929911,-13.843863283781022,-13.781470704404198,-13.272815564279705,-12.751366400454089,-12.744957148365298,-12.741296918279732,-11.998718241173979,-11.884036221528238,-11.846739695105201,-11.764673245801427,-11.710111223489116,-11.586591806627988,-11.454383183840577,-11.352275825112802,-10.908669722618814,-10.79998966029595,-10.2405473031148,-9.359497897878398,-9.290765525652079,-9.220162642855579,-8.887861053339607,-8.629398584653913,-8.459302539979497,-8.171405825461274,-7.574147662746745,-7.501555856626219,-7.262664767465954,-7.187329727390656,-7.148934735475643,-6.992668472314256,-6.905480714007761,-6.5534340632495525,-6.540501754904604,-6.423610784087086,-6.402410270828451,-6.250859665619323,-5.823126569561666,-5.433797454958123,-5.326095738774206,-5.141538107633725,-4.89763273456274,-4.247000519822408,-4.226712336622018,-3.984055700359479,-3.873983716531204,-3.2284127668153917,-2.935342132744534,-2.342253688326823,-2.147005226719023,-1.8165814310524109,-1.5912259425406639,-1.3626023634075501,-1.2899705418285223,-0.6225216911066145,-0.5212512393611979,-0.3657137773180441,-0.15536704511149857,0.0,0.0,0.0,0.986886597425185,1.0783126032618773,1.6976723315825337,2.3344431221366424,3.1711511184871144,3.215608981070428,3.531703454961299,3.557066893540517,3.56203429460511,3.5693724627340107,4.184060892042307,4.772965384595351,4.938953982193595,5.060532675142881,5.113718245289145,5.3360221441106415,5.783205741775799,6.031737543735494,6.280531105501619,7.824797286523766,7.863296259334285,7.8668678871802955,7.929453562457267,8.147884633381498,8.559815902921297,8.895715803475479,8.960070920526553,9.01440727891174,9.021575250761838,9.036747793874845,9.295874023288109,9.315243584420196,9.512172843146072,9.617303643106201,10.384994554406468,11.159903683736383,11.469627981037656,11.557430334407304,11.594606860115885,11.67471208605404,11.911177577674948,12.259667553402176,12.448492135372181,12.589704988003913,12.965664790372866,13.02218068065133,13.704567881835272,13.979197566967795,15.133225606863121,15.23053836139059,15.704292704943112,16.18179519689218,16.2941982578944,16.837966538883855,16.925462906379018,18.210686745764892,18.30184367568912,18.354615546215225,18.357722722992587,18.464025426937745,18.7302754151736,19.122716371998095,19.624739048369122,19.727318863625264,19.836579812039012,20.12901068265569,20.129767693564894,20.270441003747685,21.022221004484564,21.849625288751184,22.802401191475987,22.848115771473545,23.125808903943444,23.428604649099572,23.922374366722043,24.68276200065407,25.503210516330554,25.554412934682457,25.596198294859065,25.597528649229375,25.765166888021884,27.19621125280758,27.200706892294946,28.489713966070628,28.73085231202408,28.801244862417285,29.160800408885954,29.44543340435399,29.825367436153805,30.245494663368255,30.587863413680694,30.944482039104937,30.95116985239066,31.058409165214606,31.154026392652856,31.87835410226414,32.26616798452577,32.29849428162386,32.332645972067596,33.8146491659544,33.94231536928234,34.70842436021535,35.15461304924632,35.387321807497464,35.53636541506469,35.64246375907489,36.14630554303599,37.54093622872319,38.49361543001084,38.50816824126922,39.25310486690747,40.7385723158898,41.38915121098725,41.88187683654543,42.301107433318876,43.340981485746745,43.417549407971066,45.23442191165301,46.35732371351613,47.04505369289893,47.5502053951226,47.565292221566644,47.73342813457293,47.772616642980935,48.55389601161599,49.23015408354176,49.731409347376164,49.76011121918127,51.321449176629756,52.023053828984885,52.37726462856316,52.64840176251162,53.29240784393823,53.364809794388,53.78230998176583,55.055941294759506,55.16830562867781,56.44309767720739,56.60856875142435,57.25288534761346,57.277101687893015,57.28832629213827,57.490358870619104,57.70710635166161,57.97914784421996,58.42536256872175,58.9415717545942,59.35290777216946,59.387951146306484,59.97494455858337,60.920226243120545,61.484709668613014,62.29704135049894,63.26386008767426,63.52317536691863,63.8557766453423,64.17181070469147,64.71740270961732,65.16154681845245,65.5221767731205,65.5670589495973,65.64368731137841,65.92128838556053,66.24255972896056,66.31009597430837,67.24371306849876,67.33125338872996,67.80778466081621,68.04824914110954,68.47135520996,68.61691836057062,69.20533981301442,69.36620224217145,69.9744268252837,70.72284784704432,72.0595144075491,72.2678710491941,72.49254708468702,74.03123801823925,74.59766581932155,75.04958374344311,75.14132811391121,75.41884684698708,75.43686510496266,76.50786644188337,76.56341109098777,76.80006995142278,77.13963000059732,77.30320799846382,77.94156302888044,78.71109512451689,79.22673139631453,79.57590644909884,80.02043076706089,80.3954382806306,82.21456744006733,82.49058495561795,82.6853152171153,83.04849717109167,83.05067288628625,83.34789322854859,83.42131614290014,83.66843119477765,84.83807983627894,85.17787742512468,85.3655396454776,85.46855845716736,85.70163978124124,86.53389160079455,87.64084797450178,89.83324362246891,89.9661603807848,90.3075954357861,90.533084636569,90.54292333975826,90.74463461841447,90.78183350206264,90.79272535984056,91.87650066961652,91.95732723499641,92.25541299442892,93.10349204398005,93.26385529996153,93.33987084496309,94.74605287002937,95.00840200414176,95.63591261645175,96.15784649244472,97.69534739390686,97.97842627365023,98.2334025430477,100.06555141471426,100.68771706678841,101.4008711437949,102.35214180793668,103.40244649082395,104.73093643711344,104.86756162146342,107.38165173543379,107.56503244680556,107.67084268565861,107.83400641314591,108.22085760287843,109.04339367598025,109.2233261192924,109.26987750145956,109.3040138860252,109.89971438214896,110.34721127974878,110.53902313904796,110.84291238464674,111.0003481251177,111.19805420711026,111.20653111994798,113.29210265640835,113.63100882130777,114.94468930111843,115.27043311471363,115.45070636206916,115.52362726313609,115.54562354278613,115.93191274070564,116.19335264819739,117.43704731095006,117.4798774391435,117.81315939488675,118.09795289455738,119.03031715128773,119.95957488490112,120.31049041847498,120.51480310389265,121.04783216381291,121.1483225119311,121.15117293196445,121.99374381420233,122.96694015749803,123.17810660694252,123.29159475013269,123.44532897386262,123.5416569227882,124.21452776499228,124.73899995380368,125.47373184304145,126.3812445972122,126.59443772960155,126.89366406616807,127.53898367175327,128.15592894934218,128.89075516656493,131.04278906920447,131.5036142714978,131.80124283853186,131.84085970671072,131.97552339608313,132.41977320250336,132.67958267302183,132.8736949886556,134.08225641022494,134.54898176169468,135.61764694924267,138.03288273969244,138.2030904391923,138.84999665015266,141.27752811061538,142.53154068818753,142.73825715032737,143.56259055585178,144.17104357673827,145.14638879060092,145.15364508057243,146.00033384325678,146.4968240356983,146.6314701265628,147.6612429477457,148.43415204516936,148.74918532323073,149.97746159094623,150.35757583108708,151.29478271450898,154.5660515075806,158.1211873004564,159.25056129872198,160.91242915151406,161.5001817851164,161.54638812311708,161.84245676686308,161.96161800446887,162.42491653225173,163.3292701813775,164.56185991494073,164.94180362004954,165.22178036471124,166.71732045235674,168.67056605809495,170.6946571336633,170.83035253999594,172.80462145365334,173.55907028581558,173.97030547288864,173.98409145185326,174.89801233599826,175.03636219945514,175.58347047219303,176.0006064768663,177.5423266624379,177.59505526214966,178.56129062210755,179.0781894125646,179.16188552354186,179.26099301872705,179.51834362191826,179.6336070475167,179.83068002526164,180.21319868782015,180.49764456322794,182.23734194028842,182.52677324178185,183.31340402410046,185.06034135466956,186.854279044376,189.40614935653412,189.47907058723482,190.66131779752698,192.06486316793385,193.331663085792,193.48505964187547,196.4647959087978,198.97932258285138,199.76287383045772,200.84845380715612,201.80401940707696,202.27409650643412,202.88057449599344,204.13910785221532,205.2974905806099,205.88309163443944,206.03371384549664,206.20359492950055,208.48678754061817,210.87402866630836,210.99088588820436,211.33547373318734,211.4095878706887,211.9832603442267,212.1847181764224,212.303111082486,213.24738449372086,217.23989283173347,217.45830994892103,217.59011035375906,222.3458767002277,222.43567308019618,223.48221884843528,224.0748550497612,224.2797511155537,225.11981181004708,225.67137343605845,226.98644662605966,228.55112429304714,228.58132212609067,229.47291261367621,229.89061991886035,230.29384931922806,231.81492532992465,233.9924605712874,237.72673080075236,238.29174222566976,238.7174692594173,239.21044626340952,241.67674586791716,242.43687367170574,243.1244124049532,243.42445595423595,243.82364662998137,245.92698998743484,246.45431918038523,246.93551627175347,249.44302110435976,252.4634107810547,255.5970106041798,258.46322636746953,259.6964662079142,263.37108237164244,263.4894915876183,264.99963353910505,266.49333227673407,268.01271853106294,268.9103455404588,269.03034031331,270.1089334005012,270.97334054871374,272.7118531038338,273.12591805415224,273.61328970330027,275.32746173296243,278.6324638101949,278.66408750866094,279.40168826668105,280.8810424718706,284.2152123244903,285.4322929218236,287.01065265119513,288.681181318053,289.74326866690126,289.7889463458904,292.97630499942466,294.3550943423468,294.4995559581158,294.50678813614303,295.6034707841359,301.6237254299827,302.1305827675091,304.19229330416965,304.31715344348714,305.4055468510639,305.70102598686384,307.2055532389884,308.25193913934424,310.10243931739916,310.1472426660581,311.2567987492648,312.4149145459831,313.1681098795516,313.79931113088514,314.50663947019956,316.14724694178886,322.6869623162489,323.08691007508753,323.8469309960981,324.63319580870433,326.4433762354961,326.76052762517315,326.8249232856397,327.5933932639971,327.99054157431965,328.92491622198224,334.26012944126313,335.1042781222574,336.8226064217287,339.6834245329597,342.86719408379724,344.4722972117003,345.0906232077341,345.46166821066856,346.09117120843507,346.2385559941489,348.56398402284157,350.2000134394957,351.4807838773096,354.99011293728034,356.3391949734781,356.5797665032592,357.15983658087333,357.82128957780014,358.28835263398304,359.4277108681072,368.3001309881133,368.4581511788836,369.71297277152865,369.9921727684385,372.02734399638746,373.01079746205374,373.34328203367164,375.6184715704416,377.9457101648047,378.0441199387526,381.39607224245583,383.9797874785128,384.37273832455645,386.865505849444,388.7351697206146,389.9481018464302,390.60150939857346,391.77692953462804,392.71285848886663,395.7104509732049,398.35417925007744,400.2759751318654,400.50354223546447,400.51578628825337,401.3708461542552,402.10797533191754,402.17007518564935,404.4201406862358,405.77351533513115,406.52666509205415,406.8200534398713,409.31781269335505,409.3403118003781,409.3975686427377,413.43969986444813,414.44776484070456,414.8275436141742,416.14556756111256,416.9401751280157,417.865290547275,418.50437265916014,418.6363713301491,419.5193578116969,422.30990490725776,427.01486694893634,430.5004476163439,433.48177301898767,436.7562005041134,437.72357542269873,441.516064858787,442.75715405296864,444.56941267988446,444.7874941272154,445.10001270089407,446.06617860477746,447.2293750864818,448.29444351517066,449.3735316897285,449.9497032574764,451.06025989986415,454.929458295076,456.2118166635293,458.73901769871867,461.1244165867711,462.32369987756056,464.8611616230015,467.51403067460143,467.9956741724526,470.49634562779994,471.2908891142152,473.2976973552158,474.66053329869,481.9374440710334,483.92378035217735,484.7855194243604,486.2363296370435,487.30908266634987,489.963402136613,493.6895985367231,494.32674809750586,495.1707387951689,496.83357033400324,504.4476374928278,506.38335270104335,506.59566020721644,508.10870380018366,511.8956212405548,512.6352251280815,516.2536906402506,517.5112451566773,519.7728519541541,522.9655397035225,526.222499688496,526.3093476079665,527.7295311020889,528.2702677421925,531.0906444838076,531.3275962767673,532.7358589649473,536.3628443090028,543.4523071103395,550.9096973900724,551.8724124027736,552.5286292968457,552.8326995282504,555.0919504413333,558.2686398948429,559.6865286693362,561.6290781711706,564.629209076602,569.6776131807571,572.1203822934807,576.3699516547352,580.5313777153631,582.0568502887089,583.7993754215535,584.6176438245093,589.1263370332912,592.6204442175446,592.7295262775867,598.7791168811291,601.3540828713387,604.4339401686384,606.2686513102776,606.7225598422,614.8683651733938,622.6764909042801,623.264148129712,633.0269732185919,633.0342299014446,640.0456804420277,656.2152538155851,657.34307739397,660.7031740628245,662.4456486442907,662.7690112009229,670.1431205034638,670.2520771056609,672.1234266485915,673.0621473248303,676.1636105584194,680.4067930804274,681.2546055619716,690.7566427007963,695.1979057493602,696.6210566734411,697.4016578934597,697.576268305914,705.5240689674166,706.9134205936926,708.3290513112825,711.1081125742766,721.7688530333819,722.2601259870579,726.4450089520257,729.2822967097001,737.6799908234082,743.3540844301676,744.1314884264891,754.082851240579,755.6074011161893,768.1223922125807,776.7715526932756,785.7442334124714,793.4750891371227,795.0493601790021,799.4289372140054,804.0162339876869,807.1779004168668,809.4448847278181,809.813014374658,822.456330835566,823.5245167706087,824.6256601027047,824.9055629448453,824.9281508088606,825.5206252793554,828.7071620965492,832.6813824134676,836.2737359157345,840.5191669615057,844.0025233844033,844.1648863513437,844.3003028419664,844.7959275821479,849.1746627473441,849.452103017635,854.8329667417154,858.7214623742319,862.5270899400161,866.6840051642538,867.2165376287849,869.0578440804122,870.8964218152611,871.9483192103307,880.921436388716,881.3806778497543,883.1833557978665,900.5189086449819,902.6686275774864,905.9674295427515,907.8789658976392,908.0032428267123,917.5770605152416,919.0648703244129,929.0314081344665,934.197544079498,945.5036937371741,961.4198815707182,962.5814093470502,965.1178016281655,968.127606334175,970.4361663388722,970.5199824291776,971.2087595562542,976.6450463920033,980.5937218037284,983.4069401666198,985.4339902234317,985.727460976451,990.7109422214878,995.0013368913624,996.2492263671885,1001.4121386371835,1002.6507696001842,1009.2660810585146]}],{\\\"template\\\":{\\\"layout\\\":{\\\"coloraxis\\\":{\\\"colorbar\\\":{\\\"ticks\\\":\\\"\\\",\\\"outlinewidth\\\":0}},\\\"xaxis\\\":{\\\"gridcolor\\\":\\\"white\\\",\\\"zerolinewidth\\\":2,\\\"title\\\":{\\\"standoff\\\":15},\\\"ticks\\\":\\\"\\\",\\\"zerolinecolor\\\":\\\"white\\\",\\\"automargin\\\":true,\\\"linecolor\\\":\\\"white\\\"},\\\"hovermode\\\":\\\"closest\\\",\\\"paper_bgcolor\\\":\\\"white\\\",\\\"geo\\\":{\\\"showlakes\\\":true,\\\"showland\\\":true,\\\"landcolor\\\":\\\"#E5ECF6\\\",\\\"bgcolor\\\":\\\"white\\\",\\\"subunitcolor\\\":\\\"white\\\",\\\"lakecolor\\\":\\\"white\\\"},\\\"colorscale\\\":{\\\"sequential\\\":[[0.0,\\\"#0d0887\\\"],[0.1111111111111111,\\\"#46039f\\\"],[0.2222222222222222,\\\"#7201a8\\\"],[0.3333333333333333,\\\"#9c179e\\\"],[0.4444444444444444,\\\"#bd3786\\\"],[0.5555555555555556,\\\"#d8576b\\\"],[0.6666666666666666,\\\"#ed7953\\\"],[0.7777777777777778,\\\"#fb9f3a\\\"],[0.8888888888888888,\\\"#fdca26\\\"],[1.0,\\\"#f0f921\\\"]],\\\"diverging\\\":[[0,\\\"#8e0152\\\"],[0.1,\\\"#c51b7d\\\"],[0.2,\\\"#de77ae\\\"],[0.3,\\\"#f1b6da\\\"],[0.4,\\\"#fde0ef\\\"],[0.5,\\\"#f7f7f7\\\"],[0.6,\\\"#e6f5d0\\\"],[0.7,\\\"#b8e186\\\"],[0.8,\\\"#7fbc41\\\"],[0.9,\\\"#4d9221\\\"],[1,\\\"#276419\\\"]],\\\"sequentialminus\\\":[[0.0,\\\"#0d0887\\\"],[0.1111111111111111,\\\"#46039f\\\"],[0.2222222222222222,\\\"#7201a8\\\"],[0.3333333333333333,\\\"#9c179e\\\"],[0.4444444444444444,\\\"#bd3786\\\"],[0.5555555555555556,\\\"#d8576b\\\"],[0.6666666666666666,\\\"#ed7953\\\"],[0.7777777777777778,\\\"#fb9f3a\\\"],[0.8888888888888888,\\\"#fdca26\\\"],[1.0,\\\"#f0f921\\\"]]},\\\"yaxis\\\":{\\\"gridcolor\\\":\\\"white\\\",\\\"zerolinewidth\\\":2,\\\"title\\\":{\\\"standoff\\\":15},\\\"ticks\\\":\\\"\\\",\\\"zerolinecolor\\\":\\\"white\\\",\\\"automargin\\\":true,\\\"linecolor\\\":\\\"white\\\"},\\\"shapedefaults\\\":{\\\"line\\\":{\\\"color\\\":\\\"#2a3f5f\\\"}},\\\"hoverlabel\\\":{\\\"align\\\":\\\"left\\\"},\\\"mapbox\\\":{\\\"style\\\":\\\"light\\\"},\\\"polar\\\":{\\\"angularaxis\\\":{\\\"gridcolor\\\":\\\"white\\\",\\\"ticks\\\":\\\"\\\",\\\"linecolor\\\":\\\"white\\\"},\\\"bgcolor\\\":\\\"#E5ECF6\\\",\\\"radialaxis\\\":{\\\"gridcolor\\\":\\\"white\\\",\\\"ticks\\\":\\\"\\\",\\\"linecolor\\\":\\\"white\\\"}},\\\"autotypenumbers\\\":\\\"strict\\\",\\\"font\\\":{\\\"color\\\":\\\"#2a3f5f\\\"},\\\"ternary\\\":{\\\"baxis\\\":{\\\"gridcolor\\\":\\\"white\\\",\\\"ticks\\\":\\\"\\\",\\\"linecolor\\\":\\\"white\\\"},\\\"bgcolor\\\":\\\"#E5ECF6\\\",\\\"caxis\\\":{\\\"gridcolor\\\":\\\"white\\\",\\\"ticks\\\":\\\"\\\",\\\"linecolor\\\":\\\"white\\\"},\\\"aaxis\\\":{\\\"gridcolor\\\":\\\"white\\\",\\\"ticks\\\":\\\"\\\",\\\"linecolor\\\":\\\"white\\\"}},\\\"annotationdefaults\\\":{\\\"arrowhead\\\":0,\\\"arrowwidth\\\":1,\\\"arrowcolor\\\":\\\"#2a3f5f\\\"},\\\"plot_bgcolor\\\":\\\"#E5ECF6\\\",\\\"title\\\":{\\\"x\\\":0.05},\\\"scene\\\":{\\\"xaxis\\\":{\\\"gridcolor\\\":\\\"white\\\",\\\"gridwidth\\\":2,\\\"backgroundcolor\\\":\\\"#E5ECF6\\\",\\\"ticks\\\":\\\"\\\",\\\"showbackground\\\":true,\\\"zerolinecolor\\\":\\\"white\\\",\\\"linecolor\\\":\\\"white\\\"},\\\"zaxis\\\":{\\\"gridcolor\\\":\\\"white\\\",\\\"gridwidth\\\":2,\\\"backgroundcolor\\\":\\\"#E5ECF6\\\",\\\"ticks\\\":\\\"\\\",\\\"showbackground\\\":true,\\\"zerolinecolor\\\":\\\"white\\\",\\\"linecolor\\\":\\\"white\\\"},\\\"yaxis\\\":{\\\"gridcolor\\\":\\\"white\\\",\\\"gridwidth\\\":2,\\\"backgroundcolor\\\":\\\"#E5ECF6\\\",\\\"ticks\\\":\\\"\\\",\\\"showbackground\\\":true,\\\"zerolinecolor\\\":\\\"white\\\",\\\"linecolor\\\":\\\"white\\\"}},\\\"colorway\\\":[\\\"#636efa\\\",\\\"#EF553B\\\",\\\"#00cc96\\\",\\\"#ab63fa\\\",\\\"#FFA15A\\\",\\\"#19d3f3\\\",\\\"#FF6692\\\",\\\"#B6E880\\\",\\\"#FF97FF\\\",\\\"#FECB52\\\"]},\\\"data\\\":{\\\"barpolar\\\":[{\\\"type\\\":\\\"barpolar\\\",\\\"marker\\\":{\\\"line\\\":{\\\"color\\\":\\\"#E5ECF6\\\",\\\"width\\\":0.5}}}],\\\"carpet\\\":[{\\\"aaxis\\\":{\\\"gridcolor\\\":\\\"white\\\",\\\"endlinecolor\\\":\\\"#2a3f5f\\\",\\\"minorgridcolor\\\":\\\"white\\\",\\\"startlinecolor\\\":\\\"#2a3f5f\\\",\\\"linecolor\\\":\\\"white\\\"},\\\"type\\\":\\\"carpet\\\",\\\"baxis\\\":{\\\"gridcolor\\\":\\\"white\\\",\\\"endlinecolor\\\":\\\"#2a3f5f\\\",\\\"minorgridcolor\\\":\\\"white\\\",\\\"startlinecolor\\\":\\\"#2a3f5f\\\",\\\"linecolor\\\":\\\"white\\\"}}],\\\"scatterpolar\\\":[{\\\"type\\\":\\\"scatterpolar\\\",\\\"marker\\\":{\\\"colorbar\\\":{\\\"ticks\\\":\\\"\\\",\\\"outlinewidth\\\":0}}}],\\\"parcoords\\\":[{\\\"line\\\":{\\\"colorbar\\\":{\\\"ticks\\\":\\\"\\\",\\\"outlinewidth\\\":0}},\\\"type\\\":\\\"parcoords\\\"}],\\\"scatter\\\":[{\\\"type\\\":\\\"scatter\\\",\\\"marker\\\":{\\\"colorbar\\\":{\\\"ticks\\\":\\\"\\\",\\\"outlinewidth\\\":0}}}],\\\"histogram2dcontour\\\":[{\\\"colorbar\\\":{\\\"ticks\\\":\\\"\\\",\\\"outlinewidth\\\":0},\\\"type\\\":\\\"histogram2dcontour\\\",\\\"colorscale\\\":[[0.0,\\\"#0d0887\\\"],[0.1111111111111111,\\\"#46039f\\\"],[0.2222222222222222,\\\"#7201a8\\\"],[0.3333333333333333,\\\"#9c179e\\\"],[0.4444444444444444,\\\"#bd3786\\\"],[0.5555555555555556,\\\"#d8576b\\\"],[0.6666666666666666,\\\"#ed7953\\\"],[0.7777777777777778,\\\"#fb9f3a\\\"],[0.8888888888888888,\\\"#fdca26\\\"],[1.0,\\\"#f0f921\\\"]]}],\\\"contour\\\":[{\\\"colorbar\\\":{\\\"ticks\\\":\\\"\\\",\\\"outlinewidth\\\":0},\\\"type\\\":\\\"contour\\\",\\\"colorscale\\\":[[0.0,\\\"#0d0887\\\"],[0.1111111111111111,\\\"#46039f\\\"],[0.2222222222222222,\\\"#7201a8\\\"],[0.3333333333333333,\\\"#9c179e\\\"],[0.4444444444444444,\\\"#bd3786\\\"],[0.5555555555555556,\\\"#d8576b\\\"],[0.6666666666666666,\\\"#ed7953\\\"],[0.7777777777777778,\\\"#fb9f3a\\\"],[0.8888888888888888,\\\"#fdca26\\\"],[1.0,\\\"#f0f921\\\"]]}],\\\"scattercarpet\\\":[{\\\"type\\\":\\\"scattercarpet\\\",\\\"marker\\\":{\\\"colorbar\\\":{\\\"ticks\\\":\\\"\\\",\\\"outlinewidth\\\":0}}}],\\\"mesh3d\\\":[{\\\"colorbar\\\":{\\\"ticks\\\":\\\"\\\",\\\"outlinewidth\\\":0},\\\"type\\\":\\\"mesh3d\\\"}],\\\"surface\\\":[{\\\"colorbar\\\":{\\\"ticks\\\":\\\"\\\",\\\"outlinewidth\\\":0},\\\"type\\\":\\\"surface\\\",\\\"colorscale\\\":[[0.0,\\\"#0d0887\\\"],[0.1111111111111111,\\\"#46039f\\\"],[0.2222222222222222,\\\"#7201a8\\\"],[0.3333333333333333,\\\"#9c179e\\\"],[0.4444444444444444,\\\"#bd3786\\\"],[0.5555555555555556,\\\"#d8576b\\\"],[0.6666666666666666,\\\"#ed7953\\\"],[0.7777777777777778,\\\"#fb9f3a\\\"],[0.8888888888888888,\\\"#fdca26\\\"],[1.0,\\\"#f0f921\\\"]]}],\\\"scattermapbox\\\":[{\\\"type\\\":\\\"scattermapbox\\\",\\\"marker\\\":{\\\"colorbar\\\":{\\\"ticks\\\":\\\"\\\",\\\"outlinewidth\\\":0}}}],\\\"scattergeo\\\":[{\\\"type\\\":\\\"scattergeo\\\",\\\"marker\\\":{\\\"colorbar\\\":{\\\"ticks\\\":\\\"\\\",\\\"outlinewidth\\\":0}}}],\\\"histogram\\\":[{\\\"type\\\":\\\"histogram\\\",\\\"marker\\\":{\\\"colorbar\\\":{\\\"ticks\\\":\\\"\\\",\\\"outlinewidth\\\":0}}}],\\\"pie\\\":[{\\\"type\\\":\\\"pie\\\",\\\"automargin\\\":true}],\\\"choropleth\\\":[{\\\"colorbar\\\":{\\\"ticks\\\":\\\"\\\",\\\"outlinewidth\\\":0},\\\"type\\\":\\\"choropleth\\\"}],\\\"heatmapgl\\\":[{\\\"colorbar\\\":{\\\"ticks\\\":\\\"\\\",\\\"outlinewidth\\\":0},\\\"type\\\":\\\"heatmapgl\\\",\\\"colorscale\\\":[[0.0,\\\"#0d0887\\\"],[0.1111111111111111,\\\"#46039f\\\"],[0.2222222222222222,\\\"#7201a8\\\"],[0.3333333333333333,\\\"#9c179e\\\"],[0.4444444444444444,\\\"#bd3786\\\"],[0.5555555555555556,\\\"#d8576b\\\"],[0.6666666666666666,\\\"#ed7953\\\"],[0.7777777777777778,\\\"#fb9f3a\\\"],[0.8888888888888888,\\\"#fdca26\\\"],[1.0,\\\"#f0f921\\\"]]}],\\\"bar\\\":[{\\\"type\\\":\\\"bar\\\",\\\"error_y\\\":{\\\"color\\\":\\\"#2a3f5f\\\"},\\\"error_x\\\":{\\\"color\\\":\\\"#2a3f5f\\\"},\\\"marker\\\":{\\\"line\\\":{\\\"color\\\":\\\"#E5ECF6\\\",\\\"width\\\":0.5}}}],\\\"heatmap\\\":[{\\\"colorbar\\\":{\\\"ticks\\\":\\\"\\\",\\\"outlinewidth\\\":0},\\\"type\\\":\\\"heatmap\\\",\\\"colorscale\\\":[[0.0,\\\"#0d0887\\\"],[0.1111111111111111,\\\"#46039f\\\"],[0.2222222222222222,\\\"#7201a8\\\"],[0.3333333333333333,\\\"#9c179e\\\"],[0.4444444444444444,\\\"#bd3786\\\"],[0.5555555555555556,\\\"#d8576b\\\"],[0.6666666666666666,\\\"#ed7953\\\"],[0.7777777777777778,\\\"#fb9f3a\\\"],[0.8888888888888888,\\\"#fdca26\\\"],[1.0,\\\"#f0f921\\\"]]}],\\\"contourcarpet\\\":[{\\\"colorbar\\\":{\\\"ticks\\\":\\\"\\\",\\\"outlinewidth\\\":0},\\\"type\\\":\\\"contourcarpet\\\"}],\\\"table\\\":[{\\\"type\\\":\\\"table\\\",\\\"header\\\":{\\\"line\\\":{\\\"color\\\":\\\"white\\\"},\\\"fill\\\":{\\\"color\\\":\\\"#C8D4E3\\\"}},\\\"cells\\\":{\\\"line\\\":{\\\"color\\\":\\\"white\\\"},\\\"fill\\\":{\\\"color\\\":\\\"#EBF0F8\\\"}}}],\\\"scatter3d\\\":[{\\\"line\\\":{\\\"colorbar\\\":{\\\"ticks\\\":\\\"\\\",\\\"outlinewidth\\\":0}},\\\"type\\\":\\\"scatter3d\\\",\\\"marker\\\":{\\\"colorbar\\\":{\\\"ticks\\\":\\\"\\\",\\\"outlinewidth\\\":0}}}],\\\"scattergl\\\":[{\\\"type\\\":\\\"scattergl\\\",\\\"marker\\\":{\\\"colorbar\\\":{\\\"ticks\\\":\\\"\\\",\\\"outlinewidth\\\":0}}}],\\\"histogram2d\\\":[{\\\"colorbar\\\":{\\\"ticks\\\":\\\"\\\",\\\"outlinewidth\\\":0},\\\"type\\\":\\\"histogram2d\\\",\\\"colorscale\\\":[[0.0,\\\"#0d0887\\\"],[0.1111111111111111,\\\"#46039f\\\"],[0.2222222222222222,\\\"#7201a8\\\"],[0.3333333333333333,\\\"#9c179e\\\"],[0.4444444444444444,\\\"#bd3786\\\"],[0.5555555555555556,\\\"#d8576b\\\"],[0.6666666666666666,\\\"#ed7953\\\"],[0.7777777777777778,\\\"#fb9f3a\\\"],[0.8888888888888888,\\\"#fdca26\\\"],[1.0,\\\"#f0f921\\\"]]}],\\\"scatterternary\\\":[{\\\"type\\\":\\\"scatterternary\\\",\\\"marker\\\":{\\\"colorbar\\\":{\\\"ticks\\\":\\\"\\\",\\\"outlinewidth\\\":0}}}],\\\"scatterpolargl\\\":[{\\\"type\\\":\\\"scatterpolargl\\\",\\\"marker\\\":{\\\"colorbar\\\":{\\\"ticks\\\":\\\"\\\",\\\"outlinewidth\\\":0}}}]}},\\\"margin\\\":{\\\"l\\\":50,\\\"b\\\":50,\\\"r\\\":50,\\\"t\\\":60}},{\\\"showLink\\\":false,\\\"editable\\\":false,\\\"responsive\\\":true,\\\"staticPlot\\\":false,\\\"scrollZoom\\\":true}); gd.on(\\\"plotly_hover\\\",(function (data){var filtered_data=WebIO.PlotlyCommands.filterEventData(gd,data,\\\"hover\\\"); return !(filtered_data.isnil) ? (WebIO.setval({\\\"name\\\":\\\"hover\\\",\\\"scope\\\":\\\"254178756675534032\\\",\\\"id\\\":\\\"242408267830828236\\\",\\\"type\\\":\\\"observable\\\"},filtered_data.out)) : undefined})); gd.on(\\\"plotly_unhover\\\",(function (){return WebIO.setval({\\\"name\\\":\\\"hover\\\",\\\"scope\\\":\\\"254178756675534032\\\",\\\"id\\\":\\\"242408267830828236\\\",\\\"type\\\":\\\"observable\\\"},{})})); gd.on(\\\"plotly_selected\\\",(function (data){var filtered_data=WebIO.PlotlyCommands.filterEventData(gd,data,\\\"selected\\\"); return !(filtered_data.isnil) ? (WebIO.setval({\\\"name\\\":\\\"selected\\\",\\\"scope\\\":\\\"254178756675534032\\\",\\\"id\\\":\\\"263843277088927626\\\",\\\"type\\\":\\\"observable\\\"},filtered_data.out)) : undefined})); gd.on(\\\"plotly_deselect\\\",(function (){return WebIO.setval({\\\"name\\\":\\\"selected\\\",\\\"scope\\\":\\\"254178756675534032\\\",\\\"id\\\":\\\"263843277088927626\\\",\\\"type\\\":\\\"observable\\\"},{})})); gd.on(\\\"plotly_relayout\\\",(function (data){var filtered_data=WebIO.PlotlyCommands.filterEventData(gd,data,\\\"relayout\\\"); return !(filtered_data.isnil) ? (WebIO.setval({\\\"name\\\":\\\"relayout\\\",\\\"scope\\\":\\\"254178756675534032\\\",\\\"id\\\":\\\"11925081880202646479\\\",\\\"type\\\":\\\"observable\\\"},filtered_data.out)) : undefined})); return gd.on(\\\"plotly_click\\\",(function (data){var filtered_data=WebIO.PlotlyCommands.filterEventData(gd,data,\\\"click\\\"); return !(filtered_data.isnil) ? (WebIO.setval({\\\"name\\\":\\\"click\\\",\\\"scope\\\":\\\"254178756675534032\\\",\\\"id\\\":\\\"16729463494092912273\\\",\\\"type\\\":\\\"observable\\\"},filtered_data.out)) : undefined}))}));\\n    (WebIO.importBlock({\\\"data\\\":[{\\\"name\\\":\\\"Plotly\\\",\\\"type\\\":\\\"js\\\",\\\"url\\\":\\\"\\/assetserver\\/02f0d5b6a4424194a48c8d3be9f48e948c04bbd1-plotly.min.js\\\"},{\\\"name\\\":null,\\\"type\\\":\\\"js\\\",\\\"url\\\":\\\"\\/assetserver\\/c4b82ac8736c57d94c07f8ff57937febc407a986-plotly_webio.bundle.js\\\"}],\\\"type\\\":\\\"async_block\\\"})).then((imports) => handler.apply(this, imports));\\n}\\n\"],\"observables\":{\"_toImage\":{\"sync\":false,\"id\":\"2113803838297977650\",\"value\":{}},\"hover\":{\"sync\":false,\"id\":\"242408267830828236\",\"value\":{}},\"selected\":{\"sync\":false,\"id\":\"263843277088927626\",\"value\":{}},\"__gd_contents\":{\"sync\":false,\"id\":\"3011850752638893216\",\"value\":{}},\"click\":{\"sync\":false,\"id\":\"16729463494092912273\",\"value\":{}},\"image\":{\"sync\":true,\"id\":\"15762349622949741115\",\"value\":\"\"},\"__get_gd_contents\":{\"sync\":false,\"id\":\"3803362794154279692\",\"value\":\"\"},\"_downloadImage\":{\"sync\":false,\"id\":\"9863271505116462502\",\"value\":{}},\"relayout\":{\"sync\":false,\"id\":\"11925081880202646479\",\"value\":{}},\"_commands\":{\"sync\":false,\"id\":\"1115243296783108683\",\"value\":[]}}},\"children\":[{\"props\":{\"id\":\"plot-10da8f1b-e382-4e1f-9280-9a133012693a\"},\"nodeType\":\"DOM\",\"type\":\"node\",\"instanceArgs\":{\"namespace\":\"html\",\"tag\":\"div\"},\"children\":[]}]},\n",
       "        window,\n",
       "    );\n",
       "    })()\n",
       "    </script>\n",
       "</div>\n"
      ],
      "text/plain": [
       "data: [\n",
       "  \"histogram with fields nbins, type, and x\"\n",
       "]\n",
       "\n",
       "layout: \"layout with fields margin and template\"\n",
       "\n"
      ]
     },
     "execution_count": 42,
     "metadata": {},
     "output_type": "execute_result"
    }
   ],
   "source": [
    "function analyse_nse(d::Dict{String, Point})\n",
    "    p = d[\"^NSEI\"]\n",
    "    dates, prices, intDates = (p.dates, p.prices, p.intDates)\n",
    "    diffs = Vector{Float64}(undef, 0)\n",
    "    for i in 2:length(intDates)\n",
    "        if intDates[i] == intDates[i-1] + 1\n",
    "            rate = r(prices[i-1], prices[i], 1/365.0)*100\n",
    "            push!(diffs, rate)\n",
    "        end\n",
    "    end\n",
    "    #histogram(diffs)\n",
    "    ptiles = nquantile(diffs, 100)[40:60]\n",
    "#     plot((1:100)[40:60], ptiles)\n",
    "    l = length(diffs)\n",
    "    plot([histogram(x=sort!(diffs)[trunc(Int, l/4):trunc(Int, 3l/4)], nbins=50)])\n",
    "end\n",
    "analyse_nse(d)"
   ]
  },
  {
   "cell_type": "markdown",
   "metadata": {},
   "source": [
    "# Experimentation on multidimensional array speeds\n",
    "\n",
    "array iteration speed is about 1 billion per second. insane."
   ]
  },
  {
   "cell_type": "code",
   "execution_count": null,
   "metadata": {},
   "outputs": [],
   "source": [
    "function test(ar::Array{Int64})\n",
    "    sum = 0\n",
    "    for i in 1:1000\n",
    "        for j in 2:length(ar)\n",
    "            sum+=ar[j]\n",
    "#             ar[j]+=ar[j-1]\n",
    "        end\n",
    "    end\n",
    "    return sum\n",
    "end\n",
    "time_sum(x) = @time test(x);\n",
    "time_sum(ar)\n",
    "println(typeof(ar), size(ar))\n"
   ]
  },
  {
   "cell_type": "markdown",
   "metadata": {},
   "source": [
    "# Speeds of DataFrames\n",
    "fucking dataframes is not type stable so it is 100-1000x slower than array iteration and allocates a large amount of memory\n",
    "\n",
    "There are several table like structures in julia (mostly third parties, several of them seem to be overlapping a lot in functionality)\n",
    "The best one seems to be IndexedTable. it is type stable. It is implementated as a NamedTuple of vectors but acts like a vector of NamedTuples.\n",
    "Of course, the fastest and most native is just NamedTuple. But it seems like a NamedTuple (and also IndexedTable) with many columns might stress the compiler (havent tested it)\n",
    "\n",
    "IndexedTable constructor *copies* the data from the NamedTuple constructor param to create the new IndexedTable. However, invoking `IndexedTable.columns ` returns a NamedTuple *view* of the IndexedTable which is perfect for arbitrary iteration and modifications.\n",
    "\n",
    "btw, the nomenclature is really fucked up.\n",
    "- [Julia Data](https://github.com/JuliaDatahttps://github.com/JuliaData) is the name for all built in table like structures in Julia. They all seem to respect the Tables.jl interface\n",
    "- [JuliaDB](https://juliadata.github.io/JuliaDB.jl/latest/https://juliadata.github.io/JuliaDB.jl/latest/) is one particular table like structure in Julia Data. It is built on `IndexedTables` (seems like both are synonymous). This is the best since it is type stable\n",
    "- [DataFrames](https://github.com/JuliaData/DataFrames.jlhttps://github.com/JuliaData/DataFrames.jl) is a slow and fucked up implementation in Julia Data. It is feature rich but fucking slow\n",
    "- [Julia Databases](https://juliadatabases.github.io/https://juliadatabases.github.io/) collects various drivers for different databases like Mysql, postgres, sqlite. seems like all of them can stream to a tables.jl constructor\n",
    "\n",
    "A good summary of all the shit can be found [here](https://www.juliabloggers.com/a-tour-of-the-data-ecosystem-in-julia/https://www.juliabloggers.com/a-tour-of-the-data-ecosystem-in-julia/) from the author of CSV.jl"
   ]
  },
  {
   "cell_type": "code",
   "execution_count": null,
   "metadata": {},
   "outputs": [],
   "source": [
    "function testDataFrame(df::DataFrame)\n",
    "    ar::Array{Int64} = df.a\n",
    "    sum = 0\n",
    "    for i::Int64 in 1:1000\n",
    "        for j in 1:length(ar)\n",
    "            sum+=ar[j]\n",
    "        end\n",
    "    end\n",
    "    return sum\n",
    "end\n",
    "\n",
    "\n",
    "# println(typeof(df))\n",
    "time_sum(df) = @time testDataFrame(df);\n",
    "time_sum(df)\n"
   ]
  },
  {
   "cell_type": "code",
   "execution_count": null,
   "metadata": {},
   "outputs": [],
   "source": [
    "sql = \"\"\"select symbol , array_agg(name)as names from indices i group by symbol \"\"\"\n",
    "result = execute(conn, sql)\n",
    "println(typeof(result))\n",
    "df = result |> table\n"
   ]
  },
  {
   "cell_type": "code",
   "execution_count": null,
   "metadata": {},
   "outputs": [],
   "source": [
    "l = length(df)\n",
    "order = splt(\"\"\"\n",
    "nifty-50\n",
    "nifty-next-50\n",
    "nifty-midcap-50\n",
    "nifty-midcap-100\n",
    "nifty-midcap-150\n",
    "nifty-smallcap-50\n",
    "nifty-smallcap-100\n",
    "nifty-smallcap-250\n",
    "\n",
    "    \"\"\")\n",
    "println(order)\n",
    "companyToLabel = Dict{String, String}()\n",
    "\n",
    "for i in 1:l\n",
    "    company = df[i].symbol\n",
    "    names = splt(df[i].names[2:end-1], \",\")\n",
    "    for label in order\n",
    "        if findfirst(x->x==label, names) != nothing\n",
    "            companyToLabel[company] = label\n",
    "            @goto label\n",
    "        end\n",
    "    end\n",
    "    companyToLabel[company] = names[1]\n",
    "    @label label\n",
    "end"
   ]
  },
  {
   "cell_type": "code",
   "execution_count": null,
   "metadata": {},
   "outputs": [],
   "source": [
    "companyToLabel"
   ]
  },
  {
   "cell_type": "code",
   "execution_count": null,
   "metadata": {},
   "outputs": [],
   "source": []
  },
  {
   "cell_type": "raw",
   "metadata": {},
   "source": [
    "data = table((symbol=Vector{String}(undef, 0), company=Vector{String}(undef, 0), prob=Vector{Float64}(undef, 0), label=Vector{String}(undef, 0)))\n"
   ]
  },
  {
   "cell_type": "code",
   "execution_count": null,
   "metadata": {},
   "outputs": [],
   "source": [
    "show_supertypes(typeof(rows(data)))"
   ]
  },
  {
   "cell_type": "code",
   "execution_count": null,
   "metadata": {},
   "outputs": [],
   "source": [
    " sa = StructArray([1+im, 3-2im])"
   ]
  },
  {
   "cell_type": "code",
   "execution_count": null,
   "metadata": {},
   "outputs": [],
   "source": [
    "tt = table(1:10, randn(10), rand(Bool, 10); names = [:x, :y, :z])\n"
   ]
  },
  {
   "cell_type": "code",
   "execution_count": null,
   "metadata": {},
   "outputs": [],
   "source": [
    "push!(rows(tt), (x=1, y=1.1, z=true))"
   ]
  },
  {
   "cell_type": "code",
   "execution_count": null,
   "metadata": {},
   "outputs": [],
   "source": [
    "select(tt, :x)"
   ]
  }
 ],
 "metadata": {
  "@webio": {
   "lastCommId": "96d578cb-d1fe-41bb-adab-a81b7f0acddd",
   "lastKernelId": "6fb13659-32b9-44fe-b9d0-ca7ecefd642f"
  },
  "kernelspec": {
   "display_name": "Julia 1.6.0",
   "language": "julia",
   "name": "julia-1.6"
  },
  "language_info": {
   "file_extension": ".jl",
   "mimetype": "application/julia",
   "name": "julia",
   "version": "1.6.0"
  }
 },
 "nbformat": 4,
 "nbformat_minor": 4
}
