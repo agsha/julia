{
 "cells": [
  {
   "cell_type": "code",
   "execution_count": 1,
   "metadata": {},
   "outputs": [
    {
     "data": {
      "application/vnd.webio.node+json": {
       "children": [],
       "instanceArgs": {
        "namespace": "html",
        "tag": "div"
       },
       "nodeType": "DOM",
       "props": {},
       "type": "node"
      },
      "text/html": [
       "<div style=\"padding: 1em; background-color: #f8d6da; border: 1px solid #f5c6cb; font-weight: bold;\">\n",
       "<p>The WebIO Jupyter extension was not detected. See the\n",
       "<a href=\"https://juliagizmos.github.io/WebIO.jl/latest/providers/ijulia/\" target=\"_blank\">\n",
       "    WebIO Jupyter integration documentation\n",
       "</a>\n",
       "for more information.\n",
       "</div>\n"
      ],
      "text/plain": [
       "WebIO._IJuliaInit()"
      ]
     },
     "metadata": {
      "@webio": {
       "kernelId": "b32f93d2-688d-4f15-81c8-5fd9fdf87434"
      }
     },
     "output_type": "display_data"
    }
   ],
   "source": [
    "include(\"./mm.jl\");\n"
   ]
  },
  {
   "cell_type": "code",
   "execution_count": 2,
   "metadata": {},
   "outputs": [
    {
     "data": {
      "text/plain": [
       "Dict{String, Point} with 1684 entries:\n",
       "  \"20MICRONS\"    => Point([DateTime(\"2008-10-06T00:00:00\"), DateTime(\"2008-10-0…\n",
       "  \"JUBLFOOD\"     => Point([DateTime(\"2010-02-08T00:00:00\"), DateTime(\"2010-02-0…\n",
       "  \"BAJFINANCE\"   => Point([DateTime(\"2002-07-01T00:00:00\"), DateTime(\"2002-07-0…\n",
       "  \"FLUOROCHEM\"   => Point([DateTime(\"2019-10-16T00:00:00\"), DateTime(\"2019-10-1…\n",
       "  \"RAJSREESUG\"   => Point([DateTime(\"2002-07-01T00:00:00\"), DateTime(\"2002-07-0…\n",
       "  \"SUNDRMBRAK\"   => Point([DateTime(\"2002-08-12T00:00:00\"), DateTime(\"2002-08-1…\n",
       "  \"WHIRLPOOL\"    => Point([DateTime(\"2002-08-12T00:00:00\"), DateTime(\"2002-08-1…\n",
       "  \"CAREERP\"      => Point([DateTime(\"2010-10-06T00:00:00\"), DateTime(\"2010-10-0…\n",
       "  \"SUNPHARMA\"    => Point([DateTime(\"1996-01-01T00:00:00\"), DateTime(\"1996-01-0…\n",
       "  \"TAKE\"         => Point([DateTime(\"2007-08-27T00:00:00\"), DateTime(\"2007-08-2…\n",
       "  \"VBL\"          => Point([DateTime(\"2016-11-08T00:00:00\"), DateTime(\"2016-11-0…\n",
       "  \"NOIDATOLL\"    => Point([DateTime(\"2002-12-06T00:00:00\"), DateTime(\"2002-12-0…\n",
       "  \"POLYCAB\"      => Point([DateTime(\"2019-04-16T00:00:00\"), DateTime(\"2019-04-1…\n",
       "  \"JKCEMENT\"     => Point([DateTime(\"2006-03-14T00:00:00\"), DateTime(\"2006-03-1…\n",
       "  \"CANDC\"        => Point([DateTime(\"2007-02-26T00:00:00\"), DateTime(\"2007-02-2…\n",
       "  \"KAUSHALYA\"    => Point([DateTime(\"2007-12-14T00:00:00\"), DateTime(\"2007-12-1…\n",
       "  \"DSSL\"         => Point([DateTime(\"2008-01-01T00:00:00\"), DateTime(\"2008-01-0…\n",
       "  \"AUTOLITIND\"   => Point([DateTime(\"2008-11-10T00:00:00\"), DateTime(\"2008-11-1…\n",
       "  \"GREENPANEL\"   => Point([DateTime(\"2019-10-23T00:00:00\"), DateTime(\"2019-10-2…\n",
       "  \"IRCON\"        => Point([DateTime(\"2018-09-28T00:00:00\"), DateTime(\"2018-10-0…\n",
       "  \"^CNXCMDT\"     => Point([DateTime(\"2007-09-17T00:00:00\"), DateTime(\"2007-09-1…\n",
       "  \"%5ECNXCONSUM\" => Point([DateTime(\"2007-09-17T00:00:00\"), DateTime(\"2007-09-1…\n",
       "  \"BHARATRAS\"    => Point([DateTime(\"2002-07-01T00:00:00\"), DateTime(\"2002-07-0…\n",
       "  \"EVERESTIND\"   => Point([DateTime(\"2002-07-01T00:00:00\"), DateTime(\"2002-07-0…\n",
       "  \"HOVS\"         => Point([DateTime(\"2006-09-27T00:00:00\"), DateTime(\"2006-09-2…\n",
       "  ⋮              => ⋮"
      ]
     },
     "execution_count": 2,
     "metadata": {},
     "output_type": "execute_result"
    }
   ],
   "source": [
    "const d = deserialize(\"stock_dict\")"
   ]
  },
  {
   "cell_type": "markdown",
   "metadata": {},
   "source": [
    "Fact:\n",
    "let `rd` be the daily rate (not in percentage, but in absolute terms).\n",
    "then `ry` the yearly rate is given by \n",
    "```\n",
    "ry = (1+rd)^365 - 1\n",
    "```\n",
    "\n",
    "and the inverse relationship is \n",
    "\n",
    "```\n",
    "rd = (1+ry)^-365 - 1\n",
    "```\n",
    "\n",
    "This is a crazy exponential equation. An yearly rate of `10%` is achived by a daily rate of around `0.03%`\n",
    "\n",
    "The following graph plots the relation. x axis is daily rate in percentage. y axis is the corresponding yearly rate in percentage\n",
    "\n",
    "Note also that the maximum negative rate possible is `-100%` at which the initial principal goes to zero.\n",
    "\n",
    "Note also that from f(0.0%) = 0% to f(0.2%) = 100%, the graph is almost linear, which means that in this region, f(x) = x*365"
   ]
  },
  {
   "cell_type": "code",
   "execution_count": null,
   "metadata": {},
   "outputs": [],
   "source": [
    "#An example of BigFloat, just in case we need it\n",
    "# setprecision(BigFloat, 2048) do\n",
    "#     rd = BigFloat(\"0.0003\")\n",
    "# #     rd = 0.0003\n",
    "#     ry = (1+rd)^365 - 1\n",
    "#     println(\"ry is  \", ry)\n",
    "#     rd2 = (1+ry)^(1/365) - 1\n",
    "#     println(\"rd2 is    \", rd2)\n",
    "#     @show rd.prec\n",
    "# end\n",
    "rd = -0.01:0.00001:0.01\n",
    "ry = map(i -> (1+i)^365-1, rd)\n",
    "\n",
    "rs = map(i->i*365, rd)\n",
    "re = map(i -> exp(i*365), rd)\n",
    "trace1 = scatter(x=rd.*100, y=ry.*100,\n",
    "                    mode=\"lines\",\n",
    "                    name=\"compunded return\")\n",
    "trace2 = scatter(x=rd.*100, y=rs.*100,\n",
    "                    mode=\"lines\",\n",
    "                    name=\"simple multiplied\")\n",
    "trace3 = scatter(x=rd.*100, y=re.*100,\n",
    "                    mode=\"lines\",\n",
    "                    name=\"continous compounding\")\n",
    "plot([trace1, trace2, trace3])"
   ]
  },
  {
   "cell_type": "code",
   "execution_count": null,
   "metadata": {},
   "outputs": [],
   "source": [
    "#const d = constructDict()\n",
    "#serialize(\"stock_dict\", d)\n",
    "\n",
    "const d = deserialize(\"stock_dict\")"
   ]
  },
  {
   "cell_type": "code",
   "execution_count": null,
   "metadata": {},
   "outputs": [],
   "source": [
    "function companyComparison(p::Float64)\n",
    "    nn = (symbol=Vector{String}(undef, 0), prob=Vector{Float64}(undef, 0), label=Vector{String}(undef, 0))\n",
    "    for key in keys(d)\n",
    "        sss = key\n",
    "        pp = prob(d, key, 1, 3*365, p)\n",
    "        label = get(companyToLabel, key, \"\")\n",
    "        push!(nn[:symbol], sss)\n",
    "        push!(nn[:prob], pp)\n",
    "        push!(nn[:label], label)\n",
    "    end\n",
    "    execute(conn, \"BEGIN;\")\n",
    "    execute(conn, \"drop table if exists work.company_comparison; \")\n",
    "    execute(conn, \"\"\"\n",
    "    create table work.company_comparison (symbol text, prob float, label text)\n",
    "    \"\"\")\n",
    "    LibPQ.load!(\n",
    "        nn,\n",
    "        conn,\n",
    "        \"INSERT INTO work.company_comparison (symbol, prob, label) VALUES (\\$1, \\$2, \\$3);\",\n",
    "    )\n",
    "\n",
    "    execute(conn, \"COMMIT;\")\n",
    "end\n",
    "companyComparison(0.15)"
   ]
  },
  {
   "cell_type": "code",
   "execution_count": null,
   "metadata": {},
   "outputs": [],
   "source": [
    "prob(d, \"TVSMOTOR\",1, 3*365, 0.3 )"
   ]
  },
  {
   "cell_type": "code",
   "execution_count": null,
   "metadata": {},
   "outputs": [],
   "source": [
    "df = table((x=an,))\n",
    "summarize((mean, std), df)\n"
   ]
  },
  {
   "cell_type": "code",
   "execution_count": null,
   "metadata": {},
   "outputs": [],
   "source": [
    "function foo()\n",
    "    sql = \"\"\" select symbol from indices i where name = 'nifty-500' \"\"\"\n",
    "    result = execute(conn, sql)\n",
    "    return result |> table\n",
    "end\n",
    "df = foo()\n"
   ]
  },
  {
   "cell_type": "code",
   "execution_count": null,
   "metadata": {},
   "outputs": [],
   "source": [
    "df = CSV.read(\"/home/sharath/Downloads/AdultDataSet.csv\")"
   ]
  },
  {
   "cell_type": "code",
   "execution_count": null,
   "metadata": {},
   "outputs": [],
   "source": [
    "df2 = df[shuffle(1:nrow(df))[1:Int(floor((nrow(df)/5)))], :]"
   ]
  },
  {
   "cell_type": "code",
   "execution_count": null,
   "metadata": {},
   "outputs": [],
   "source": [
    "filter(row->row[\"education\"]==\" HS-grad\" && row[\"marital-status\"]==\" Never-married\", df)"
   ]
  },
  {
   "cell_type": "code",
   "execution_count": null,
   "metadata": {},
   "outputs": [],
   "source": [
    "typeof(freqtable(df[\"education\"], df[\"marital-status\"]))"
   ]
  },
  {
   "cell_type": "code",
   "execution_count": null,
   "metadata": {},
   "outputs": [],
   "source": [
    "df |> SQLite.load!(sqlite, \"adult\")"
   ]
  },
  {
   "cell_type": "code",
   "execution_count": null,
   "metadata": {},
   "outputs": [],
   "source": [
    "df = DBInterface.execute(sqlite, \"select * from adult\") |> DataFrame"
   ]
  },
  {
   "cell_type": "code",
   "execution_count": null,
   "metadata": {},
   "outputs": [],
   "source": [
    "function f(r1::Float64, r2::Float64, x::Float64)\n",
    "    return ((1+r1)^x) * ((1+r2)^(1-x)) - 1\n",
    "end\n",
    "xx  = 0:0.001:0.99\n",
    "yy = [f(.04, 0.13, x) for x in ran]\n",
    "plot(xx, yy, hover=string.(xx).*\"   \".*string.(yy), size=(1700, 400,))"
   ]
  },
  {
   "cell_type": "markdown",
   "metadata": {},
   "source": [
    "This is testing an investment strategy. we invest a fixed amount every day for `investDays` days. \n",
    "The portfolio is the current list of days that we bought the stocks.\n",
    "Every day, we also go through our current portfolio. If one of the past day buys have hit more than `rateThreshold`, we sell it. \n",
    "\n",
    "After `investDays`, we wait for another `redeemDays` to liquidate any portfolio that remains. After `redeemDays`, we sell whatever is left.\n",
    "return the amount of money in the wallet after `investDays+redeemDays`\n",
    "\n",
    "Zerodha has the following transaction fees. \n",
    "* charge buy is 1.19 per 1000\n",
    "* charge sell is 1.04 per 1000\n",
    "* charge dp is 13.8 per stock per sell per day + 18% GST. since we are dealing with only 1 stock, the charge is 13.8*1.18\n",
    "\n",
    "````\n",
    "charge_buy = 1.19/1000 per rupee\n",
    "charge_sell = 1.04/1000 per rupee\n",
    "charge_dp = 13.5*1.18 per stock per day\n",
    "interest_charges = p2(1, fixed_deposit_rate, days_held/365.0) - 1 per rupee\n",
    "\n",
    "for rupee  p[dayBought]*(1 + charge_buy) =(we get) 1 stock\n",
    "so for     amount =(we get) amount/(p[dayBought]*(1+charge_buy))\n",
    "\n",
    "num_stocks = amount/(p[dayBought]*(1+charge_buy))\n",
    "\n",
    "\n",
    "net_today = num_stock*p[today] - num_stock*p[today]*(charge_sell) - interest_charges - charge_dp\n",
    "          = num_stock*p[today](1 - charge_sell) - interest_charges - charge_dp\n",
    "\n",
    "          = amount*p[today](1 - charge_sell) / (p[dayBought]*(1+charge_buy)) - amount*(p2(1, fixed_deposit_rate, days_held/365.0) - 1) - charge_dp\n",
    "````"
   ]
  },
  {
   "cell_type": "code",
   "execution_count": null,
   "metadata": {},
   "outputs": [],
   "source": [
    "saved = Vector{Float64}(undef, 0)"
   ]
  },
  {
   "cell_type": "code",
   "execution_count": null,
   "metadata": {},
   "outputs": [],
   "source": [
    "struct DummyStrategy <: Strategy\n",
    "end\n",
    "\n",
    "eps = 0.00000001\n",
    "#case 1 null strategy, no salary, no walletRate, wallet should remain the same, expected return 0\n",
    "accountingStrategy = WalletAccountingStrategy(wallet=1000., walletRate=0., salary=0., salaryInterval=30, days=365)\n",
    "function strategy(::DummyStrategy, ::Tls, w, i) 0. end\n",
    "@assert abs(runStrategy(accountingStrategy, Tls(365), DummyStrategy())) < eps\n",
    "\n",
    "\n",
    "\n",
    "#case 2 null strategy, no salary, walletRate should result in walletRate\n",
    "expected = 0.1\n",
    "accountingStrategy = WalletAccountingStrategy(wallet=1000., walletRate=0.1, salary=0., salaryInterval=30, days=365)\n",
    "function strategy(::DummyStrategy, ::Tls, w, i) 0. end\n",
    "actual = runStrategy(accountingStrategy, Tls(365), DummyStrategy())\n",
    "@assert abs(expected - actual) < eps \"expected: $expected, actual: $actual\"\n",
    "\n",
    "# case 3 just salary, no wallet or wallet rate null strategy should give 0\n",
    "accountingStrategy = WalletAccountingStrategy(wallet=0., walletRate=0., salary=1000., salaryInterval=30, days=365)\n",
    "function strategy(::DummyStrategy, ::Tls, w, i) 0. end\n",
    "actual = runStrategy(accountingStrategy, Tls(365), DummyStrategy())\n",
    "@assert abs(actual) < eps \"expected: $expected, actual: $actual\"\n",
    "\n",
    "#case 4 salary with no wallet but walletRate should give walletRate\n",
    "accountingStrategy = WalletAccountingStrategy(wallet=0., walletRate=0.1, salary=1000., salaryInterval=30, days=365)\n",
    "function strategy(::DummyStrategy, ::Tls, w, i) 0. end\n",
    "actual = runStrategy(accountingStrategy, Tls(365), DummyStrategy())\n",
    "@assert abs(actual-0.1) < eps \"expected: .1, actual: $actual\"\n",
    "\n",
    "#case 5 salary with initial wallet and walletRate but null strategy should return walletRate\n",
    "accountingStrategy = WalletAccountingStrategy(wallet=1000., walletRate=0.1, salary=1000., salaryInterval=30, days=365)\n",
    "function strategy(::DummyStrategy, ::Tls, w, i) 0. end\n",
    "actual = runStrategy(accountingStrategy, Tls(365), DummyStrategy())\n",
    "@assert abs(actual-0.1) < eps \"expected: .1, actual: $actual\"\n",
    "\n",
    "\n",
    "# case 6 a strategy that compounds the wallet returns the compounding rate\n",
    "# the wallet rate has to be zero otherwise, the first day compounding will take effect\n",
    "mutable struct DummyStrategy2 <: Strategy \n",
    "    w::Float64 \n",
    "end\n",
    "function strategy(s::DummyStrategy2, ::Tls, wallet, i)\n",
    "    if i==1\n",
    "        s.w = wallet\n",
    "        -wallet\n",
    "    elseif i==365\n",
    "        p2(s.w, 0.2/365., 365)\n",
    "    else\n",
    "        0.\n",
    "    end\n",
    "end\n",
    "\n",
    "accountingStrategy = WalletAccountingStrategy(wallet=1000., walletRate=0., salary=0., salaryInterval=30, days=365)\n",
    "actual = runStrategy(accountingStrategy, Tls(365), DummyStrategy2(0.))\n",
    "@assert abs(actual-0.2) < eps \"expected: .2, actual: $actual\"\n",
    "\n",
    "\n",
    "# case 7 a strategy that randomly invests money and gives randomly gives walletRate return with starting wallet \n",
    "# and salary should return walletRate\n",
    "days = 365\n",
    "struct Invest\n",
    "    day::Int\n",
    "    amnt::Float64\n",
    "end\n",
    "mutable struct DummyStrategy3 <: Strategy\n",
    "    ar::Vector{Int}\n",
    "    ll::FastList{Invest}\n",
    "    numBuy::Int\n",
    "    numSell::Int\n",
    "end\n",
    "function strategy(s::DummyStrategy3, ::Tls, wallet::Float64, i::Int)\n",
    "    # 0 is buy, 1 is sell\n",
    "    arr = s.ar\n",
    "    ll = s.ll\n",
    "    if i==365\n",
    "        sum = 0.\n",
    "        for node in ll\n",
    "            # this will make the wallet go negative, but cant help it. \n",
    "            # need for testing. It is because to completely make the wallet zero,\n",
    "            # we need to take out the interest as well\n",
    "            sum += p2(node.data.amnt, 0.1/365, i-node.data.day)\n",
    "        end\n",
    "        # println(\"numBuy is $(s.numBuy) numSell is $(s.numSell) total is $(s.numBuy + s.numSell)\")\n",
    "        return sum\n",
    "    end\n",
    "    if rand(arr) == 0 && wallet > 0\n",
    "        amnt = p2(wallet, 0.1/365, i)\n",
    "        push!(ll, Invest(i, amnt))\n",
    "        s.numBuy += 1\n",
    "        return -amnt\n",
    "    else\n",
    "        for node in ll\n",
    "            del(ll, node)\n",
    "            s.numSell += 1\n",
    "            return p2(node.data.amnt, 0.1/365, i-node.data.day)\n",
    "        end\n",
    "        return 0.\n",
    "    end\n",
    "                \n",
    "end\n",
    "accountingStrategy = WalletAccountingStrategy(wallet=1000., walletRate=0.1, salary=1000., salaryInterval=30, days=365)\n",
    "actual = runStrategy(accountingStrategy, Tls(365), DummyStrategy3([0, 1], FastList{Invest}(days), 0, 0))\n",
    "@assert abs(actual-0.1) < eps \"expected: .1, actual: $actual\"\n"
   ]
  },
  {
   "cell_type": "code",
   "execution_count": null,
   "metadata": {},
   "outputs": [],
   "source": [
    "# test cases for Strategy1\n",
    "# test case 1 if amount is less than wallet, can invest\n",
    "tls = Tls(10)\n",
    "strt = Strategy1(0.1, 10, 10, 10, RealProfit())\n",
    "actual = strategy(strt, tls, 100., 1)\n",
    "@assert actual==-10 \"expected 10, got $actual\"\n",
    "\n",
    "# test case 2 if wallet is < amount, cant invest\n",
    "tls = Tls(10)\n",
    "strt = Strategy1(0.1, 10, 10, 10, RealProfit())\n",
    "actual = strategy(strt, tls, 9., 1)\n",
    "@assert actual==0 \"expected 0, got $actual\"\n",
    "\n",
    "# test case 3 if a prev investment has given the rate, then it is sold\n",
    "tls = Tls([5], [1., 1., 1., 1., 10., 25.995  , 10], [1, 2, 3, 4, 5, 6, 7])\n",
    "strt = Strategy1(0.1, 10, 10, 10, RealProfit())\n",
    "for node in tls.ll\n",
    "    println(node.data)\n",
    "end\n",
    "actual = strategy(strt, tls, 0., 6)\n",
    "@assert actual==10.007100050939378 \"expected 10.007100050939378, got $actual\"\n",
    "\n",
    "# test case 3 if a prev investment has given the rate, then it is sold\n",
    "tls = Tls([5], [1., 1., 1., 1., 10., 25.99  , 10], [1, 2, 3, 4, 5, 6, 7])\n",
    "strt = Strategy1(0.1, 10, 10, 10, RealProfit())\n",
    "for node in tls.ll\n",
    "    println(node.data)\n",
    "end\n",
    "actual = strategy(strt, tls, 0., 6)\n",
    "@assert actual==0 \"expected 0, got $actual\"\n"
   ]
  },
  {
   "cell_type": "code",
   "execution_count": null,
   "metadata": {},
   "outputs": [],
   "source": [
    "#test case for dummy profit\n",
    "actual = profit(TrivialProfit(), 10., 10., 100.)\n",
    "@assert actual==100 \"expected 100, got $actual\"\n",
    "\n",
    "actual = profit(TrivialProfit(), 10., 10., 1.)\n",
    "@assert actual==1 \"expected 1, got $actual\"\n"
   ]
  },
  {
   "cell_type": "code",
   "execution_count": null,
   "metadata": {},
   "outputs": [],
   "source": [
    "#test cases for SipStrategy\n",
    "#function strategy(strt::SipStrategy, myTls::Tls, wallet::Float64, tradingDayIndex::Int)\n",
    "tls = Tls([1, 2, 3, 4, 5], [10., 20., 30., 40., 50., 60.], [1, 2, 3, 4, 5, 6])\n",
    "# total stocks bougth = 60, 30, 20, 15, 12 = 137. sold for 60, \n",
    "strt = SipStrategy(600, TrivialProfit())\n",
    "actual = strategy(strt, tls, 0., 6)\n",
    "@assert actual==8220 \"expected 8220, got $actual\"\n",
    "\n",
    "tls = Tls(FastList{Int}(10), [10., 20], [1, 2], [1.], Normal())\n",
    "# total stocks bougth = 60, 30, 20, 15, 12 = 137. sold for 60, \n",
    "strt = SipStrategy(600, TrivialProfit())\n",
    "actual = strategy(strt, tls, 20., 1)\n",
    "@assert actual==-10 \"expected -10, got $actual\"\n",
    "\n"
   ]
  },
  {
   "cell_type": "code",
   "execution_count": null,
   "metadata": {},
   "outputs": [],
   "source": [
    "accountingStrategy = WalletAccountingStrategy(wallet=1000., walletRate=0.0, salary=1000., salaryInterval=1, days=365)\n",
    "tls = Tls(10)\n",
    "strtg = SipStrategy(1000, TrivialProfit())\n",
    "runStrategy(accountingStrategy, tls, strtg)"
   ]
  },
  {
   "cell_type": "code",
   "execution_count": null,
   "metadata": {},
   "outputs": [],
   "source": [
    "\n",
    "abstract type PriceStrategy end\n",
    "abstract type Profit end\n",
    "\n",
    "abstract type Strategy end\n",
    "abstract type AccountingStrategy end\n",
    "Base.@kwdef struct Tls\n",
    "    ll::FastList{Int}\n",
    "    prices::Vector{Float64}\n",
    "    tradingDays::Vector{Int64}\n",
    "    ϕ::Vector{Float64}\n",
    "    dist::Normal\n",
    "end\n",
    "\n",
    "Base.@kwdef struct WalletAccountingStrategy <: AccountingStrategy\n",
    "    wallet::Float64\n",
    "    walletRate::Float64\n",
    "    salary::Float64\n",
    "    salaryInterval::Int\n",
    "    days::Int\n",
    "end\n",
    "\n",
    "Base.@kwdef struct WalletAccountingStrategy2 <: AccountingStrategy\n",
    "    wallet::Float64\n",
    "    walletRate::Float64\n",
    "    salary::Float64\n",
    "    salaryInterval::Int\n",
    "    days::Int\n",
    "end\n",
    "\n",
    "Base.@kwdef struct WeinerPriceStrategy <: PriceStrategy\n",
    "    μ::Float64\n",
    "    σ::Float64\n",
    "end\n",
    "\n",
    "Base.@kwdef mutable struct Strategy1 <: Strategy\n",
    "    rateThreshold::Float64\n",
    "    investDays::Int\n",
    "    redeemDays::Int\n",
    "    amount::Float64\n",
    "    profit::Profit\n",
    "end\n",
    "Base.@kwdef struct TrivialProfit <: Profit\n",
    "    \n",
    "end\n",
    "Base.@kwdef struct RealProfit <: Profit\n",
    "    \n",
    "end\n",
    "\n",
    "function profit(::TrivialProfit, amount::Float64, initialPrice::Float64, nowPrice::Float64)\n",
    "    return amount*nowPrice/initialPrice\n",
    "end\n",
    "\n",
    "#invested `amount` at initialPrice. now it is `nowPrice`\n",
    "function profit(::RealProfit, amount::Float64, initialPrice::Float64, nowPrice::Float64)\n",
    "    charge_buy::Float64 = 1.19/1000\n",
    "    charge_sell::Float64 = 1.04/1000\n",
    "    charge_dp::Float64 = 13.5*1.18\n",
    "    return amount*nowPrice*(1 - charge_sell) / (initialPrice*(1+charge_buy)) - charge_dp\n",
    "end\n",
    "\n",
    "\n",
    "Base.@kwdef struct SipStrategy <: Strategy\n",
    "    amount::Float64\n",
    "    profit::Profit\n",
    "end\n",
    "\n",
    "function strategy(strt::SipStrategy, myTls::Tls, wallet::Float64, tradingDayIndex::Int)\n",
    "    ll::FastList{Int} = myTls.ll\n",
    "    prices = myTls.prices\n",
    "    tradingDays = myTls.tradingDays\n",
    "    days::Int = length(prices)\n",
    "    amount::Float64 = strt.amount\n",
    "    \n",
    "    if tradingDayIndex < days\n",
    "        push!(ll, tradingDayIndex)\n",
    "        return -prices[tradingDayIndex]\n",
    "    else\n",
    "        sum::Float64 = 0\n",
    "        for node in ll\n",
    "            dayBought::Int = node.data\n",
    "            daysHeld::Int = tradingDays[tradingDayIndex] - tradingDays[dayBought]\n",
    "            net_today::Float64 = profit(strt.profit, amount, prices[dayBought], \n",
    "                prices[tradingDayIndex])\n",
    "            sum += net_today\n",
    "        end\n",
    "        return sum\n",
    "    end\n",
    "end\n",
    "\n",
    "function strategy(strt::Strategy1, myTls::Tls, wallet::Float64, tradingDayIndex::Int)\n",
    "    rateThreshold::Float64 = strt.rateThreshold\n",
    "    investDays::Int = strt.investDays\n",
    "    redeemDays::Int = strt.redeemDays\n",
    "    amount::Float64 = strt.amount\n",
    "    days::Int = investDays+redeemDays\n",
    "    \n",
    "    ll::FastList{Int} = myTls.ll\n",
    "    prices = myTls.prices\n",
    "    tradingDays = myTls.tradingDays\n",
    "    \n",
    "    net::Float64 = 0.\n",
    "    for node in ll\n",
    "        dayBought::Int = node.data\n",
    "        daysHeld::Int = tradingDays[tradingDayIndex] - tradingDays[dayBought]\n",
    "        net_today::Float64 = profit(strt.profit, amount, prices[dayBought], prices[tradingDayIndex])\n",
    "        net_today = max(net_today, 1)\n",
    "        rate::Float64 = r(amount, net_today, daysHeld/365.0);\n",
    "        # println(\"dayBought:$dayBought daysHeld:$daysHeld amount:$amount prices[dayBought]:$(prices[dayBought])\")\n",
    "        # println(\"prices[tradingDayIndex]:$(prices[tradingDayIndex]) net_today:$net_today\")\n",
    "        # println(\"rate:$rate\")\n",
    "        if rate > rateThreshold || tradingDayIndex==days\n",
    "            del(ll, node)      \n",
    "            net += net_today\n",
    "        end\n",
    "    end\n",
    "    if tradingDays[tradingDayIndex] <= investDays && amount < wallet\n",
    "        push!(ll, tradingDayIndex)\n",
    "        net -= amount\n",
    "    end\n",
    "    return net\n",
    "end\n",
    "\n",
    "\n",
    "function runStrategy(acc::WalletAccountingStrategy, myTls::Tls, strtg::Strategy)\n",
    "    wallet::Float64 = acc.wallet\n",
    "    walletRate::Float64 = acc.walletRate\n",
    "    salary::Float64 = acc.salary\n",
    "    days::Int = acc.days\n",
    "    tradingDays = myTls.tradingDays\n",
    "    salaryInterval = acc.salaryInterval\n",
    "    \n",
    "    lastSalaryDay = 1\n",
    "    lastTradingDay = 1\n",
    "    \n",
    "    for day::Int in 1:days\n",
    "        cashFlow::Float64 = strategy(strtg, myTls, wallet, day)\n",
    "        if tradingDays[day] >= tradingDays[1] + salaryInterval*lastSalaryDay\n",
    "            cashFlow += salary          \n",
    "            lastSalaryDay += 1\n",
    "        end\n",
    "        if abs(cashFlow) > 0.001\n",
    "            daysHeld = tradingDays[day] - tradingDays[lastTradingDay] + 1\n",
    "            wallet = p2(wallet, walletRate/365.0, daysHeld) + cashFlow\n",
    "            lastTradingDay = day\n",
    "        end\n",
    "    end\n",
    "end\n",
    "\n",
    "\n",
    "function runStrategy(acc::WalletAccountingStrategy, myTls::Tls, strtg::Strategy)\n",
    "    # the wallet at the beginning of day 1\n",
    "    wallet::Float64 = acc.wallet\n",
    "    walletRate::Float64 = acc.walletRate\n",
    "    salary::Float64 = acc.salary\n",
    "    days::Int = acc.days\n",
    "    tradingDays = myTls.tradingDays\n",
    "    salaryInterval = acc.salaryInterval\n",
    "    # the day after the last trade happened\n",
    "    lastTradingDay = 1\n",
    "    lastSalaryDay = 1\n",
    "    walletBegin::Float64 = wallet\n",
    "    for day::Int in 1:days\n",
    "        # cashFlow always accrues at the end of the day, by convention\n",
    "        cashFlow::Float64 = strategy(strtg, myTls, wallet, day)\n",
    "        if tradingDays[day] >= tradingDays[1] + salaryInterval*lastSalaryDay\n",
    "            cashFlow += salary\n",
    "            walletBegin += p1(salary, walletRate/365., tradingDays[day]-tradingDays[1]+1)\n",
    "            \n",
    "            lastSalaryDay += 1\n",
    "        end\n",
    "        if abs(cashFlow) > 0.001\n",
    "            daysHeld = tradingDays[day] - tradingDays[lastTradingDay] + 1\n",
    "            wallet = p2(wallet, walletRate/365.0, daysHeld) + cashFlow\n",
    "            lastTradingDay = day+1\n",
    "        end\n",
    "    end\n",
    "    if lastTradingDay <= days\n",
    "        daysHeld = tradingDays[days] - tradingDays[lastTradingDay] + 1\n",
    "        wallet = p2(wallet, walletRate/365.0, daysHeld)\n",
    "    end\n",
    "    return r(walletBegin, wallet, tradingDays[days] - tradingDays[1] + 1)*365\n",
    "end\n",
    "\n",
    "function Tls(days)::Tls\n",
    "    tls = Tls(FastList{Int}(days), Vector{Float64}(undef, days), \n",
    "            Vector{Int64}(undef, days), Vector{Float64}(undef, days), Normal(0, 1))\n",
    "    for i in 1:days\n",
    "        tls.tradingDays[i] = i\n",
    "    end\n",
    "    return tls\n",
    "end\n",
    "\n",
    "function Tls(history::Vector{Int}, prices::Vector{Float64}, \n",
    "        tradingDays::Vector{Int64})\n",
    "    days = length(prices)\n",
    "    return Tls(FastList{Int}(history), prices, tradingDays,  Vector{Float64}(undef, days), Normal(0, 1))\n",
    "end\n",
    "function run(acc::A, priceStrategy::P, strategy::S, days::Int) where {A<:AccountingStrategy,\n",
    "        P <: PriceStrategy, S <: Strategy}\n",
    "    tls = Vector{Tls}(undef, Threads.nthreads())\n",
    "    Threads.@threads for i in 1:Threads.nthreads()\n",
    "        tls[Threads.threadid()] = Tls(days)\n",
    "    end\n",
    "    Threads.@threads for run::Int in 1:runs\n",
    "        tid = Threads.threadid()\n",
    "        myTls = tls[tid]\n",
    "        fillPrice!(priceStrategy, myTls)\n",
    "        reset!(acc)\n",
    "        runStrategy(acc, myTls, strategy)\n",
    "        summarizeAccountingStrategy(acc, myTls)\n",
    "        summarizeStrategy(strategy)\n",
    "    end\n",
    "end\n",
    "function fillPrice!(priceStrategy::WeinerPriceStrategy, myTls::Tls)\n",
    "    weiner(myTls.days, priceStrategy.μ, priceStrategy.σ, myTls.prices, myTls.ϕ, myTls.dist)\n",
    "end\n",
    "\n",
    "\n",
    "\n"
   ]
  },
  {
   "cell_type": "code",
   "execution_count": null,
   "metadata": {},
   "outputs": [],
   "source": [
    "io = initLogging()\n",
    "# this strategy takes into account a \"wallet\" backed by a fixed deposit, which earns a risk free interest\n",
    "# and a periodic \"salary\" infusion every month. The effective rate is the rate which will make the initial\n",
    "# wallet equal to the final wallet\n",
    "# it also considers some rough accounting for tax. Fixed deposit at 30%, LTCG at 10% and STCG at 15%\n",
    "# this is WIP!!\n",
    "function strategy3(rateThreshold::Float64, investDays::Int, redeemDays::Int, ll::FastList{Int}, \n",
    "        tradingDays::AbstractVector{Int}, prices::AbstractVector{Float64})\n",
    "    days::Int = investDays+redeemDays\n",
    "    wallet::Float64 = 13000000;\n",
    "    walletRate::Float64 = 5.0/100.0\n",
    "    walletTax::Float64 = 0.7\n",
    "    salary::Float64 = 300000 \n",
    "    amount = 1000.0;\n",
    "    \n",
    "    maxDaysHeld::Int = 0;\n",
    "    minWallet = 0;\n",
    "    rateGeom::Float64 = 1.0;\n",
    "    totDaysHeld::Float64 = 0\n",
    "    reset!(ll)\n",
    "    \n",
    "    for i::Int in 1:days\n",
    "        for node in ll\n",
    "            dayBought::Int = node.data\n",
    "            daysHeld::Int = tradingDays[i] - tradingDays[dayBought]\n",
    "            net_today::Float64 = net_today_f(amount, prices[dayBought], prices[i], daysHeld)\n",
    "            net_today = max(net_today, 1)\n",
    "            rate::Float64 = r(amount, net_today, daysHeld/365.0);\n",
    "            if rate > rateThreshold || i==days\n",
    "                wallet += net_today\n",
    "                maxDaysHeld = max(maxDaysHeld, daysHeld);\n",
    "                totDaysHeld += daysHeld;\n",
    "                rateGeom = rateGeom * (1+rate)^(daysHeld/365);\n",
    "                del(ll, node)                \n",
    "            end\n",
    "        end\n",
    "        if i <= investDays\n",
    "            wallet -= amount\n",
    "            push!(ll, i)\n",
    "        end\n",
    "        minWallet = min(wallet, minWallet)\n",
    "\n",
    "    end\n",
    "    return rateGeom^(365.0/totDaysHeld) - 1, wallet;\n",
    "end\n",
    "# this strategy will invest 1000 everyday. And everyday, it will redeem all past investment that hit a rateThreshold.\n",
    "# this is done for investDays. After investDays, for an additional redeemDays, no more investment is made but existing investment \n",
    "# is tried to be redeemed\n",
    "function strategy1(rateThreshold::Float64, investDays::Int, redeemDays::Int, ll::FastList{Int}, \n",
    "        tradingDays::AbstractVector{Int}, prices::AbstractVector{Float64})\n",
    "    days::Int = investDays+redeemDays\n",
    "    wallet::Float64 = 0.0;\n",
    "    amount = 1000.0;\n",
    "    \n",
    "    maxDaysHeld::Int = 0;\n",
    "    minWallet = 0;\n",
    "    rateGeom::Float64 = 1.0;\n",
    "    totDaysHeld::Float64 = 0\n",
    "    reset!(ll)\n",
    "    \n",
    "    for i::Int in 1:days\n",
    "        for node in ll\n",
    "            dayBought::Int = node.data\n",
    "            daysHeld::Int = tradingDays[i] - tradingDays[dayBought]\n",
    "            net_today::Float64 = net_today_f(amount, prices[dayBought], prices[i], daysHeld)\n",
    "            net_today = max(net_today, 1)\n",
    "            rate::Float64 = r(amount, net_today, daysHeld/365.0);\n",
    "            if rate > rateThreshold || i==days\n",
    "                wallet += net_today\n",
    "                maxDaysHeld = max(maxDaysHeld, daysHeld);\n",
    "                totDaysHeld += daysHeld;\n",
    "                rateGeom = rateGeom * (1+rate)^(daysHeld/365);\n",
    "                del(ll, node)                \n",
    "            end\n",
    "        end\n",
    "        if i <= investDays\n",
    "            wallet -= amount\n",
    "            push!(ll, i)\n",
    "        end\n",
    "        minWallet = min(wallet, minWallet)\n",
    "\n",
    "    end\n",
    "    return rateGeom^(365.0/totDaysHeld) - 1, wallet;\n",
    "end\n",
    "\n",
    "#this strategy will simply invest 1000 everyday and redeem at the end of investDays+redeemDays. After which everything is redeemed.\n",
    "#redeemDays has no other special significance\n",
    "function strategy2_sip(rateThreshold::Float64, investDays::Int, redeemDays::Int, ll::FastList{Int}, \n",
    "        tradingDays::AbstractVector{Int}, prices::AbstractVector{Float64})\n",
    "    days::Int = investDays+redeemDays\n",
    "    wallet::Float64 = 0.0;\n",
    "    amount = 1000.0;\n",
    "    \n",
    "    maxDaysHeld::Int = 0;\n",
    "    minWallet = 0;\n",
    "    rateGeom::Float64 = 1.0;\n",
    "    totDaysHeld::Float64 = 0\n",
    "    reset!(ll)\n",
    "    \n",
    "    for i::Int in 1:days\n",
    "        wallet -= amount\n",
    "        push!(ll, i)\n",
    "        minWallet = min(wallet, minWallet)\n",
    "    end\n",
    "    \n",
    "    for node in ll\n",
    "        dayBought::Int = node.data\n",
    "        daysHeld::Int = tradingDays[days] - tradingDays[dayBought]\n",
    "        net_today::Float64 = net_today_f(amount, prices[dayBought], prices[days], daysHeld)\n",
    "        net_today = max(net_today, 1)\n",
    "        rate::Float64 = r(amount, net_today, daysHeld/365.0);\n",
    "        wallet += net_today\n",
    "        maxDaysHeld = max(maxDaysHeld, daysHeld);\n",
    "        totDaysHeld += daysHeld;\n",
    "        if(rateGeom != Inf && rateGeom * (1+rate)^(daysHeld/totDaysHeld) == Inf)\n",
    "            println(\"amount=$amount net_today=$net_today daysHeld=$daysHeld rate=$rate rateGeom=$rateGeom\")\n",
    "        end\n",
    "        rateGeom = rateGeom * (1+rate)^(daysHeld/totDaysHeld);\n",
    "        del(ll, node)                \n",
    "    end\n",
    "    return rateGeom - 1, wallet;\n",
    "end\n",
    "\n",
    "#this strategy will simply invest 1000 on day 1 and redeem it on investDays+redeemDays\n",
    "function strategy3_basic(rateThreshold::Float64, investDays::Int, redeemDays::Int, ll::FastList{Int}, \n",
    "        tradingDays::AbstractVector{Int}, prices::AbstractVector{Float64})\n",
    "    days::Int = investDays+redeemDays\n",
    "    amount = 1000.0;\n",
    "    wallet::Float64 = -amount;\n",
    "    dayBought::Int = 1\n",
    "    daysHeld::Int = days\n",
    "    net_today::Float64 = net_today_f(amount, prices[dayBought], prices[days], daysHeld)\n",
    "    net_today = max(net_today, 1)\n",
    "    rate::Float64 = r(amount, net_today, daysHeld/365.0);\n",
    "    wallet += net_today\n",
    "    return rate, wallet\n",
    "\n",
    "    \n",
    "end\n",
    "\n",
    "function simulateWeinerMulti(tls::Vector{Tls},  d::Dict{String, Point}, investDays::Int, redeemDays::Int)\n",
    "    runs::Int = 1000\n",
    "    \n",
    "    days = investDays + redeemDays; \n",
    "    results = Vector{Float64}(undef, 0)\n",
    "    rateGeoms = Vector{Float64}(undef, 0)\n",
    "    \n",
    "    \n",
    "    rateThreshold::Float64 = .15; μ=meanNiftyPerDay; σ=stdNiftyPerDay;\n",
    "    # apply the stupid correction\n",
    "    μ -= σ^2/2\n",
    "    prices=Vector{Float64}(undef, days);\n",
    "    tradingDays = collect(1:days)\n",
    "    \n",
    "    lk = Threads.SpinLock()\n",
    "    printed = false\n",
    "    traces = Vector{Any}(undef, 0)\n",
    "    Threads.@threads for run::Int in 1:runs\n",
    "        tid = Threads.threadid()\n",
    "        myTls = tls[tid]\n",
    "        brk = false\n",
    "        weiner(days, μ, σ, myTls.prices, myTls.ϕ, myTls.dist)\n",
    "        # copy!(myTls.prices, saved)\n",
    "        reset!(myTls.ll)\n",
    "        rateGeom, wallet = strategy3_basic(rateThreshold, investDays, redeemDays, myTls.ll, tradingDays, myTls.prices)\n",
    "# trace1 = scatter(x=1:length(d[\"^NSEI\"].intDates), y=d[\"^NSEI\"].prices,\n",
    "#                     mode=\"lines+markers\",\n",
    "#                     name=\"nifty 50\")\n",
    "        lock(lk) do\n",
    "            if wallet < 0\n",
    "                push!(traces, (scatter(x=1:days, y=myTls.prices[1:days], mode=\"lines\n",
    "                        \", name=\"$wallet\"), wallet))\n",
    "            end\n",
    "            push!(results, wallet)\n",
    "            push!(rateGeoms, rateGeom)\n",
    "        end\n",
    "    end\n",
    "    \n",
    "    tracesList = Vector{GenericTrace}(undef, 0)\n",
    "    sort!(traces, by=x -> x[2], rev=true)\n",
    "    \n",
    "    count = 0\n",
    "    # for i in 1:length(traces)\n",
    "    #     count+=1\n",
    "    #     push!(tracesList, traces[i][1])\n",
    "    #     if count > 10\n",
    "    #         display(plot(tracesList))\n",
    "    #         empty!(tracesList)\n",
    "    #         count = 0\n",
    "    #     end\n",
    "    # end\n",
    "    # display(plot(tracesList))\n",
    "    \n",
    "        \n",
    "    display( plot([histogram(x=results)]))\n",
    "    display(plot([histogram(x=rateGeoms)]))\n",
    "    println(\"mean is $(mean(results)), stdev is $(std(results))\")\n",
    "    println(\"mean is $(mean(rateGeoms)), stdev is $(std(rateGeoms))\")\n",
    "    println(\"amount invested is $(1000*days)\")\n",
    "end\n",
    "\n",
    "\n",
    "@time simulateWeinerMulti(tls, d, 365*10, 0)\n",
    "# may 5th 2017 to nov 24 2017\n",
    "flush(io)"
   ]
  },
  {
   "cell_type": "code",
   "execution_count": null,
   "metadata": {},
   "outputs": [],
   "source": [
    "typeof([scatter(x=1:4, y=1:4)])"
   ]
  },
  {
   "cell_type": "code",
   "execution_count": null,
   "metadata": {},
   "outputs": [],
   "source": [
    "function rare(mean::Float64, std::Float64, movement::Float64)\n",
    "    return 1-cdf(Normal(mean, std), movement)\n",
    "end\n"
   ]
  },
  {
   "cell_type": "code",
   "execution_count": null,
   "metadata": {},
   "outputs": [],
   "source": [
    "rare(.077, 0.06, (abs(0.077 - (.13))))"
   ]
  },
  {
   "cell_type": "markdown",
   "metadata": {},
   "source": [
    "The following graph is interesting. the red is the start time where the returns are negative. we can infer that it happened because of the market crash in 2020"
   ]
  },
  {
   "cell_type": "code",
   "execution_count": null,
   "metadata": {},
   "outputs": [],
   "source": [
    "trace1 = scatter(x=1:length(d[\"^NSEI\"].intDates), y=d[\"^NSEI\"].prices,\n",
    "                    mode=\"lines+markers\",\n",
    "                    name=\"nifty 50\")\n",
    "trace2 = scatter(x=1587:1660, y=d[\"^NSEI\"].prices[1587:1660],\n",
    "                    mode=\"lines+markers\",\n",
    "                    name=\"start times where the returns are negative\")\n",
    "add = 4*365\n",
    "trace3 = scatter(x=(1587+add):(1660+add), y=d[\"^NSEI\"].prices[(1587+add):(1660+add)],\n",
    "                    mode=\"lines+markers\",\n",
    "    name=\"end times of the start times\")\n",
    "\n",
    "println(typeof(trace1))\n",
    "plot([trace1, trace2, trace3])\n"
   ]
  },
  {
   "cell_type": "code",
   "execution_count": null,
   "metadata": {},
   "outputs": [],
   "source": [
    "trace1 = scatter(x=d[\"^NSEI\"].dates, y=d[\"^NSEI\"].prices,\n",
    "                    mode=\"lines+markers\",\n",
    "                    name=\"nifty 50\")\n",
    "\n",
    "plot([trace1])"
   ]
  },
  {
   "cell_type": "code",
   "execution_count": null,
   "metadata": {},
   "outputs": [],
   "source": [
    "# input, an array of prices\n",
    "# output, an array of rates, where rate[i] = price[i]-price[i-1]*100/price[i-1]\n",
    "function rates(ppp::Vector{Float64}, func)\n",
    "    diffs = Vector{Float64}(undef, 0)\n",
    "    for i in 2:length(ppp)\n",
    "        push!(diffs,func(ppp[i-1], ppp[i]))\n",
    "    end\n",
    "    return diffs\n",
    "end\n",
    "\n",
    "function interest1(a::Float64, b::Float64)\n",
    "    # this is actually equivalent to log(b/a)\n",
    "    return log((1+log(b/a))^365) / 365\n",
    "end\n",
    "\n",
    "function interest2(a::Float64, b::Float64)\n",
    "    # this is also equivalent to log(b/a)\n",
    "    return (b-a)/a\n",
    "end\n",
    "\n",
    "#something weird\n",
    "function interest3(a::Float64, b::Float64)\n",
    "    return log(1+r(a, b, 1/365.0))/365\n",
    "end\n",
    "\n",
    "#this is the correct interest\n",
    "function interest4(a::Float64, b::Float64)\n",
    "    return log(b/a)\n",
    "end\n",
    "\n",
    "#prints the daily histogram of the stock\n",
    "function analyse_nse(d::Dict{String, Point})\n",
    "    p = d[\"^NSEI\"]\n",
    "    dates, prices, intDates = (p.dates, p.prices, p.intDates)\n",
    "#     diffs = rates(prices)\n",
    "    #histogram(diffs)\n",
    "#     ptiles = nquantile(diffs, 100)[40:60]\n",
    "#     plot((1:100)[40:60], ptiles)\n",
    "#     l = length(diffs)\n",
    "    println(\"interest1 mean is $(mean(rates(prices, interest1))) std is $(std(rates(prices, interest1)))\");\n",
    "    println(\"interest2 mean is $(mean(rates(prices, interest2))) std is $(std(rates(prices, interest2)))\");\n",
    "    # println(\"interest3 mean is $(mean(rates(prices, interest3))) std is $(std(rates(prices, interest3)))\");\n",
    "    mn = mean(rates(prices, interest4))\n",
    "    sgm = std(rates(prices, interest4))\n",
    "    rmn = mn + sgm*sgm/2\n",
    "    println(\"interest4 mean is $(mean(rates(prices, interest4))) std is $(std(rates(prices, interest4)))\");\n",
    "    println(\"meanNiftyPerDay is $rmn and stdNiftyPerDay is $sgm\")\n",
    "#     plot([histogram(x=sort!(diffs)[trunc(Int, l/4):trunc(Int, 3l/4)], nbins=50)])\n",
    "#     plot([histogram(x=diffs, nbins=100)])\n",
    "\n",
    "end\n",
    "analyse_nse(d)"
   ]
  },
  {
   "cell_type": "markdown",
   "metadata": {},
   "source": [
    "# The following graph plots the yearwise mean and std deviation of nifty"
   ]
  },
  {
   "cell_type": "code",
   "execution_count": null,
   "metadata": {},
   "outputs": [],
   "source": [
    "#fuck\n",
    "function analyse_nse(d::Dict{String, Point})\n",
    "    p = d[\"^NSEI\"]\n",
    "    dates, prices, intDates = (p.dates, p.prices, p.intDates)\n",
    "    hashes = Dict{Int64, Vector{Float64}}()\n",
    "    for i in 1:length(dates)\n",
    "        year = Dates.year(dates[i])\n",
    "        if !haskey(hashes, year)\n",
    "            hashes[year] = Vector{Float64}(undef, 0)\n",
    "        end\n",
    "        push!(hashes[year], prices[i])\n",
    "    end\n",
    "    years = Vector{Int}(undef, 0)\n",
    "    means = Vector{Float64}(undef, 0)\n",
    "    stds = Vector{Float64}(undef, 0)\n",
    "    for year in sort!(collect(keys(hashes)))\n",
    "        ar = filter(x -> !isnan(x), rates(hashes[year]))\n",
    "        push!(means, mean(ar))\n",
    "        push!(stds, std(ar))\n",
    "        push!(years, year)\n",
    "    end\n",
    "    println(\"mean is entire nifty is $(mean(rates(prices))) and std of entire nifty is $(std(rates(prices)))\")\n",
    "    plot(scatter(x=years, y=means,  mode=\"lines+markers\",   error_y=attr(\n",
    "        type=\"data\",\n",
    "        array=stds\n",
    "    )))\n",
    "end\n",
    "analyse_nse(d)"
   ]
  },
  {
   "cell_type": "code",
   "execution_count": null,
   "metadata": {
    "tags": []
   },
   "outputs": [],
   "source": [
    "#Prints the biggest losers in the set of stock since now()-days to now()\n",
    "function losers(d::Dict{String, Point}, stocks::Vector{String}, days::Int)\n",
    "    rates = Vector{@NamedTuple{stock::String, rate::Float64}}(undef, 0)\n",
    "    for stock in stocks\n",
    "        if !haskey(d, stock)\n",
    "            continue\n",
    "        end\n",
    "        a = d[stock].prices[end-days]\n",
    "        b = d[stock].prices[end]\n",
    "        rate = (b-a)*100/a\n",
    "        push!(rates, (stock=stock, rate=rate))\n",
    "    end\n",
    "    sort!(rates, by=tup->tup.rate)\n",
    "    return rates\n",
    "end\n",
    "losers(d, labelToCompany[\"niftysmallcap50\"], 45)"
   ]
  },
  {
   "cell_type": "code",
   "execution_count": null,
   "metadata": {},
   "outputs": [],
   "source": [
    "Vector{@NamedTuple{a::Int, b::String}}"
   ]
  },
  {
   "cell_type": "markdown",
   "metadata": {},
   "source": [
    "# Experimentation on multidimensional array speeds\n",
    "\n",
    "array iteration speed is about 1 billion per second. insane."
   ]
  },
  {
   "cell_type": "code",
   "execution_count": null,
   "metadata": {},
   "outputs": [],
   "source": [
    "function test(ar::Array{Int64})\n",
    "    sum = 0\n",
    "    for i in 1:1000\n",
    "        for j in 2:length(ar)\n",
    "            sum+=ar[j]\n",
    "#             ar[j]+=ar[j-1]\n",
    "        end\n",
    "    end\n",
    "    return sum\n",
    "end\n",
    "time_sum(x) = @time test(x);\n",
    "time_sum(ar)\n",
    "println(typeof(ar), size(ar))\n"
   ]
  },
  {
   "cell_type": "markdown",
   "metadata": {},
   "source": [
    "# Speeds of DataFrames\n",
    "fucking dataframes is not type stable so it is 100-1000x slower than array iteration and allocates a large amount of memory\n",
    "\n",
    "There are several table like structures in julia (mostly third parties, several of them seem to be overlapping a lot in functionality)\n",
    "The best one seems to be IndexedTable. it is type stable. It is implementated as a NamedTuple of vectors but acts like a vector of NamedTuples.\n",
    "Of course, the fastest and most native is just NamedTuple. But it seems like a NamedTuple (and also IndexedTable) with many columns might stress the compiler (havent tested it)\n",
    "\n",
    "IndexedTable constructor *copies* the data from the NamedTuple constructor param to create the new IndexedTable. However, invoking `IndexedTable.columns ` returns a NamedTuple *view* of the IndexedTable which is perfect for arbitrary iteration and modifications.\n",
    "\n",
    "btw, the nomenclature is really fucked up.\n",
    "- [Julia Data](https://github.com/JuliaDatahttps://github.com/JuliaData) is the name for all built in table like structures in Julia. They all seem to respect the Tables.jl interface\n",
    "- [JuliaDB](https://juliadata.github.io/JuliaDB.jl/latest/https://juliadata.github.io/JuliaDB.jl/latest/) is one particular table like structure in Julia Data. It is built on `IndexedTables` (seems like both are synonymous). This is the best since it is type stable\n",
    "- [DataFrames](https://github.com/JuliaData/DataFrames.jlhttps://github.com/JuliaData/DataFrames.jl) is a slow and fucked up implementation in Julia Data. It is feature rich but fucking slow\n",
    "- [Julia Databases](https://juliadatabases.github.io/https://juliadatabases.github.io/) collects various drivers for different databases like Mysql, postgres, sqlite. seems like all of them can stream to a tables.jl constructor\n",
    "\n",
    "A good summary of all the shit can be found [here](https://www.juliabloggers.com/a-tour-of-the-data-ecosystem-in-julia/https://www.juliabloggers.com/a-tour-of-the-data-ecosystem-in-julia/) from the author of CSV.jl"
   ]
  },
  {
   "cell_type": "code",
   "execution_count": null,
   "metadata": {},
   "outputs": [],
   "source": [
    "function testDataFrame(df::DataFrame)\n",
    "    ar::Array{Int64} = df.a\n",
    "    sum = 0\n",
    "    for i::Int64 in 1:1000\n",
    "        for j in 1:length(ar)\n",
    "            sum+=ar[j]\n",
    "        end\n",
    "    end\n",
    "    return sum\n",
    "end\n",
    "\n",
    "\n",
    "# println(typeof(df))\n",
    "time_sum(df) = @time testDataFrame(df);\n",
    "time_sum(df)\n"
   ]
  },
  {
   "cell_type": "code",
   "execution_count": null,
   "metadata": {},
   "outputs": [],
   "source": [
    "sql = \"\"\"select symbol , array_agg(name)as names from indices i group by symbol \"\"\"\n",
    "result = execute(conn, sql)\n",
    "println(show_supertypes(typeof(result)))\n",
    "df = result |> JuliaDB.table\n",
    "\n",
    "l = length(df)\n",
    "order = splt(\"\"\"\n",
    "nifty-50\n",
    "nifty-next-50\n",
    "nifty-midcap-50\n",
    "nifty-midcap-100\n",
    "nifty-midcap-150\n",
    "niftysmallcap50\n",
    "nifty-smallcap-100\n",
    "nifty-smallcap-250\n",
    "\n",
    "    \"\"\")\n",
    "println(order)\n",
    "companyToLabel = Dict{String, String}()\n",
    "labelToCompany = Dict{String, Vector{String}}()\n",
    "for i in 1:l\n",
    "    company = df[i].symbol\n",
    "    names = splt(df[i].names[2:end-1], \",\")\n",
    "    for label in order\n",
    "        if findfirst(x->x==label, names) != nothing\n",
    "            companyToLabel[company] = label\n",
    "            if !haskey(labelToCompany, label)\n",
    "                labelToCompany[label] = Vector{String}(undef, 0)\n",
    "            end\n",
    "            push!(labelToCompany[label], company)\n",
    "            @goto label\n",
    "        end\n",
    "    end\n",
    "    companyToLabel[company] = names[1]\n",
    "    @label label\n",
    "end"
   ]
  },
  {
   "cell_type": "code",
   "execution_count": null,
   "metadata": {},
   "outputs": [],
   "source": [
    "lbl = \"niftysmallcap50\"\n",
    "print(labelToCompany[lbl])\n",
    "print(length(labelToCompany[lbl]))"
   ]
  },
  {
   "cell_type": "code",
   "execution_count": null,
   "metadata": {
    "tags": []
   },
   "outputs": [],
   "source": [
    "data = table((symbol=Vector{String}(undef, 0), company=Vector{String}(undef, 0), prob=Vector{Float64}(undef, 0), label=Vector{String}(undef, 0)))\n"
   ]
  },
  {
   "cell_type": "code",
   "execution_count": null,
   "metadata": {},
   "outputs": [],
   "source": [
    "show_supertypes(typeof(rows(data)))"
   ]
  },
  {
   "cell_type": "code",
   "execution_count": null,
   "metadata": {},
   "outputs": [],
   "source": [
    " sa = StructArray([1+im, 3-2im])"
   ]
  },
  {
   "cell_type": "code",
   "execution_count": null,
   "metadata": {},
   "outputs": [],
   "source": [
    "tt = table(1:10, randn(10), rand(Bool, 10); names = [:x, :y, :z])\n"
   ]
  },
  {
   "cell_type": "code",
   "execution_count": null,
   "metadata": {},
   "outputs": [],
   "source": [
    "push!(rows(tt), (x=1, y=1.1, z=true))"
   ]
  },
  {
   "cell_type": "code",
   "execution_count": null,
   "metadata": {},
   "outputs": [],
   "source": [
    "select(tt, :x)"
   ]
  },
  {
   "cell_type": "markdown",
   "metadata": {},
   "source": [
    "# Threads"
   ]
  },
  {
   "cell_type": "code",
   "execution_count": null,
   "metadata": {},
   "outputs": [],
   "source": [
    "show_supertypes(typeof(view(Vector{Int}(undef, 10), 1:3)))"
   ]
  },
  {
   "cell_type": "code",
   "execution_count": null,
   "metadata": {},
   "outputs": [],
   "source": [
    "for m in methods(oneRun)\n",
    "    Base.delete_method(m)\n",
    "end"
   ]
  },
  {
   "cell_type": "code",
   "execution_count": null,
   "metadata": {},
   "outputs": [],
   "source": [
    "function monteCarlo()\n",
    "    runs::Int = 10000\n",
    "    days::Int = 1000\n",
    "    s::Vector{Float64} = Vector{Float64}(undef, days)\n",
    "    ϕ::Vector{Float64} = Vector{Float64}(undef, days)\n",
    "    dist::Normal = Normal(0, 1)\n",
    "    μ::Float64, σ::Float64 = meanNiftyPerDay, stdNiftyPerDay\n",
    "    last::Vector{Float64} = Vector{Float64}(undef, runs)\n",
    "    for run::Int in 1:runs\n",
    "        weiner(days, μ, σ, s, ϕ, dist)\n",
    "        last[run] = s[end]\n",
    "    end\n",
    "    plot([histogram(x=last)])\n",
    "end\n",
    "function plotWeiner()\n",
    "    days::Int = 1000\n",
    "    s::Vector{Float64} = Vector{Float64}(undef, days)\n",
    "    ϕ::Vector{Float64} = Vector{Float64}(undef, days)\n",
    "    dist::Normal = Normal(0, 1)\n",
    "    μ::Float64, σ::Float64 = meanNiftyPerDay, stdNiftyPerDay\n",
    "    x = 1:days\n",
    "    y = weiner(days, μ, σ, s, ϕ, dist)\n",
    "    display(plot(histogram(x=s)))\n",
    "    mn = 100*exp(meanNiftyPerDay*days)\n",
    "    st = 100*100*exp(2*meanNiftyPerDay*days)*(exp(stdNiftyPerDay*stdNiftyPerDay*days) - 1)\n",
    "    rmn = mean(s)\n",
    "    rstd = std(rmn)\n",
    "    println(\"predicted mean is $mn. montecarlo mean is $rmn\")\n",
    "    println(\"predicted std is $st. montecarlo std is $rstd\")\n",
    "end\n",
    "plotWeiner()"
   ]
  },
  {
   "cell_type": "code",
   "execution_count": null,
   "metadata": {},
   "outputs": [],
   "source": []
  },
  {
   "cell_type": "markdown",
   "metadata": {},
   "source": [
    "this produces a csv with the following columsn:\n",
    "symbol, mean, stdev, 0%ile, 5%ile, ... 100%ile\n",
    "the values are daily percent changes\n",
    "we can observe the following:\n",
    "\n",
    "* the average is always around 50%ile\n",
    "* according to statistics theory, 1 stdev = 68%. If we consider the positive half, this is 34%. so the value of 1 stdev is expected to occur near 50+34 =85%ile. and this is indeed the case."
   ]
  },
  {
   "cell_type": "code",
   "execution_count": null,
   "metadata": {},
   "outputs": [],
   "source": [
    "#this produces a csv with the following columsn:\n",
    "#symbol, mean, stdev, 0%ile, 5%ile, ... 100%ile\n",
    "#the values are daily percent changes\n",
    "#days: the rate calculated for last how many days? \n",
    "function means(d::Dict{String, Point}, days::Int ,csv::String)\n",
    "#     sql = \"\"\"select distinct symbol from indices i where name like '%nifty-50%' and name not like '%nifty-500%' \"\"\"\n",
    "    sql = \"\"\"select distinct symbol from indices i \"\"\"\n",
    "#     sql = \"\"\"select distinct symbol from indices i where name like '%nifty-next-50%' \"\"\"\n",
    "    result = execute(conn, sql)\n",
    "    df = result |> JuliaDB.table\n",
    "\n",
    "    # percentiles\n",
    "    ptiles = OrderedDict{Symbol, Vector{Float64}}()\n",
    "    num_ptiles = 20\n",
    "    for i in 1:(num_ptiles+1)\n",
    "        ptiles[Symbol(string(trunc(Int64, 100*i/num_ptiles)))] = Vector{Float64}(undef, 0)\n",
    "    end\n",
    "\n",
    "    # means\n",
    "    mns = Vector{Float64}(undef, 0)\n",
    "\n",
    "    symbols = Vector{String}(undef, 0)\n",
    "    # standard deviations\n",
    "    sts = Vector{Float64}(undef, 0)\n",
    "\n",
    "    for i in 1:length(df)\n",
    "        if !haskey(d, df[i].symbol)\n",
    "            println(\"dict does not have key for $(df[i].symbol)\")\n",
    "            continue\n",
    "        end\n",
    "\n",
    "        p = d[df[i].symbol]\n",
    "        dates, prices, intDates = (p.dates, p.prices, p.intDates)\n",
    "        diffs = Vector{Float64}(undef, 0)\n",
    "        if length(intDates) < days + 2\n",
    "            continue\n",
    "        end\n",
    "        for i in days+1:length(intDates)\n",
    "#             if intDates[i] == intDates[i-1] + 1\n",
    "#                 rate = r(prices[i-1], prices[i], 1)*100\n",
    "#                 push!(diffs, rate)\n",
    "#             end\n",
    "            rate = (prices[i]-prices[i-days])*100/prices[i]\n",
    "            push!(diffs, rate)\n",
    "        end\n",
    "        if length(diffs) == 0\n",
    "            println(\"$(df[i].symbol) has no diffs\")\n",
    "            continue\n",
    "        end\n",
    "        push!(symbols, df[i].symbol)\n",
    "        push!(mns, round(mean(diffs), digits=2))\n",
    "        push!(sts, round(std(diffs), digits=2))\n",
    "        quantiles = nquantile(diffs, num_ptiles)\n",
    "        for j in 1:length(quantiles)\n",
    "            push!(ptiles[Symbol(string(trunc(Int64, 100*j/num_ptiles)))], round(quantiles[j], digits=2))\n",
    "        end\n",
    "    end\n",
    "    # println(\"$(size(select(df, :symbol))) and $(size(mns))\")\n",
    "    df = JuliaDB.table((symbol=symbols, mean=mns, stdev=sts))\n",
    "    df = insertcols(df, 4, ptiles)\n",
    "    CSV.write(csv, df)\n",
    "end\n",
    "means(d, 45, \"nifty_50_last_45_days.csv\")"
   ]
  },
  {
   "cell_type": "code",
   "execution_count": null,
   "metadata": {},
   "outputs": [],
   "source": [
    "methods(JuliaDB.rename)"
   ]
  },
  {
   "cell_type": "code",
   "execution_count": null,
   "metadata": {},
   "outputs": [],
   "source": [
    "N = 100\n",
    "random_x = range(0, stop=1, length=N)\n",
    "random_y0 = randn(N) .+ 5\n",
    "random_y1 = randn(N)\n",
    "random_y2 = randn(N) .- 5\n",
    "\n",
    "# Create traces\n",
    "trace1 = scatter(x=random_x, y=random_y0,\n",
    "                    mode=\"lines\",\n",
    "                    name=\"lines\")\n",
    "trace2 = scatter(x=random_x, y=random_y1,\n",
    "                    mode=\"lines+markers\",\n",
    "                    name=\"lines+markers\")\n",
    "trace3 = scatter(x=random_x, y=random_y2,\n",
    "                    mode=\"markers\", name=\"markers\")\n",
    "\n",
    "plot([trace1, trace2, trace3])"
   ]
  },
  {
   "cell_type": "code",
   "execution_count": null,
   "metadata": {},
   "outputs": [],
   "source": [
    "methods(JuliaDB.table)"
   ]
  },
  {
   "cell_type": "markdown",
   "metadata": {},
   "source": [
    "# Experimenting with julia dates"
   ]
  },
  {
   "cell_type": "code",
   "execution_count": null,
   "metadata": {},
   "outputs": [],
   "source": [
    "date1 = DateTime(2022, 01, 01)\n",
    "date2 = DateTime(2022, 01, 13)\n",
    "println(\"date1 is $(date1), date2 is $(date2)\")\n",
    "println(\"year is $(Dates.year(date1)), type is $(typeof(Dates.year(date1)))\")"
   ]
  },
  {
   "cell_type": "markdown",
   "metadata": {},
   "source": [
    "# Experiment with CDF\n"
   ]
  },
  {
   "cell_type": "code",
   "execution_count": null,
   "metadata": {},
   "outputs": [],
   "source": [
    "# this is a normal distribution with stdev=1\n",
    "# cdf(dist, 1) is the probability of entire left half + normal distribution before x=1\n",
    "# for normal distribution, 68% lies   thin 1 standard deviation. so cdf(dist, 1) = 50% (left half) + 1/2 * 68 (right half) = 84%\n",
    "dist = Normal(0, 1)\n",
    "cdf(dist, 1)\n"
   ]
  },
  {
   "cell_type": "markdown",
   "metadata": {},
   "source": [
    "# Experiment with error bars"
   ]
  },
  {
   "cell_type": "code",
   "execution_count": null,
   "metadata": {},
   "outputs": [],
   "source": [
    "plot(scatter(\n",
    "    x=[1, 2, 3, 4],\n",
    "    y=[2, 1, 3, 4],\n",
    "    mode=\"markers\",\n",
    "    error_y=attr(\n",
    "        type=\"data\",\n",
    "        array=[1,2,3,4]\n",
    "    )\n",
    "))\n"
   ]
  },
  {
   "cell_type": "code",
   "execution_count": null,
   "metadata": {},
   "outputs": [],
   "source": [
    "dates, prices, intDates = d[\"^NSEI\"].dates, d[\"^NSEI\"].prices, d[\"^NSEI\"].intDates\n",
    "convert(Dates.Day, dates[365*4+500] - dates[500]).value/365"
   ]
  },
  {
   "cell_type": "code",
   "execution_count": null,
   "metadata": {},
   "outputs": [],
   "source": [
    "r(6483, 7977, (1952-1587)/365)"
   ]
  },
  {
   "cell_type": "code",
   "execution_count": null,
   "metadata": {},
   "outputs": [],
   "source": [
    "p2(6487, .23, 1)"
   ]
  },
  {
   "cell_type": "code",
   "execution_count": null,
   "metadata": {},
   "outputs": [],
   "source": [
    "6487*1.23\n"
   ]
  },
  {
   "cell_type": "code",
   "execution_count": null,
   "metadata": {},
   "outputs": [],
   "source": [
    "a = 16682.65\n",
    "b = 16411.25\n",
    "# compounded daily\n",
    "c = (b-a)/a \n",
    "# continous compounding, almost same as compounded daily\n",
    "dd = log(b/a)\n",
    "# yearly rate assuming compounded daily. Should be 365 times compounded daily \n",
    "e = r(a, b, 1/365.0) \n",
    "# should be almost same as e^(365*dd) - 1\n",
    "f = (1+dd)^365-1\n",
    "# compounded daily\n",
    "g = r(a, b, 1)\n",
    "println(\"$c  $dd $e $f $g\")"
   ]
  },
  {
   "cell_type": "code",
   "execution_count": null,
   "metadata": {},
   "outputs": [],
   "source": [
    "rr = -0.016268398605737183\n",
    "println((1+rr)^365)\n",
    "println(exp(365*rr))"
   ]
  },
  {
   "cell_type": "code",
   "execution_count": null,
   "metadata": {},
   "outputs": [],
   "source": [
    "\n",
    "function weiner2(days::Int, μ::Float64, σ::Float64, s::Vector{Float64}, \n",
    "        ϕ::Vector{Float64}, dist::Normal{Float64})\n",
    "    s[1] = 100\n",
    "    rand!(dist, ϕ)\n",
    "    for i::Int in 2:days\n",
    "        s[i] = s[i-1]*exp(ϕ[i])\n",
    "    end  \n",
    "    return s, ϕ\n",
    "end\n",
    "function weiner3(days::Int, μ::Float64, σ::Float64, s::Vector{Float64}, \n",
    "        ϕ::Vector{Float64}, dist::Normal{Float64})\n",
    "    logμ = (μ-σ^2/2)*days\n",
    "    logσ = σ*sqrt(days)\n",
    "    s[end] = 100*rand(LogNormal(logμ, logσ))\n",
    "    return s\n",
    "end\n",
    "function howGood(s::Vector{Float64}, μ::Float64, σ::Float64)\n",
    "    s1 = Vector{Float64}(undef, length(s)-1)\n",
    "    for i in 1:length(s)-1\n",
    "        s1[i] = log(s[i+1]/s[i])\n",
    "    end\n",
    "    println(\"for interest rates predicted mean is $(μ-σ^2/2). montecarlo mean is $(mean(s1))\")\n",
    "    println(\"for interest rates predicted std is $σ. montecarlo mean is $(std(s1))\")\n",
    "\n",
    "end\n",
    "\n",
    "days = 1000\n",
    "runs = 1\n",
    "μ, σ = meanNiftyPerDay, stdNiftyPerDay\n",
    "s, ϕ, results = Vector{Float64}(undef, days), Vector{Float64}(undef, days), Vector{Float64}(undef, runs)\n",
    "for i in 1:runs\n",
    "    weiner(days, μ-σ^2/2, σ, s, ϕ, Normal(0, 1))\n",
    "    results[i] = s[end]\n",
    "end\n",
    "# println(results)\n",
    "mn = 100*exp(μ*days)\n",
    "st = 100*exp(μ*days)*sqrt(exp(σ*σ*days) - 1)\n",
    "rmn = mean(results)\n",
    "rstd = std(results)\n",
    "println(\"predicted mean is $mn. montecarlo mean is $rmn\")\n",
    "println(\"predicted std is $st. montecarlo std is $rstd\")\n",
    "howGood(s, μ, σ)\n",
    "plot(1:days, s)"
   ]
  },
  {
   "cell_type": "code",
   "execution_count": null,
   "metadata": {},
   "outputs": [],
   "source": [
    "r(3380, 3901, 827*2/365)"
   ]
  },
  {
   "cell_type": "code",
   "execution_count": null,
   "metadata": {},
   "outputs": [],
   "source": [
    "function datediff(a::String, b::String)\n",
    "    df = DateFormat(\"y-m-d\");\n",
    "    dta = Date(a, df)\n",
    "    dtb = Date(b, df)\n",
    "    return abs(Dates.value(convert(Dates.Day, dtb-dta)))\n",
    "end"
   ]
  },
  {
   "cell_type": "code",
   "execution_count": null,
   "metadata": {},
   "outputs": [],
   "source": [
    "(meanNiftyPerDay - (stdNiftyPerDay^2)/2)*365"
   ]
  },
  {
   "cell_type": "code",
   "execution_count": null,
   "metadata": {},
   "outputs": [],
   "source": []
  },
  {
   "cell_type": "code",
   "execution_count": null,
   "metadata": {},
   "outputs": [],
   "source": [
    "ch = Channel{Int64}()\n",
    "function producer(ch::Channel{Int64})\n",
    "    count::Int64 = 0\n",
    "    start = time_ns()\n",
    "    while true\n",
    "        put!(ch, count)\n",
    "        count+=1\n",
    "        if((count & 511) == 0)\n",
    "            now = time_ns()\n",
    "            if(now - start > 2.0e9)\n",
    "                start = now\n",
    "                println(\"producer count is $count\")\n",
    "                flush(stdout)\n",
    "            end\n",
    "        end\n",
    "    end\n",
    "end\n",
    "\n",
    "function consumer(ch::Channel{Int64})\n",
    "    start = time_ns()\n",
    "    while true\n",
    "        count::Int64 = take!(ch)\n",
    "        if((count & 511) == 0)\n",
    "            now = time_ns()\n",
    "            if(now - start > 2.0e9)\n",
    "                start = now\n",
    "                println(\"consumer count is $count\")\n",
    "                flush(stdout)\n",
    "            end\n",
    "        end\n",
    "    end\n",
    "end\n",
    "\n",
    "p = @async producer(ch)\n",
    "c = @async consumer(ch)\n",
    "#take!(ch)"
   ]
  },
  {
   "cell_type": "code",
   "execution_count": null,
   "metadata": {},
   "outputs": [],
   "source": [
    "@macroexpand @quasiabstract struct BaseStrategy\n",
    "    a::Int\n",
    "end\n"
   ]
  },
  {
   "cell_type": "code",
   "execution_count": null,
   "metadata": {},
   "outputs": [],
   "source": [
    "struct FuckMe\n",
    "    a::Int\n",
    "end\n",
    "methods(FuckMe)"
   ]
  },
  {
   "cell_type": "code",
   "execution_count": null,
   "metadata": {},
   "outputs": [],
   "source": [
    "abstract type fuck\n",
    "end\n",
    "(fuck)(x) = x"
   ]
  },
  {
   "cell_type": "code",
   "execution_count": null,
   "metadata": {},
   "outputs": [],
   "source": [
    "function init(::Type{T}) where T\n",
    "    return T(0)\n",
    "end\n",
    "init(Float64)"
   ]
  },
  {
   "cell_type": "code",
   "execution_count": null,
   "metadata": {},
   "outputs": [],
   "source": [
    "@quasiabstract struct A\n",
    "end\n",
    "function foo(a::A)\n",
    "    return a\n",
    "end\n",
    "function init(tp::Type{<:A})\n",
    "    return tp()\n",
    "end\n",
    "function init(tp::Type{<:B})\n",
    "    return \"hi\"\n",
    "end\n",
    "@quasiabstract struct B <: A\n",
    "end\n",
    "\n",
    "init(A)"
   ]
  },
  {
   "cell_type": "code",
   "execution_count": null,
   "metadata": {},
   "outputs": [],
   "source": [
    "@quasiabstract struct Book\n",
    "      title::String\n",
    "      author::String\n",
    "  end\n",
    "author(b::Book) = b.author\n",
    "@quasiabstract struct PaperBook <: Book\n",
    "    number_of_pages::Int\n",
    "end\n",
    "@quasiabstract struct Edition <: PaperBook\n",
    "    year::Int\n",
    "end\n",
    "book =  Edition(\"The Hobbit\", \"J.R.R. Tolkien\", 374, 2013)\n",
    "@which author(book)"
   ]
  },
  {
   "cell_type": "code",
   "execution_count": null,
   "metadata": {},
   "outputs": [],
   "source": [
    "# in progress\n",
    "@quasiabstract struct BaseStrategy\n",
    "    ll::FastList{Int}\n",
    "    prices::Vector{Float64}\n",
    "    ϕ::Vector{Float64}\n",
    "    dist::Normal\n",
    "end\n",
    "\n",
    "function initializeStrategy(days::Int64, tp::Type{T}) :: Vector{T} where T:<BaseStrategy\n",
    "    tls = Vector{BaseStrategy}(undef, Threads.nthreads())\n",
    "    Threads.@threads for i in 1:Threads.nthreads()\n",
    "        tls[Threads.threadid()] = init(days, tp)\n",
    "    end\n",
    "    return tls\n",
    "end\n",
    "\n",
    "function init(days::Int, tp::Type{<:BaseStrategy})\n",
    "    return tp(FastList{Int}(days), Vector{Float64}(undef, days), Vector{Float64}(undef, days), Normal(0, 1))\n",
    "end\n",
    "\n",
    "\n",
    "\n",
    "function resetStrategy(strategy::BaseStrategy)\n",
    "    reset!(strategy.ll)\n",
    "end\n",
    "\n",
    "function tradeStrategy(strategy::BaseStrategy)\n",
    "\n",
    "end"
   ]
  },
  {
   "cell_type": "markdown",
   "metadata": {},
   "source": [
    "# Testing ActuaryUtils\n"
   ]
  },
  {
   "cell_type": "code",
   "execution_count": null,
   "metadata": {},
   "outputs": [],
   "source": [
    "a = [-1000, -1000, -1000, -1000, -1000, -1000, -1000, -1000, -1000, -1000, -1000, -1000, -1000, -1000, -1000, 22364.05804]"
   ]
  },
  {
   "cell_type": "code",
   "execution_count": null,
   "metadata": {},
   "outputs": [],
   "source": [
    "function test(a::Vector{Float64}, b::UnitRange{Int64})\n",
    "    sum::Float64=0.\n",
    "    for i in 1:1000000\n",
    "        sum+=NPFinancial.irr(a)\n",
    "    end\n",
    "    println(sum)\n",
    "end\n",
    "@time test(a, 1:16)"
   ]
  },
  {
   "cell_type": "code",
   "execution_count": null,
   "metadata": {},
   "outputs": [],
   "source": [
    "methods(NPFinancial.irr)"
   ]
  },
  {
   "cell_type": "markdown",
   "metadata": {},
   "source": [
    "# Testing the behaviour of powers"
   ]
  },
  {
   "cell_type": "code",
   "execution_count": null,
   "metadata": {},
   "outputs": [],
   "source": [
    "rd = -100:0.01:100\n",
    "list = Vector{GenericTrace}(undef,0)\n",
    "ry = map(b -> reduce((a, k) -> a+b^k, 0:3; init=0), rd)\n",
    "trace1 = scatter(x=rd, y=ry,\n",
    "                    mode=\"lines\",\n",
    "                    name=\"until 5\")\n",
    "plot(trace1)\n",
    "# println(ry)\n",
    "# for i in 1:round(Int, length(ry)/2)\n",
    "#     @assert ry[i]==-ry[end-i+1] \"left is $(ry[i]) right is $(ry[end-i+1])\"\n",
    "# end"
   ]
  },
  {
   "cell_type": "code",
   "execution_count": null,
   "metadata": {},
   "outputs": [],
   "source": [
    "rd = 0.001:0.001:2\n",
    "list = Vector{GenericTrace}(undef,0)\n",
    "for power in 0:4\n",
    "    ry = map(b -> b^power, rd)\n",
    "    trace1 = scatter(x=rd, y=ry,\n",
    "                    mode=\"lines\",\n",
    "                    name=\"$(power)\")\n",
    "    display(plot(trace1))\n",
    "    println(\"$power\")\n",
    "end\n"
   ]
  },
  {
   "cell_type": "code",
   "execution_count": 44,
   "metadata": {},
   "outputs": [
    {
     "data": {
      "application/vnd.plotly.v1+json": {
       "config": {
        "editable": false,
        "responsive": true,
        "scrollZoom": true,
        "showLink": false,
        "staticPlot": false
       },
       "data": [
        {
         "mode": "lines",
         "name": "power",
         "type": "scatter",
         "x": [
          0,
          0.01,
          0.02,
          0.03,
          0.04,
          0.05,
          0.06,
          0.07,
          0.08,
          0.09,
          0.1,
          0.11,
          0.12,
          0.13,
          0.14,
          0.15,
          0.16,
          0.17,
          0.18,
          0.19,
          0.2,
          0.21,
          0.22,
          0.23,
          0.24,
          0.25,
          0.26,
          0.27,
          0.28,
          0.29,
          0.3,
          0.31,
          0.32,
          0.33,
          0.34,
          0.35,
          0.36,
          0.37,
          0.38,
          0.39,
          0.4,
          0.41,
          0.42,
          0.43,
          0.44,
          0.45,
          0.46,
          0.47,
          0.48,
          0.49,
          0.5,
          0.51,
          0.52,
          0.53,
          0.54,
          0.55,
          0.56,
          0.57,
          0.58,
          0.59,
          0.6,
          0.61,
          0.62,
          0.63,
          0.64,
          0.65,
          0.66,
          0.67,
          0.68,
          0.69,
          0.7,
          0.71,
          0.72,
          0.73,
          0.74,
          0.75,
          0.76,
          0.77,
          0.78,
          0.79,
          0.8,
          0.81,
          0.82,
          0.83,
          0.84,
          0.85,
          0.86,
          0.87,
          0.88,
          0.89,
          0.9,
          0.91,
          0.92,
          0.93,
          0.94,
          0.95,
          0.96,
          0.97,
          0.98,
          0.99,
          1
         ],
         "y": [
          1,
          0.941094,
          0.8843519999999999,
          0.8297380000000001,
          0.7772159999999999,
          0.7267499999999999,
          0.678304,
          0.631842,
          0.5873280000000001,
          0.5447259999999999,
          0.5039999999999999,
          0.46511399999999997,
          0.428032,
          0.39271799999999996,
          0.3591359999999999,
          0.3272500000000001,
          0.29702400000000007,
          0.26842200000000005,
          0.24140799999999993,
          0.2159459999999999,
          0.19199999999999987,
          0.1695339999999999,
          0.14851199999999992,
          0.12889799999999996,
          0.110656,
          0.09375,
          0.07814399999999998,
          0.06380199999999994,
          0.050687999999999955,
          0.03876600000000016,
          0.028000000000000164,
          0.01835400000000026,
          0.009792000000000106,
          0.0022780000000001688,
          -0.004223999999999839,
          -0.009749999999999648,
          -0.014336000000000126,
          -0.0180179999999997,
          -0.02083200000000024,
          -0.022813999999999612,
          -0.024000000000000243,
          -0.024426000000000114,
          -0.02412800000000026,
          -0.02314200000000044,
          -0.02150400000000019,
          -0.01925000000000021,
          -0.016415999999999986,
          -0.013037999999999772,
          -0.009152000000000049,
          -0.004794000000000076,
          0,
          0.005193999999999921,
          0.010751999999999984,
          0.016638000000000153,
          0.022815999999999947,
          0.029249999999999998,
          0.035903999999999936,
          0.042741999999999836,
          0.049728000000000216,
          0.0568259999999996,
          0.06400000000000028,
          0.07121399999999967,
          0.07843200000000072,
          0.08561799999999953,
          0.09273600000000015,
          0.09975000000000023,
          0.1066240000000005,
          0.11332200000000014,
          0.11980800000000036,
          0.12604599999999966,
          0.132000000000001,
          0.13763400000000026,
          0.14291199999999993,
          0.14779799999999987,
          0.15225600000000084,
          0.15625,
          0.15974399999999944,
          0.16270199999999946,
          0.16508800000000123,
          0.16686599999999974,
          0.16799999999999926,
          0.16845399999999966,
          0.1681919999999999,
          0.16717800000000071,
          0.1653759999999993,
          0.16274999999999995,
          0.15926399999999852,
          0.15488200000000063,
          0.14956799999999948,
          0.1432860000000007,
          0.13599999999999923,
          0.12767400000000073,
          0.11827200000000015,
          0.10775800000000046,
          0.09609600000000107,
          0.08325000000000138,
          0.06918399999999991,
          0.05386199999999963,
          0.03724799999999995,
          0.019306000000001156,
          0
         ]
        }
       ],
       "frames": [],
       "layout": {
        "autosize": true,
        "margin": {
         "b": 50,
         "l": 50,
         "r": 50,
         "t": 60
        },
        "template": {
         "data": {
          "bar": [
           {
            "error_x": {
             "color": "#2a3f5f"
            },
            "error_y": {
             "color": "#2a3f5f"
            },
            "marker": {
             "line": {
              "color": "#E5ECF6",
              "width": 0.5
             }
            },
            "type": "bar"
           }
          ],
          "barpolar": [
           {
            "marker": {
             "line": {
              "color": "#E5ECF6",
              "width": 0.5
             }
            },
            "type": "barpolar"
           }
          ],
          "carpet": [
           {
            "aaxis": {
             "endlinecolor": "#2a3f5f",
             "gridcolor": "white",
             "linecolor": "white",
             "minorgridcolor": "white",
             "startlinecolor": "#2a3f5f"
            },
            "baxis": {
             "endlinecolor": "#2a3f5f",
             "gridcolor": "white",
             "linecolor": "white",
             "minorgridcolor": "white",
             "startlinecolor": "#2a3f5f"
            },
            "type": "carpet"
           }
          ],
          "choropleth": [
           {
            "colorbar": {
             "outlinewidth": 0,
             "ticks": ""
            },
            "type": "choropleth"
           }
          ],
          "contour": [
           {
            "colorbar": {
             "outlinewidth": 0,
             "ticks": ""
            },
            "colorscale": [
             [
              0,
              "#0d0887"
             ],
             [
              0.1111111111111111,
              "#46039f"
             ],
             [
              0.2222222222222222,
              "#7201a8"
             ],
             [
              0.3333333333333333,
              "#9c179e"
             ],
             [
              0.4444444444444444,
              "#bd3786"
             ],
             [
              0.5555555555555556,
              "#d8576b"
             ],
             [
              0.6666666666666666,
              "#ed7953"
             ],
             [
              0.7777777777777778,
              "#fb9f3a"
             ],
             [
              0.8888888888888888,
              "#fdca26"
             ],
             [
              1,
              "#f0f921"
             ]
            ],
            "type": "contour"
           }
          ],
          "contourcarpet": [
           {
            "colorbar": {
             "outlinewidth": 0,
             "ticks": ""
            },
            "type": "contourcarpet"
           }
          ],
          "heatmap": [
           {
            "colorbar": {
             "outlinewidth": 0,
             "ticks": ""
            },
            "colorscale": [
             [
              0,
              "#0d0887"
             ],
             [
              0.1111111111111111,
              "#46039f"
             ],
             [
              0.2222222222222222,
              "#7201a8"
             ],
             [
              0.3333333333333333,
              "#9c179e"
             ],
             [
              0.4444444444444444,
              "#bd3786"
             ],
             [
              0.5555555555555556,
              "#d8576b"
             ],
             [
              0.6666666666666666,
              "#ed7953"
             ],
             [
              0.7777777777777778,
              "#fb9f3a"
             ],
             [
              0.8888888888888888,
              "#fdca26"
             ],
             [
              1,
              "#f0f921"
             ]
            ],
            "type": "heatmap"
           }
          ],
          "heatmapgl": [
           {
            "colorbar": {
             "outlinewidth": 0,
             "ticks": ""
            },
            "colorscale": [
             [
              0,
              "#0d0887"
             ],
             [
              0.1111111111111111,
              "#46039f"
             ],
             [
              0.2222222222222222,
              "#7201a8"
             ],
             [
              0.3333333333333333,
              "#9c179e"
             ],
             [
              0.4444444444444444,
              "#bd3786"
             ],
             [
              0.5555555555555556,
              "#d8576b"
             ],
             [
              0.6666666666666666,
              "#ed7953"
             ],
             [
              0.7777777777777778,
              "#fb9f3a"
             ],
             [
              0.8888888888888888,
              "#fdca26"
             ],
             [
              1,
              "#f0f921"
             ]
            ],
            "type": "heatmapgl"
           }
          ],
          "histogram": [
           {
            "marker": {
             "colorbar": {
              "outlinewidth": 0,
              "ticks": ""
             }
            },
            "type": "histogram"
           }
          ],
          "histogram2d": [
           {
            "colorbar": {
             "outlinewidth": 0,
             "ticks": ""
            },
            "colorscale": [
             [
              0,
              "#0d0887"
             ],
             [
              0.1111111111111111,
              "#46039f"
             ],
             [
              0.2222222222222222,
              "#7201a8"
             ],
             [
              0.3333333333333333,
              "#9c179e"
             ],
             [
              0.4444444444444444,
              "#bd3786"
             ],
             [
              0.5555555555555556,
              "#d8576b"
             ],
             [
              0.6666666666666666,
              "#ed7953"
             ],
             [
              0.7777777777777778,
              "#fb9f3a"
             ],
             [
              0.8888888888888888,
              "#fdca26"
             ],
             [
              1,
              "#f0f921"
             ]
            ],
            "type": "histogram2d"
           }
          ],
          "histogram2dcontour": [
           {
            "colorbar": {
             "outlinewidth": 0,
             "ticks": ""
            },
            "colorscale": [
             [
              0,
              "#0d0887"
             ],
             [
              0.1111111111111111,
              "#46039f"
             ],
             [
              0.2222222222222222,
              "#7201a8"
             ],
             [
              0.3333333333333333,
              "#9c179e"
             ],
             [
              0.4444444444444444,
              "#bd3786"
             ],
             [
              0.5555555555555556,
              "#d8576b"
             ],
             [
              0.6666666666666666,
              "#ed7953"
             ],
             [
              0.7777777777777778,
              "#fb9f3a"
             ],
             [
              0.8888888888888888,
              "#fdca26"
             ],
             [
              1,
              "#f0f921"
             ]
            ],
            "type": "histogram2dcontour"
           }
          ],
          "mesh3d": [
           {
            "colorbar": {
             "outlinewidth": 0,
             "ticks": ""
            },
            "type": "mesh3d"
           }
          ],
          "parcoords": [
           {
            "line": {
             "colorbar": {
              "outlinewidth": 0,
              "ticks": ""
             }
            },
            "type": "parcoords"
           }
          ],
          "pie": [
           {
            "automargin": true,
            "type": "pie"
           }
          ],
          "scatter": [
           {
            "marker": {
             "colorbar": {
              "outlinewidth": 0,
              "ticks": ""
             }
            },
            "type": "scatter"
           }
          ],
          "scatter3d": [
           {
            "line": {
             "colorbar": {
              "outlinewidth": 0,
              "ticks": ""
             }
            },
            "marker": {
             "colorbar": {
              "outlinewidth": 0,
              "ticks": ""
             }
            },
            "type": "scatter3d"
           }
          ],
          "scattercarpet": [
           {
            "marker": {
             "colorbar": {
              "outlinewidth": 0,
              "ticks": ""
             }
            },
            "type": "scattercarpet"
           }
          ],
          "scattergeo": [
           {
            "marker": {
             "colorbar": {
              "outlinewidth": 0,
              "ticks": ""
             }
            },
            "type": "scattergeo"
           }
          ],
          "scattergl": [
           {
            "marker": {
             "colorbar": {
              "outlinewidth": 0,
              "ticks": ""
             }
            },
            "type": "scattergl"
           }
          ],
          "scattermapbox": [
           {
            "marker": {
             "colorbar": {
              "outlinewidth": 0,
              "ticks": ""
             }
            },
            "type": "scattermapbox"
           }
          ],
          "scatterpolar": [
           {
            "marker": {
             "colorbar": {
              "outlinewidth": 0,
              "ticks": ""
             }
            },
            "type": "scatterpolar"
           }
          ],
          "scatterpolargl": [
           {
            "marker": {
             "colorbar": {
              "outlinewidth": 0,
              "ticks": ""
             }
            },
            "type": "scatterpolargl"
           }
          ],
          "scatterternary": [
           {
            "marker": {
             "colorbar": {
              "outlinewidth": 0,
              "ticks": ""
             }
            },
            "type": "scatterternary"
           }
          ],
          "surface": [
           {
            "colorbar": {
             "outlinewidth": 0,
             "ticks": ""
            },
            "colorscale": [
             [
              0,
              "#0d0887"
             ],
             [
              0.1111111111111111,
              "#46039f"
             ],
             [
              0.2222222222222222,
              "#7201a8"
             ],
             [
              0.3333333333333333,
              "#9c179e"
             ],
             [
              0.4444444444444444,
              "#bd3786"
             ],
             [
              0.5555555555555556,
              "#d8576b"
             ],
             [
              0.6666666666666666,
              "#ed7953"
             ],
             [
              0.7777777777777778,
              "#fb9f3a"
             ],
             [
              0.8888888888888888,
              "#fdca26"
             ],
             [
              1,
              "#f0f921"
             ]
            ],
            "type": "surface"
           }
          ],
          "table": [
           {
            "cells": {
             "fill": {
              "color": "#EBF0F8"
             },
             "line": {
              "color": "white"
             }
            },
            "header": {
             "fill": {
              "color": "#C8D4E3"
             },
             "line": {
              "color": "white"
             }
            },
            "type": "table"
           }
          ]
         },
         "layout": {
          "annotationdefaults": {
           "arrowcolor": "#2a3f5f",
           "arrowhead": 0,
           "arrowwidth": 1
          },
          "autotypenumbers": "strict",
          "coloraxis": {
           "colorbar": {
            "outlinewidth": 0,
            "ticks": ""
           }
          },
          "colorscale": {
           "diverging": [
            [
             0,
             "#8e0152"
            ],
            [
             0.1,
             "#c51b7d"
            ],
            [
             0.2,
             "#de77ae"
            ],
            [
             0.3,
             "#f1b6da"
            ],
            [
             0.4,
             "#fde0ef"
            ],
            [
             0.5,
             "#f7f7f7"
            ],
            [
             0.6,
             "#e6f5d0"
            ],
            [
             0.7,
             "#b8e186"
            ],
            [
             0.8,
             "#7fbc41"
            ],
            [
             0.9,
             "#4d9221"
            ],
            [
             1,
             "#276419"
            ]
           ],
           "sequential": [
            [
             0,
             "#0d0887"
            ],
            [
             0.1111111111111111,
             "#46039f"
            ],
            [
             0.2222222222222222,
             "#7201a8"
            ],
            [
             0.3333333333333333,
             "#9c179e"
            ],
            [
             0.4444444444444444,
             "#bd3786"
            ],
            [
             0.5555555555555556,
             "#d8576b"
            ],
            [
             0.6666666666666666,
             "#ed7953"
            ],
            [
             0.7777777777777778,
             "#fb9f3a"
            ],
            [
             0.8888888888888888,
             "#fdca26"
            ],
            [
             1,
             "#f0f921"
            ]
           ],
           "sequentialminus": [
            [
             0,
             "#0d0887"
            ],
            [
             0.1111111111111111,
             "#46039f"
            ],
            [
             0.2222222222222222,
             "#7201a8"
            ],
            [
             0.3333333333333333,
             "#9c179e"
            ],
            [
             0.4444444444444444,
             "#bd3786"
            ],
            [
             0.5555555555555556,
             "#d8576b"
            ],
            [
             0.6666666666666666,
             "#ed7953"
            ],
            [
             0.7777777777777778,
             "#fb9f3a"
            ],
            [
             0.8888888888888888,
             "#fdca26"
            ],
            [
             1,
             "#f0f921"
            ]
           ]
          },
          "colorway": [
           "#636efa",
           "#EF553B",
           "#00cc96",
           "#ab63fa",
           "#FFA15A",
           "#19d3f3",
           "#FF6692",
           "#B6E880",
           "#FF97FF",
           "#FECB52"
          ],
          "font": {
           "color": "#2a3f5f"
          },
          "geo": {
           "bgcolor": "white",
           "lakecolor": "white",
           "landcolor": "#E5ECF6",
           "showlakes": true,
           "showland": true,
           "subunitcolor": "white"
          },
          "hoverlabel": {
           "align": "left"
          },
          "hovermode": "closest",
          "mapbox": {
           "style": "light"
          },
          "paper_bgcolor": "white",
          "plot_bgcolor": "#E5ECF6",
          "polar": {
           "angularaxis": {
            "gridcolor": "white",
            "linecolor": "white",
            "ticks": ""
           },
           "bgcolor": "#E5ECF6",
           "radialaxis": {
            "gridcolor": "white",
            "linecolor": "white",
            "ticks": ""
           }
          },
          "scene": {
           "xaxis": {
            "backgroundcolor": "#E5ECF6",
            "gridcolor": "white",
            "gridwidth": 2,
            "linecolor": "white",
            "showbackground": true,
            "ticks": "",
            "zerolinecolor": "white"
           },
           "yaxis": {
            "backgroundcolor": "#E5ECF6",
            "gridcolor": "white",
            "gridwidth": 2,
            "linecolor": "white",
            "showbackground": true,
            "ticks": "",
            "zerolinecolor": "white"
           },
           "zaxis": {
            "backgroundcolor": "#E5ECF6",
            "gridcolor": "white",
            "gridwidth": 2,
            "linecolor": "white",
            "showbackground": true,
            "ticks": "",
            "zerolinecolor": "white"
           }
          },
          "shapedefaults": {
           "line": {
            "color": "#2a3f5f"
           }
          },
          "ternary": {
           "aaxis": {
            "gridcolor": "white",
            "linecolor": "white",
            "ticks": ""
           },
           "baxis": {
            "gridcolor": "white",
            "linecolor": "white",
            "ticks": ""
           },
           "bgcolor": "#E5ECF6",
           "caxis": {
            "gridcolor": "white",
            "linecolor": "white",
            "ticks": ""
           }
          },
          "title": {
           "x": 0.05
          },
          "xaxis": {
           "automargin": true,
           "gridcolor": "white",
           "linecolor": "white",
           "ticks": "",
           "title": {
            "standoff": 15
           },
           "zerolinecolor": "white",
           "zerolinewidth": 2
          },
          "yaxis": {
           "automargin": true,
           "gridcolor": "white",
           "linecolor": "white",
           "ticks": "",
           "title": {
            "standoff": 15
           },
           "zerolinecolor": "white",
           "zerolinewidth": 2
          }
         }
        },
        "xaxis": {
         "autorange": false,
         "range": [
          0.2291904218928164,
          1
         ],
         "type": "linear"
        },
        "yaxis": {
         "autorange": false,
         "range": [
          -0.08133855555555568,
          0.19582558999999988
         ],
         "type": "linear"
        }
       }
      },
      "image/png": "[encoded data removed]",
      "text/html": [
       "<div\n",
       "    class=\"webio-mountpoint\"\n",
       "    data-webio-mountpoint=\"203364324967258431\"\n",
       ">\n",
       "    <script>\n",
       "    (function(){\n",
       "    // Some integrations (namely, IJulia/Jupyter) use an alternate render pathway than\n",
       "    // just putting the html on the page. If WebIO isn't defined, then it's pretty likely\n",
       "    // that we're in one of those situations and the integration just isn't installed\n",
       "    // correctly.\n",
       "    if (typeof window.WebIO === \"undefined\") {\n",
       "        document\n",
       "            .querySelector('[data-webio-mountpoint=\"203364324967258431\"]')\n",
       "            .innerHTML = (\n",
       "                '<div style=\"padding: 1em; background-color: #f8d6da; border: 1px solid #f5c6cb; font-weight: bold;\">' +\n",
       "                '<p><strong>WebIO not detected.</strong></p>' +\n",
       "                '<p>Please read ' +\n",
       "                '<a href=\"https://juliagizmos.github.io/WebIO.jl/latest/troubleshooting/not-detected/\" target=\"_blank\">the troubleshooting guide</a> ' +\n",
       "                'for more information on how to resolve this issue.</p>' +\n",
       "                '<p><a href=\"https://juliagizmos.github.io/WebIO.jl/latest/troubleshooting/not-detected/\" target=\"_blank\">https://juliagizmos.github.io/WebIO.jl/latest/troubleshooting/not-detected/</a></p>' +\n",
       "                '</div>'\n",
       "            );\n",
       "        return;\n",
       "    }\n",
       "    WebIO.mount(\n",
       "        document.querySelector('[data-webio-mountpoint=\"203364324967258431\"]'),\n",
       "        {\"props\":{},\"nodeType\":\"Scope\",\"type\":\"node\",\"instanceArgs\":{\"imports\":{\"data\":[{\"name\":\"Plotly\",\"type\":\"js\",\"url\":\"\\/assetserver\\/02f0d5b6a4424194a48c8d3be9f48e948c04bbd1-plotly.min.js\"},{\"name\":null,\"type\":\"js\",\"url\":\"\\/assetserver\\/c4b82ac8736c57d94c07f8ff57937febc407a986-plotly_webio.bundle.js\"}],\"type\":\"async_block\"},\"id\":\"15156815278706948298\",\"handlers\":{\"_toImage\":[\"(function (options){return this.Plotly.toImage(this.plotElem,options).then((function (data){return WebIO.setval({\\\"name\\\":\\\"image\\\",\\\"scope\\\":\\\"15156815278706948298\\\",\\\"id\\\":\\\"4026711268306874212\\\",\\\"type\\\":\\\"observable\\\"},data)}))})\"],\"__get_gd_contents\":[\"(function (prop){prop==\\\"data\\\" ? (WebIO.setval({\\\"name\\\":\\\"__gd_contents\\\",\\\"scope\\\":\\\"15156815278706948298\\\",\\\"id\\\":\\\"5248177339822862863\\\",\\\"type\\\":\\\"observable\\\"},this.plotElem.data)) : undefined; return prop==\\\"layout\\\" ? (WebIO.setval({\\\"name\\\":\\\"__gd_contents\\\",\\\"scope\\\":\\\"15156815278706948298\\\",\\\"id\\\":\\\"5248177339822862863\\\",\\\"type\\\":\\\"observable\\\"},this.plotElem.layout)) : undefined})\"],\"_downloadImage\":[\"(function (options){return this.Plotly.downloadImage(this.plotElem,options)})\"],\"_commands\":[\"(function (args){var fn=args.shift(); var elem=this.plotElem; var Plotly=this.Plotly; args.unshift(elem); return Plotly[fn].apply(this,args)})\"]},\"systemjs_options\":null,\"mount_callbacks\":[\"function () {\\n    var handler = ((function (Plotly,PlotlyWebIO){PlotlyWebIO.init(WebIO); var gd=this.dom.querySelector(\\\"#plot-d20e6f34-1c5a-422c-8201-13daba7386ad\\\"); this.plotElem=gd; this.Plotly=Plotly; (window.Blink!==undefined) ? (gd.style.width=\\\"100%\\\", gd.style.height=\\\"100vh\\\", gd.style.marginLeft=\\\"0%\\\", gd.style.marginTop=\\\"0vh\\\") : undefined; window.onresize=(function (){return Plotly.Plots.resize(gd)}); Plotly.newPlot(gd,[{\\\"mode\\\":\\\"lines\\\",\\\"y\\\":[1.0,0.941094,0.8843519999999999,0.8297380000000001,0.7772159999999999,0.7267499999999999,0.678304,0.631842,0.5873280000000001,0.5447259999999999,0.5039999999999999,0.46511399999999997,0.428032,0.39271799999999996,0.3591359999999999,0.3272500000000001,0.29702400000000007,0.26842200000000005,0.24140799999999993,0.2159459999999999,0.19199999999999987,0.1695339999999999,0.14851199999999992,0.12889799999999996,0.110656,0.09375,0.07814399999999998,0.06380199999999994,0.050687999999999955,0.03876600000000016,0.028000000000000164,0.01835400000000026,0.009792000000000106,0.0022780000000001688,-0.004223999999999839,-0.009749999999999648,-0.014336000000000126,-0.0180179999999997,-0.02083200000000024,-0.022813999999999612,-0.024000000000000243,-0.024426000000000114,-0.02412800000000026,-0.02314200000000044,-0.02150400000000019,-0.01925000000000021,-0.016415999999999986,-0.013037999999999772,-0.009152000000000049,-0.004794000000000076,0.0,0.005193999999999921,0.010751999999999984,0.016638000000000153,0.022815999999999947,0.029249999999999998,0.035903999999999936,0.042741999999999836,0.049728000000000216,0.0568259999999996,0.06400000000000028,0.07121399999999967,0.07843200000000072,0.08561799999999953,0.09273600000000015,0.09975000000000023,0.1066240000000005,0.11332200000000014,0.11980800000000036,0.12604599999999966,0.132000000000001,0.13763400000000026,0.14291199999999993,0.14779799999999987,0.15225600000000084,0.15625,0.15974399999999944,0.16270199999999946,0.16508800000000123,0.16686599999999974,0.16799999999999926,0.16845399999999966,0.1681919999999999,0.16717800000000071,0.1653759999999993,0.16274999999999995,0.15926399999999852,0.15488200000000063,0.14956799999999948,0.1432860000000007,0.13599999999999923,0.12767400000000073,0.11827200000000015,0.10775800000000046,0.09609600000000107,0.08325000000000138,0.06918399999999991,0.05386199999999963,0.03724799999999995,0.019306000000001156,0.0],\\\"type\\\":\\\"scatter\\\",\\\"name\\\":\\\"power\\\",\\\"x\\\":[0.0,0.01,0.02,0.03,0.04,0.05,0.06,0.07,0.08,0.09,0.1,0.11,0.12,0.13,0.14,0.15,0.16,0.17,0.18,0.19,0.2,0.21,0.22,0.23,0.24,0.25,0.26,0.27,0.28,0.29,0.3,0.31,0.32,0.33,0.34,0.35,0.36,0.37,0.38,0.39,0.4,0.41,0.42,0.43,0.44,0.45,0.46,0.47,0.48,0.49,0.5,0.51,0.52,0.53,0.54,0.55,0.56,0.57,0.58,0.59,0.6,0.61,0.62,0.63,0.64,0.65,0.66,0.67,0.68,0.69,0.7,0.71,0.72,0.73,0.74,0.75,0.76,0.77,0.78,0.79,0.8,0.81,0.82,0.83,0.84,0.85,0.86,0.87,0.88,0.89,0.9,0.91,0.92,0.93,0.94,0.95,0.96,0.97,0.98,0.99,1.0]}],{\\\"template\\\":{\\\"layout\\\":{\\\"coloraxis\\\":{\\\"colorbar\\\":{\\\"ticks\\\":\\\"\\\",\\\"outlinewidth\\\":0}},\\\"xaxis\\\":{\\\"gridcolor\\\":\\\"white\\\",\\\"zerolinewidth\\\":2,\\\"title\\\":{\\\"standoff\\\":15},\\\"ticks\\\":\\\"\\\",\\\"zerolinecolor\\\":\\\"white\\\",\\\"automargin\\\":true,\\\"linecolor\\\":\\\"white\\\"},\\\"hovermode\\\":\\\"closest\\\",\\\"paper_bgcolor\\\":\\\"white\\\",\\\"geo\\\":{\\\"showlakes\\\":true,\\\"showland\\\":true,\\\"landcolor\\\":\\\"#E5ECF6\\\",\\\"bgcolor\\\":\\\"white\\\",\\\"subunitcolor\\\":\\\"white\\\",\\\"lakecolor\\\":\\\"white\\\"},\\\"colorscale\\\":{\\\"sequential\\\":[[0.0,\\\"#0d0887\\\"],[0.1111111111111111,\\\"#46039f\\\"],[0.2222222222222222,\\\"#7201a8\\\"],[0.3333333333333333,\\\"#9c179e\\\"],[0.4444444444444444,\\\"#bd3786\\\"],[0.5555555555555556,\\\"#d8576b\\\"],[0.6666666666666666,\\\"#ed7953\\\"],[0.7777777777777778,\\\"#fb9f3a\\\"],[0.8888888888888888,\\\"#fdca26\\\"],[1.0,\\\"#f0f921\\\"]],\\\"diverging\\\":[[0,\\\"#8e0152\\\"],[0.1,\\\"#c51b7d\\\"],[0.2,\\\"#de77ae\\\"],[0.3,\\\"#f1b6da\\\"],[0.4,\\\"#fde0ef\\\"],[0.5,\\\"#f7f7f7\\\"],[0.6,\\\"#e6f5d0\\\"],[0.7,\\\"#b8e186\\\"],[0.8,\\\"#7fbc41\\\"],[0.9,\\\"#4d9221\\\"],[1,\\\"#276419\\\"]],\\\"sequentialminus\\\":[[0.0,\\\"#0d0887\\\"],[0.1111111111111111,\\\"#46039f\\\"],[0.2222222222222222,\\\"#7201a8\\\"],[0.3333333333333333,\\\"#9c179e\\\"],[0.4444444444444444,\\\"#bd3786\\\"],[0.5555555555555556,\\\"#d8576b\\\"],[0.6666666666666666,\\\"#ed7953\\\"],[0.7777777777777778,\\\"#fb9f3a\\\"],[0.8888888888888888,\\\"#fdca26\\\"],[1.0,\\\"#f0f921\\\"]]},\\\"yaxis\\\":{\\\"gridcolor\\\":\\\"white\\\",\\\"zerolinewidth\\\":2,\\\"title\\\":{\\\"standoff\\\":15},\\\"ticks\\\":\\\"\\\",\\\"zerolinecolor\\\":\\\"white\\\",\\\"automargin\\\":true,\\\"linecolor\\\":\\\"white\\\"},\\\"shapedefaults\\\":{\\\"line\\\":{\\\"color\\\":\\\"#2a3f5f\\\"}},\\\"hoverlabel\\\":{\\\"align\\\":\\\"left\\\"},\\\"mapbox\\\":{\\\"style\\\":\\\"light\\\"},\\\"polar\\\":{\\\"angularaxis\\\":{\\\"gridcolor\\\":\\\"white\\\",\\\"ticks\\\":\\\"\\\",\\\"linecolor\\\":\\\"white\\\"},\\\"bgcolor\\\":\\\"#E5ECF6\\\",\\\"radialaxis\\\":{\\\"gridcolor\\\":\\\"white\\\",\\\"ticks\\\":\\\"\\\",\\\"linecolor\\\":\\\"white\\\"}},\\\"autotypenumbers\\\":\\\"strict\\\",\\\"font\\\":{\\\"color\\\":\\\"#2a3f5f\\\"},\\\"ternary\\\":{\\\"baxis\\\":{\\\"gridcolor\\\":\\\"white\\\",\\\"ticks\\\":\\\"\\\",\\\"linecolor\\\":\\\"white\\\"},\\\"bgcolor\\\":\\\"#E5ECF6\\\",\\\"caxis\\\":{\\\"gridcolor\\\":\\\"white\\\",\\\"ticks\\\":\\\"\\\",\\\"linecolor\\\":\\\"white\\\"},\\\"aaxis\\\":{\\\"gridcolor\\\":\\\"white\\\",\\\"ticks\\\":\\\"\\\",\\\"linecolor\\\":\\\"white\\\"}},\\\"annotationdefaults\\\":{\\\"arrowhead\\\":0,\\\"arrowwidth\\\":1,\\\"arrowcolor\\\":\\\"#2a3f5f\\\"},\\\"plot_bgcolor\\\":\\\"#E5ECF6\\\",\\\"title\\\":{\\\"x\\\":0.05},\\\"scene\\\":{\\\"xaxis\\\":{\\\"gridcolor\\\":\\\"white\\\",\\\"gridwidth\\\":2,\\\"backgroundcolor\\\":\\\"#E5ECF6\\\",\\\"ticks\\\":\\\"\\\",\\\"showbackground\\\":true,\\\"zerolinecolor\\\":\\\"white\\\",\\\"linecolor\\\":\\\"white\\\"},\\\"zaxis\\\":{\\\"gridcolor\\\":\\\"white\\\",\\\"gridwidth\\\":2,\\\"backgroundcolor\\\":\\\"#E5ECF6\\\",\\\"ticks\\\":\\\"\\\",\\\"showbackground\\\":true,\\\"zerolinecolor\\\":\\\"white\\\",\\\"linecolor\\\":\\\"white\\\"},\\\"yaxis\\\":{\\\"gridcolor\\\":\\\"white\\\",\\\"gridwidth\\\":2,\\\"backgroundcolor\\\":\\\"#E5ECF6\\\",\\\"ticks\\\":\\\"\\\",\\\"showbackground\\\":true,\\\"zerolinecolor\\\":\\\"white\\\",\\\"linecolor\\\":\\\"white\\\"}},\\\"colorway\\\":[\\\"#636efa\\\",\\\"#EF553B\\\",\\\"#00cc96\\\",\\\"#ab63fa\\\",\\\"#FFA15A\\\",\\\"#19d3f3\\\",\\\"#FF6692\\\",\\\"#B6E880\\\",\\\"#FF97FF\\\",\\\"#FECB52\\\"]},\\\"data\\\":{\\\"barpolar\\\":[{\\\"type\\\":\\\"barpolar\\\",\\\"marker\\\":{\\\"line\\\":{\\\"color\\\":\\\"#E5ECF6\\\",\\\"width\\\":0.5}}}],\\\"carpet\\\":[{\\\"aaxis\\\":{\\\"gridcolor\\\":\\\"white\\\",\\\"endlinecolor\\\":\\\"#2a3f5f\\\",\\\"minorgridcolor\\\":\\\"white\\\",\\\"startlinecolor\\\":\\\"#2a3f5f\\\",\\\"linecolor\\\":\\\"white\\\"},\\\"type\\\":\\\"carpet\\\",\\\"baxis\\\":{\\\"gridcolor\\\":\\\"white\\\",\\\"endlinecolor\\\":\\\"#2a3f5f\\\",\\\"minorgridcolor\\\":\\\"white\\\",\\\"startlinecolor\\\":\\\"#2a3f5f\\\",\\\"linecolor\\\":\\\"white\\\"}}],\\\"scatterpolar\\\":[{\\\"type\\\":\\\"scatterpolar\\\",\\\"marker\\\":{\\\"colorbar\\\":{\\\"ticks\\\":\\\"\\\",\\\"outlinewidth\\\":0}}}],\\\"parcoords\\\":[{\\\"line\\\":{\\\"colorbar\\\":{\\\"ticks\\\":\\\"\\\",\\\"outlinewidth\\\":0}},\\\"type\\\":\\\"parcoords\\\"}],\\\"scatter\\\":[{\\\"type\\\":\\\"scatter\\\",\\\"marker\\\":{\\\"colorbar\\\":{\\\"ticks\\\":\\\"\\\",\\\"outlinewidth\\\":0}}}],\\\"histogram2dcontour\\\":[{\\\"colorbar\\\":{\\\"ticks\\\":\\\"\\\",\\\"outlinewidth\\\":0},\\\"type\\\":\\\"histogram2dcontour\\\",\\\"colorscale\\\":[[0.0,\\\"#0d0887\\\"],[0.1111111111111111,\\\"#46039f\\\"],[0.2222222222222222,\\\"#7201a8\\\"],[0.3333333333333333,\\\"#9c179e\\\"],[0.4444444444444444,\\\"#bd3786\\\"],[0.5555555555555556,\\\"#d8576b\\\"],[0.6666666666666666,\\\"#ed7953\\\"],[0.7777777777777778,\\\"#fb9f3a\\\"],[0.8888888888888888,\\\"#fdca26\\\"],[1.0,\\\"#f0f921\\\"]]}],\\\"contour\\\":[{\\\"colorbar\\\":{\\\"ticks\\\":\\\"\\\",\\\"outlinewidth\\\":0},\\\"type\\\":\\\"contour\\\",\\\"colorscale\\\":[[0.0,\\\"#0d0887\\\"],[0.1111111111111111,\\\"#46039f\\\"],[0.2222222222222222,\\\"#7201a8\\\"],[0.3333333333333333,\\\"#9c179e\\\"],[0.4444444444444444,\\\"#bd3786\\\"],[0.5555555555555556,\\\"#d8576b\\\"],[0.6666666666666666,\\\"#ed7953\\\"],[0.7777777777777778,\\\"#fb9f3a\\\"],[0.8888888888888888,\\\"#fdca26\\\"],[1.0,\\\"#f0f921\\\"]]}],\\\"scattercarpet\\\":[{\\\"type\\\":\\\"scattercarpet\\\",\\\"marker\\\":{\\\"colorbar\\\":{\\\"ticks\\\":\\\"\\\",\\\"outlinewidth\\\":0}}}],\\\"mesh3d\\\":[{\\\"colorbar\\\":{\\\"ticks\\\":\\\"\\\",\\\"outlinewidth\\\":0},\\\"type\\\":\\\"mesh3d\\\"}],\\\"surface\\\":[{\\\"colorbar\\\":{\\\"ticks\\\":\\\"\\\",\\\"outlinewidth\\\":0},\\\"type\\\":\\\"surface\\\",\\\"colorscale\\\":[[0.0,\\\"#0d0887\\\"],[0.1111111111111111,\\\"#46039f\\\"],[0.2222222222222222,\\\"#7201a8\\\"],[0.3333333333333333,\\\"#9c179e\\\"],[0.4444444444444444,\\\"#bd3786\\\"],[0.5555555555555556,\\\"#d8576b\\\"],[0.6666666666666666,\\\"#ed7953\\\"],[0.7777777777777778,\\\"#fb9f3a\\\"],[0.8888888888888888,\\\"#fdca26\\\"],[1.0,\\\"#f0f921\\\"]]}],\\\"scattermapbox\\\":[{\\\"type\\\":\\\"scattermapbox\\\",\\\"marker\\\":{\\\"colorbar\\\":{\\\"ticks\\\":\\\"\\\",\\\"outlinewidth\\\":0}}}],\\\"scattergeo\\\":[{\\\"type\\\":\\\"scattergeo\\\",\\\"marker\\\":{\\\"colorbar\\\":{\\\"ticks\\\":\\\"\\\",\\\"outlinewidth\\\":0}}}],\\\"histogram\\\":[{\\\"type\\\":\\\"histogram\\\",\\\"marker\\\":{\\\"colorbar\\\":{\\\"ticks\\\":\\\"\\\",\\\"outlinewidth\\\":0}}}],\\\"pie\\\":[{\\\"type\\\":\\\"pie\\\",\\\"automargin\\\":true}],\\\"choropleth\\\":[{\\\"colorbar\\\":{\\\"ticks\\\":\\\"\\\",\\\"outlinewidth\\\":0},\\\"type\\\":\\\"choropleth\\\"}],\\\"heatmapgl\\\":[{\\\"colorbar\\\":{\\\"ticks\\\":\\\"\\\",\\\"outlinewidth\\\":0},\\\"type\\\":\\\"heatmapgl\\\",\\\"colorscale\\\":[[0.0,\\\"#0d0887\\\"],[0.1111111111111111,\\\"#46039f\\\"],[0.2222222222222222,\\\"#7201a8\\\"],[0.3333333333333333,\\\"#9c179e\\\"],[0.4444444444444444,\\\"#bd3786\\\"],[0.5555555555555556,\\\"#d8576b\\\"],[0.6666666666666666,\\\"#ed7953\\\"],[0.7777777777777778,\\\"#fb9f3a\\\"],[0.8888888888888888,\\\"#fdca26\\\"],[1.0,\\\"#f0f921\\\"]]}],\\\"bar\\\":[{\\\"type\\\":\\\"bar\\\",\\\"error_y\\\":{\\\"color\\\":\\\"#2a3f5f\\\"},\\\"error_x\\\":{\\\"color\\\":\\\"#2a3f5f\\\"},\\\"marker\\\":{\\\"line\\\":{\\\"color\\\":\\\"#E5ECF6\\\",\\\"width\\\":0.5}}}],\\\"heatmap\\\":[{\\\"colorbar\\\":{\\\"ticks\\\":\\\"\\\",\\\"outlinewidth\\\":0},\\\"type\\\":\\\"heatmap\\\",\\\"colorscale\\\":[[0.0,\\\"#0d0887\\\"],[0.1111111111111111,\\\"#46039f\\\"],[0.2222222222222222,\\\"#7201a8\\\"],[0.3333333333333333,\\\"#9c179e\\\"],[0.4444444444444444,\\\"#bd3786\\\"],[0.5555555555555556,\\\"#d8576b\\\"],[0.6666666666666666,\\\"#ed7953\\\"],[0.7777777777777778,\\\"#fb9f3a\\\"],[0.8888888888888888,\\\"#fdca26\\\"],[1.0,\\\"#f0f921\\\"]]}],\\\"contourcarpet\\\":[{\\\"colorbar\\\":{\\\"ticks\\\":\\\"\\\",\\\"outlinewidth\\\":0},\\\"type\\\":\\\"contourcarpet\\\"}],\\\"table\\\":[{\\\"type\\\":\\\"table\\\",\\\"header\\\":{\\\"line\\\":{\\\"color\\\":\\\"white\\\"},\\\"fill\\\":{\\\"color\\\":\\\"#C8D4E3\\\"}},\\\"cells\\\":{\\\"line\\\":{\\\"color\\\":\\\"white\\\"},\\\"fill\\\":{\\\"color\\\":\\\"#EBF0F8\\\"}}}],\\\"scatter3d\\\":[{\\\"line\\\":{\\\"colorbar\\\":{\\\"ticks\\\":\\\"\\\",\\\"outlinewidth\\\":0}},\\\"type\\\":\\\"scatter3d\\\",\\\"marker\\\":{\\\"colorbar\\\":{\\\"ticks\\\":\\\"\\\",\\\"outlinewidth\\\":0}}}],\\\"scattergl\\\":[{\\\"type\\\":\\\"scattergl\\\",\\\"marker\\\":{\\\"colorbar\\\":{\\\"ticks\\\":\\\"\\\",\\\"outlinewidth\\\":0}}}],\\\"histogram2d\\\":[{\\\"colorbar\\\":{\\\"ticks\\\":\\\"\\\",\\\"outlinewidth\\\":0},\\\"type\\\":\\\"histogram2d\\\",\\\"colorscale\\\":[[0.0,\\\"#0d0887\\\"],[0.1111111111111111,\\\"#46039f\\\"],[0.2222222222222222,\\\"#7201a8\\\"],[0.3333333333333333,\\\"#9c179e\\\"],[0.4444444444444444,\\\"#bd3786\\\"],[0.5555555555555556,\\\"#d8576b\\\"],[0.6666666666666666,\\\"#ed7953\\\"],[0.7777777777777778,\\\"#fb9f3a\\\"],[0.8888888888888888,\\\"#fdca26\\\"],[1.0,\\\"#f0f921\\\"]]}],\\\"scatterternary\\\":[{\\\"type\\\":\\\"scatterternary\\\",\\\"marker\\\":{\\\"colorbar\\\":{\\\"ticks\\\":\\\"\\\",\\\"outlinewidth\\\":0}}}],\\\"scatterpolargl\\\":[{\\\"type\\\":\\\"scatterpolargl\\\",\\\"marker\\\":{\\\"colorbar\\\":{\\\"ticks\\\":\\\"\\\",\\\"outlinewidth\\\":0}}}]}},\\\"margin\\\":{\\\"l\\\":50,\\\"b\\\":50,\\\"r\\\":50,\\\"t\\\":60}},{\\\"showLink\\\":false,\\\"editable\\\":false,\\\"responsive\\\":true,\\\"staticPlot\\\":false,\\\"scrollZoom\\\":true}); gd.on(\\\"plotly_hover\\\",(function (data){var filtered_data=WebIO.PlotlyCommands.filterEventData(gd,data,\\\"hover\\\"); return !(filtered_data.isnil) ? (WebIO.setval({\\\"name\\\":\\\"hover\\\",\\\"scope\\\":\\\"15156815278706948298\\\",\\\"id\\\":\\\"6329748964869050462\\\",\\\"type\\\":\\\"observable\\\"},filtered_data.out)) : undefined})); gd.on(\\\"plotly_unhover\\\",(function (){return WebIO.setval({\\\"name\\\":\\\"hover\\\",\\\"scope\\\":\\\"15156815278706948298\\\",\\\"id\\\":\\\"6329748964869050462\\\",\\\"type\\\":\\\"observable\\\"},{})})); gd.on(\\\"plotly_selected\\\",(function (data){var filtered_data=WebIO.PlotlyCommands.filterEventData(gd,data,\\\"selected\\\"); return !(filtered_data.isnil) ? (WebIO.setval({\\\"name\\\":\\\"selected\\\",\\\"scope\\\":\\\"15156815278706948298\\\",\\\"id\\\":\\\"6286794341939237849\\\",\\\"type\\\":\\\"observable\\\"},filtered_data.out)) : undefined})); gd.on(\\\"plotly_deselect\\\",(function (){return WebIO.setval({\\\"name\\\":\\\"selected\\\",\\\"scope\\\":\\\"15156815278706948298\\\",\\\"id\\\":\\\"6286794341939237849\\\",\\\"type\\\":\\\"observable\\\"},{})})); gd.on(\\\"plotly_relayout\\\",(function (data){var filtered_data=WebIO.PlotlyCommands.filterEventData(gd,data,\\\"relayout\\\"); return !(filtered_data.isnil) ? (WebIO.setval({\\\"name\\\":\\\"relayout\\\",\\\"scope\\\":\\\"15156815278706948298\\\",\\\"id\\\":\\\"15493762799171321319\\\",\\\"type\\\":\\\"observable\\\"},filtered_data.out)) : undefined})); return gd.on(\\\"plotly_click\\\",(function (data){var filtered_data=WebIO.PlotlyCommands.filterEventData(gd,data,\\\"click\\\"); return !(filtered_data.isnil) ? (WebIO.setval({\\\"name\\\":\\\"click\\\",\\\"scope\\\":\\\"15156815278706948298\\\",\\\"id\\\":\\\"12058887856071801036\\\",\\\"type\\\":\\\"observable\\\"},filtered_data.out)) : undefined}))}));\\n    (WebIO.importBlock({\\\"data\\\":[{\\\"name\\\":\\\"Plotly\\\",\\\"type\\\":\\\"js\\\",\\\"url\\\":\\\"\\/assetserver\\/02f0d5b6a4424194a48c8d3be9f48e948c04bbd1-plotly.min.js\\\"},{\\\"name\\\":null,\\\"type\\\":\\\"js\\\",\\\"url\\\":\\\"\\/assetserver\\/c4b82ac8736c57d94c07f8ff57937febc407a986-plotly_webio.bundle.js\\\"}],\\\"type\\\":\\\"async_block\\\"})).then((imports) => handler.apply(this, imports));\\n}\\n\"],\"observables\":{\"_toImage\":{\"sync\":false,\"id\":\"7082398097867697066\",\"value\":{}},\"hover\":{\"sync\":false,\"id\":\"6329748964869050462\",\"value\":{}},\"selected\":{\"sync\":false,\"id\":\"6286794341939237849\",\"value\":{}},\"__gd_contents\":{\"sync\":false,\"id\":\"5248177339822862863\",\"value\":{}},\"click\":{\"sync\":false,\"id\":\"12058887856071801036\",\"value\":{}},\"image\":{\"sync\":true,\"id\":\"4026711268306874212\",\"value\":\"\"},\"__get_gd_contents\":{\"sync\":false,\"id\":\"14024359028729838908\",\"value\":\"\"},\"_downloadImage\":{\"sync\":false,\"id\":\"9728972157521982605\",\"value\":{}},\"relayout\":{\"sync\":false,\"id\":\"15493762799171321319\",\"value\":{}},\"_commands\":{\"sync\":false,\"id\":\"3638868542259636201\",\"value\":[]}}},\"children\":[{\"props\":{\"id\":\"plot-d20e6f34-1c5a-422c-8201-13daba7386ad\"},\"nodeType\":\"DOM\",\"type\":\"node\",\"instanceArgs\":{\"namespace\":\"html\",\"tag\":\"div\"},\"children\":[]}]},\n",
       "        window,\n",
       "    );\n",
       "    })()\n",
       "    </script>\n",
       "</div>\n"
      ],
      "text/plain": [
       "data: [\n",
       "  \"scatter with fields mode, name, type, x, and y\"\n",
       "]\n",
       "\n",
       "layout: \"layout with fields margin and template\"\n",
       "\n"
      ]
     },
     "metadata": {},
     "output_type": "display_data"
    }
   ],
   "source": [
    "function eqn(R::Float64)\n",
    "    sum::Float64 = 0.\n",
    "    pow::Float64 = 1\n",
    "    coeffs::Vector{Float64} = [1., -6., 11., -6.\n",
    "    ]\n",
    "    for coeff in coeffs\n",
    "        sum += coeff*pow\n",
    "        pow*=R\n",
    "    end\n",
    "    return sum\n",
    "end\n",
    "\n",
    "rd = 0.:0.01:1.\n",
    "ry = eqn.( rd)\n",
    "trace1 = scatter(x=rd, y=ry,\n",
    "                mode=\"lines\",\n",
    "                name=\"power\")\n",
    "display(plot(trace1))\n",
    "    \n",
    "\n",
    "\n"
   ]
  },
  {
   "cell_type": "code",
   "execution_count": null,
   "metadata": {},
   "outputs": [],
   "source": [
    "rd = 0.001:0.001:2\n",
    "list = Vector{GenericTrace}(undef,0)\n",
    "for base in 0.1:0.1:2\n",
    "    ry = map(pow -> base^pow, rd)\n",
    "    trace1 = scatter(x=rd, y=ry,\n",
    "                    mode=\"lines\",\n",
    "                    name=\"fuck\")\n",
    "    display(plot(trace1))\n",
    "end\n",
    "\n"
   ]
  }
 ],
 "metadata": {
  "@webio": {
   "lastCommId": "3ea8e373-18cf-49b3-96f0-4b57a3035ac8",
   "lastKernelId": "16a375d7-b738-4ed5-a11a-566e4ce3e3ea"
  },
  "kernelspec": {
   "display_name": "Julia 1.7.2",
   "language": "julia",
   "name": "julia-1.7"
  },
  "language_info": {
   "file_extension": ".jl",
   "mimetype": "application/julia",
   "name": "julia",
   "version": "1.7.2"
  }
 },
 "nbformat": 4,
 "nbformat_minor": 4
}
