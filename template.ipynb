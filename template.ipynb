{
 "cells": [
  {
   "cell_type": "code",
   "execution_count": null,
   "metadata": {},
   "outputs": [],
   "source": [
    "using LibPQ, Tables, Plots, HTTP, CSV, Random, StatsBase, FreqTables, SQLite, Base, Dates, JuliaDB\n",
    "using Base: show_supertypes\n",
    "plotly()\n"
   ]
  },
  {
   "cell_type": "code",
   "execution_count": null,
   "metadata": {},
   "outputs": [],
   "source": [
    "import Pkg; Pkg.add(\"JuliaDB\")"
   ]
  },
  {
   "cell_type": "code",
   "execution_count": null,
   "metadata": {},
   "outputs": [],
   "source": [
    "function p2(p1::Number, r::Number, t::Number)\n",
    "    return Float64(p1)*((1+Float64(r))^Float64(t))\n",
    "end\n",
    "\n",
    "function t(p1::Number, p2::Number, r::Number)\n",
    "    return log(Float64(p2)/Float64(p1)) / log(1+Float64(r))\n",
    "end\n",
    "\n",
    "function p1(p2::Number, r::Number, t::Number)\n",
    "    return Float64(p2)/((1+Float64(r))^Float64(t))\n",
    "end\n",
    "\n",
    "function r(p1::Number, p2::Number, t::Number)\n",
    "    power = log(Float64(p2)/Float64(p1))/Float64(t)\n",
    "    return exp(power) - 1\n",
    "end\n",
    "\n",
    "function emi(p1::Number, r::Number, t::Number)\n",
    "    x::Float64 = (1.0 + Float64(r))^Float64(t)\n",
    "    return Float64(p1) * Float64(r) * x / (x - 1)\n",
    "end\n",
    "\n",
    "conn = LibPQ.Connection(\"dbname=sharath\")\n",
    "sqlite = SQLite.DB()"
   ]
  },
  {
   "cell_type": "code",
   "execution_count": 89,
   "metadata": {},
   "outputs": [
    {
     "name": "stdout",
     "output_type": "stream",
     "text": [
      "LibPQ.Result <: Anynothing\n",
      "IndexedTable{StructArrays.StructArray{NamedTuple{(:date, :adjclose),Tuple{Union{Missing, DateTime},Union{Missing, Float64}}},1,NamedTuple{(:date, :adjclose),Tuple{LibPQ.Column{Union{Missing, DateTime}},LibPQ.Column{Union{Missing, Float64}}}},Int64}} <: IndexedTables.AbstractIndexedTable <: Anynothing\n"
     ]
    }
   ],
   "source": [
    "function getSeries(symbol::String)\n",
    "    sql = \"\"\"select date, adjclose from nse_raw nr where symbol = '\"\"\"*symbol*\"\"\"' and adjclose is not null order by 1 \"\"\"\n",
    "    result = execute(conn, sql)\n",
    "    println(show_supertypes(typeof(result)))\n",
    "    return result |> table\n",
    "end\n",
    "\n",
    "# result = execute(conn, \"\"\"select \"NDP_Date\" , \"NDP_Close\" from ace_equity_nifty_50 aen where \"Company Name\" = 'Infosys Ltd.' order by 1\"\"\")\n",
    "# result = execute(conn, \"\"\"select \"NDP_Date\" , \"NDP_Close\" from ace_equity_nifty_50 aen where \"Company Name\" = 'Adani Ports and Special Economic Zone Ltd.' order by 1\"\"\")\n",
    "# result = execute(conn, \"\"\"select date, adjclose from nse_raw nr where symbol = 'AMBUJACEM' and adjclose is not null order by 1 \"\"\")\n",
    "data = getSeries(\"INFY\")\n",
    "println(show_supertypes(typeof(data)))\n",
    "# plot((data[1]), copy(data[2]))"
   ]
  },
  {
   "cell_type": "code",
   "execution_count": null,
   "metadata": {},
   "outputs": [],
   "source": [
    "#v2 a linear time algorithm for calculating sip returns. returns an array of returns.\n",
    "# each element corresponds to a period of sipDurationDays\n",
    "function sipv2(sipFrequencyDays::Int, sipDurationDays::Int, series)\n",
    "    series2 = Array{Float64}(undef, 0)\n",
    "    stocksNow = 0.0\n",
    "    for i in 1:sipFrequencyDays:length(series)\n",
    "        append!(series2, series[i])\n",
    "    end\n",
    "    n = size(series2)[1]\n",
    "    rates = Vector{Float64}(undef, 0)\n",
    "    stocks::Float64 = 0.0\n",
    "    sipDurationDays = min(n, convert(Int64, floor(sipDurationDays/sipFrequencyDays)))\n",
    "\n",
    "    \n",
    "    for i in 1:sipDurationDays\n",
    "        stocks+=1/series2[i]\n",
    "    end\n",
    "    append!(rates, r(sipDurationDays, series[sipDurationDays]*stocks, sipDurationDays/365.0))\n",
    "\n",
    "    for i in 2:n-sipDurationDays+1\n",
    "        stocks -= 1/series[i-1]\n",
    "        stocks += 1/series[i+sipDurationDays-1]\n",
    "        rate = r(sipDurationDays, series[i+sipDurationDays-1]*stocks, sipDurationDays/365.0)\n",
    "        append!(rates, r(sipDurationDays, series[i+sipDurationDays-1]*stocks, sipDurationDays/365.0))\n",
    "    end\n",
    "    return rates\n",
    "end\n",
    "# println(typeof(returns[1, :]))\n",
    "function gogo(symbol)\n",
    "    years = 1:7\n",
    "    returns = Array{Float64}(undef, 101, length(years))\n",
    "\n",
    "    for year in years\n",
    "        returns[:, year] = nquantile(sipv2(1, (year)*365, d[symbol].prices), 100).*100\n",
    "    end\n",
    "    return plot(collect(1:101), returns, label = permutedims([\"year\"*string(x) for x in years])) \n",
    "end\n",
    "# plot(nquantile(sipv2(1, 3*365, d[\"INFY\"].prices).*100, 100))\n",
    "plotData = gogo(\"ORISSAMINE\")\n",
    "# print(length(data[2]))\n",
    "# print(1/data.NDP_Close[3])\n",
    "# innerRange = 1:3:45\n",
    "# collect(last(innerRange))"
   ]
  },
  {
   "cell_type": "code",
   "execution_count": null,
   "metadata": {},
   "outputs": [],
   "source": [
    "struct Point\n",
    "    dates::Array{DateTime}\n",
    "    prices::Array{Float64}\n",
    "end\n",
    "function constructDict()\n",
    "    data = columntable(execute(conn, \"\"\" select symbol, date, adjclose from work.prices where date is not null and adjclose is not null order by 1, 2\"\"\"))\n",
    "    symbols = copy(data[1])\n",
    "    dates = copy(data[2])\n",
    "    adjclose = copy(data[3])\n",
    "    d = Dict{String, Point}()\n",
    "    for i in 1:length(symbols)\n",
    "        symbol = symbols[i]\n",
    "        date = dates[i]\n",
    "        price = adjclose[i]\n",
    "        if !haskey(d, symbol)\n",
    "            d[symbol] = Point(Array{DateTime}(undef, 0), Array{Float64}(undef, 0))\n",
    "        end\n",
    "        point = d[symbol]\n",
    "        push!(point.dates, dates[i])\n",
    "        push!(point.prices, adjclose[i])\n",
    "    end\n",
    "    return d\n",
    "end\n",
    "d = constructDict()"
   ]
  },
  {
   "cell_type": "code",
   "execution_count": null,
   "metadata": {},
   "outputs": [],
   "source": [
    "# returns the probability that the sip makes a return of targetRate considering every possible period whose duration is sipDurationDays\n",
    "function prob(d::Dict{String, Point}, company::String, sipFrequencyDays::Int, sipDurationDays::Int, targetRate::Float64=0.1)\n",
    "    series = d[company].prices\n",
    "    returns = sipv2(sipFrequencyDays::Int, sipDurationDays::Int, series)\n",
    "    sorted = sort(returns)\n",
    "    bottom = length(returns)\n",
    "    top = min(bottom, first(searchsorted(sorted, targetRate)))\n",
    "    return (bottom-top)/bottom\n",
    "end\n",
    "\n",
    "function doplot(d::Dict{String, Point})\n",
    "    k = collect(keys(d))\n",
    "    tuples = [(i, prob(d, i, 1, 3*365, 0.1)) for i in k]\n",
    "    filter(x->x[2]>0.7,sort!( tuples, by=last))\n",
    "    \n",
    "#     return plot(getindex.(tuples,1), getindex.(tuples, 2))\n",
    "end\n",
    "println(doplot(d))\n",
    "# (filter(x->x[2]<0 , collect(zip(1:length(d[\"INFY\"]), [p.price for p in d[\"INFY\"]]))))\n",
    "# zip(1:length(d[\"INFY\"]), [p.price for p in d[\"INFY\"]])\n",
    "# filter(p -> p[1]<0, )\n",
    "# prob(d, \"UJJIVANSFB\", 1, 100, 0.1)\n",
    "# [p.price for p in (d[\"INFY\"][:4])]\n",
    "# println(([p.price for p in d[\"INFY\"][2000:2010]]))"
   ]
  },
  {
   "cell_type": "code",
   "execution_count": null,
   "metadata": {},
   "outputs": [],
   "source": [
    "function stock(symbol::String)\n",
    "    display(plot(d[symbol].dates, d[symbol].prices, title=\"stock prices\"))\n",
    "    display(gogo(symbol))\n",
    "end\n",
    "stock(\"DEEPAKNTR\")"
   ]
  },
  {
   "cell_type": "code",
   "execution_count": null,
   "metadata": {},
   "outputs": [],
   "source": [
    "show_supertypes(typeof(data.NDP_Date))"
   ]
  },
  {
   "cell_type": "code",
   "execution_count": null,
   "metadata": {},
   "outputs": [],
   "source": [
    "function ohlc2()\n",
    "    function get_ohlc(ticker; kwargs...)\n",
    "        res = HTTP.get(\"https://www.quandl.com/api/v3/datasets/WIKI/$(ticker)/data.csv?start_date=2017-01-01\")\n",
    "        df = CSV.read(res.body)\n",
    "        ohlc(df, x=:Date, open=:Open, high=:High, low=:Low, close=:Close; kwargs...)\n",
    "    end\n",
    "\n",
    "    p1 = plot(get_ohlc(\"AAPL\", name=\"Apple\"), Layout(title=\"Apple\"))\n",
    "    p2 = plot(get_ohlc(\"GOOG\", name=\"Google\"), Layout(title=\"Google\"))\n",
    "\n",
    "    [p1 p2]\n",
    "end\n",
    "ohlc2()"
   ]
  },
  {
   "cell_type": "code",
   "execution_count": null,
   "metadata": {},
   "outputs": [],
   "source": [
    "death = 100\n",
    "age = 37\n",
    "months = (death - age)*12\n",
    "inflationPerMonth = 6/(100*12)\n",
    "monthlyCost = 100000\n",
    "living = monthlyCost * months\n",
    "println(living)\n",
    "marriage = 1000000\n",
    "# education is 100000 per year (present value) starting from 5th year to 5+16 years\n",
    "\n",
    "education = 16*100000\n",
    "total = living + marriage + 2*education\n",
    "println(total)"
   ]
  },
  {
   "cell_type": "code",
   "execution_count": null,
   "metadata": {},
   "outputs": [],
   "source": [
    "df = CSV.read(\"/home/sharath/Downloads/AdultDataSet.csv\")"
   ]
  },
  {
   "cell_type": "code",
   "execution_count": null,
   "metadata": {},
   "outputs": [],
   "source": [
    "df2 = df[shuffle(1:nrow(df))[1:Int(floor((nrow(df)/5)))], :]"
   ]
  },
  {
   "cell_type": "code",
   "execution_count": null,
   "metadata": {},
   "outputs": [],
   "source": [
    "plot([histogram(x=randn(10000), opacity=0.75)], Layout(barmode=\"overlay\"))\n",
    "\n"
   ]
  },
  {
   "cell_type": "code",
   "execution_count": null,
   "metadata": {},
   "outputs": [],
   "source": [
    "filter(row->row[\"education\"]==\" HS-grad\" && row[\"marital-status\"]==\" Never-married\", df)"
   ]
  },
  {
   "cell_type": "code",
   "execution_count": null,
   "metadata": {},
   "outputs": [],
   "source": [
    "typeof(freqtable(df[\"education\"], df[\"marital-status\"]))"
   ]
  },
  {
   "cell_type": "code",
   "execution_count": null,
   "metadata": {},
   "outputs": [],
   "source": [
    "df |> SQLite.load!(sqlite, \"adult\")"
   ]
  },
  {
   "cell_type": "code",
   "execution_count": null,
   "metadata": {},
   "outputs": [],
   "source": [
    "df = DBInterface.execute(sqlite, \"select * from adult\") |> DataFrame"
   ]
  },
  {
   "cell_type": "markdown",
   "metadata": {},
   "source": [
    "# Experimentation on multidimensional array speeds\n",
    "\n",
    "array iteration speed is about 1 billion per second. insane."
   ]
  },
  {
   "cell_type": "code",
   "execution_count": null,
   "metadata": {},
   "outputs": [],
   "source": [
    "function test(ar::Array{Int64})\n",
    "    sum = 0\n",
    "    for i in 1:1000\n",
    "        for j in 2:length(ar)\n",
    "            sum+=ar[j]\n",
    "#             ar[j]+=ar[j-1]\n",
    "        end\n",
    "    end\n",
    "    return sum\n",
    "end\n",
    "time_sum(x) = @time test(x);\n",
    "time_sum(ar)\n",
    "println(typeof(ar), size(ar))\n"
   ]
  },
  {
   "cell_type": "markdown",
   "metadata": {},
   "source": [
    "# Speeds of DataFrames\n",
    "fucking dataframes is not type stable so it is 100-1000x slower than array iteration and allocates a large amount of memory\n",
    "\n",
    "There are several table like structures in julia (mostly third parties, several of them seem to be overlapping a lot in functionality)\n",
    "The best one seems to be IndexedTable. it is type stable. It is implementated as a NamedTuple of vectors but acts like a vector of NamedTuples.\n",
    "Of course, the fastest and most native is just NamedTuple. But it seems like a NamedTuple (and also IndexedTable) with many columns might stress the compiler (havent tested it)\n",
    "\n",
    "IndexedTable constructor *copies* the data from the NamedTuple constructor param to create the new IndexedTable. However, invoking `IndexedTable.columns ` returns a NamedTuple *view* of the IndexedTable which is perfect for arbitrary iteration and modifications.\n",
    "\n",
    "btw, the nomenclature is really fucked up.\n",
    "- [Julia Data](https://github.com/JuliaDatahttps://github.com/JuliaData) is the name for all built in table like structures in Julia. They all seem to respect the Tables.jl interface\n",
    "- [JuliaDB](https://juliadata.github.io/JuliaDB.jl/latest/https://juliadata.github.io/JuliaDB.jl/latest/) is one particular table like structure in Julia Data. It is built on `IndexedTables` (seems like both are synonymous). This is the best since it is type stable\n",
    "- [DataFrames](https://github.com/JuliaData/DataFrames.jlhttps://github.com/JuliaData/DataFrames.jl) is a slow and fucked up implementation in Julia Data. It is feature rich but fucking slow\n",
    "- [Julia Databases](https://juliadatabases.github.io/https://juliadatabases.github.io/) collects various drivers for different databases like Mysql, postgres, sqlite. seems like all of them can stream to a tables.jl constructor\n",
    "\n",
    "A good summary of all the shit can be found [here"
   ]
  },
  {
   "cell_type": "code",
   "execution_count": null,
   "metadata": {},
   "outputs": [],
   "source": [
    "function testDataFrame(df::DataFrame)\n",
    "    ar::Array{Int64} = df.a\n",
    "    sum = 0\n",
    "    for i::Int64 in 1:1000\n",
    "        for j in 1:length(ar)\n",
    "            sum+=ar[j]\n",
    "        end\n",
    "    end\n",
    "    return sum\n",
    "end\n",
    "\n",
    "\n",
    "# println(typeof(df))\n",
    "time_sum(df) = @time testDataFrame(df);\n",
    "time_sum(df)\n"
   ]
  }
 ],
 "metadata": {
  "@webio": {
   "lastCommId": "e289c59a-b0f8-422e-8d91-3b2b9a32374c",
   "lastKernelId": "81a6f709-69f2-4bce-ac1b-ea633e4e0037"
  },
  "kernelspec": {
   "display_name": "Julia 1.5.2",
   "language": "julia",
   "name": "julia-1.5"
  },
  "language_info": {
   "file_extension": ".jl",
   "mimetype": "application/julia",
   "name": "julia",
   "version": "1.5.2"
  }
 },
 "nbformat": 4,
 "nbformat_minor": 4
}
