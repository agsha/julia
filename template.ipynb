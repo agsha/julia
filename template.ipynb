{
 "cells": [
  {
   "cell_type": "code",
   "execution_count": 1,
   "metadata": {},
   "outputs": [
    {
     "name": "stderr",
     "output_type": "stream",
     "text": [
      "┌ Info: Precompiling StatsPlots [f3b207a7-027a-5e70-b257-86293d7955fd]\n",
      "└ @ Base loading.jl:1317\n",
      "┌ Info: For saving to png with the Plotly backend ORCA has to be installed.\n",
      "└ @ Plots /home/sharath/.julia/packages/Plots/qZHsp/src/backends.jl:363\n"
     ]
    },
    {
     "data": {
      "text/plain": [
       "Plots.PlotlyBackend()"
      ]
     },
     "execution_count": 1,
     "metadata": {},
     "output_type": "execute_result"
    }
   ],
   "source": [
    "using LibPQ, Tables, Plots, HTTP, CSV, Random, StatsBase, FreqTables, SQLite, Base, Dates, JuliaDB, StatsPlots, Statistics, \n",
    "StructArrays, Distributions, NPFinancial, Random, DataStructures\n",
    "using Base: show_supertypes\n",
    "plotly()\n"
   ]
  },
  {
   "cell_type": "code",
   "execution_count": 2,
   "metadata": {},
   "outputs": [
    {
     "name": "stderr",
     "output_type": "stream",
     "text": [
      "\u001b[32m\u001b[1m    Updating\u001b[22m\u001b[39m registry at `~/.julia/registries/General`\n",
      "\u001b[32m\u001b[1m   Resolving\u001b[22m\u001b[39m package versions...\n",
      "\u001b[32m\u001b[1m   Installed\u001b[22m\u001b[39m MKL_jll ─ v2021.1.1+2\n",
      "\u001b[32m\u001b[1m  No Changes\u001b[22m\u001b[39m to `~/.julia/environments/v1.6/Project.toml`\n",
      "\u001b[32m\u001b[1m    Updating\u001b[22m\u001b[39m `~/.julia/environments/v1.6/Manifest.toml`\n",
      " \u001b[90m [856f044c] \u001b[39m\u001b[93m↑ MKL_jll v2021.1.1+1 ⇒ v2021.1.1+2\u001b[39m\n",
      "\u001b[32m\u001b[1mPrecompiling\u001b[22m\u001b[39m project...\n",
      "\u001b[32m  ✓ \u001b[39m\u001b[90mMKL_jll\u001b[39m\n",
      "\u001b[32m  ✓ \u001b[39m\u001b[90mFFTW\u001b[39m\n",
      "\u001b[33m  ? \u001b[39m\u001b[90mKernelDensity\u001b[39m\n",
      "2 dependencies successfully precompiled in 7 seconds (143 already precompiled)\n",
      "\u001b[33m1\u001b[39m dependency failed but may be precompilable after restarting julia\n",
      "\u001b[32m\u001b[1m   Resolving\u001b[22m\u001b[39m package versions...\n",
      "\u001b[32m\u001b[1m  No Changes\u001b[22m\u001b[39m to `~/.julia/environments/v1.6/Project.toml`\n",
      "\u001b[32m\u001b[1m  No Changes\u001b[22m\u001b[39m to `~/.julia/environments/v1.6/Manifest.toml`\n",
      "\u001b[32m\u001b[1m   Resolving\u001b[22m\u001b[39m package versions...\n",
      "\u001b[32m\u001b[1m  No Changes\u001b[22m\u001b[39m to `~/.julia/environments/v1.6/Project.toml`\n",
      "\u001b[32m\u001b[1m  No Changes\u001b[22m\u001b[39m to `~/.julia/environments/v1.6/Manifest.toml`\n",
      "\u001b[32m\u001b[1m   Resolving\u001b[22m\u001b[39m package versions...\n",
      "\u001b[32m\u001b[1m  No Changes\u001b[22m\u001b[39m to `~/.julia/environments/v1.6/Project.toml`\n",
      "\u001b[32m\u001b[1m  No Changes\u001b[22m\u001b[39m to `~/.julia/environments/v1.6/Manifest.toml`\n",
      "\u001b[32m\u001b[1m   Resolving\u001b[22m\u001b[39m package versions...\n",
      "\u001b[32m\u001b[1m  No Changes\u001b[22m\u001b[39m to `~/.julia/environments/v1.6/Project.toml`\n",
      "\u001b[32m\u001b[1m  No Changes\u001b[22m\u001b[39m to `~/.julia/environments/v1.6/Manifest.toml`\n",
      "\u001b[32m\u001b[1m   Resolving\u001b[22m\u001b[39m package versions...\n",
      "\u001b[32m\u001b[1m  No Changes\u001b[22m\u001b[39m to `~/.julia/environments/v1.6/Project.toml`\n",
      "\u001b[32m\u001b[1m  No Changes\u001b[22m\u001b[39m to `~/.julia/environments/v1.6/Manifest.toml`\n",
      "\u001b[32m\u001b[1m   Resolving\u001b[22m\u001b[39m package versions...\n",
      "\u001b[32m\u001b[1m  No Changes\u001b[22m\u001b[39m to `~/.julia/environments/v1.6/Project.toml`\n",
      "\u001b[32m\u001b[1m  No Changes\u001b[22m\u001b[39m to `~/.julia/environments/v1.6/Manifest.toml`\n",
      "\u001b[32m\u001b[1m   Resolving\u001b[22m\u001b[39m package versions...\n",
      "\u001b[32m\u001b[1m  No Changes\u001b[22m\u001b[39m to `~/.julia/environments/v1.6/Project.toml`\n",
      "\u001b[32m\u001b[1m  No Changes\u001b[22m\u001b[39m to `~/.julia/environments/v1.6/Manifest.toml`\n",
      "\u001b[32m\u001b[1m   Resolving\u001b[22m\u001b[39m package versions...\n",
      "\u001b[32m\u001b[1m  No Changes\u001b[22m\u001b[39m to `~/.julia/environments/v1.6/Project.toml`\n",
      "\u001b[32m\u001b[1m  No Changes\u001b[22m\u001b[39m to `~/.julia/environments/v1.6/Manifest.toml`\n",
      "\u001b[32m\u001b[1m   Resolving\u001b[22m\u001b[39m package versions...\n",
      "\u001b[32m\u001b[1m  No Changes\u001b[22m\u001b[39m to `~/.julia/environments/v1.6/Project.toml`\n",
      "\u001b[32m\u001b[1m  No Changes\u001b[22m\u001b[39m to `~/.julia/environments/v1.6/Manifest.toml`\n",
      "\u001b[32m\u001b[1m   Resolving\u001b[22m\u001b[39m package versions...\n",
      "\u001b[32m\u001b[1m  No Changes\u001b[22m\u001b[39m to `~/.julia/environments/v1.6/Project.toml`\n",
      "\u001b[32m\u001b[1m  No Changes\u001b[22m\u001b[39m to `~/.julia/environments/v1.6/Manifest.toml`\n",
      "\u001b[32m\u001b[1m   Resolving\u001b[22m\u001b[39m package versions...\n",
      "\u001b[32m\u001b[1m  No Changes\u001b[22m\u001b[39m to `~/.julia/environments/v1.6/Project.toml`\n",
      "\u001b[32m\u001b[1m  No Changes\u001b[22m\u001b[39m to `~/.julia/environments/v1.6/Manifest.toml`\n",
      "\u001b[32m\u001b[1m   Resolving\u001b[22m\u001b[39m package versions...\n",
      "\u001b[32m\u001b[1m  No Changes\u001b[22m\u001b[39m to `~/.julia/environments/v1.6/Project.toml`\n",
      "\u001b[32m\u001b[1m  No Changes\u001b[22m\u001b[39m to `~/.julia/environments/v1.6/Manifest.toml`\n",
      "\u001b[32m\u001b[1m   Resolving\u001b[22m\u001b[39m package versions...\n",
      "\u001b[32m\u001b[1m  No Changes\u001b[22m\u001b[39m to `~/.julia/environments/v1.6/Project.toml`\n",
      "\u001b[32m\u001b[1m  No Changes\u001b[22m\u001b[39m to `~/.julia/environments/v1.6/Manifest.toml`\n",
      "\u001b[32m\u001b[1m   Resolving\u001b[22m\u001b[39m package versions...\n",
      "\u001b[32m\u001b[1m  No Changes\u001b[22m\u001b[39m to `~/.julia/environments/v1.6/Project.toml`\n",
      "\u001b[32m\u001b[1m  No Changes\u001b[22m\u001b[39m to `~/.julia/environments/v1.6/Manifest.toml`\n",
      "\u001b[32m\u001b[1m   Resolving\u001b[22m\u001b[39m package versions...\n",
      "\u001b[32m\u001b[1m  No Changes\u001b[22m\u001b[39m to `~/.julia/environments/v1.6/Project.toml`\n",
      "\u001b[32m\u001b[1m  No Changes\u001b[22m\u001b[39m to `~/.julia/environments/v1.6/Manifest.toml`\n",
      "\u001b[32m\u001b[1m   Resolving\u001b[22m\u001b[39m package versions...\n",
      "\u001b[32m\u001b[1m  No Changes\u001b[22m\u001b[39m to `~/.julia/environments/v1.6/Project.toml`\n",
      "\u001b[32m\u001b[1m  No Changes\u001b[22m\u001b[39m to `~/.julia/environments/v1.6/Manifest.toml`\n"
     ]
    }
   ],
   "source": [
    "import Pkg; Pkg.add(\"LibPQ\"); Pkg.add(\"Tables\"); Pkg.add(\"Plots\"); Pkg.add(\"HTTP\"); Pkg.add(\"CSV\"); \n",
    "Pkg.add(\"Random\"); Pkg.add(\"StatsBase\"); Pkg.add(\"FreqTables\"); Pkg.add(\"SQLite\"); \n",
    " Pkg.add(\"Dates\"); Pkg.add(\"JuliaDB\"); Pkg.add(\"StatsPlots\"); Pkg.add(\"Statistics\"); Pkg.add(\"StructArrays\"); \n",
    "Pkg.add(\"NPFinancial\"); Pkg.add(\"Distributions\"); Pkg.add(\"DataStructures\")"
   ]
  },
  {
   "cell_type": "code",
   "execution_count": 3,
   "metadata": {},
   "outputs": [
    {
     "data": {
      "text/plain": [
       "1.0986122886681098"
      ]
     },
     "execution_count": 3,
     "metadata": {},
     "output_type": "execute_result"
    }
   ],
   "source": [
    "log(3)"
   ]
  },
  {
   "cell_type": "markdown",
   "metadata": {},
   "source": [
    "Fact:\n",
    "let `rd` be the daily rate (not in percentage, but in absolute terms).\n",
    "then `ry` the yearly rate is given by \n",
    "```\n",
    "ry = (1+rd)^365 - 1\n",
    "```\n",
    "\n",
    "and the inverse relationship is \n",
    "\n",
    "```\n",
    "rd = (1+ry)^-365 - 1\n",
    "```\n",
    "\n",
    "This is a crazy exponential equation. An yearly rate of `10%` is achived by a daily rate of around `0.03%`\n",
    "\n",
    "The following graph plots the relation. x axis is daily rate in percentage. y axis is the corresponding yearly rate in percentage\n",
    "\n",
    "Note also that the maximum negative rate possible is `-100%` at which the initial principal goes to zero.\n",
    "\n",
    "Note also that from f(0.0%) = 0% to f(0.2%) = 100%, the graph is almost linear, which means that in this region, f(x) ~ x*365"
   ]
  },
  {
   "cell_type": "code",
   "execution_count": 3,
   "metadata": {},
   "outputs": [
    {
     "ename": "LoadError",
     "evalue": "UndefVarError: doplot not defined",
     "output_type": "error",
     "traceback": [
      "UndefVarError: doplot not defined",
      "",
      "Stacktrace:",
      " [1] top-level scope",
      "   @ In[3]:14",
      " [2] eval",
      "   @ ./boot.jl:360 [inlined]",
      " [3] include_string(mapexpr::typeof(REPL.softscope), mod::Module, code::String, filename::String)",
      "   @ Base ./loading.jl:1094"
     ]
    }
   ],
   "source": [
    "#An example of BigFloat, just in case we need it\n",
    "# setprecision(BigFloat, 2048) do\n",
    "#     rd = BigFloat(\"0.0003\")\n",
    "# #     rd = 0.0003\n",
    "#     ry = (1+rd)^365 - 1\n",
    "#     println(\"ry is  \", ry)\n",
    "#     rd2 = (1+ry)^(1/365) - 1\n",
    "#     println(\"rd2 is    \", rd2)\n",
    "#     @show rd.prec\n",
    "# end\n",
    "rd = -0.01:0.00001:0.01\n",
    "ry = map(i -> (1+i)^365-1, rd)\n",
    "1\n",
    "display(doplot(rd.*100, ry.*100))\n"
   ]
  },
  {
   "cell_type": "code",
   "execution_count": 2,
   "metadata": {},
   "outputs": [
    {
     "data": {
      "text/plain": [
       "SQLite.DB(\":memory:\")"
      ]
     },
     "execution_count": 2,
     "metadata": {},
     "output_type": "execute_result"
    }
   ],
   "source": [
    "function p2(p1::Number, r::Number, t::Number)\n",
    "    return Float64(p1)*((1+Float64(r))^Float64(t))\n",
    "end\n",
    "\n",
    "function t(p1::Number, p2::Number, r::Number)\n",
    "    return log(Float64(p2)/Float64(p1)) / log(1+Float64(r))\n",
    "end\n",
    "\n",
    "function p1(p2::Number, r::Number, t::Number)\n",
    "    return Float64(p2)/((1+Float64(r))^Float64(t))\n",
    "end\n",
    "\n",
    "function r(p1::Number, p2::Number, t::Number)\n",
    "    power = log(Float64(p2)/Float64(p1))/Float64(t)\n",
    "    return exp(power) - 1\n",
    "end\n",
    "\n",
    "function emi(p1::Number, r::Number, t::Number)\n",
    "    x::Float64 = (1.0 + Float64(r))^Float64(t)\n",
    "    return Float64(p1) * Float64(r) * x / (x - 1)\n",
    "end\n",
    "function splt(s, delim=r\"\\s+\")\n",
    "    ar = split(s, delim)\n",
    "    ar = strip.(ar)\n",
    "    ar = filter(s -> s != Missing && length(s)>0, ar)\n",
    "    return ar\n",
    "end\n",
    "conn = LibPQ.Connection(\"dbname=sharath\")\n",
    "sqlite = SQLite.DB()"
   ]
  },
  {
   "cell_type": "code",
   "execution_count": 3,
   "metadata": {},
   "outputs": [],
   "source": [
    "struct Point\n",
    "    dates::Array{DateTime}\n",
    "    prices::Array{Float64}\n",
    "end\n"
   ]
  },
  {
   "cell_type": "code",
   "execution_count": 4,
   "metadata": {},
   "outputs": [
    {
     "data": {
      "text/plain": [
       "fmt (generic function with 2 methods)"
      ]
     },
     "execution_count": 4,
     "metadata": {},
     "output_type": "execute_result"
    }
   ],
   "source": [
    "function getSeries(symbol::String)\n",
    "    sql = \"\"\"select date, adjclose from nse_raw nr where symbol = '\"\"\"*symbol*\"\"\"' and adjclose is not null order by 1 \"\"\"\n",
    "    result = execute(conn, sql)\n",
    "    println(show_supertypes(typeof(result)))\n",
    "    return result |> table\n",
    "end\n",
    "#v2 a linear time algorithm for calculating sip returns. returns an array of returns.\n",
    "# each element corresponds to a period of sipDurationDays\n",
    "function sipv2(sipFrequencyDays::Int, sipDurationDays::Int, series)\n",
    "    series2 = Array{Float64}(undef, 0)\n",
    "    stocksNow = 0.0\n",
    "    for i in 1:sipFrequencyDays:length(series)\n",
    "        append!(series2, series[i])\n",
    "    end\n",
    "    n = size(series2)[1]\n",
    "    rates = Vector{Float64}(undef, 0)\n",
    "    stocks::Float64 = 0.0\n",
    "    sipDurationDays = min(n, convert(Int64, floor(sipDurationDays/sipFrequencyDays)))\n",
    "\n",
    "    \n",
    "    for i in 1:sipDurationDays\n",
    "        stocks+=1/series2[i]\n",
    "    end\n",
    "    append!(rates, r(sipDurationDays, series[sipDurationDays]*stocks, sipDurationDays/365.0))\n",
    "\n",
    "    for i in 2:n-sipDurationDays+1\n",
    "        stocks -= 1/series[i-1]\n",
    "        stocks += 1/series[i+sipDurationDays-1]\n",
    "        rate = r(sipDurationDays, series[i+sipDurationDays-1]*stocks, sipDurationDays/365.0)\n",
    "        append!(rates, r(sipDurationDays, series[i+sipDurationDays-1]*stocks, sipDurationDays/365.0))\n",
    "    end\n",
    "    return rates\n",
    "end\n",
    "# println(typeof(returns[1, :]))\n",
    "function gogo(symbol)\n",
    "    years = 1:7\n",
    "    returns = Array{Float64}(undef, 101, length(years))\n",
    "\n",
    "    for year in years\n",
    "        returns[:, year] = nquantile(sipv2(1, (year)*365, d[symbol].prices), 100).*100\n",
    "    end\n",
    "    return plot(collect(1:101), returns, label = permutedims([\"year\"*string(x) for x in years])) \n",
    "end\n",
    "function constructDict()\n",
    "    data = columntable(execute(conn, \"\"\" select symbol, date, adjclose from nse_raw where date is not null and adjclose is not null order by 1, 2\"\"\"))\n",
    "    symbols = copy(data[1])\n",
    "    dates = copy(data[2])\n",
    "    adjclose = copy(data[3])\n",
    "    d = Dict{String, Point}()\n",
    "    for i in 1:length(symbols)\n",
    "        symbol = symbols[i]\n",
    "        date = dates[i]\n",
    "        price = adjclose[i]\n",
    "        if price < 1\n",
    "            continue\n",
    "        end\n",
    "        if !haskey(d, symbol)\n",
    "            d[symbol] = Point(Array{DateTime}(undef, 0), Array{Float64}(undef, 0))\n",
    "        end\n",
    "        point = d[symbol]\n",
    "        push!(point.dates, dates[i])\n",
    "        push!(point.prices, max(0, adjclose[i]))\n",
    "    end\n",
    "    return d\n",
    "end\n",
    "#returns the probablity of a \"good\" return\n",
    "# the random experiment is: select an arbitrary start date and do sip for sipDuration\n",
    "# \"good\" is defined as yes if the experiment gave an interest more than targetRate\n",
    "function prob(d::Dict{String, Point}, company::String, sipFrequencyDays::Int, sipDurationDays::Int, targetRate::Float64=0.1)\n",
    "    series = d[company].prices\n",
    "    returns = sipv2(sipFrequencyDays::Int, sipDurationDays::Int, series)\n",
    "    sorted = sort(returns)\n",
    "    bottom = length(returns)\n",
    "    top = min(bottom, first(searchsorted(sorted, targetRate)))\n",
    "    return (bottom-top)/bottom\n",
    "end\n",
    "\n",
    "function doplot(d::Dict{String, Point})\n",
    "    k = collect(keys(d))\n",
    "    tuples = [(i, prob(d, i, 1, 3*365, 0.1)) for i in k]\n",
    "    filter(x->x[2]>0.7,sort!( tuples, by=last))\n",
    "    \n",
    "    return plot(getindex.(tuples,1), getindex.(tuples, 2))\n",
    "end\n",
    "function doplot(x, y)\n",
    "    plot(x, y; hover=fmt.(x).*\"   \".*fmt.(y), size=(1700, 400,))\n",
    "end\n",
    "\n",
    "function stock(symbol::String)\n",
    "    display(plot(d[symbol].dates, d[symbol].prices, title=\"stock prices\"; hover=fmt.(d[symbol].dates).*\"   \".*string.(d[symbol].prices), size=(1700, 400,)))\n",
    "#     display(gogo(symbol))\n",
    "end\n",
    "\n",
    "function fti(x::Number)\n",
    "    return convert(Int64, round(Float64(x)))\n",
    "end\n",
    "function fmt(d::DateTime)\n",
    "    Dates.format(d, \"yyyy-mm-dd\")\n",
    "end\n",
    "function fmt(d::Any)\n",
    "    string(d)\n",
    "end"
   ]
  },
  {
   "cell_type": "code",
   "execution_count": 5,
   "metadata": {},
   "outputs": [
    {
     "data": {
      "text/plain": [
       "Dict{String, Point} with 1660 entries:\n",
       "  \"20MICRONS\"  => Point([DateTime(\"2008-10-06T00:00:00\"), DateTime(\"2008-10-07T…\n",
       "  \"JUBLFOOD\"   => Point([DateTime(\"2010-02-08T00:00:00\"), DateTime(\"2010-02-09T…\n",
       "  \"BAJFINANCE\" => Point([DateTime(\"2004-07-15T00:00:00\"), DateTime(\"2004-07-16T…\n",
       "  \"FLUOROCHEM\" => Point([DateTime(\"2019-10-16T00:00:00\"), DateTime(\"2019-10-17T…\n",
       "  \"RAJSREESUG\" => Point([DateTime(\"2002-07-01T00:00:00\"), DateTime(\"2002-07-02T…\n",
       "  \"SUNDRMBRAK\" => Point([DateTime(\"2002-08-12T00:00:00\"), DateTime(\"2002-08-13T…\n",
       "  \"WHIRLPOOL\"  => Point([DateTime(\"2002-08-12T00:00:00\"), DateTime(\"2002-08-13T…\n",
       "  \"CAREERP\"    => Point([DateTime(\"2010-10-06T00:00:00\"), DateTime(\"2010-10-07T…\n",
       "  \"SUNPHARMA\"  => Point([DateTime(\"1999-12-01T00:00:00\"), DateTime(\"1999-12-02T…\n",
       "  \"TAKE\"       => Point([DateTime(\"2007-08-27T00:00:00\"), DateTime(\"2007-08-28T…\n",
       "  \"VBL\"        => Point([DateTime(\"2016-11-08T00:00:00\"), DateTime(\"2016-11-09T…\n",
       "  \"NOIDATOLL\"  => Point([DateTime(\"2020-11-20T00:00:00\")], [6.35])\n",
       "  \"POLYCAB\"    => Point([DateTime(\"2019-04-16T00:00:00\"), DateTime(\"2019-04-18T…\n",
       "  \"JKCEMENT\"   => Point([DateTime(\"2006-03-14T00:00:00\"), DateTime(\"2006-03-16T…\n",
       "  \"CANDC\"      => Point([DateTime(\"2007-02-26T00:00:00\"), DateTime(\"2007-02-27T…\n",
       "  \"KAUSHALYA\"  => Point([DateTime(\"2007-12-14T00:00:00\"), DateTime(\"2007-12-17T…\n",
       "  \"DSSL\"       => Point([DateTime(\"2008-01-01T00:00:00\"), DateTime(\"2008-01-02T…\n",
       "  \"AUTOLITIND\" => Point([DateTime(\"2008-11-10T00:00:00\"), DateTime(\"2008-11-11T…\n",
       "  \"GREENPANEL\" => Point([DateTime(\"2019-10-23T00:00:00\"), DateTime(\"2019-10-24T…\n",
       "  \"IRCON\"      => Point([DateTime(\"2018-09-28T00:00:00\"), DateTime(\"2018-10-01T…\n",
       "  \"^CNXCMDT\"   => Point([DateTime(\"2020-11-20T00:00:00\")], [3533.75])\n",
       "  \"HOVS\"       => Point([DateTime(\"2006-09-27T00:00:00\"), DateTime(\"2006-09-28T…\n",
       "  \"BHARATRAS\"  => Point([DateTime(\"2002-07-01T00:00:00\"), DateTime(\"2002-07-02T…\n",
       "  \"EVERESTIND\" => Point([DateTime(\"2002-07-01T00:00:00\"), DateTime(\"2002-07-02T…\n",
       "  \"STEELCITY\"  => Point([DateTime(\"2017-03-16T00:00:00\"), DateTime(\"2017-03-17T…\n",
       "  ⋮            => ⋮"
      ]
     },
     "execution_count": 5,
     "metadata": {},
     "output_type": "execute_result"
    }
   ],
   "source": [
    "d = constructDict()"
   ]
  },
  {
   "cell_type": "code",
   "execution_count": null,
   "metadata": {},
   "outputs": [],
   "source": [
    "# returns the probability that the sip makes a return of targetRate considering every possible period whose duration is sipDurationDays\n",
    "doplot(d)\n",
    "# (filter(x->x[2]<0 , collect(zip(1:length(d[\"INFY\"]), [p.price for p in d[\"INFY\"]]))))\n",
    "# zip(1:length(d[\"INFY\"]), [p.price for p in d[\"INFY\"]])\n",
    "# filter(p -> p[1]<0, )\n",
    "# prob(d, \"UJJIVANSFB\", 1, 100, 0.1)\n",
    "# [p.price for p in (d[\"INFY\"][:4])]\n",
    "# println(([p.price for p in d[\"INFY\"][2000:2010]]))"
   ]
  },
  {
   "cell_type": "code",
   "execution_count": null,
   "metadata": {},
   "outputs": [],
   "source": []
  },
  {
   "cell_type": "code",
   "execution_count": 8,
   "metadata": {},
   "outputs": [
    {
     "ename": "LoadError",
     "evalue": "UndefVarError: companyToLabel not defined",
     "output_type": "error",
     "traceback": [
      "UndefVarError: companyToLabel not defined",
      "",
      "Stacktrace:",
      " [1] companyComparison(p::Float64)",
      "   @ Main ./In[8]:6",
      " [2] top-level scope",
      "   @ In[8]:24",
      " [3] eval",
      "   @ ./boot.jl:360 [inlined]",
      " [4] include_string(mapexpr::typeof(REPL.softscope), mod::Module, code::String, filename::String)",
      "   @ Base ./loading.jl:1094"
     ]
    }
   ],
   "source": [
    "function companyComparison(p::Float64)\n",
    "    nn = (symbol=Vector{String}(undef, 0), prob=Vector{Float64}(undef, 0), label=Vector{String}(undef, 0))\n",
    "    for key in keys(d)\n",
    "        sss = key\n",
    "        pp = prob(d, key, 1, 3*365, p)\n",
    "        label = get(companyToLabel, key, \"\")\n",
    "        push!(nn[:symbol], sss)\n",
    "        push!(nn[:prob], pp)\n",
    "        push!(nn[:label], label)\n",
    "    end\n",
    "    execute(conn, \"BEGIN;\")\n",
    "    execute(conn, \"drop table if exists work.company_comparison; \")\n",
    "    execute(conn, \"\"\"\n",
    "    create table work.company_comparison (symbol text, prob float, label text)\n",
    "    \"\"\")\n",
    "    LibPQ.load!(\n",
    "        nn,\n",
    "        conn,\n",
    "        \"INSERT INTO work.company_comparison (symbol, prob, label) VALUES (\\$1, \\$2, \\$3);\",\n",
    "    )\n",
    "\n",
    "    execute(conn, \"COMMIT;\")\n",
    "end\n",
    "companyComparison(0.15)"
   ]
  },
  {
   "cell_type": "code",
   "execution_count": 6,
   "metadata": {},
   "outputs": [
    {
     "data": {
      "text/plain": [
       "0.40864984751871364"
      ]
     },
     "execution_count": 6,
     "metadata": {},
     "output_type": "execute_result"
    }
   ],
   "source": [
    "prob(d, \"TVSMOTOR\",1, 3*365, 0.3 )"
   ]
  },
  {
   "cell_type": "code",
   "execution_count": 12,
   "metadata": {},
   "outputs": [
    {
     "ename": "LoadError",
     "evalue": "UndefVarError: nn not defined",
     "output_type": "error",
     "traceback": [
      "UndefVarError: nn not defined",
      "",
      "Stacktrace:",
      " [1] top-level scope",
      "   @ In[12]:1",
      " [2] eval",
      "   @ ./boot.jl:360 [inlined]",
      " [3] include_string(mapexpr::typeof(REPL.softscope), mod::Module, code::String, filename::String)",
      "   @ Base ./loading.jl:1094"
     ]
    }
   ],
   "source": [
    "dt = table(nn)"
   ]
  },
  {
   "cell_type": "code",
   "execution_count": null,
   "metadata": {},
   "outputs": [],
   "source": []
  },
  {
   "cell_type": "code",
   "execution_count": 13,
   "metadata": {},
   "outputs": [
    {
     "ename": "LoadError",
     "evalue": "UndefVarError: data not defined",
     "output_type": "error",
     "traceback": [
      "UndefVarError: data not defined",
      "",
      "Stacktrace:",
      " [1] top-level scope",
      "   @ In[13]:1",
      " [2] eval",
      "   @ ./boot.jl:360 [inlined]",
      " [3] include_string(mapexpr::typeof(REPL.softscope), mod::Module, code::String, filename::String)",
      "   @ Base ./loading.jl:1094"
     ]
    }
   ],
   "source": [
    "show_supertypes(typeof(data.NDP_Date))"
   ]
  },
  {
   "cell_type": "code",
   "execution_count": 14,
   "metadata": {},
   "outputs": [
    {
     "ename": "LoadError",
     "evalue": "UndefVarError: infyd not defined",
     "output_type": "error",
     "traceback": [
      "UndefVarError: infyd not defined",
      "",
      "Stacktrace:",
      " [1] (::var\"#11#12\")(x::DateTime)",
      "   @ Main ./In[14]:2",
      " [2] iterate",
      "   @ ./generator.jl:47 [inlined]",
      " [3] _collect(c::Vector{DateTime}, itr::Base.Generator{Vector{DateTime}, var\"#11#12\"}, #unused#::Base.EltypeUnknown, isz::Base.HasShape{1})",
      "   @ Base ./array.jl:691",
      " [4] collect_similar",
      "   @ ./array.jl:606 [inlined]",
      " [5] map",
      "   @ ./abstractarray.jl:2294 [inlined]",
      " [6] consecutiveReturns(infp::Vector{Float64}, infd::Vector{DateTime})",
      "   @ Main ./In[14]:2",
      " [7] top-level scope",
      "   @ In[14]:14",
      " [8] eval",
      "   @ ./boot.jl:360 [inlined]",
      " [9] include_string(mapexpr::typeof(REPL.softscope), mod::Module, code::String, filename::String)",
      "   @ Base ./loading.jl:1094"
     ]
    }
   ],
   "source": [
    "function consecutiveReturns(infp::Array{Float64}, infd::Array{DateTime})\n",
    "    infi = map(x->convert(Int64, trunc((x-infyd[1]).value/86400000)), infd)\n",
    "    if length(infi) != length(infp)\n",
    "        println(\"fucked   length fo infi is $(length(infi)) and lenth fo infp is $(length(infp)) infd is $(length(infd))\")\n",
    "    end\n",
    "    ans = Array{Float64}(undef, length(infi)-1)\n",
    "    for i in 2:length(infp)\n",
    "        diff = (infi[i]-infi[i-1])\n",
    "        ans[i-1] = r(infp[i-1], infp[i], (infi[i]-infi[i-1]))*100\n",
    "    end\n",
    "#     println(collect(zip(infp, infi, [0; ans])))    \n",
    "    return ans\n",
    "end\n",
    "an = consecutiveReturns(d[\"BOSCHLTD\"].prices, d[\"BOSCHLTD\"].dates)\n",
    "# println(\"\"\"prices is $(length(d[\"BOSCHLTD\"].prices)), dates is $(length(d[\"BOSCHLTD\"].dates))\"\"\")\n",
    "# histogram(an)\n"
   ]
  },
  {
   "cell_type": "code",
   "execution_count": 10,
   "metadata": {},
   "outputs": [
    {
     "ename": "LoadError",
     "evalue": "UndefVarError: infyd not defined",
     "output_type": "error",
     "traceback": [
      "UndefVarError: infyd not defined",
      "",
      "Stacktrace:",
      " [1] (::var\"#9#10\")(x::DateTime)",
      "   @ Main ./In[10]:2",
      " [2] iterate",
      "   @ ./generator.jl:47 [inlined]",
      " [3] _collect(c::Vector{DateTime}, itr::Base.Generator{Vector{DateTime}, var\"#9#10\"}, #unused#::Base.EltypeUnknown, isz::Base.HasShape{1})",
      "   @ Base ./array.jl:691",
      " [4] collect_similar(cont::Vector{DateTime}, itr::Base.Generator{Vector{DateTime}, var\"#9#10\"})",
      "   @ Base ./array.jl:606",
      " [5] map(f::Function, A::Vector{DateTime})",
      "   @ Base ./abstractarray.jl:2294",
      " [6] top-level scope",
      "   @ In[10]:2",
      " [7] eval",
      "   @ ./boot.jl:360 [inlined]",
      " [8] include_string(mapexpr::typeof(REPL.softscope), mod::Module, code::String, filename::String)",
      "   @ Base ./loading.jl:1094"
     ]
    }
   ],
   "source": [
    "x = d[\"BOSCHLTD\"].dates\n",
    "y = map(x->convert(Int64, trunc((x-infyd[1]).value/86400000)), x)\n",
    "println(\"fucked   length fo infi is $(length(x)) and lenth fo infp is $(length(y))\")"
   ]
  },
  {
   "cell_type": "code",
   "execution_count": 16,
   "metadata": {},
   "outputs": [
    {
     "ename": "LoadError",
     "evalue": "UndefVarError: an not defined",
     "output_type": "error",
     "traceback": [
      "UndefVarError: an not defined",
      "",
      "Stacktrace:",
      " [1] top-level scope",
      "   @ In[16]:1",
      " [2] eval",
      "   @ ./boot.jl:360 [inlined]",
      " [3] include_string(mapexpr::typeof(REPL.softscope), mod::Module, code::String, filename::String)",
      "   @ Base ./loading.jl:1094"
     ]
    }
   ],
   "source": [
    "df = table((x=an,))\n",
    "summarize((mean, std), df)\n"
   ]
  },
  {
   "cell_type": "code",
   "execution_count": 17,
   "metadata": {},
   "outputs": [
    {
     "data": {
      "text/plain": [
       "Table with 501 rows, 1 columns:\n",
       "symbol\n",
       "────────────\n",
       "\"3MINDIA\"\n",
       "\"ABB\"\n",
       "\"POWERINDIA\"\n",
       "\"ACC\"\n",
       "\"AIAENG\"\n",
       "\"APLAPOLLO\"\n",
       "\"AUBANK\"\n",
       "\"AARTIDRUGS\"\n",
       "\"AARTIIND\"\n",
       "\"AAVAS\"\n",
       "\"ABBOTINDIA\"\n",
       "\"ADANIENT\"\n",
       "⋮\n",
       "\"WELCORP\"\n",
       "\"WELSPUNIND\"\n",
       "\"WESTLIFE\"\n",
       "\"WHIRLPOOL\"\n",
       "\"WIPRO\"\n",
       "\"WOCKPHARMA\"\n",
       "\"YESBANK\"\n",
       "\"ZEEL\"\n",
       "\"ZENSARTECH\"\n",
       "\"ZYDUSWELL\"\n",
       "\"ECLERX\""
      ]
     },
     "execution_count": 17,
     "metadata": {},
     "output_type": "execute_result"
    }
   ],
   "source": [
    "function foo()\n",
    "    sql = \"\"\" select symbol from indices i where name = 'nifty-500' \"\"\"\n",
    "    result = execute(conn, sql)\n",
    "    return result |> table\n",
    "end\n",
    "df = foo()\n"
   ]
  },
  {
   "cell_type": "code",
   "execution_count": 18,
   "metadata": {},
   "outputs": [
    {
     "ename": "LoadError",
     "evalue": "UndefVarError: infyd not defined",
     "output_type": "error",
     "traceback": [
      "UndefVarError: infyd not defined",
      "",
      "Stacktrace:",
      "  [1] (::var\"#11#12\")(x::DateTime)",
      "    @ Main ./In[14]:2",
      "  [2] iterate",
      "    @ ./generator.jl:47 [inlined]",
      "  [3] _collect(c::Vector{DateTime}, itr::Base.Generator{Vector{DateTime}, var\"#11#12\"}, #unused#::Base.EltypeUnknown, isz::Base.HasShape{1})",
      "    @ Base ./array.jl:691",
      "  [4] collect_similar",
      "    @ ./array.jl:606 [inlined]",
      "  [5] map",
      "    @ ./abstractarray.jl:2294 [inlined]",
      "  [6] consecutiveReturns(infp::Vector{Float64}, infd::Vector{DateTime})",
      "    @ Main ./In[14]:2",
      "  [7] foo()",
      "    @ Main ./In[18]:11",
      "  [8] top-level scope",
      "    @ In[18]:20",
      "  [9] eval",
      "    @ ./boot.jl:360 [inlined]",
      " [10] include_string(mapexpr::typeof(REPL.softscope), mod::Module, code::String, filename::String)",
      "    @ Base ./loading.jl:1094"
     ]
    }
   ],
   "source": [
    "function foo()\n",
    "    p = Array{Float64}(undef, 0)\n",
    "    s = Array{String}(undef, 0)\n",
    "#     println(df[3])\n",
    "    for fff in df\n",
    "        symbol = fff[1]\n",
    "#         x = Array{Float64}(undef, length(df[1]))\n",
    "#         y = Array{String}(undef, length(df[1]))\n",
    "#             println(symbol)\n",
    "        if haskey(d, symbol)\n",
    "            push!(p, mean(consecutiveReturns(d[symbol].prices, d[symbol].dates)))\n",
    "            push!(s, symbol)\n",
    "\n",
    "        end\n",
    "    end\n",
    "#     println(y)\n",
    "    histogram( p,  size=(1700, 400,))\n",
    "\n",
    "end\n",
    "foo()\n"
   ]
  },
  {
   "cell_type": "code",
   "execution_count": 12,
   "metadata": {},
   "outputs": [
    {
     "data": {
      "text/plain": [
       "Point([DateTime(\"2007-09-17T00:00:00\"), DateTime(\"2007-09-18T00:00:00\"), DateTime(\"2007-09-19T00:00:00\"), DateTime(\"2007-09-20T00:00:00\"), DateTime(\"2007-09-21T00:00:00\"), DateTime(\"2007-09-24T00:00:00\"), DateTime(\"2007-09-25T00:00:00\"), DateTime(\"2007-09-26T00:00:00\"), DateTime(\"2007-09-27T00:00:00\"), DateTime(\"2007-09-28T00:00:00\")  …  DateTime(\"2021-10-01T00:00:00\"), DateTime(\"2021-10-04T00:00:00\"), DateTime(\"2021-10-05T00:00:00\"), DateTime(\"2021-10-06T00:00:00\"), DateTime(\"2021-10-07T00:00:00\"), DateTime(\"2021-10-08T00:00:00\"), DateTime(\"2021-10-11T00:00:00\"), DateTime(\"2021-10-12T00:00:00\"), DateTime(\"2021-10-13T00:00:00\"), DateTime(\"2021-10-14T00:00:00\")], [4494.649902, 4546.200195, 4732.350098, 4747.549805, 4837.549805, 4932.200195, 4938.850098, 4940.5, 5000.549805, 5021.350098  …  17532.050781, 17691.25, 17822.300781, 17646.0, 17790.349609, 17895.199219, 17945.949219, 17991.949219, 18161.75, 18338.550781])"
      ]
     },
     "execution_count": 12,
     "metadata": {},
     "output_type": "execute_result"
    }
   ],
   "source": [
    "d[\"^NSEI\"]"
   ]
  },
  {
   "cell_type": "code",
   "execution_count": 20,
   "metadata": {},
   "outputs": [
    {
     "ename": "LoadError",
     "evalue": "ArgumentError: provide a valid sink argument, like `using DataFrames; CSV.read(source, DataFrame)`",
     "output_type": "error",
     "traceback": [
      "ArgumentError: provide a valid sink argument, like `using DataFrames; CSV.read(source, DataFrame)`",
      "",
      "Stacktrace:",
      " [1] read(source::Vector{UInt8}, sink::Nothing; copycols::Bool, kwargs::Base.Iterators.Pairs{Union{}, Union{}, Tuple{}, NamedTuple{(), Tuple{}}})",
      "   @ CSV ~/.julia/packages/CSV/CJfFO/src/CSV.jl:43",
      " [2] read(source::Vector{UInt8}, sink::Nothing) (repeats 2 times)",
      "   @ CSV ~/.julia/packages/CSV/CJfFO/src/CSV.jl:42",
      " [3] (::var\"#get_ohlc#16\"{var\"#get_ohlc#15#17\"})(ticker::String; kwargs::Base.Iterators.Pairs{Symbol, String, Tuple{Symbol}, NamedTuple{(:name,), Tuple{String}}})",
      "   @ Main ./In[20]:4",
      " [4] ohlc2()",
      "   @ Main ./In[20]:8",
      " [5] top-level scope",
      "   @ In[20]:13",
      " [6] eval",
      "   @ ./boot.jl:360 [inlined]",
      " [7] include_string(mapexpr::typeof(REPL.softscope), mod::Module, code::String, filename::String)",
      "   @ Base ./loading.jl:1094"
     ]
    }
   ],
   "source": [
    "function ohlc2()\n",
    "    function get_ohlc(ticker; kwargs...)\n",
    "        res = HTTP.get(\"https://www.quandl.com/api/v3/datasets/WIKI/$(ticker)/data.csv?start_date=2017-01-01\")\n",
    "        df = CSV.read(res.body)\n",
    "        ohlc(df, x=:Date, open=:Open, high=:High, low=:Low, close=:Close; kwargs...)\n",
    "    end\n",
    "\n",
    "    p1 = plot(get_ohlc(\"AAPL\", name=\"Apple\"), Layout(title=\"Apple\"))\n",
    "    p2 = plot(get_ohlc(\"GOOG\", name=\"Google\"), Layout(title=\"Google\"))\n",
    "\n",
    "    [p1 p2]\n",
    "end\n",
    "ohlc2()"
   ]
  },
  {
   "cell_type": "code",
   "execution_count": 21,
   "metadata": {},
   "outputs": [
    {
     "name": "stdout",
     "output_type": "stream",
     "text": [
      "75600000\n",
      "79800000\n"
     ]
    }
   ],
   "source": [
    "death = 100\n",
    "age = 37\n",
    "months = (death - age)*12\n",
    "inflationPerMonth = 6/(100*12)\n",
    "monthlyCost = 100000\n",
    "living = monthlyCost * months\n",
    "println(living)\n",
    "marriage = 1000000\n",
    "# education is 100000 per year (present value) starting from 5th year to 5+16 years\n",
    "\n",
    "education = 16*100000\n",
    "total = living + marriage + 2*education\n",
    "println(total)"
   ]
  },
  {
   "cell_type": "code",
   "execution_count": 22,
   "metadata": {},
   "outputs": [
    {
     "ename": "LoadError",
     "evalue": "ArgumentError: provide a valid sink argument, like `using DataFrames; CSV.read(source, DataFrame)`",
     "output_type": "error",
     "traceback": [
      "ArgumentError: provide a valid sink argument, like `using DataFrames; CSV.read(source, DataFrame)`",
      "",
      "Stacktrace:",
      " [1] read(source::String, sink::Nothing; copycols::Bool, kwargs::Base.Iterators.Pairs{Union{}, Union{}, Tuple{}, NamedTuple{(), Tuple{}}})",
      "   @ CSV ~/.julia/packages/CSV/CJfFO/src/CSV.jl:43",
      " [2] read(source::String, sink::Nothing) (repeats 2 times)",
      "   @ CSV ~/.julia/packages/CSV/CJfFO/src/CSV.jl:42",
      " [3] top-level scope",
      "   @ In[22]:1",
      " [4] eval",
      "   @ ./boot.jl:360 [inlined]",
      " [5] include_string(mapexpr::typeof(REPL.softscope), mod::Module, code::String, filename::String)",
      "   @ Base ./loading.jl:1094"
     ]
    }
   ],
   "source": [
    "df = CSV.read(\"/home/sharath/Downloads/AdultDataSet.csv\")"
   ]
  },
  {
   "cell_type": "code",
   "execution_count": 23,
   "metadata": {},
   "outputs": [
    {
     "ename": "LoadError",
     "evalue": "UndefVarError: nrow not defined",
     "output_type": "error",
     "traceback": [
      "UndefVarError: nrow not defined",
      "",
      "Stacktrace:",
      " [1] top-level scope",
      "   @ In[23]:1",
      " [2] eval",
      "   @ ./boot.jl:360 [inlined]",
      " [3] include_string(mapexpr::typeof(REPL.softscope), mod::Module, code::String, filename::String)",
      "   @ Base ./loading.jl:1094"
     ]
    }
   ],
   "source": [
    "df2 = df[shuffle(1:nrow(df))[1:Int(floor((nrow(df)/5)))], :]"
   ]
  },
  {
   "cell_type": "code",
   "execution_count": 24,
   "metadata": {},
   "outputs": [
    {
     "ename": "LoadError",
     "evalue": "UndefVarError: Layout not defined",
     "output_type": "error",
     "traceback": [
      "UndefVarError: Layout not defined",
      "",
      "Stacktrace:",
      " [1] top-level scope",
      "   @ In[24]:1",
      " [2] eval",
      "   @ ./boot.jl:360 [inlined]",
      " [3] include_string(mapexpr::typeof(REPL.softscope), mod::Module, code::String, filename::String)",
      "   @ Base ./loading.jl:1094"
     ]
    }
   ],
   "source": [
    "plot([histogram(x=randn(10000), opacity=0.75)], Layout(barmode=\"overlay\"))\n",
    "\n"
   ]
  },
  {
   "cell_type": "code",
   "execution_count": 25,
   "metadata": {},
   "outputs": [
    {
     "ename": "LoadError",
     "evalue": "MethodError: no method matching getindex(::NamedTuple{(:symbol,), Tuple{Union{Missing, String}}}, ::String)\n\u001b[0mClosest candidates are:\n\u001b[0m  getindex(::NamedTuple, \u001b[91m::Int64\u001b[39m) at namedtuple.jl:117\n\u001b[0m  getindex(::NamedTuple, \u001b[91m::Symbol\u001b[39m) at namedtuple.jl:118",
     "output_type": "error",
     "traceback": [
      "MethodError: no method matching getindex(::NamedTuple{(:symbol,), Tuple{Union{Missing, String}}}, ::String)\n\u001b[0mClosest candidates are:\n\u001b[0m  getindex(::NamedTuple, \u001b[91m::Int64\u001b[39m) at namedtuple.jl:117\n\u001b[0m  getindex(::NamedTuple, \u001b[91m::Symbol\u001b[39m) at namedtuple.jl:118",
      "",
      "Stacktrace:",
      "  [1] (::var\"#18#19\")(row::NamedTuple{(:symbol,), Tuple{Union{Missing, String}}})",
      "    @ Main ./In[25]:1",
      "  [2] (::Base.var\"#97#98\"{var\"#18#19\"})(p::Pair{Int64, NamedTuple{(:symbol,), Tuple{Union{Missing, String}}}})",
      "    @ Base ./none:0",
      "  [3] iterate",
      "    @ ./iterators.jl:451 [inlined]",
      "  [4] iterate",
      "    @ ./generator.jl:44 [inlined]",
      "  [5] grow_to!",
      "    @ ./array.jl:739 [inlined]",
      "  [6] collect",
      "    @ ./array.jl:676 [inlined]",
      "  [7] findall(testf::var\"#18#19\", A::StructVector{NamedTuple{(:symbol,), Tuple{Union{Missing, String}}}, NamedTuple{(:symbol,), Tuple{LibPQ.Column{Union{Missing, String}}}}, Int64})",
      "    @ Base ./array.jl:2153",
      "  [8] filter(fn::Function, t::IndexedTable{StructVector{NamedTuple{(:symbol,), Tuple{Union{Missing, String}}}, NamedTuple{(:symbol,), Tuple{LibPQ.Column{Union{Missing, String}}}}, Int64}}; select::Tuple{Symbol})",
      "    @ IndexedTables ~/.julia/packages/IndexedTables/tRvfu/src/selection.jl:243",
      "  [9] filter(fn::Function, t::IndexedTable{StructVector{NamedTuple{(:symbol,), Tuple{Union{Missing, String}}}, NamedTuple{(:symbol,), Tuple{LibPQ.Column{Union{Missing, String}}}}, Int64}})",
      "    @ IndexedTables ~/.julia/packages/IndexedTables/tRvfu/src/selection.jl:242",
      " [10] top-level scope",
      "    @ In[25]:1",
      " [11] eval",
      "    @ ./boot.jl:360 [inlined]",
      " [12] include_string(mapexpr::typeof(REPL.softscope), mod::Module, code::String, filename::String)",
      "    @ Base ./loading.jl:1094"
     ]
    }
   ],
   "source": [
    "filter(row->row[\"education\"]==\" HS-grad\" && row[\"marital-status\"]==\" Never-married\", df)"
   ]
  },
  {
   "cell_type": "code",
   "execution_count": 26,
   "metadata": {},
   "outputs": [
    {
     "ename": "LoadError",
     "evalue": "MethodError: no method matching getindex(::IndexedTable{StructVector{NamedTuple{(:symbol,), Tuple{Union{Missing, String}}}, NamedTuple{(:symbol,), Tuple{LibPQ.Column{Union{Missing, String}}}}, Int64}}, ::String)\n\u001b[0mClosest candidates are:\n\u001b[0m  getindex(::IndexedTable, \u001b[91m::AbstractVector{var\"#s31\"} where var\"#s31\"<:Integer\u001b[39m) at /home/sharath/.julia/packages/IndexedTables/tRvfu/src/indexedtable.jl:213\n\u001b[0m  getindex(::IndexedTable, \u001b[91m::Colon\u001b[39m) at /home/sharath/.julia/packages/IndexedTables/tRvfu/src/indexedtable.jl:197\n\u001b[0m  getindex(::IndexedTable, \u001b[91m::Integer\u001b[39m) at /home/sharath/.julia/packages/IndexedTables/tRvfu/src/indexedtable.jl:196",
     "output_type": "error",
     "traceback": [
      "MethodError: no method matching getindex(::IndexedTable{StructVector{NamedTuple{(:symbol,), Tuple{Union{Missing, String}}}, NamedTuple{(:symbol,), Tuple{LibPQ.Column{Union{Missing, String}}}}, Int64}}, ::String)\n\u001b[0mClosest candidates are:\n\u001b[0m  getindex(::IndexedTable, \u001b[91m::AbstractVector{var\"#s31\"} where var\"#s31\"<:Integer\u001b[39m) at /home/sharath/.julia/packages/IndexedTables/tRvfu/src/indexedtable.jl:213\n\u001b[0m  getindex(::IndexedTable, \u001b[91m::Colon\u001b[39m) at /home/sharath/.julia/packages/IndexedTables/tRvfu/src/indexedtable.jl:197\n\u001b[0m  getindex(::IndexedTable, \u001b[91m::Integer\u001b[39m) at /home/sharath/.julia/packages/IndexedTables/tRvfu/src/indexedtable.jl:196",
      "",
      "Stacktrace:",
      " [1] top-level scope",
      "   @ In[26]:1",
      " [2] eval",
      "   @ ./boot.jl:360 [inlined]",
      " [3] include_string(mapexpr::typeof(REPL.softscope), mod::Module, code::String, filename::String)",
      "   @ Base ./loading.jl:1094"
     ]
    }
   ],
   "source": [
    "typeof(freqtable(df[\"education\"], df[\"marital-status\"]))"
   ]
  },
  {
   "cell_type": "code",
   "execution_count": 27,
   "metadata": {},
   "outputs": [
    {
     "data": {
      "text/plain": [
       "\"adult\""
      ]
     },
     "execution_count": 27,
     "metadata": {},
     "output_type": "execute_result"
    }
   ],
   "source": [
    "df |> SQLite.load!(sqlite, \"adult\")"
   ]
  },
  {
   "cell_type": "code",
   "execution_count": 28,
   "metadata": {},
   "outputs": [
    {
     "ename": "LoadError",
     "evalue": "UndefVarError: DataFrame not defined",
     "output_type": "error",
     "traceback": [
      "UndefVarError: DataFrame not defined",
      "",
      "Stacktrace:",
      " [1] top-level scope",
      "   @ In[28]:1",
      " [2] eval",
      "   @ ./boot.jl:360 [inlined]",
      " [3] include_string(mapexpr::typeof(REPL.softscope), mod::Module, code::String, filename::String)",
      "   @ Base ./loading.jl:1094"
     ]
    }
   ],
   "source": [
    "df = DBInterface.execute(sqlite, \"select * from adult\") |> DataFrame"
   ]
  },
  {
   "cell_type": "code",
   "execution_count": 29,
   "metadata": {},
   "outputs": [
    {
     "ename": "LoadError",
     "evalue": "UndefVarError: ran not defined",
     "output_type": "error",
     "traceback": [
      "UndefVarError: ran not defined",
      "",
      "Stacktrace:",
      " [1] top-level scope",
      "   @ In[29]:5",
      " [2] eval",
      "   @ ./boot.jl:360 [inlined]",
      " [3] include_string(mapexpr::typeof(REPL.softscope), mod::Module, code::String, filename::String)",
      "   @ Base ./loading.jl:1094"
     ]
    }
   ],
   "source": [
    "function f(r1::Float64, r2::Float64, x::Float64)\n",
    "    return ((1+r1)^x) * ((1+r2)^(1-x)) - 1\n",
    "end\n",
    "xx  = 0:0.001:0.99\n",
    "yy = [f(.04, 0.13, x) for x in ran]\n",
    "plot(xx, yy, hover=string.(xx).*\"   \".*string.(yy), size=(1700, 400,))"
   ]
  },
  {
   "cell_type": "markdown",
   "metadata": {},
   "source": [
    "# Experimentation on multidimensional array speeds\n",
    "\n",
    "array iteration speed is about 1 billion per second. insane."
   ]
  },
  {
   "cell_type": "code",
   "execution_count": 30,
   "metadata": {},
   "outputs": [
    {
     "ename": "LoadError",
     "evalue": "UndefVarError: ar not defined",
     "output_type": "error",
     "traceback": [
      "UndefVarError: ar not defined",
      "",
      "Stacktrace:",
      " [1] top-level scope",
      "   @ In[30]:12",
      " [2] eval",
      "   @ ./boot.jl:360 [inlined]",
      " [3] include_string(mapexpr::typeof(REPL.softscope), mod::Module, code::String, filename::String)",
      "   @ Base ./loading.jl:1094"
     ]
    }
   ],
   "source": [
    "function test(ar::Array{Int64})\n",
    "    sum = 0\n",
    "    for i in 1:1000\n",
    "        for j in 2:length(ar)\n",
    "            sum+=ar[j]\n",
    "#             ar[j]+=ar[j-1]\n",
    "        end\n",
    "    end\n",
    "    return sum\n",
    "end\n",
    "time_sum(x) = @time test(x);\n",
    "time_sum(ar)\n",
    "println(typeof(ar), size(ar))\n"
   ]
  },
  {
   "cell_type": "markdown",
   "metadata": {},
   "source": [
    "# Speeds of DataFrames\n",
    "fucking dataframes is not type stable so it is 100-1000x slower than array iteration and allocates a large amount of memory\n",
    "\n",
    "There are several table like structures in julia (mostly third parties, several of them seem to be overlapping a lot in functionality)\n",
    "The best one seems to be IndexedTable. it is type stable. It is implementated as a NamedTuple of vectors but acts like a vector of NamedTuples.\n",
    "Of course, the fastest and most native is just NamedTuple. But it seems like a NamedTuple (and also IndexedTable) with many columns might stress the compiler (havent tested it)\n",
    "\n",
    "IndexedTable constructor *copies* the data from the NamedTuple constructor param to create the new IndexedTable. However, invoking `IndexedTable.columns ` returns a NamedTuple *view* of the IndexedTable which is perfect for arbitrary iteration and modifications.\n",
    "\n",
    "btw, the nomenclature is really fucked up.\n",
    "- [Julia Data](https://github.com/JuliaDatahttps://github.com/JuliaData) is the name for all built in table like structures in Julia. They all seem to respect the Tables.jl interface\n",
    "- [JuliaDB](https://juliadata.github.io/JuliaDB.jl/latest/https://juliadata.github.io/JuliaDB.jl/latest/) is one particular table like structure in Julia Data. It is built on `IndexedTables` (seems like both are synonymous). This is the best since it is type stable\n",
    "- [DataFrames](https://github.com/JuliaData/DataFrames.jlhttps://github.com/JuliaData/DataFrames.jl) is a slow and fucked up implementation in Julia Data. It is feature rich but fucking slow\n",
    "- [Julia Databases](https://juliadatabases.github.io/https://juliadatabases.github.io/) collects various drivers for different databases like Mysql, postgres, sqlite. seems like all of them can stream to a tables.jl constructor\n",
    "\n",
    "A good summary of all the shit can be found [here](https://www.juliabloggers.com/a-tour-of-the-data-ecosystem-in-julia/https://www.juliabloggers.com/a-tour-of-the-data-ecosystem-in-julia/) from the author of CSV.jl"
   ]
  },
  {
   "cell_type": "code",
   "execution_count": 31,
   "metadata": {},
   "outputs": [
    {
     "ename": "LoadError",
     "evalue": "UndefVarError: DataFrame not defined",
     "output_type": "error",
     "traceback": [
      "UndefVarError: DataFrame not defined",
      "",
      "Stacktrace:",
      " [1] top-level scope",
      "   @ In[31]:1",
      " [2] eval",
      "   @ ./boot.jl:360 [inlined]",
      " [3] include_string(mapexpr::typeof(REPL.softscope), mod::Module, code::String, filename::String)",
      "   @ Base ./loading.jl:1094"
     ]
    }
   ],
   "source": [
    "function testDataFrame(df::DataFrame)\n",
    "    ar::Array{Int64} = df.a\n",
    "    sum = 0\n",
    "    for i::Int64 in 1:1000\n",
    "        for j in 1:length(ar)\n",
    "            sum+=ar[j]\n",
    "        end\n",
    "    end\n",
    "    return sum\n",
    "end\n",
    "\n",
    "\n",
    "# println(typeof(df))\n",
    "time_sum(df) = @time testDataFrame(df);\n",
    "time_sum(df)\n"
   ]
  },
  {
   "cell_type": "code",
   "execution_count": 32,
   "metadata": {},
   "outputs": [
    {
     "name": "stdout",
     "output_type": "stream",
     "text": [
      "LibPQ.Result\n"
     ]
    },
    {
     "data": {
      "text/plain": [
       "Table with 606 rows, 2 columns:\n",
       "Columns:\n",
       "\u001b[1m#  \u001b[22m\u001b[1mcolname  \u001b[22mtype\n",
       "──────────────────────────────────\n",
       "1  symbol   Union{Missing, String}\n",
       "2  names    Union{Missing, String}"
      ]
     },
     "execution_count": 32,
     "metadata": {},
     "output_type": "execute_result"
    }
   ],
   "source": [
    "sql = \"\"\"select symbol , array_agg(name)as names from indices i group by symbol \"\"\"\n",
    "result = execute(conn, sql)\n",
    "println(typeof(result))\n",
    "df = result |> table\n"
   ]
  },
  {
   "cell_type": "code",
   "execution_count": 33,
   "metadata": {},
   "outputs": [
    {
     "name": "stdout",
     "output_type": "stream",
     "text": [
      "SubString{String}[\"nifty-50\", \"nifty-next-50\", \"nifty-midcap-50\", \"nifty-midcap-100\", \"nifty-midcap-150\", \"nifty-smallcap-50\", \"nifty-smallcap-100\", \"nifty-smallcap-250\"]\n"
     ]
    }
   ],
   "source": [
    "l = length(df)\n",
    "order = splt(\"\"\"\n",
    "nifty-50\n",
    "nifty-next-50\n",
    "nifty-midcap-50\n",
    "nifty-midcap-100\n",
    "nifty-midcap-150\n",
    "nifty-smallcap-50\n",
    "nifty-smallcap-100\n",
    "nifty-smallcap-250\n",
    "\n",
    "    \"\"\")\n",
    "println(order)\n",
    "companyToLabel = Dict{String, String}()\n",
    "\n",
    "for i in 1:l\n",
    "    company = df[i].symbol\n",
    "    names = splt(df[i].names[2:end-1], \",\")\n",
    "    for label in order\n",
    "        if findfirst(x->x==label, names) != nothing\n",
    "            companyToLabel[company] = label\n",
    "            @goto label\n",
    "        end\n",
    "    end\n",
    "    companyToLabel[company] = names[1]\n",
    "    @label label\n",
    "end"
   ]
  },
  {
   "cell_type": "code",
   "execution_count": 34,
   "metadata": {},
   "outputs": [
    {
     "data": {
      "text/plain": [
       "Dict{String, String} with 606 entries:\n",
       "  \"JUBLFOOD\"   => \"nifty-midcap-50\"\n",
       "  \"BAJFINANCE\" => \"nifty-50\"\n",
       "  \"FLUOROCHEM\" => \"nifty-smallcap-250\"\n",
       "  \"WHIRLPOOL\"  => \"nifty-midcap-100\"\n",
       "  \"SUNPHARMA\"  => \"nifty-50\"\n",
       "  \"VBL\"        => \"nifty-midcap-100\"\n",
       "  \"POLYCAB\"    => \"nifty-midcap-100\"\n",
       "  \"JKCEMENT\"   => \"nifty-midcap-150\"\n",
       "  \"IRCON\"      => \"nifty-smallcap-100\"\n",
       "  \"BHARATRAS\"  => \"nifty-smallcap-250\"\n",
       "  \"SYMPHONY\"   => \"nifty-midcap-150\"\n",
       "  \"IOLCP\"      => \"nifty-smallcap-250\"\n",
       "  \"GRSE\"       => \"nifty-smallcap-250\"\n",
       "  \"ORIENTCEM\"  => \"nifty-smallcap-250\"\n",
       "  \"BPCL\"       => \"nifty-50\"\n",
       "  \"TATAMOTORS\" => \"nifty-50\"\n",
       "  \"WESTLIFE\"   => \"nifty-smallcap-100\"\n",
       "  \"VGUARD\"     => \"nifty-midcap-100\"\n",
       "  \"IFBIND\"     => \"nifty-smallcap-250\"\n",
       "  \"SOLARA\"     => \"nifty-smallcap-250\"\n",
       "  \"TATACOFFEE\" => \"nifty-smallcap-250\"\n",
       "  \"COFORGE\"    => \"nifty-midcap-50\"\n",
       "  \"J&KBANK\"    => \"nifty-smallcap-250\"\n",
       "  \"FOCUS\"      => \"nifty-sme-emerge\"\n",
       "  \"WELSPUNIND\" => \"nifty-smallcap-100\"\n",
       "  ⋮            => ⋮"
      ]
     },
     "execution_count": 34,
     "metadata": {},
     "output_type": "execute_result"
    }
   ],
   "source": [
    "companyToLabel"
   ]
  },
  {
   "cell_type": "code",
   "execution_count": null,
   "metadata": {},
   "outputs": [],
   "source": []
  },
  {
   "cell_type": "code",
   "execution_count": 35,
   "metadata": {},
   "outputs": [
    {
     "data": {
      "text/plain": [
       "Table with 0 rows, 4 columns:\n",
       "symbol  company  prob  label\n",
       "────────────────────────────"
      ]
     },
     "execution_count": 35,
     "metadata": {},
     "output_type": "execute_result"
    }
   ],
   "source": [
    "data = table((symbol=Vector{String}(undef, 0), company=Vector{String}(undef, 0), prob=Vector{Float64}(undef, 0), label=Vector{String}(undef, 0)))\n"
   ]
  },
  {
   "cell_type": "code",
   "execution_count": 36,
   "metadata": {},
   "outputs": [
    {
     "name": "stdout",
     "output_type": "stream",
     "text": [
      "StructVector{NamedTuple{(:symbol, :company, :prob, :label), Tuple{String, String, Float64, String}}, NamedTuple{(:symbol, :company, :prob, :label), Tuple{Vector{String}, Vector{String}, Vector{Float64}, Vector{String}}}, Int64} <: AbstractVector{NamedTuple{(:symbol, :company, :prob, :label), Tuple{String, String, Float64, String}}} <: Any"
     ]
    }
   ],
   "source": [
    "show_supertypes(typeof(rows(data)))"
   ]
  },
  {
   "cell_type": "code",
   "execution_count": 37,
   "metadata": {},
   "outputs": [
    {
     "data": {
      "text/plain": [
       "2-element StructArray(::Vector{Int64}, ::Vector{Int64}) with eltype Complex{Int64}:\n",
       " 1 + 1im\n",
       " 3 - 2im"
      ]
     },
     "execution_count": 37,
     "metadata": {},
     "output_type": "execute_result"
    }
   ],
   "source": [
    " sa = StructArray([1+im, 3-2im])"
   ]
  },
  {
   "cell_type": "code",
   "execution_count": 38,
   "metadata": {},
   "outputs": [
    {
     "data": {
      "text/plain": [
       "Table with 10 rows, 3 columns:\n",
       "x   y            z\n",
       "──────────────────────\n",
       "1   -0.545254    true\n",
       "2   1.33202      true\n",
       "3   -0.00448707  true\n",
       "4   1.37866      true\n",
       "5   -1.57017     false\n",
       "6   -0.41002     false\n",
       "7   0.591256     true\n",
       "8   -1.07448     true\n",
       "9   0.535714     true\n",
       "10  -0.457229    false"
      ]
     },
     "execution_count": 38,
     "metadata": {},
     "output_type": "execute_result"
    }
   ],
   "source": [
    "tt = table(1:10, randn(10), rand(Bool, 10); names = [:x, :y, :z])\n"
   ]
  },
  {
   "cell_type": "code",
   "execution_count": 39,
   "metadata": {},
   "outputs": [
    {
     "data": {
      "text/plain": [
       "11-element StructArray(::Vector{Int64}, ::Vector{Float64}, ::Vector{Bool}) with eltype NamedTuple{(:x, :y, :z), Tuple{Int64, Float64, Bool}}:\n",
       " (x = 1, y = -0.5452543362680328, z = 1)\n",
       " (x = 2, y = 1.3320242892636587, z = 1)\n",
       " (x = 3, y = -0.004487072767535794, z = 1)\n",
       " (x = 4, y = 1.3786574345427867, z = 1)\n",
       " (x = 5, y = -1.570168597559574, z = 0)\n",
       " (x = 6, y = -0.4100201440806508, z = 0)\n",
       " (x = 7, y = 0.5912555609968398, z = 1)\n",
       " (x = 8, y = -1.0744844350223661, z = 1)\n",
       " (x = 9, y = 0.5357142329858423, z = 1)\n",
       " (x = 10, y = -0.4572289134890392, z = 0)\n",
       " (x = 1, y = 1.1, z = 1)"
      ]
     },
     "execution_count": 39,
     "metadata": {},
     "output_type": "execute_result"
    }
   ],
   "source": [
    "push!(rows(tt), (x=1, y=1.1, z=true))"
   ]
  },
  {
   "cell_type": "code",
   "execution_count": 40,
   "metadata": {},
   "outputs": [
    {
     "data": {
      "text/plain": [
       "11-element Vector{Int64}:\n",
       "  1\n",
       "  2\n",
       "  3\n",
       "  4\n",
       "  5\n",
       "  6\n",
       "  7\n",
       "  8\n",
       "  9\n",
       " 10\n",
       "  1"
      ]
     },
     "execution_count": 40,
     "metadata": {},
     "output_type": "execute_result"
    }
   ],
   "source": [
    "select(tt, :x)"
   ]
  }
 ],
 "metadata": {
  "@webio": {
   "lastCommId": "e289c59a-b0f8-422e-8d91-3b2b9a32374c",
   "lastKernelId": "81a6f709-69f2-4bce-ac1b-ea633e4e0037"
  },
  "kernelspec": {
   "display_name": "Julia 1.6.0",
   "language": "julia",
   "name": "julia-1.6"
  },
  "language_info": {
   "file_extension": ".jl",
   "mimetype": "application/julia",
   "name": "julia",
   "version": "1.6.0"
  }
 },
 "nbformat": 4,
 "nbformat_minor": 4
}
