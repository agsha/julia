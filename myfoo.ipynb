{
 "cells": [
  {
   "cell_type": "code",
   "execution_count": 19,
   "id": "systematic-purchase",
   "metadata": {},
   "outputs": [
    {
     "ename": "LoadError",
     "evalue": "syntax: invalid \"...\" on non-final argument around In[19]:1",
     "output_type": "error",
     "traceback": [
      "syntax: invalid \"...\" on non-final argument around In[19]:1",
      "",
      "Stacktrace:",
      " [1] top-level scope",
      "   @ In[19]:1",
      " [2] eval",
      "   @ ./boot.jl:360 [inlined]",
      " [3] include_string(mapexpr::typeof(REPL.softscope), mod::Module, code::String, filename::String)",
      "   @ Base ./loading.jl:1094"
     ]
    }
   ],
   "source": [
    "function Date(y::Int64, m::Int64=1, d::Int64=1)\n",
    "    err = validargs(Date, y, m, d)\n",
    "    err === nothing || throw(err)\n",
    "    return Date(UTD(totaldays(y, m, d)))\n",
    "end\n"
   ]
  },
  {
   "cell_type": "code",
   "execution_count": 24,
   "id": "quality-brazil",
   "metadata": {},
   "outputs": [
    {
     "data": {
      "text/plain": [
       "Main.NiceStuff"
      ]
     },
     "execution_count": 24,
     "metadata": {},
     "output_type": "execute_result"
    }
   ],
   "source": [
    "module NiceStuff\n",
    "\n",
    "export nice, DOG\n",
    "\n",
    "struct Dog end      # singleton type, not exported\n",
    "\n",
    "const DOG = Dog()   # named instance, exported\n",
    "\n",
    "nice(x) = \"nice $x\" # function, exported\n",
    "\n",
    "end\n",
    "\n"
   ]
  },
  {
   "cell_type": "code",
   "execution_count": 26,
   "id": "straight-pointer",
   "metadata": {},
   "outputs": [],
   "source": [
    "using Main.NiceStuff;"
   ]
  }
 ],
 "metadata": {
  "kernelspec": {
   "display_name": "Julia 1.6.0",
   "language": "julia",
   "name": "julia-1.6"
  },
  "language_info": {
   "file_extension": ".jl",
   "mimetype": "application/julia",
   "name": "julia",
   "version": "1.6.0"
  }
 },
 "nbformat": 4,
 "nbformat_minor": 5
}
