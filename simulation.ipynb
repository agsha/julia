{
 "cells": [
  {
   "cell_type": "code",
   "execution_count": 2,
   "id": "talented-syndicate",
   "metadata": {},
   "outputs": [
    {
     "data": {
      "application/vnd.webio.node+json": {
       "children": [],
       "instanceArgs": {
        "namespace": "html",
        "tag": "div"
       },
       "nodeType": "DOM",
       "props": {},
       "type": "node"
      },
      "text/html": [
       "<div style=\"padding: 1em; background-color: #f8d6da; border: 1px solid #f5c6cb; font-weight: bold;\">\n",
       "<p>The WebIO Jupyter extension was not detected. See the\n",
       "<a href=\"https://juliagizmos.github.io/WebIO.jl/latest/providers/ijulia/\" target=\"_blank\">\n",
       "    WebIO Jupyter integration documentation\n",
       "</a>\n",
       "for more information.\n",
       "</div>\n"
      ],
      "text/plain": [
       "WebIO._IJuliaInit()"
      ]
     },
     "metadata": {
      "@webio": {
       "kernelId": "69b1bca4-19c3-4a48-a51e-a413c426c6b9"
      }
     },
     "output_type": "display_data"
    }
   ],
   "source": [
    "include(\"./mm.jl\");"
   ]
  },
  {
   "cell_type": "code",
   "execution_count": 1,
   "id": "asian-lingerie",
   "metadata": {},
   "outputs": [
    {
     "ename": "LoadError",
     "evalue": "UndefVarError: initLogging not defined",
     "output_type": "error",
     "traceback": [
      "UndefVarError: initLogging not defined",
      "",
      "Stacktrace:",
      " [1] top-level scope",
      "   @ In[1]:2",
      " [2] eval",
      "   @ ./boot.jl:360 [inlined]",
      " [3] include_string(mapexpr::typeof(REPL.softscope), mod::Module, code::String, filename::String)",
      "   @ Base ./loading.jl:1094"
     ]
    }
   ],
   "source": [
    "# this code is a backup copy of a working code. Please dont modify this. Rather, copy past it somewhere else and modify\n",
    "io = initLogging()\n",
    "\n",
    "function oneRun(rateThreshold::Float64, investDays::Int, redeemDays::Int, ll::FastList{Int}, \n",
    "        tradingDays::AbstractVector{Int}, prices::AbstractVector{Float64})\n",
    "    days::Int = investDays+redeemDays\n",
    "    wallet::Float64 = 0.0;\n",
    "    amount = 1000.0;\n",
    "    \n",
    "    maxDaysHeld::Int = 0;\n",
    "    minWallet = 0;\n",
    "    rateGeom::Float64 = 1.0;\n",
    "    totDaysHeld::Float64 = 0\n",
    "    reset!(ll)\n",
    "    \n",
    "    for i::Int in 1:days\n",
    "        for node in ll\n",
    "            dayBought::Int = node.data\n",
    "            daysHeld::Int = tradingDays[i] - tradingDays[dayBought]\n",
    "            net_today::Float64 = net_today_f(amount, prices[dayBought], prices[i], daysHeld)\n",
    "            rate::Float64 = r(amount, net_today, daysHeld/365.0);\n",
    "            if rate > rateThreshold || i==days\n",
    "                wallet += net_today\n",
    "                maxDaysHeld = max(maxDaysHeld, daysHeld);\n",
    "                totDaysHeld += daysHeld;\n",
    "                rateGeom = rateGeom * (1+rate)^(daysHeld/365);\n",
    "                del(ll, node)                \n",
    "            end\n",
    "        end\n",
    "        if i <= investDays\n",
    "            wallet -= amount\n",
    "            push!(ll, i)\n",
    "        end\n",
    "        minWallet = min(wallet, minWallet)\n",
    "\n",
    "    end\n",
    "    return rateGeom^(365.0/totDaysHeld) - 1, wallet;\n",
    "end\n",
    "\n",
    "# tls is thread local storage\n",
    "function simulateMulti(tls::Vector{Tls}, d::Dict{String, Point}, investDays::Int, redeemDays::Int)\n",
    "    runs::Int = 5000\n",
    "    \n",
    "    days = investDays + redeemDays; \n",
    "    results = Vector{Float64}(undef, runs)\n",
    "      \n",
    "    rateThreshold::Float64 = .1; μ=meanNifty; σ=stdNifty;\n",
    "    \n",
    "    prices=d[\"^NSEI\"].prices;\n",
    "    tradingDays = d[\"^NSEI\"].intDates;\n",
    "    \n",
    "    wallets = Vector{Float64}(undef, 0)\n",
    "    bad_days = Vector{Int}(undef, 0)\n",
    "    lk = Threads.SpinLock()\n",
    "    \n",
    "    @views Threads.@threads  for start in 1:length(tradingDays) - days - 10\n",
    "#     @views Threads.@threads  for start in 1626:1626\n",
    "        myTls::Tls = tls[Threads.threadid()]\n",
    "        pprices = prices[start:end];\n",
    "        ddates = tradingDays[start:end];\n",
    "\n",
    "        rateGeom, wallet = oneRun(rateThreshold, investDays, redeemDays, myTls.ll, ddates, pprices);\n",
    "        lock(lk) do\n",
    "            push!(wallets, rateGeom);\n",
    "            if wallet < 0\n",
    "                push!(bad_days, start)\n",
    "            end\n",
    "        end\n",
    "    end\n",
    "    display( plot([histogram(x=wallets, nbins=100)]))\n",
    "    println(\"mean is $(mean(wallets)), stdev is $(std(wallets))\")\n",
    "end\n",
    "\n",
    "\n",
    "#     sort!(negativeDays)\n",
    "#     println(negativeDays)\n",
    "#     y = nquantile(wallets, 100)\n",
    "#     x = collect(1:101)\n",
    "#     doplot(x, y)\n",
    "#     dates, prices, intDates = d[\"^NSEI\"].dates, d[\"^NSEI\"].prices, d[\"^NSEI\"].intDates\n",
    "#     range = 1:length(dates)\n",
    "#     trace1 = scatter(x=range, y=prices,\n",
    "#                         mode=\"lines+markers\",\n",
    "#                         name=\"nifty 50\")\n",
    "#     trace2 = scatter(x=range[bad_days], y=prices[bad_days],\n",
    "#                         mode=\"markers\",\n",
    "#                         name=\"start times where the returns are negative\")\n",
    "#     add = investDays + redeemDays\n",
    "#     trace3 = scatter(x=range[bad_days.+investDays], y=prices[bad_days.+investDays],\n",
    "#                         mode=\"markers\",\n",
    "#         name=\"invest time of the start times\")\n",
    "#     trace4 = scatter(x=range[bad_days.+add], y=prices[bad_days.+add],\n",
    "#                         mode=\"markers\",\n",
    "#         name=\"invest and redeem time of the start times\")\n",
    "\n",
    "#     trace5 = scatter(x=1815:(1815+2000), y=map(x->p2(8996, .1, x/365.0), 1:2000),\n",
    "#                         mode=\"markers\",\n",
    "#         name=\"10% rate growth\")\n",
    "\n",
    "#     display(plot([trace1, trace2, trace3, trace4, trace5]))#     plot(1:101, nquantile(wallets, 100))\n",
    "#fuck\n",
    "# tls is thread local storage\n",
    "function simulateWeinerMulti(tls::Vector{Tls})\n",
    "    runs::Int = 1000\n",
    "    investDays = 365*3; redeemDays=365; \n",
    "    \n",
    "    days = investDays + redeemDays; \n",
    "    results = Vector{Float64}(undef, 0)\n",
    "    \n",
    "    \n",
    "    rateThreshold::Float64 = .4; μ=.1; σ=.3;\n",
    "    \n",
    "    prices=Vector{Float64}(undef, days);\n",
    "    tradingDays = collect(1:days)\n",
    "    \n",
    "    lk = Threads.SpinLock()\n",
    "\n",
    "    Threads.@threads for run::Int in 1:runs\n",
    "        tid = Threads.threadid()\n",
    "        myTls = tls[tid]\n",
    "        brk = false\n",
    "        weiner(days, μ, σ, myTls.prices, myTls.ϕ, myTls.dist)\n",
    "        reset!(myTls.ll)\n",
    "        result = oneRun(rateThreshold, investDays, redeemDays, myTls.ll, tradingDays, myTls.prices)\n",
    "        lock(lk) do\n",
    "            push!(results, result)\n",
    "        end\n",
    "    end\n",
    "    display( plot([histogram(x=results)]))\n",
    "end\n",
    "# @time simulateWeinerMulti(tls)\n",
    "@time simulateMulti(tls, d, 365, 365*3)\n",
    "# may 5th 2017 to nov 24 2017\n",
    "flush(io)"
   ]
  }
 ],
 "metadata": {
  "@webio": {
   "lastCommId": "d7716a97-89d2-4b41-a4fb-61cfa2525f4d",
   "lastKernelId": "ec0de710-da68-4e6e-97b5-d17392c691db"
  },
  "kernelspec": {
   "display_name": "Julia 1.6.0",
   "language": "julia",
   "name": "julia-1.6"
  },
  "language_info": {
   "file_extension": ".jl",
   "mimetype": "application/julia",
   "name": "julia",
   "version": "1.6.0"
  }
 },
 "nbformat": 4,
 "nbformat_minor": 5
}
