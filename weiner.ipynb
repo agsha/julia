{
 "cells": [
  {
   "cell_type": "code",
   "execution_count": 2,
   "id": "distinguished-elephant",
   "metadata": {},
   "outputs": [
    {
     "data": {
      "application/vnd.webio.node+json": {
       "children": [],
       "instanceArgs": {
        "namespace": "html",
        "tag": "div"
       },
       "nodeType": "DOM",
       "props": {},
       "type": "node"
      },
      "text/html": [
       "<div style=\"padding: 1em; background-color: #f8d6da; border: 1px solid #f5c6cb; font-weight: bold;\">\n",
       "<p>The WebIO Jupyter extension was not detected. See the\n",
       "<a href=\"https://juliagizmos.github.io/WebIO.jl/latest/providers/ijulia/\" target=\"_blank\">\n",
       "    WebIO Jupyter integration documentation\n",
       "</a>\n",
       "for more information.\n",
       "</div>\n"
      ],
      "text/plain": [
       "WebIO._IJuliaInit()"
      ]
     },
     "metadata": {
      "@webio": {
       "kernelId": "69b1bca4-19c3-4a48-a51e-a413c426c6b9"
      }
     },
     "output_type": "display_data"
    }
   ],
   "source": [
    "include(\"./mm.jl\");"
   ]
  },
  {
   "cell_type": "code",
   "execution_count": 2,
   "id": "parliamentary-color",
   "metadata": {},
   "outputs": [
    {
     "data": {
      "text/plain": [
       "(0.1, 0.3)"
      ]
     },
     "execution_count": 2,
     "metadata": {},
     "output_type": "execute_result"
    }
   ],
   "source": [
    "# s is the stock prices. it is the output variable. \n",
    "# ϕ is a temporary array which will be used to hold the normal distribution\n",
    "function weiner(days::Int, μ::Float64, σ::Float64, s::Vector{Float64}, \n",
    "        ϕ::Vector{Float64}, dist::Normal{Float64})\n",
    "    s[1] = 100\n",
    "    a::Float64 = μ/365.0\n",
    "    b::Float64 = σ/sqrt(365.0)\n",
    "    rand!(dist, ϕ)\n",
    "    for i::Int in 2:days\n",
    "        s[i] = s[i-1]*(1 + a + ϕ[i]*b)\n",
    "    end  \n",
    "    return s\n",
    "end\n",
    "\n",
    "function downscale(Y::Vector{Float64}, points::Int)\n",
    "    days::Int = length(Y)\n",
    "    step::Float64 = 1\n",
    "    if days > points\n",
    "        step = days / points\n",
    "    end\n",
    "    println(step)\n",
    "    XX = Vector{Float64}(undef, 0)\n",
    "    YY = Vector{Float64}(undef, 0)\n",
    "    for i in 1:step:days\n",
    "        push!(XX, Int(i))\n",
    "        push!(YY, Y[min(days, Int(round(i)))])\n",
    "    end\n",
    "    return XX, YY\n",
    "end\n",
    "days = 10000\n",
    "μ, σ = 10.0/100, 30.0/100\n",
    "# X, Y = downscale(weiner(days, μ, σ), 5000)\n",
    "# doplot(X, Y)\n"
   ]
  },
  {
   "cell_type": "code",
   "execution_count": 1,
   "id": "danish-mainland",
   "metadata": {},
   "outputs": [
    {
     "ename": "LoadError",
     "evalue": "UndefVarError: FastList not defined",
     "output_type": "error",
     "traceback": [
      "UndefVarError: FastList not defined",
      "",
      "Stacktrace:",
      " [1] top-level scope",
      "   @ In[1]:19",
      " [2] eval",
      "   @ ./boot.jl:360 [inlined]",
      " [3] include_string(mapexpr::typeof(REPL.softscope), mod::Module, code::String, filename::String)",
      "   @ Base ./loading.jl:1094"
     ]
    }
   ],
   "source": [
    "# Strategy: buy a stock every day, sell it when it hits cagr of 10%. or a maximum of 1000 days\n",
    "function simulateW()\n",
    "    runs::Int = 5000\n",
    "    wallets::Vector{Float64} = Vector{Float64}(undef, runs)\n",
    "    \n",
    "    rateThreshold::Float64 = .1; investDays::Int = 365*3; redeemDays::Int=365; days = investDays + redeemDays; \n",
    "    μ::Float64=.1; σ::Float64=.3; ll = FastList{Tuple{Int, Float64}}(4000);\n",
    "    s::Union{Vector{Float64}, Nothing}=Vector{Float64}(undef, days); \n",
    "        ϕ::Union{Vector{Float64}, Nothing}=Vector{Float64}(undef, days); dist::Union{Normal{Float64}, Nothing}=Normal(0, 1);\n",
    "    \n",
    "    for run::Int in 1:runs\n",
    "        wallets[run] = oneRun(rateThreshold, investDays, redeemDays, μ, σ, ll, s, ϕ, dist)\n",
    "        reset!(ll)\n",
    "    end\n",
    "    histogram(wallets)\n",
    "    \n",
    "end\n",
    "\n",
    "function oneRun(rateThreshold::Float64, investDays::Int, redeemDays::Int, μ::Float64, σ::Float64, ll::FastList{Tuple{Int, Float64}}, \n",
    "        s::Union{Vector{Float64}, Nothing}=nothing, \n",
    "        ϕ::Union{Vector{Float64}, Nothing}=nothing, dist::Union{Normal{Float64}, Nothing}=nothing)\n",
    "    days::Int = investDays+redeemDays\n",
    "    s = weiner(days, μ, σ, s, ϕ, dist)\n",
    "#     daysToRedeem = Vector{Int}(undef, days)\n",
    "#     fill!(daysToRedeem, 0)\n",
    "#     display(doplot(collect(1:days), s))\n",
    "    \n",
    "    minWallet = 0\n",
    "    wallet::Float64 = 0\n",
    "    for day::Int in 1:days\n",
    "        for node in ll\n",
    "            (d::Int, price::Float64) = node.data\n",
    "            rate::Float64 = r(price, s[day], (day-d)/365.0)\n",
    "            if rate > rateThreshold\n",
    "                wallet += s[day]\n",
    "                del(ll, node)\n",
    "#                 daysToRedeem[d] = day-d\n",
    "            end\n",
    "        end\n",
    "        if day <= investDays\n",
    "            wallet -= s[day]\n",
    "            push!(ll, (day, s[day]))\n",
    "        end\n",
    "        minWallet = min(wallet, minWallet)\n",
    "    end\n",
    "    # dispose all the stocks\n",
    "    wallet += s[end]*ll.len\n",
    "#     display(plot(fit(Histogram, daysToRedeem, 0:10)))\n",
    "    return wallet\n",
    "end\n",
    "ll = FastList{Tuple{Int, Float64}}(4000)\n",
    "# oneRun(0.1, 3, 3, .1, .2, ll)\n",
    "@time simulate()"
   ]
  },
  {
   "cell_type": "code",
   "execution_count": null,
   "id": "centered-wedding",
   "metadata": {},
   "outputs": [],
   "source": [
    "# Strategy: invest the same amount every day, sell it when it hits cagr of 10%. or a maximum of 1000 days\n",
    "function simulateWeiner()\n",
    "    runs::Int = 5000\n",
    "    wallets::Vector{Float64} = Vector{Float64}(undef, runs)\n",
    "    investDays::Int = 365*3; redeemDays::Int=365; days = investDays + redeemDays; \n",
    "    ll = FastList{Tuple{Int, Float64, Float64}}(investDays+redeemDays+1000);\n",
    "    \n",
    "    \n",
    "    rateThreshold::Float64 = .1; \n",
    "    μ=.1; σ=.3; prices=Vector{Float64}(undef, days); ϕ=Vector{Float64}(undef, days); dist=Normal(0, 1);\n",
    "    tradingDays = collect(1:days)\n",
    "    for run::Int in 1:runs\n",
    "        s = weiner(days, μ, σ, prices, ϕ, dist)\n",
    "        wallets[run] = oneRun(rateThreshold, investDays, redeemDays,ll, prices)\n",
    "        reset!(ll)\n",
    "    end\n",
    "    #histogram(wallets)\n",
    "    \n",
    "end\n",
    "\n",
    "function oneRun(rateThreshold::Float64, investDays::Int, redeemDays::Int, ll::FastList{Tuple{Int, Float64, Float64}}, \n",
    "        s::Union{Vector{Float64}, Nothing}=nothing)\n",
    "    days::Int = investDays+redeemDays\n",
    "    amount::Int = 100\n",
    "    \n",
    "    minWallet = 0\n",
    "    wallet::Float64 = 0\n",
    "    for day::Int in 1:days\n",
    "        for node in ll\n",
    "            (d::Int, price::Float64, num::Float64) = node.data\n",
    "            rate::Float64 = r(price, s[day], (day-d)/365.0)\n",
    "            if rate > rateThreshold\n",
    "                wallet += s[day]*num\n",
    "                del(ll, node)\n",
    "#                 daysToRedeem[d] = day-d\n",
    "            end\n",
    "        end\n",
    "        if day <= investDays\n",
    "            wallet -= amount\n",
    "            push!(ll, (day, s[day], amount/s[day]))\n",
    "        end\n",
    "        minWallet = min(wallet, minWallet)\n",
    "    end\n",
    "    # dispose all the stocks\n",
    "    for node in ll\n",
    "        (d::Int, price::Float64, num::Float64) = node.data\n",
    "        wallet += s[end]*num\n",
    "    end\n",
    "#     display(plot(fit(Histogram, daysToRedeem, 0:10)))\n",
    "    return wallet\n",
    "end\n",
    "ll = FastList{Tuple{Int, Float64}}(4000)\n",
    "# oneRun(0.1, 3, 3, .1, .2, ll)\n",
    "@time simulate()"
   ]
  }
 ],
 "metadata": {
  "@webio": {
   "lastCommId": "0c727d2e-dea0-42a5-872d-fd5d11fa02ff",
   "lastKernelId": "a99b75f4-fa1c-497a-a573-8bf71602ea6a"
  },
  "kernelspec": {
   "display_name": "Julia 1.6.0",
   "language": "julia",
   "name": "julia-1.6"
  },
  "language_info": {
   "file_extension": ".jl",
   "mimetype": "application/julia",
   "name": "julia",
   "version": "1.6.0"
  }
 },
 "nbformat": 4,
 "nbformat_minor": 5
}
